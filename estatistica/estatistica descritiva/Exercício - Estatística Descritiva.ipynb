{
 "cells": [
  {
   "cell_type": "markdown",
   "id": "83f0ea1c",
   "metadata": {},
   "source": [
    "# <font color = #21618C> Exercícios de Medidas de Tendência Central"
   ]
  },
  {
   "cell_type": "markdown",
   "id": "c07c7b48",
   "metadata": {},
   "source": [
    "<br>"
   ]
  },
  {
   "cell_type": "markdown",
   "id": "f99dc966",
   "metadata": {},
   "source": [
    "**<font color = #21618C> 1 - Abaixo temos três listas contendo a nota de 10 alunos. Elas possuem um valor faltante. Preencha a nota faltante com os seguintes valores** :\n",
    "    \n",
    "    - Moda\n",
    "    - Média \n",
    "    - Mediana\n",
    "    \n",
    "<br>\n",
    "Obs. :  Considere o valor faltante na hora de calcular a mediana"
   ]
  },
  {
   "cell_type": "code",
   "execution_count": 1,
   "id": "28363fec",
   "metadata": {},
   "outputs": [],
   "source": [
    "# Listas fornecidas pelo exercício\n",
    "\n",
    "notas_media =  [4,5,5,6,8,7,10,0,9,'NaN']\n",
    "notas_mediana =  [4,5,5,6,8,7,10,0,9,'NaN']\n",
    "notas_moda =  [4,5,5,6,8,7,10,0,9,'NaN']"
   ]
  },
  {
   "cell_type": "code",
   "execution_count": null,
   "id": "7e4ede13",
   "metadata": {},
   "outputs": [],
   "source": []
  },
  {
   "cell_type": "code",
   "execution_count": null,
   "id": "a64da69c",
   "metadata": {},
   "outputs": [],
   "source": []
  },
  {
   "cell_type": "markdown",
   "id": "441998e3",
   "metadata": {},
   "source": [
    "**<font color = #21618C> 2 - Qual é a média das notas preenchidas com a média, mediana e moda ?**"
   ]
  },
  {
   "cell_type": "code",
   "execution_count": null,
   "id": "0e833146",
   "metadata": {},
   "outputs": [],
   "source": []
  },
  {
   "cell_type": "markdown",
   "id": "f5876c4e",
   "metadata": {},
   "source": [
    "**<font color = #21618C> 3 - Dentre as notas que foram preenchidas com a moda, média e mediana, qual é a que possui os valores menos afastados da média ? E qual a que possui os valores mais afastados da média ?**"
   ]
  },
  {
   "cell_type": "code",
   "execution_count": null,
   "id": "fba1dfe5",
   "metadata": {},
   "outputs": [],
   "source": []
  }
 ],
 "metadata": {
  "kernelspec": {
   "display_name": "Python 3 (ipykernel)",
   "language": "python",
   "name": "python3"
  },
  "language_info": {
   "codemirror_mode": {
    "name": "ipython",
    "version": 3
   },
   "file_extension": ".py",
   "mimetype": "text/x-python",
   "name": "python",
   "nbconvert_exporter": "python",
   "pygments_lexer": "ipython3",
   "version": "3.7.3"
  }
 },
 "nbformat": 4,
 "nbformat_minor": 5
}
