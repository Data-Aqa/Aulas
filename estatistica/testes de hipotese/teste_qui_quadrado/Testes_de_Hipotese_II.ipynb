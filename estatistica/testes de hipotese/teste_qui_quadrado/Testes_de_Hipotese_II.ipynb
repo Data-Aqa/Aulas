{
 "cells": [
  {
   "attachments": {
    "Data.Aqa%20logo.jpg": {
     "image/jpeg": "[encoded data removed]"
    }
   },
   "cell_type": "markdown",
   "id": "f7db0c22",
   "metadata": {},
   "source": [
    "![Data.Aqa%20logo.jpg](attachment:Data.Aqa%20logo.jpg)"
   ]
  },
  {
   "cell_type": "markdown",
   "id": "9a89b859",
   "metadata": {},
   "source": [
    "<br>\n",
    "\n"
   ]
  },
  {
   "cell_type": "markdown",
   "id": "b64b201c",
   "metadata": {},
   "source": [
    "# <font color = #0f4e8c> Testes de Hipóteses II"
   ]
  },
  {
   "cell_type": "markdown",
   "id": "a3919698",
   "metadata": {},
   "source": [
    "O objetivo desta aula é **consolidar o conhecimento obre o uso de Testes de Hipóteses**, bem como englobar o uso de **novos testes para a análise de outras aplicações**."
   ]
  },
  {
   "cell_type": "markdown",
   "id": "7a93f92a",
   "metadata": {},
   "source": [
    "<br>\n",
    "\n"
   ]
  },
  {
   "cell_type": "markdown",
   "id": "5bb9a49e",
   "metadata": {},
   "source": [
    "### <font color = #0f4e8c> Teste Qui-Quadrado : Qualidade de Ajuste (Goodness of Fit)"
   ]
  },
  {
   "cell_type": "markdown",
   "id": "c199722b",
   "metadata": {},
   "source": [
    "<br>\n",
    "\n"
   ]
  },
  {
   "cell_type": "markdown",
   "id": "8f9f7af1",
   "metadata": {},
   "source": [
    "O teste Qui-Quadrado de Qualidade de Ajuste   é útil quando queremos testar a frequência de dados que são contados nominal ou categoricamente. **<font color = #298742> A ideia do teste é verificar se a contagem de um evento que desejamos realizar se dá de acordo com resultados pré-determinados**. \n",
    "\n",
    "Mais precisamente, **<font color = #298742> este teste determina o quão bem as proporções amostrais se dão de acordo com a hipótese nula**."
   ]
  },
  {
   "cell_type": "markdown",
   "id": "74931557",
   "metadata": {},
   "source": [
    "<br>\n",
    "\n"
   ]
  },
  {
   "cell_type": "markdown",
   "id": "79608687",
   "metadata": {},
   "source": [
    "### <font color = #0f4e8c> Exemplo :\n",
    "\n",
    "Imagine que você quer testar se uma moeda é viciada ou não. A hipótese deverá validar se a proporção de caras ou coroas (que são variáveis categóricas) é igual ou não, dado um certo nível estatístico.\n",
    "    \n",
    "<img src=\"Imagens/Imagem 1 Teste de Hipótese.png\" >"
   ]
  },
  {
   "cell_type": "markdown",
   "id": "1eba40fc",
   "metadata": {},
   "source": [
    "Esse tipo de análise pode servir para determinar a preferência por produtos, diferenças entre tamanho populacional, se uma moeda é viciada ou não, etc"
   ]
  },
  {
   "cell_type": "markdown",
   "id": "65f1426b",
   "metadata": {},
   "source": [
    "--------------------------------\n",
    "<br>\n",
    "\n"
   ]
  },
  {
   "cell_type": "markdown",
   "id": "efcf88f3",
   "metadata": {},
   "source": [
    "## <font color = #298742 > Exercício I"
   ]
  },
  {
   "cell_type": "markdown",
   "id": "243c7a39",
   "metadata": {},
   "source": [
    "Suponha,  que você esteja realizando um estudo para uma multinacional que quer saber se há uma diferença de genêro no seu perfil de trabalhadores brasileiros. A empresa possui <font color = #a742f5> **4758 funcionários** <font color = black>e**<font color = #f596425221> 5115 funcionárias**. <font color = black>\n",
    "    \n",
    "Realize um teste do Qui-Quadrado para verificar se há uma diferença de gênero no quadro da empresa. Utilize um nível 95% de confiança."
   ]
  },
  {
   "cell_type": "markdown",
   "id": "58fc0e5b",
   "metadata": {},
   "source": [
    "<br>\n",
    "\n"
   ]
  },
  {
   "cell_type": "markdown",
   "id": "976b131e",
   "metadata": {},
   "source": [
    "#### Elaborando a Hipótese Nula\n",
    "\n",
    "H0 : Proporção de homens e mulheres é **<font color = #298742 >igual**;\n",
    "\n",
    "H1 : Proporção de homens e mulheres é **<font color = #b30c00 >diferente**"
   ]
  },
  {
   "attachments": {
    "image.png": {
     "image/png": "[encoded data removed]"
    }
   },
   "cell_type": "markdown",
   "id": "b58ee443",
   "metadata": {},
   "source": [
    "![image.png](attachment:image.png)\n",
    "\n",
    "<font color = #298742>Pi <font color = black>= Frequência com relação a outras categorias \n",
    "\n",
    "<font color = #298742>n <font color = black> = tamanho da amostra de todas as categorias"
   ]
  },
  {
   "cell_type": "markdown",
   "id": "552ae102",
   "metadata": {},
   "source": [
    "<br>\n",
    "\n"
   ]
  },
  {
   "cell_type": "code",
   "execution_count": 1,
   "id": "119308a4",
   "metadata": {},
   "outputs": [
    {
     "data": {
      "text/plain": [
       "4932.5"
      ]
     },
     "execution_count": 1,
     "metadata": {},
     "output_type": "execute_result"
    }
   ],
   "source": [
    "# Calculando a frequência esperada por categoria \n",
    "\n",
    "n = 9865 \n",
    "probab = 0.5\n",
    "\n",
    "fe = n*probab\n",
    "fe"
   ]
  },
  {
   "cell_type": "markdown",
   "id": "6b4cfe95",
   "metadata": {},
   "source": [
    "<br>\n",
    "\n"
   ]
  },
  {
   "attachments": {
    "image.png": {
     "image/png": "[encoded data removed]"
    }
   },
   "cell_type": "markdown",
   "id": "3b51dfc0",
   "metadata": {},
   "source": [
    "![image.png](attachment:image.png) \n",
    "\n",
    "F0 = Frequência <font color = #298742>registrada\n",
    "    \n",
    "Fe = Frequência <font color = #298742>esperada"
   ]
  },
  {
   "cell_type": "markdown",
   "id": "67ec3392",
   "metadata": {},
   "source": [
    "<br>\n",
    "\n"
   ]
  },
  {
   "cell_type": "code",
   "execution_count": 2,
   "id": "b2cb2e53",
   "metadata": {},
   "outputs": [
    {
     "data": {
      "text/plain": [
       "0.12417638114546375"
      ]
     },
     "execution_count": 2,
     "metadata": {},
     "output_type": "execute_result"
    }
   ],
   "source": [
    "# Calculando o teste Qui-Quadrado\n",
    "\n",
    "fo1 = 4915\n",
    "fo2 = 4950\n",
    "\n",
    "qui_quadrado_calculado1 = (((fo1 - fe)**2)/fe) + (((fo2 - fe)**2)/fe)\n",
    "qui_quadrado_calculado1"
   ]
  },
  {
   "cell_type": "markdown",
   "id": "b5c12f37",
   "metadata": {},
   "source": [
    "<br>\n",
    "\n"
   ]
  },
  {
   "attachments": {
    "image.png": {
     "image/png": "[encoded data removed]"
    }
   },
   "cell_type": "markdown",
   "id": "7681668e",
   "metadata": {},
   "source": [
    "![image.png](attachment:image.png)\n",
    "\n",
    "<font color = #298742>df<font color = black> = degree of freedom (graus de liberdade)\n",
    "\n",
    "<font color = #298742>C<font color = black> = Categorias existentes"
   ]
  },
  {
   "cell_type": "markdown",
   "id": "b7c6e5e0",
   "metadata": {},
   "source": [
    "<br>\n",
    "\n"
   ]
  },
  {
   "cell_type": "code",
   "execution_count": 3,
   "id": "8a02de64",
   "metadata": {},
   "outputs": [
    {
     "data": {
      "text/plain": [
       "1"
      ]
     },
     "execution_count": 3,
     "metadata": {},
     "output_type": "execute_result"
    }
   ],
   "source": [
    "# Calculando o grau de liberdade \n",
    "\n",
    "categorias = 2\n",
    "\n",
    "gl = categorias - 1\n",
    "gl"
   ]
  },
  {
   "cell_type": "markdown",
   "id": "16f8789b",
   "metadata": {},
   "source": [
    "### <font color = #298742>Tabela de Valores Críticos \n",
    "\n",
    "<img src=\"Imagens/Tabela de valores críticos.png\" width = '600'>"
   ]
  },
  {
   "cell_type": "markdown",
   "id": "e59722d7",
   "metadata": {},
   "source": [
    "<br>\n",
    "\n"
   ]
  },
  {
   "cell_type": "code",
   "execution_count": 4,
   "id": "510c3cf3",
   "metadata": {},
   "outputs": [],
   "source": [
    "# Importando bibliotecas para construir o gráfico \n",
    "\n",
    "import numpy as np\n",
    "import matplotlib.pyplot as plt\n",
    "from scipy.stats import chi2"
   ]
  },
  {
   "cell_type": "code",
   "execution_count": 5,
   "id": "96255457",
   "metadata": {
    "scrolled": false
   },
   "outputs": [
    {
     "data": {
      "image/png": "[encoded data removed]",
      "text/plain": [
       "<Figure size 1080x576 with 1 Axes>"
      ]
     },
     "metadata": {
      "needs_background": "light"
     },
     "output_type": "display_data"
    }
   ],
   "source": [
    "# Criando o eixo x indo de 0 a 4 em intervalos de 0.1 \n",
    "\n",
    "x = np.arange(0, 10, 0.1)\n",
    "\n",
    "# Plotando a Distribuição do Qui-Quadrado com 4 graus de liberdade\n",
    "\n",
    "plt.plot(x, chi2.pdf(x, df= 1))\n",
    "\n",
    "# Configurando as legendas da imagem\n",
    "\n",
    "plt.ylabel('Densidade', fontsize = 13)\n",
    "plt.xlabel('Valores da qui-quadrado', fontsize = 13)\n",
    "plt.title('Função de Densidade de Probabilidade da Qui-Quadrado ', fontsize=22)\n",
    "\n",
    "# Configurando a formatação da imagem\n",
    "\n",
    "fig = plt.gcf()\n",
    "fig.set_size_inches(15, 8)\n",
    "plt.show()"
   ]
  },
  {
   "cell_type": "markdown",
   "id": "bbca2458",
   "metadata": {},
   "source": [
    "### <font color = #298742> Traduzindo o Resultado \n",
    "\n",
    "<img src=\"Imagens/Distribuição qui quadrado.png\" >"
   ]
  },
  {
   "cell_type": "code",
   "execution_count": 6,
   "id": "e69b3741",
   "metadata": {},
   "outputs": [],
   "source": [
    "# Importando as bibliotecas do scipy para realizar o teste \n",
    "\n",
    "from scipy.stats import chi2 \n",
    "from scipy.stats import chisquare"
   ]
  },
  {
   "cell_type": "code",
   "execution_count": 7,
   "id": "79964d5a",
   "metadata": {},
   "outputs": [
    {
     "data": {
      "text/plain": [
       "3.841458820694124"
      ]
     },
     "execution_count": 7,
     "metadata": {},
     "output_type": "execute_result"
    }
   ],
   "source": [
    "# Verificando o valor crítico com a função chi2\n",
    "\n",
    "valor_critico = chi2.ppf(q = 0.95, df = gl)\n",
    "valor_critico"
   ]
  },
  {
   "cell_type": "code",
   "execution_count": 8,
   "id": "65c1f301",
   "metadata": {
    "scrolled": true
   },
   "outputs": [
    {
     "data": {
      "text/plain": [
       "0.12417638114546375"
      ]
     },
     "execution_count": 8,
     "metadata": {},
     "output_type": "execute_result"
    }
   ],
   "source": [
    "\n",
    "# Verificando o valor observado com a função chisquare \n",
    "\n",
    "valor_observado = chisquare([4915, 4950])\n",
    "valor_observado[0]"
   ]
  },
  {
   "cell_type": "markdown",
   "id": "cef9c7fd",
   "metadata": {},
   "source": [
    "<br>\n",
    "\n",
    "\n",
    "**Resposta:** Aceitou-se a Hipótese Nula de que a proporção de homens e mulheres é idêntica. Ou seja, não há uma diferença estatísticamente significante à um nível de 95 % de confiança para os resultados observados. "
   ]
  },
  {
   "cell_type": "markdown",
   "id": "160c2b78",
   "metadata": {},
   "source": [
    "<br>\n",
    "\n"
   ]
  },
  {
   "cell_type": "markdown",
   "id": "fc49b877",
   "metadata": {},
   "source": [
    "**Resumo :**\n",
    "\n",
    "\n",
    "\n",
    "Quando χ2obs < χ2c , **<font color = #298742 >aceita-se** <font color = black> a hipótese nula\n",
    "\n",
    "Quando χ2obs > χ2c , **<font color = #b30c00 > rejeita-se** a hipótese nula\n",
    "    \n",
    "-------------------------------"
   ]
  },
  {
   "cell_type": "markdown",
   "id": "160d5c22",
   "metadata": {},
   "source": [
    "<br>\n",
    "\n"
   ]
  },
  {
   "cell_type": "markdown",
   "id": "bebeca2e",
   "metadata": {},
   "source": [
    "## <font color = #298742 > Exercício I.II"
   ]
  },
  {
   "cell_type": "markdown",
   "id": "be9821bd",
   "metadata": {},
   "source": [
    "<br>\n",
    "\n"
   ]
  },
  {
   "cell_type": "markdown",
   "id": "04a2ee3f",
   "metadata": {},
   "source": [
    "Você descobriu que não há uma diferença estatísticamente significante no quadro geral de fucionários da empresa. Mas, como é um(a) cientista curioso(a), solicitou o quadro de funcionários que possui um nível igual ou superior ao senior. A empresa relatou que há <font color = #a742f5> **220 funcionários** <font color = black>e**<font color = #f596425221> 130 funcionárias**.\n",
    "    \n",
    "Realize um teste do Qui-Quadrado para verificar se há uma diferença de gênero no quadro da empresa. Utilize um nível 95% de confiança."
   ]
  },
  {
   "cell_type": "markdown",
   "id": "7777998a",
   "metadata": {},
   "source": [
    "#### Elaborando a Hipótese Nula\n",
    "\n",
    "H0 : Proporção de homens e mulheres é **<font color = #298742 >igual**;\n",
    "\n",
    "H1 : Proporção de homens e mulheres é **<font color = #b30c00 >diferente**\n",
    "    \n",
    "<br>"
   ]
  },
  {
   "cell_type": "code",
   "execution_count": 9,
   "id": "71689a93",
   "metadata": {},
   "outputs": [
    {
     "data": {
      "text/plain": [
       "175.0"
      ]
     },
     "execution_count": 9,
     "metadata": {},
     "output_type": "execute_result"
    }
   ],
   "source": [
    "# Calculando a quantidade total de funcionários\n",
    "\n",
    "n = 220 + 130\n",
    "probab = 0.5 \n",
    "\n",
    "fe = n*probab\n",
    "fe"
   ]
  },
  {
   "cell_type": "code",
   "execution_count": 10,
   "id": "c550cb2d",
   "metadata": {},
   "outputs": [],
   "source": [
    "# Criando uma função que rejeita ou aceita a hipótese nula \n",
    "\n",
    "def qui_quadrado(observado,esperado,nivel_de_conf,graus_de_liberdade) :\n",
    "    \n",
    "    observado = chisquare(f_obs= observado, f_exp= esperado)[0]\n",
    "    critico = chi2.ppf(q = nivel_de_conf, df = graus_de_liberdade)\n",
    "    \n",
    "    if (observado < critico).any() :\n",
    "        print('Aceitou-se a Hipótese Nula')\n",
    "        print('O valor do teste é :', observado)\n",
    "        print('E o valor crítico é :', critico)\n",
    "        \n",
    "    else :\n",
    "        print('Rejeitou-se a Hipótese Nula')\n",
    "        print('O valor do teste é :', observado)\n",
    "        print('E o valor crítico é :', critico)"
   ]
  },
  {
   "cell_type": "code",
   "execution_count": 11,
   "id": "9f80192f",
   "metadata": {},
   "outputs": [
    {
     "name": "stdout",
     "output_type": "stream",
     "text": [
      "Rejeitou-se a Hipótese Nula\n",
      "O valor do teste é : 23.142857142857142\n",
      "E o valor crítico é : 3.841458820694124\n"
     ]
    }
   ],
   "source": [
    "# Utilizando a função \n",
    "\n",
    "qui_quadrado(observado=[220,130],esperado=[175, 175], nivel_de_conf= 0.95, graus_de_liberdade= 1)"
   ]
  },
  {
   "cell_type": "markdown",
   "id": "c3d3ee0e",
   "metadata": {},
   "source": [
    "<br>\n",
    "\n"
   ]
  },
  {
   "cell_type": "markdown",
   "id": "e903c0e8",
   "metadata": {},
   "source": [
    "<br>\n",
    "\n",
    "\n",
    "**Resposta:** Rejeitou-se a Hipótese Nula de que a proporção de homens e mulheres é idêntica em cargos de senioridade. Ou seja, há uma diferença estatísticamente significante a um nível de 95 % de confiança para os resultados observados. Mesmo aumentando o nível de confiança para 99%, ou até mesmo para 99.99%, ainda conseguimos rejeitar a Hipótese Nula. O que tem sentido, pois, neste caso, a quantidade de homens em cargos superiores é quase o dobro da quantidade de mulheres \n",
    "\n",
    "<br>"
   ]
  },
  {
   "cell_type": "markdown",
   "id": "abefac9f",
   "metadata": {},
   "source": [
    "<br>\n",
    "\n",
    "## <font color = #298742 > Exercício II"
   ]
  },
  {
   "cell_type": "markdown",
   "id": "cef7a554",
   "metadata": {},
   "source": [
    "<br>\n",
    "\n"
   ]
  },
  {
   "cell_type": "markdown",
   "id": "506f843a",
   "metadata": {},
   "source": [
    "Agora estamos em uma situação que uma empresa de calçados deseja verificar se a venda de três tipos de calçados se deu  de acordo com o previsto. \n",
    "\n",
    "Para o calçado 1, se esperava obter **<font color = #a742f5>1000 vendas**<font color = black>. E, para calçado 2 e 3, se esperava obter **<font color = #f596425221>500 vendas** <font color = black> em cada.\n",
    "    \n",
    "Os valores observados de venda foram :\n",
    "    \n",
    "**Calçado 1 : 920**\n",
    "    \n",
    "**Calçado 2 : 580**\n",
    "    \n",
    "**Calçado 3 : 500**    \n",
    "\n",
    "    \n",
    "Verifique, a um nível de 90% de confiança, se há uma diferença estatisticamente significativa.\n",
    "    \n",
    "<br>    \n",
    "    "
   ]
  },
  {
   "cell_type": "markdown",
   "id": "3d16fea1",
   "metadata": {},
   "source": [
    "#### Elaborando a Hipótese Nula\n",
    "\n",
    "<br>\n",
    "\n",
    "**<font color = #298742 > H0**<font color = black>  : A proporção de vendas do Calçado 1 equivale à 50% do total de venda dos calçados enquanto que as proporções do Calçado 2 e 3 equivalem, cada uma, a 25 % do total de vendas;\n",
    "\n",
    "**<font color = #b30c00 >H1**<font color = black>: As proporções são diferentes das estipuladas por H0  \n",
    "    \n",
    "<br>\n",
    "    \n",
    "<br>    "
   ]
  },
  {
   "cell_type": "markdown",
   "id": "ccd0fd5c",
   "metadata": {},
   "source": [
    "### <font color = green>Solução \"Na unha\"\n",
    "    \n",
    "<br>"
   ]
  },
  {
   "cell_type": "code",
   "execution_count": 12,
   "id": "d8bc7bf5",
   "metadata": {},
   "outputs": [],
   "source": [
    "# Declarando a frequência esperada para cada calçado\n",
    "\n",
    "fe1 = 1000\n",
    "fe2_e_3 = 500"
   ]
  },
  {
   "cell_type": "code",
   "execution_count": 13,
   "id": "c6d80882",
   "metadata": {},
   "outputs": [],
   "source": [
    "# Declarando as frequências observadas\n",
    "\n",
    "fo1 = 920\n",
    "fo2 = 580\n",
    "fo3 = 500"
   ]
  },
  {
   "cell_type": "code",
   "execution_count": 14,
   "id": "6251ee4b",
   "metadata": {},
   "outputs": [
    {
     "data": {
      "text/plain": [
       "19.200000000000003"
      ]
     },
     "execution_count": 14,
     "metadata": {},
     "output_type": "execute_result"
    }
   ],
   "source": [
    "# Calculando o qui_quadrado para os calçados\n",
    "\n",
    "qui_quadrado_calculado2 = (((fo1 - fe1)**2)/fe1) + (((fo2 - fe2_e_3)**2)/fe2_e_3) + (((fo3 - fe2_e_3)**2)/fe2_e_3)\n",
    "qui_quadrado_calculado2"
   ]
  },
  {
   "cell_type": "code",
   "execution_count": 15,
   "id": "46be7f51",
   "metadata": {},
   "outputs": [
    {
     "data": {
      "text/plain": [
       "2"
      ]
     },
     "execution_count": 15,
     "metadata": {},
     "output_type": "execute_result"
    }
   ],
   "source": [
    "# Graus de Liberdade \n",
    "\n",
    "gl2  = 3 - 1\n",
    "gl2"
   ]
  },
  {
   "cell_type": "code",
   "execution_count": 16,
   "id": "b4d5244a",
   "metadata": {},
   "outputs": [],
   "source": [
    "valo_critico = 4.61"
   ]
  },
  {
   "cell_type": "code",
   "execution_count": 17,
   "id": "8ca18e55",
   "metadata": {},
   "outputs": [
    {
     "name": "stdout",
     "output_type": "stream",
     "text": [
      "Rejeita-se H0\n"
     ]
    }
   ],
   "source": [
    "if valor_critico < qui_quadrado_calculado2 :\n",
    "    print('Rejeita-se H0')"
   ]
  },
  {
   "cell_type": "markdown",
   "id": "e3767da4",
   "metadata": {},
   "source": [
    "<br>\n",
    "\n"
   ]
  },
  {
   "cell_type": "markdown",
   "id": "dc7eb4cb",
   "metadata": {},
   "source": [
    "### <font color = green> Solução Automática\n",
    "    \n",
    "<br>"
   ]
  },
  {
   "cell_type": "code",
   "execution_count": 18,
   "id": "c829fa18",
   "metadata": {},
   "outputs": [
    {
     "name": "stdout",
     "output_type": "stream",
     "text": [
      "Rejeitou-se a Hipótese Nula\n",
      "O valor do teste é : 19.200000000000003\n",
      "E o valor crítico é : 4.605170185988092\n"
     ]
    }
   ],
   "source": [
    "# Calculando o valor do teste para os calçados \n",
    "\n",
    "qui_quadrado(observado= [920,580,500], esperado= [1000, 500, 500], nivel_de_conf= 0.9, graus_de_liberdade= 2)"
   ]
  },
  {
   "cell_type": "markdown",
   "id": "ef8a484b",
   "metadata": {},
   "source": [
    "<br>\n",
    "\n",
    "\n",
    "**Resposta:** Rejeitou-se a Hipótese Nula de que a proporção de calçados se dá de acordo com a frequência esperada. Ou seja, há uma diferença estatísticamente significante a um nível de 90 % de confiança para os resultados observados. "
   ]
  },
  {
   "cell_type": "markdown",
   "id": "e655beb3",
   "metadata": {},
   "source": [
    "### \n",
    "------------------------------------------------------------------------------------------------------------"
   ]
  },
  {
   "cell_type": "markdown",
   "id": "23772b42",
   "metadata": {},
   "source": [
    "## <font color = #298742 > Sintetizando "
   ]
  },
  {
   "cell_type": "markdown",
   "id": "e3f4aae9",
   "metadata": {},
   "source": [
    "Nesta aula vimos :\n",
    "    \n",
    "- O Teste do Qui-Quadrado (especificamente o teste de Qualidade de Ajuste) e como ele pode servir para <font color=32a852> **avaliar variáveis categóricas**;\n",
    "\n",
    "    <br>\n",
    "- Como mensurar as **<font color=32a852> frequências esperadas  <font color=black>**para cada uma das categorias presentes no teste ;\n",
    "    \n",
    "    <br>\n",
    "- **<font color=32a852>Como calcular** <font color=black>, de acordo com os valores observados e esperados, o valor do teste Qui-Quadrado ;\n",
    "    \n",
    "    <br>\n",
    "    \n",
    "- **<font color=32a852>Como interpretar o valor do teste e seus respectivos valores críticos**<font color=black>, sendo capazes de dizer em que se situações se aceita ou se rejeita a hipótese nula ;\n",
    "    \n",
    "    <br>\n",
    "\n",
    "- **<font color=32a852>Como automatizar o cálculo do teste**<font color=black>, dos valores críticos e seu resultado.\n",
    "    \n",
    "    \n",
    "<br>\n",
    "    \n",
    "--------------------\n",
    "    \n",
    "<br>"
   ]
  },
  {
   "cell_type": "markdown",
   "id": "f9e0cfbd",
   "metadata": {},
   "source": [
    "##  <font color = #21618C> Referêncial Teórico\n",
    "    \n",
    "\n",
    "<br>\n",
    "<br>\n",
    "    \n",
    "\n",
    "Gregory W. Corder. Nonparametric Statistics : A Step-by-Step Approach \n",
    "<br>\n",
    "    \n",
    "    \n",
    "-----------------------    \n",
    "<br>"
   ]
  },
  {
   "cell_type": "markdown",
   "id": "5d7ccae7",
   "metadata": {},
   "source": [
    "##  <font color = #21618C> Material Elaborado Por :\n",
    "    \n",
    "<br>\n",
    "<br>\n",
    "    \n",
    "    "
   ]
  },
  {
   "cell_type": "markdown",
   "id": "3ebc7600",
   "metadata": {},
   "source": [
    "<tr>\n",
    "<td> <img src=\"Imagens/Thiago.png\" width = \"150\" align = \"left\"/> </td>\n",
    "</tr>\n",
    "\n",
    "<br>\n",
    "\n"
   ]
  },
  {
   "cell_type": "markdown",
   "id": "f501495d",
   "metadata": {},
   "source": [
    "<br>\n",
    "\n",
    "\n",
    "<br>\n",
    "\n",
    "<tr>\n",
    "<td> <a href=\"https://www.linkedin.com/in/thiagopd/\" > <img src = \"Imagens/linkedin.png\" width = \"25\"  align = \"left\" /> </a>  </td>             <td> <a href=\"https://github.com/tp-duarte\" > <img src = \"Imagens/GitHub-Logo.png\" width = \"60\" height = \"100\" align = \"left\" /> </a>  </td>  </tr>\n",
    "\n",
    "<pre> <font size =  5 align = 'up' > Thiago Duarte "
   ]
  }
 ],
 "metadata": {
  "kernelspec": {
   "display_name": "Python 3 (ipykernel)",
   "language": "python",
   "name": "python3"
  },
  "language_info": {
   "codemirror_mode": {
    "name": "ipython",
    "version": 3
   },
   "file_extension": ".py",
   "mimetype": "text/x-python",
   "name": "python",
   "nbconvert_exporter": "python",
   "pygments_lexer": "ipython3",
   "version": "3.9.5"
  }
 },
 "nbformat": 4,
 "nbformat_minor": 5
}
