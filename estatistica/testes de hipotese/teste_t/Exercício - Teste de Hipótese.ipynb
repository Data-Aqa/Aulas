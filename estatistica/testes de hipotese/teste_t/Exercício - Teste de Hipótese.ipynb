{
 "cells": [
  {
   "cell_type": "markdown",
   "id": "27351a72",
   "metadata": {},
   "source": [
    "## Exercícios - Teste de Hipótese"
   ]
  },
  {
   "cell_type": "markdown",
   "id": "3547493f",
   "metadata": {},
   "source": [
    "### Análise da duranção dos filmes\n",
    "---\n",
    "O objetivo deste exercício é analisar como a duração dos filmes lançados mudou com o tempo, para isso vamos utilizar o conjunto de dados `imdb_top_1000.csv`, já utilizado em aulas anteriores."
   ]
  },
  {
   "cell_type": "markdown",
   "id": "1ffd08f1",
   "metadata": {},
   "source": [
    "#### Instalação pacote pingouin (análise estatística)"
   ]
  },
  {
   "cell_type": "code",
   "execution_count": null,
   "id": "123fa67e",
   "metadata": {},
   "outputs": [],
   "source": [
    "# !conda install -c conda-forge pingouin"
   ]
  },
  {
   "cell_type": "markdown",
   "id": "ac5b7949",
   "metadata": {},
   "source": [
    "#### Instalação pacote Seaborn (visualização) (opcional)"
   ]
  },
  {
   "cell_type": "code",
   "execution_count": null,
   "id": "ee9ef2a3",
   "metadata": {},
   "outputs": [],
   "source": [
    "# !conda install seaborn"
   ]
  },
  {
   "cell_type": "markdown",
   "id": "f208e6fc",
   "metadata": {},
   "source": [
    "#### Bibliotecas"
   ]
  },
  {
   "cell_type": "code",
   "execution_count": null,
   "id": "7445104a",
   "metadata": {},
   "outputs": [],
   "source": [
    "import pandas as pd\n",
    "import numpy as np\n",
    "import matplotlib.pyplot as plt\n",
    "import pingouin as pg\n",
    "# import seaborn as sns"
   ]
  },
  {
   "cell_type": "markdown",
   "id": "f2476459",
   "metadata": {},
   "source": [
    "#### 1) Realize os procedimentos de limpeza e tratamento de dados necessários para analisar o conjunto\n",
    "---\n",
    "- Remover colunas não relevantes,\n",
    "- Renomear colunas para facilitar a manipulação\n",
    "- Converter colunas para o tipo correto"
   ]
  },
  {
   "cell_type": "code",
   "execution_count": null,
   "id": "01465ff3",
   "metadata": {},
   "outputs": [],
   "source": []
  },
  {
   "cell_type": "code",
   "execution_count": null,
   "id": "aa846904",
   "metadata": {},
   "outputs": [],
   "source": []
  },
  {
   "cell_type": "code",
   "execution_count": null,
   "id": "2f996e92",
   "metadata": {},
   "outputs": [],
   "source": []
  },
  {
   "cell_type": "markdown",
   "id": "2adc7f87",
   "metadata": {},
   "source": [
    "#### 2) Visualize a distribuição da coluna referente à duração dos filmes"
   ]
  },
  {
   "cell_type": "code",
   "execution_count": null,
   "id": "980defe4",
   "metadata": {},
   "outputs": [],
   "source": []
  },
  {
   "cell_type": "code",
   "execution_count": null,
   "id": "9941081d",
   "metadata": {},
   "outputs": [],
   "source": []
  },
  {
   "cell_type": "code",
   "execution_count": null,
   "id": "3eef205b",
   "metadata": {},
   "outputs": [],
   "source": []
  },
  {
   "cell_type": "markdown",
   "id": "cf25d902",
   "metadata": {},
   "source": [
    "#### 3) Faça uma visualização dos 20 filmes com maior bilheteria em ordem decrescente\n",
    "- O tamanho da figura deve ser de 11 por 5;\n",
    "- De um título ao gráfico;\n",
    "- Nomeie o eixo-y para melhorar o entenndimento do gráfico;\n",
    "- Rotacione o texto dos ticks do eixo-x para melhorar a leitura;"
   ]
  },
  {
   "cell_type": "code",
   "execution_count": null,
   "id": "18f09002",
   "metadata": {},
   "outputs": [],
   "source": []
  },
  {
   "cell_type": "code",
   "execution_count": null,
   "id": "dc9000b2",
   "metadata": {},
   "outputs": [],
   "source": []
  },
  {
   "cell_type": "code",
   "execution_count": null,
   "id": "098aef2f",
   "metadata": {},
   "outputs": [],
   "source": []
  },
  {
   "cell_type": "markdown",
   "id": "f2f6333b",
   "metadata": {},
   "source": [
    "#### 3) Teste a hipótese de que filmes lançados após o ano 2000 são mais longos que os lançados antes desta data. O resultado é significativo?"
   ]
  },
  {
   "cell_type": "code",
   "execution_count": null,
   "id": "769c68af",
   "metadata": {},
   "outputs": [],
   "source": []
  },
  {
   "cell_type": "code",
   "execution_count": null,
   "id": "2204db01",
   "metadata": {},
   "outputs": [],
   "source": []
  },
  {
   "cell_type": "code",
   "execution_count": null,
   "id": "74d5c423",
   "metadata": {},
   "outputs": [],
   "source": []
  }
 ],
 "metadata": {
  "kernelspec": {
   "display_name": "Python 3 (ipykernel)",
   "language": "python",
   "name": "python3"
  },
  "language_info": {
   "codemirror_mode": {
    "name": "ipython",
    "version": 3
   },
   "file_extension": ".py",
   "mimetype": "text/x-python",
   "name": "python",
   "nbconvert_exporter": "python",
   "pygments_lexer": "ipython3",
   "version": "3.7.3"
  }
 },
 "nbformat": 4,
 "nbformat_minor": 5
}
