{
 "cells": [
  {
   "cell_type": "markdown",
   "id": "05bba8de",
   "metadata": {},
   "source": [
    "<img src = 'Imagens/logo data.aqa.jpg' width >"
   ]
  },
  {
   "cell_type": "markdown",
   "id": "23520cb4",
   "metadata": {},
   "source": [
    "<br>\n",
    "\n",
    "#  <span style = \"font-family:Times New Roman\"><font color = #0f4e8c>Teste U de Mann-Whitney / Wilcoxon Soma de Ranking\n",
    "    \n",
    "<br>\n"
   ]
  },
  {
   "cell_type": "markdown",
   "id": "fddda0df",
   "metadata": {},
   "source": [
    "<br>\n",
    "\n",
    "###  <span style = \"font-family:Times New Roman\"><font color = #0f4e8c> Objetivo\n",
    "    \n",
    "<br>"
   ]
  },
  {
   "cell_type": "markdown",
   "id": "b37d5c02",
   "metadata": {},
   "source": [
    "Esta aula tem como objetivo apresentar o  que é o Teste do U Mann-Whitney (também chamado de Wilcoxon Soma de Ranking), como é feito o seu cálculo e quais são as suas aplicações. "
   ]
  },
  {
   "cell_type": "markdown",
   "id": "cbb6d509",
   "metadata": {},
   "source": [
    "<br>\n",
    "\n",
    "###  <span style = \"font-family:Times New Roman\"><font color = #0f4e8c> O que é o Teste ? \n",
    "    \n",
    "<br>"
   ]
  },
  {
   "cell_type": "markdown",
   "id": "a842f708",
   "metadata": {},
   "source": [
    "<br>\n",
    "\n",
    "O Teste do U de Mann-Whitney é um teste não parâmetrico realizado para verificar se a distribuição de duas populações independentes é igual ou não. A formulação da hipótese nula ocorre como o  postulado abaixo :\n",
    "\n",
    "<br>\n"
   ]
  },
  {
   "cell_type": "markdown",
   "id": "6041196a",
   "metadata": {},
   "source": [
    "###  <span style = \"font-family:Times New Roman\"> $H_0$ : $\\theta$x <font color = #1ba106> **=** <font color = black> $\\theta$y    \n",
    "###  <span style = \"font-family:Times New Roman\"> $H_A$ : $\\theta$x <font color = #f2820a> **≠** <font color = black>$\\theta$y"
   ]
  },
  {
   "cell_type": "markdown",
   "id": "b350c9d8",
   "metadata": {},
   "source": [
    "<br>\n",
    "\n",
    "Verifica-se, portanto se uma distribuição $\\theta$x é igual a uma $\\theta$y. Se as distribuições forem diferentes, rejeita-se  H0. \n",
    "\n",
    "Para validar se as distribuições são iguais ou não, juntam-se as duas populações em uma só e ordena-se um ranking de acordo com os seus valores. \n",
    "\n",
    "Se os valores da ordenação do ranking tendem a estar agrupados com as amostras de uma só população em um determinado intervalo do ranking (Representação I da imagem abaixo), é possível que haja diferença entre as distribuições. Se as duas populações estiverem esparsas, é provável que não haja diferença (Representação II da imagem abaixo). \n",
    "\n",
    "<br>\n"
   ]
  },
  {
   "cell_type": "markdown",
   "id": "768d2a0c",
   "metadata": {},
   "source": [
    "<br>\n",
    "\n",
    "<img src ='Imagens/Mann Whitney Rankeamento.png' height = 20 width = 800 > \n",
    "\n",
    "<br>\n",
    "\n",
    "<span style = \"font-family:Times New Roman\"> <font color = #777877> <center> Fonte: Elaboração própria, baseado em Corder G. W., Foreman D. I., Nonparametric Statistics : A Step-by-Step Approach, 2014</center>"
   ]
  },
  {
   "cell_type": "markdown",
   "id": "bf14a504",
   "metadata": {},
   "source": [
    "<br>\n",
    "\n",
    "Um ponto interessante do cálculo do U Mann-Whitney é que ele pode ser efetuado quando as duas amostras possuem quantidade de registros distintas, o que traz uma flexibilização maior para as aplicações do teste. \n",
    "\n",
    "<br>\n"
   ]
  },
  {
   "cell_type": "markdown",
   "id": "473d9cea",
   "metadata": {},
   "source": [
    "<br>\n",
    "\n",
    "## <span style = \"font-family:Times New Roman\"><font color = #0f4e8c> Como calcular ? \n",
    "    \n",
    "<br>\n",
    "    \n",
    "    "
   ]
  },
  {
   "cell_type": "markdown",
   "id": "affc6270",
   "metadata": {},
   "source": [
    "<br>\n",
    "    \n",
    "#  <center> $U_i = n_1n_2 +  \\displaystyle \\frac{n_i(n_i + 1)}{2} - \\sum{R_i} $  </center>\n",
    "\n",
    "<br>\n",
    "\n",
    "Onde :\n",
    "\n",
    "$U_i$ = valor do teste para a amostra i ;\n",
    "\n",
    "$n_i$ = Quantidade de registros para amostra i;\n",
    "\n",
    "$R_i$ = Ranking da amostra i\n",
    "\n",
    "<br>\n"
   ]
  },
  {
   "cell_type": "markdown",
   "id": "a18b93f2",
   "metadata": {},
   "source": [
    "\n",
    "<br>\n",
    "\n",
    "O U de Mann-Whitney é calculado pela fórmula acima. Calcula-se o $U$ para cada uma das populações independentes e, após feito o cálculo, o U para a inferência do teste de Mann-Whitney é aquele que registrar o menor valor, assim como na representação matemática abaixo :\n",
    "\n",
    "<br>\n"
   ]
  },
  {
   "cell_type": "markdown",
   "id": "d6343f2d",
   "metadata": {},
   "source": [
    "<br>\n",
    "\n",
    "## <center> $U = min (U_1,U_2)$ </center>\n",
    "\n",
    "<br>\n"
   ]
  },
  {
   "cell_type": "markdown",
   "id": "b6e19c60",
   "metadata": {},
   "source": [
    "<br>\n",
    "\n",
    "Se o valor crítico para o nível de confiança previamente determinado for menor que o  $U$ de Mann-Whitney, aceita-se a hipótese nula de que não há diferença entre as distribuições. Se o valor crítico for maior ou igual o $U$ , rejeita-se H0. \n",
    "\n",
    "Os valores críticos podem ser obtidos através de tabelas estatísticas de acordo com o nível de confiança estabelecido, assim como visto em outras aulas. Será realizado o cálculo manual e automático no exercício abaixo. \n",
    "\n",
    "<br>\n"
   ]
  },
  {
   "cell_type": "markdown",
   "id": "a804fba6",
   "metadata": {},
   "source": [
    "<br>\n",
    "\n",
    "##   <span style = \"font-family:Times New Roman\"><font color = #0f4e8c> Exercício \n",
    "    \n",
    "<br>\n",
    "   "
   ]
  },
  {
   "cell_type": "markdown",
   "id": "7965f092",
   "metadata": {},
   "source": [
    "<br>\n",
    "\n",
    "Neste primeiro exercício iremos avaliar o índice de empreendedorismo das mulheres em países desenvolvidos com relação ao índice  de empreendedorismo das mulheres de países  em desenvolvimento. O conjunto de dados foi extraído do ***Women Entrepreneurship Index*** e do  ***Global Entrepreneurship Index*** que foi publicado em 2015. Os dados podem ser acessados através do **[Kaggle.](https://www.kaggle.com/datasets/babyoda/women-entrepreneurship-and-labor-force)**  \n",
    "\n",
    "Consideraremos um nível de 95 % de confiança para a realização do Teste do U de Mann-Whitney.\n",
    "<br>\n"
   ]
  },
  {
   "cell_type": "markdown",
   "id": "012300a7",
   "metadata": {},
   "source": [
    "<br>\n",
    "\n",
    "###  <span style = \"font-family:Times New Roman\"><font color = #0f4e8c> Elaboração da Hipótese \n",
    "\n",
    "<br>    \n"
   ]
  },
  {
   "cell_type": "markdown",
   "id": "e3a7e2ae",
   "metadata": {},
   "source": [
    "O primeiro passo antes do cálculo do teste é a elaboração da Hipótese Nula. Neste exercício será postulado o seguinte :  \n",
    "\n",
    "<br>\n"
   ]
  },
  {
   "cell_type": "markdown",
   "id": "0740f33c",
   "metadata": {},
   "source": [
    "### <span style = \"font-family:Times New Roman\"> $H_0$ : A distribuição do índice nos países desenvolvidos é <font color = #1ba106> igual <font color = black> a dos em desenvolvimento.   \n",
    "###  <span style = \"font-family:Times New Roman\">  $H_A$ : A distribuição do índice nos países desenvolvidos é <font color = #f2820a> diferente <font color = black> da distribuição do índice nos países em desenvolvimento.   \n",
    "    \n",
    "<br>\n",
    "    \n",
    "<br>\n",
    "    "
   ]
  },
  {
   "cell_type": "markdown",
   "id": "cbf77ecf",
   "metadata": {},
   "source": [
    "A próxima etapa vai ser carregar e olhar o dataset para aferir as informações necessárias para o cálculo do teste.\n",
    "\n",
    "<br>\n"
   ]
  },
  {
   "cell_type": "code",
   "execution_count": 1,
   "id": "d349e2e1",
   "metadata": {},
   "outputs": [],
   "source": [
    "# Carregando os dados \n",
    "\n",
    "import pandas as pd\n",
    "\n",
    "women_enterpreneship = pd.read_csv('dados/women_enterpreneuship.csv', sep = ';', usecols= [1,2,5])"
   ]
  },
  {
   "cell_type": "code",
   "execution_count": 2,
   "id": "87769549",
   "metadata": {},
   "outputs": [
    {
     "name": "stdout",
     "output_type": "stream",
     "text": [
      "<class 'pandas.core.frame.DataFrame'>\n",
      "RangeIndex: 51 entries, 0 to 50\n",
      "Data columns (total 3 columns):\n",
      " #   Column                        Non-Null Count  Dtype  \n",
      "---  ------                        --------------  -----  \n",
      " 0   Country                       51 non-null     object \n",
      " 1   Level of development          51 non-null     object \n",
      " 2   Women Entrepreneurship Index  51 non-null     float64\n",
      "dtypes: float64(1), object(2)\n",
      "memory usage: 1.3+ KB\n"
     ]
    }
   ],
   "source": [
    "# Verificando informações gerais do Dataset \n",
    "\n",
    "women_enterpreneship.info()"
   ]
  },
  {
   "cell_type": "code",
   "execution_count": 3,
   "id": "2c5be99c",
   "metadata": {},
   "outputs": [
    {
     "data": {
      "text/html": [
       "<div>\n",
       "<style scoped>\n",
       "    .dataframe tbody tr th:only-of-type {\n",
       "        vertical-align: middle;\n",
       "    }\n",
       "\n",
       "    .dataframe tbody tr th {\n",
       "        vertical-align: top;\n",
       "    }\n",
       "\n",
       "    .dataframe thead th {\n",
       "        text-align: right;\n",
       "    }\n",
       "</style>\n",
       "<table border=\"1\" class=\"dataframe\">\n",
       "  <thead>\n",
       "    <tr style=\"text-align: right;\">\n",
       "      <th></th>\n",
       "      <th>Country</th>\n",
       "      <th>Level of development</th>\n",
       "      <th>Women Entrepreneurship Index</th>\n",
       "    </tr>\n",
       "  </thead>\n",
       "  <tbody>\n",
       "    <tr>\n",
       "      <th>0</th>\n",
       "      <td>Austria</td>\n",
       "      <td>Developed</td>\n",
       "      <td>54.9</td>\n",
       "    </tr>\n",
       "    <tr>\n",
       "      <th>1</th>\n",
       "      <td>Belgium</td>\n",
       "      <td>Developed</td>\n",
       "      <td>63.6</td>\n",
       "    </tr>\n",
       "    <tr>\n",
       "      <th>2</th>\n",
       "      <td>Estonia</td>\n",
       "      <td>Developed</td>\n",
       "      <td>55.4</td>\n",
       "    </tr>\n",
       "  </tbody>\n",
       "</table>\n",
       "</div>"
      ],
      "text/plain": [
       "   Country Level of development  Women Entrepreneurship Index\n",
       "0  Austria            Developed                          54.9\n",
       "1  Belgium            Developed                          63.6\n",
       "2  Estonia            Developed                          55.4"
      ]
     },
     "execution_count": 3,
     "metadata": {},
     "output_type": "execute_result"
    }
   ],
   "source": [
    "# Visualizando a tabela   \n",
    "\n",
    "women_enterpreneship.head(3)"
   ]
  },
  {
   "cell_type": "code",
   "execution_count": 4,
   "id": "171dec55",
   "metadata": {},
   "outputs": [
    {
     "data": {
      "text/plain": [
       "array(['Developed', 'Developing'], dtype=object)"
      ]
     },
     "execution_count": 4,
     "metadata": {},
     "output_type": "execute_result"
    }
   ],
   "source": [
    "# Vendo os níveis de desenvolvimento disponíveis  \n",
    "\n",
    "women_enterpreneship['Level of development'].unique()"
   ]
  },
  {
   "cell_type": "markdown",
   "id": "a26e5583",
   "metadata": {},
   "source": [
    "\n",
    "<br>\n",
    "\n",
    "Podemos ver que o dataset possui os países em Desenvolvimento e os países Desenvolvidos. Agora será feito o cálculo do ranking e uma repartição destas duas variáveis em dois conjuntos de dados diferentes para a realização do teste manualmente e automáticamente no Pingouin.\n",
    "\n",
    "<br>\n"
   ]
  },
  {
   "cell_type": "code",
   "execution_count": 5,
   "id": "772fd098",
   "metadata": {},
   "outputs": [],
   "source": [
    "# Cálculo do Ranking\n",
    "\n",
    "women_enterpreneship['Rank'] = women_enterpreneship['Women Entrepreneurship Index'].rank()"
   ]
  },
  {
   "cell_type": "code",
   "execution_count": 6,
   "id": "0165bf0d",
   "metadata": {},
   "outputs": [],
   "source": [
    "# Selecionando as variáveis de interesse \n",
    "\n",
    "developed = women_enterpreneship[women_enterpreneship['Level of development'] == 'Developed']\n",
    "developing = women_enterpreneship[women_enterpreneship['Level of development'] == 'Developing']"
   ]
  },
  {
   "cell_type": "markdown",
   "id": "b8d5434b",
   "metadata": {},
   "source": [
    "\n",
    "<br> \n",
    "\n",
    "###  <span style = \"font-family:Times New Roman\"><font color = #0f4e8c> Cálculo Manual do Teste \n",
    "\n",
    "<br> \n",
    "    "
   ]
  },
  {
   "cell_type": "code",
   "execution_count": 7,
   "id": "5f952092",
   "metadata": {},
   "outputs": [
    {
     "data": {
      "text/plain": [
       "6.0"
      ]
     },
     "execution_count": 7,
     "metadata": {},
     "output_type": "execute_result"
    }
   ],
   "source": [
    "# Quantidade de registros \n",
    "\n",
    "n1 = developed.shape[0]\n",
    "n2 = developing.shape[0]\n",
    "\n",
    "# Somando os rnkings para as amostras\n",
    "\n",
    "r1 = developed['Rank'].sum()\n",
    "r2 = developing['Rank'].sum()\n",
    "\n",
    "\n",
    "# Calculando os valores de U para a amostra 1 e 2 \n",
    "\n",
    "u1 = n1*n2 + ( n1 * (n1 + 1) )/2  - r1\n",
    "u2 = n1*n2 + ( n2 * (n2 + 1) )/2  - r2\n",
    "\n",
    "# U do teste\n",
    "\n",
    "U =  min(u1,u2)\n",
    "U"
   ]
  },
  {
   "cell_type": "markdown",
   "id": "266ee8b0",
   "metadata": {},
   "source": [
    "\n",
    "<br>\n",
    "\n",
    "Normalmente o que se faz para avaliar se $H_0$ é verdadeira é olhar a tabela de valores críticos do teste. Entretanto, como o nosso conjunto de dados apresenta um n > 20 e as tabelas costumam possuir valores críticos para n com até 20 registros, não é possível avaliar o resultado olhando a tabela. \n",
    "\n",
    "Então faremos uma aproximação da nossa distribuição à uma normal, através da média $x_U$, do desvio padrão $s_U$ e do valor $U$ obtido para a realização do teste no cálculo anterior. Desta maneira será possível avaliar os resultados. \n",
    "\n",
    "<br>\n"
   ]
  },
  {
   "cell_type": "markdown",
   "id": "84113b26",
   "metadata": {},
   "source": [
    "## $\\overline {x}_U = \\frac {n_1 n_2} {2}$"
   ]
  },
  {
   "cell_type": "code",
   "execution_count": 8,
   "id": "3633bdd1",
   "metadata": {},
   "outputs": [
    {
     "data": {
      "text/plain": [
       "324.0"
      ]
     },
     "execution_count": 8,
     "metadata": {},
     "output_type": "execute_result"
    }
   ],
   "source": [
    "xu = (n1*n2)/2\n",
    "xu"
   ]
  },
  {
   "cell_type": "markdown",
   "id": "8983fa70",
   "metadata": {},
   "source": [
    "## $ s_U = \\sqrt {\\frac {n_1 n_2 (n_1 + n_2 + 1)} {12}}$"
   ]
  },
  {
   "cell_type": "code",
   "execution_count": 9,
   "id": "414566ab",
   "metadata": {},
   "outputs": [
    {
     "data": {
      "text/plain": [
       "52.99056519796708"
      ]
     },
     "execution_count": 9,
     "metadata": {},
     "output_type": "execute_result"
    }
   ],
   "source": [
    "su = ( (n1*n2 * (n1 + n2 + 1) / 12) ) ** ( 1 / 2)\n",
    "su"
   ]
  },
  {
   "cell_type": "markdown",
   "id": "a334e6aa",
   "metadata": {},
   "source": [
    "## $ {z} = \\frac {U - \\overline {x}_U} {s_U}$"
   ]
  },
  {
   "cell_type": "code",
   "execution_count": 10,
   "id": "797f07c1",
   "metadata": {},
   "outputs": [],
   "source": [
    "z = (U - xu)/su"
   ]
  },
  {
   "cell_type": "code",
   "execution_count": 11,
   "id": "19718b50",
   "metadata": {},
   "outputs": [
    {
     "name": "stdout",
     "output_type": "stream",
     "text": [
      "O valor do Z score obtido pelo teste de Mann-Whitney é : -6.0011\n"
     ]
    }
   ],
   "source": [
    "z = round(z, 4)\n",
    "print('O valor do Z score obtido pelo teste de Mann-Whitney é :', z)"
   ]
  },
  {
   "cell_type": "code",
   "execution_count": 12,
   "id": "1a95eaf0",
   "metadata": {},
   "outputs": [
    {
     "name": "stdout",
     "output_type": "stream",
     "text": [
      "O Intervalo de 95% de Confiança vai de -1.96 até 1.96\n"
     ]
    }
   ],
   "source": [
    "from scipy.stats import norm \n",
    "print('O Intervalo de 95% de Confiança vai de',round(norm.interval(alpha=0.95)[0],4), \n",
    "      'até', round(norm.interval(alpha=0.95)[1],4))"
   ]
  },
  {
   "cell_type": "markdown",
   "id": "e9c187b6",
   "metadata": {},
   "source": [
    "\n",
    "<br>\n",
    "Podemos ver que o Z score do teste é de -6 e o intervalo de confiança vai de -1.96 à 1.96, ou seja, o valor obtido está fora do intervalo de confiança e, portanto, rejeitamos a $H_0$ de que as distribuições são iguais. \n",
    "\n",
    "Também conseguimos realizar o teste do U de Mann-Whitney através da função **<font color = #0f4e8c>mwu** <font color = black> do Pingouin. A biblioteca requer somente dois parâmetros para a realização do teste, que são as amostras independentes (no nosso caso, \"developing\" e \"developed\"). \n",
    "    \n",
    "O valor do teste $U$ que é apresentado pela biblioteca não é o menor entre as duas distribuições, mas sim aquele que é colocado como o primeiro argumento. Mais detalhes sobre os parâmetros da função podem ser acessados no site do **[pacote.](https://pingouin-stats.org/generated/pingouin.mwu.html#pingouin.mwu)**\n",
    "\n",
    "\n",
    "De qualquer maneira, não precisamos do valor U do teste e nem do valor crítico para inferir resultados, isso porque a função apresenta o resultado do p-valor, o que permite a interpretação do teste.\n",
    "\n",
    "<br>\n"
   ]
  },
  {
   "cell_type": "code",
   "execution_count": 13,
   "id": "3711e6d2",
   "metadata": {},
   "outputs": [
    {
     "data": {
      "text/html": [
       "<div>\n",
       "<style scoped>\n",
       "    .dataframe tbody tr th:only-of-type {\n",
       "        vertical-align: middle;\n",
       "    }\n",
       "\n",
       "    .dataframe tbody tr th {\n",
       "        vertical-align: top;\n",
       "    }\n",
       "\n",
       "    .dataframe thead th {\n",
       "        text-align: right;\n",
       "    }\n",
       "</style>\n",
       "<table border=\"1\" class=\"dataframe\">\n",
       "  <thead>\n",
       "    <tr style=\"text-align: right;\">\n",
       "      <th></th>\n",
       "      <th>U-val</th>\n",
       "      <th>alternative</th>\n",
       "      <th>p-val</th>\n",
       "      <th>RBC</th>\n",
       "      <th>CLES</th>\n",
       "    </tr>\n",
       "  </thead>\n",
       "  <tbody>\n",
       "    <tr>\n",
       "      <th>MWU</th>\n",
       "      <td>6.0</td>\n",
       "      <td>two-sided</td>\n",
       "      <td>2.075716e-09</td>\n",
       "      <td>0.981481</td>\n",
       "      <td>0.009259</td>\n",
       "    </tr>\n",
       "  </tbody>\n",
       "</table>\n",
       "</div>"
      ],
      "text/plain": [
       "     U-val alternative         p-val       RBC      CLES\n",
       "MWU    6.0   two-sided  2.075716e-09  0.981481  0.009259"
      ]
     },
     "execution_count": 13,
     "metadata": {},
     "output_type": "execute_result"
    }
   ],
   "source": [
    "# Importando a biblioteca do Pingouin e realizando o teste \n",
    "\n",
    "import pingouin as pg\n",
    "\n",
    "pg.mwu(developing['Women Entrepreneurship Index'], developed['Women Entrepreneurship Index'])"
   ]
  },
  {
   "cell_type": "markdown",
   "id": "37f20bc8",
   "metadata": {},
   "source": [
    "\n",
    "<br>\n",
    "\n",
    "Como o p-valor é de 0,00000000207, vemos que o resultado do teste é extremamente significativo e que as distribuições são completamente distintas. Para exemplificar, a chance de obter valores iguais ou superiores aos apresentados pelas distribuições é equivalente a duas em um bilhão. Agora iremos visualizar estas distribuições através de boxplots.\n",
    "\n",
    "<br>\n"
   ]
  },
  {
   "cell_type": "markdown",
   "id": "6c786a66",
   "metadata": {},
   "source": [
    "###  <span style = \"font-family:Times New Roman\"><font color = #0f4e8c> Visualizando as Distribuições \n",
    "\n",
    "<br> \n",
    "    "
   ]
  },
  {
   "cell_type": "code",
   "execution_count": 14,
   "id": "37a324b5",
   "metadata": {},
   "outputs": [],
   "source": [
    "# importando bibliotecas para construir a visualização \n",
    "\n",
    "import seaborn as sns\n",
    "import matplotlib.pyplot as plt\n",
    "import numpy as np"
   ]
  },
  {
   "cell_type": "code",
   "execution_count": 15,
   "id": "1a5690d5",
   "metadata": {},
   "outputs": [
    {
     "data": {
      "image/png": "[encoded data removed]",
      "text/plain": [
       "<Figure size 576x432 with 1 Axes>"
      ]
     },
     "metadata": {
      "needs_background": "light"
     },
     "output_type": "display_data"
    }
   ],
   "source": [
    "# Configurações de legenda\n",
    "\n",
    "csfont = {'fontname':'Times New Roman'}\n",
    "paises = ['Desenvolvidos', 'Em Desenvolvimento']\n",
    "paleta = ['#04a3c7','#8a9496']\n",
    "\n",
    "# Configurações da formatação da figura\n",
    "\n",
    "fig = plt.gcf()\n",
    "ax = plt.subplot()\n",
    "ax.spines[['right','left','top','bottom']].set_visible(False)\n",
    "fig.set_size_inches(8, 6)\n",
    "sns.set_theme(style=\"white\")\n",
    "\n",
    "# Criando o boxplot\n",
    "\n",
    "sns.boxplot(x = 'Level of development', y = 'Women Entrepreneurship Index', data = women_enterpreneship, \n",
    "            width = 0.18, palette =paleta, linewidth= 3 )\n",
    "\n",
    "\n",
    "\n",
    "# Atribuindo e modificando títulos \n",
    "\n",
    "plt.xlabel('')\n",
    "plt.ylabel('')\n",
    "plt.yticks(np.arange(30,90,10))\n",
    "plt.xticks([0,1],labels = paises,  **csfont,fontsize = 14, y = - 0.02)\n",
    "plt.title('Índice de Empreendedorismo Feminino', **csfont,fontsize = 22, y = 1.12 )\n",
    "\n",
    "\n",
    "plt.show()"
   ]
  },
  {
   "cell_type": "markdown",
   "id": "132a9ed0",
   "metadata": {},
   "source": [
    "<br> \n",
    "\n",
    "**Conclusão :** Podemos inferir que a diferença das distribuições dos índices de empreendedorismo feminino dos países desenvolvidos com relação aos países em desenvolvimento não é aleatória. \n",
    "\n",
    "A divergência das distribuições, que pode ser visualizada através do boxplot acima, é estatísticamente significativa a um nível de 95 % de confiança. Inclusive, os níveis de confiança poderiam ser aumentados consideravelmente e ainda assim rejeitaríamos a hipótese nula de que as distribuições são idênticas. \n",
    "\n",
    "<br> \n"
   ]
  },
  {
   "cell_type": "markdown",
   "id": "e69cfefc",
   "metadata": {},
   "source": [
    "<br>\n",
    "\n",
    "##   <span style = \"font-family:Times New Roman\"><font color = #0f4e8c> Exercício II \n",
    "    \n",
    "<br>\n",
    "   "
   ]
  },
  {
   "cell_type": "markdown",
   "id": "e99dabb7",
   "metadata": {},
   "source": [
    "<br>\n",
    "\n",
    "No segundo exercício iremos avaliar o resultado da implementação de um tratamento para artrítes reumatóide realizado no estudo de Koch & Edwards (1988) . Nele houveram pacientes que receberam um placebo e houveram pacientes que receberam o remédio para o tratamento da artríte. \n",
    "\n",
    "Iremos avaliar se existiu, para os pacientes do sexo masculino, um efeito positivo do tratamento proposto.\n",
    "\n",
    "\n",
    "O nível de significância a ser considerado é de 5 %. \n",
    "\n",
    "<br>\n"
   ]
  },
  {
   "cell_type": "markdown",
   "id": "bbe9615c",
   "metadata": {},
   "source": [
    "<br>\n",
    "\n",
    "###  <span style = \"font-family:Times New Roman\"><font color = #0f4e8c> Elaboração da Hipótese \n",
    "\n",
    "<br>    \n"
   ]
  },
  {
   "cell_type": "markdown",
   "id": "3f00dea1",
   "metadata": {},
   "source": [
    "### <span style = \"font-family:Times New Roman\"> $H_0$ : A distribuição dos pacientes masculinos que receberam o Placebo é <font color = #1ba106> igual <font color = black> a distribuição dos que receberam tratamento.   \n",
    "###  <span style = \"font-family:Times New Roman\">  $H_1$ : A distribuição dos pacientes masculinos que receberam o Placebo é <font color = #f2820a> diferente <font color = black> da distribuição dos que receberam tratamento.  \n",
    "    \n",
    "<br>\n",
    "    \n",
    "<br>\n",
    "    "
   ]
  },
  {
   "cell_type": "code",
   "execution_count": 16,
   "id": "e9b74c40",
   "metadata": {},
   "outputs": [],
   "source": [
    "# Carregando o conjunto de dados\n",
    "\n",
    "arthritis_data = pd.read_csv('dados/Arthritis.csv', usecols = [2,3,4,5])"
   ]
  },
  {
   "cell_type": "code",
   "execution_count": 17,
   "id": "9e412453",
   "metadata": {},
   "outputs": [
    {
     "data": {
      "text/html": [
       "<div>\n",
       "<style scoped>\n",
       "    .dataframe tbody tr th:only-of-type {\n",
       "        vertical-align: middle;\n",
       "    }\n",
       "\n",
       "    .dataframe tbody tr th {\n",
       "        vertical-align: top;\n",
       "    }\n",
       "\n",
       "    .dataframe thead th {\n",
       "        text-align: right;\n",
       "    }\n",
       "</style>\n",
       "<table border=\"1\" class=\"dataframe\">\n",
       "  <thead>\n",
       "    <tr style=\"text-align: right;\">\n",
       "      <th></th>\n",
       "      <th>Treatment</th>\n",
       "      <th>Sex</th>\n",
       "      <th>Age</th>\n",
       "      <th>Improved</th>\n",
       "    </tr>\n",
       "  </thead>\n",
       "  <tbody>\n",
       "    <tr>\n",
       "      <th>0</th>\n",
       "      <td>Treated</td>\n",
       "      <td>Male</td>\n",
       "      <td>27</td>\n",
       "      <td>Some</td>\n",
       "    </tr>\n",
       "    <tr>\n",
       "      <th>1</th>\n",
       "      <td>Treated</td>\n",
       "      <td>Male</td>\n",
       "      <td>29</td>\n",
       "      <td>None</td>\n",
       "    </tr>\n",
       "    <tr>\n",
       "      <th>2</th>\n",
       "      <td>Treated</td>\n",
       "      <td>Male</td>\n",
       "      <td>30</td>\n",
       "      <td>None</td>\n",
       "    </tr>\n",
       "    <tr>\n",
       "      <th>3</th>\n",
       "      <td>Treated</td>\n",
       "      <td>Male</td>\n",
       "      <td>32</td>\n",
       "      <td>Marked</td>\n",
       "    </tr>\n",
       "    <tr>\n",
       "      <th>4</th>\n",
       "      <td>Treated</td>\n",
       "      <td>Male</td>\n",
       "      <td>46</td>\n",
       "      <td>Marked</td>\n",
       "    </tr>\n",
       "    <tr>\n",
       "      <th>...</th>\n",
       "      <td>...</td>\n",
       "      <td>...</td>\n",
       "      <td>...</td>\n",
       "      <td>...</td>\n",
       "    </tr>\n",
       "    <tr>\n",
       "      <th>79</th>\n",
       "      <td>Placebo</td>\n",
       "      <td>Female</td>\n",
       "      <td>66</td>\n",
       "      <td>None</td>\n",
       "    </tr>\n",
       "    <tr>\n",
       "      <th>80</th>\n",
       "      <td>Placebo</td>\n",
       "      <td>Female</td>\n",
       "      <td>66</td>\n",
       "      <td>None</td>\n",
       "    </tr>\n",
       "    <tr>\n",
       "      <th>81</th>\n",
       "      <td>Placebo</td>\n",
       "      <td>Female</td>\n",
       "      <td>66</td>\n",
       "      <td>Some</td>\n",
       "    </tr>\n",
       "    <tr>\n",
       "      <th>82</th>\n",
       "      <td>Placebo</td>\n",
       "      <td>Female</td>\n",
       "      <td>68</td>\n",
       "      <td>Some</td>\n",
       "    </tr>\n",
       "    <tr>\n",
       "      <th>83</th>\n",
       "      <td>Placebo</td>\n",
       "      <td>Female</td>\n",
       "      <td>74</td>\n",
       "      <td>Marked</td>\n",
       "    </tr>\n",
       "  </tbody>\n",
       "</table>\n",
       "<p>84 rows × 4 columns</p>\n",
       "</div>"
      ],
      "text/plain": [
       "   Treatment     Sex  Age Improved\n",
       "0    Treated    Male   27     Some\n",
       "1    Treated    Male   29     None\n",
       "2    Treated    Male   30     None\n",
       "3    Treated    Male   32   Marked\n",
       "4    Treated    Male   46   Marked\n",
       "..       ...     ...  ...      ...\n",
       "79   Placebo  Female   66     None\n",
       "80   Placebo  Female   66     None\n",
       "81   Placebo  Female   66     Some\n",
       "82   Placebo  Female   68     Some\n",
       "83   Placebo  Female   74   Marked\n",
       "\n",
       "[84 rows x 4 columns]"
      ]
     },
     "execution_count": 17,
     "metadata": {},
     "output_type": "execute_result"
    }
   ],
   "source": [
    "# Visualizando os dados \n",
    "\n",
    "arthritis_data"
   ]
  },
  {
   "cell_type": "markdown",
   "id": "b2764eba",
   "metadata": {},
   "source": [
    "<br>\n",
    "\n",
    "Podemos ver que será necessário realizar uma adequação do conjunto de dados antes da realização do teste. \n",
    "\n",
    "A coluna \"Sex\", por exemplo, possui o resultado de homens e mulheres, mas o exercício pediu para avaliar o resultado do tratamento somente nos pacientes masculinos. Além disso, a variável \"Improved\", que demonstra qual foi o efeito do tratamento, é categórica e não númerica.\n",
    "\n",
    "Portanto, para realizar o teste do U de Mann-Whitney, iremos primeiro aplicar valores às variáveis categóricas e, após isso, iremos filtrar o dataset para os valores do sexo masculino.\n",
    "\n",
    "Os valores da coluna \"Improved\" que são iguais à \"None\", indicam que não houve efeito do tratamento, os que são iguais à \"Some\" indicam que houve algum efeito, e os que são iguais à \"Marked\" indicam que houve um efeito acentuado do tratamento.\n",
    "\n",
    "Para avaliar o efeito do tratamento quantitativamente iremos colocar que os valores de \"None\" são iguais 0, \"Some\" são iguais 0.5 e \"Marked\" são iguais 1. Estes valores ficarão atribuídos na coluna \"Results\".\n",
    "\n",
    "<br>\n"
   ]
  },
  {
   "cell_type": "code",
   "execution_count": 18,
   "id": "d068fb96",
   "metadata": {},
   "outputs": [],
   "source": [
    "categories = []\n",
    "\n",
    "# Atribuindo valores ao resultado do tratamento\n",
    "\n",
    "for result in arthritis_data['Improved'] :\n",
    "    \n",
    "    if result == 'None' :\n",
    "        categories.append(0)\n",
    "        \n",
    "    elif result == 'Some' :\n",
    "        categories.append(0.5)\n",
    "        \n",
    "    else :\n",
    "        categories.append(1)"
   ]
  },
  {
   "cell_type": "code",
   "execution_count": 19,
   "id": "d045094f",
   "metadata": {},
   "outputs": [],
   "source": [
    "# Passando os valores númericos do efeito do tratamento para a coluna \"Results\"\n",
    "\n",
    "arthritis_data['Results'] = categories"
   ]
  },
  {
   "cell_type": "code",
   "execution_count": 20,
   "id": "00176284",
   "metadata": {
    "scrolled": false
   },
   "outputs": [
    {
     "data": {
      "text/html": [
       "<div>\n",
       "<style scoped>\n",
       "    .dataframe tbody tr th:only-of-type {\n",
       "        vertical-align: middle;\n",
       "    }\n",
       "\n",
       "    .dataframe tbody tr th {\n",
       "        vertical-align: top;\n",
       "    }\n",
       "\n",
       "    .dataframe thead th {\n",
       "        text-align: right;\n",
       "    }\n",
       "</style>\n",
       "<table border=\"1\" class=\"dataframe\">\n",
       "  <thead>\n",
       "    <tr style=\"text-align: right;\">\n",
       "      <th></th>\n",
       "      <th>Treatment</th>\n",
       "      <th>Sex</th>\n",
       "      <th>Age</th>\n",
       "      <th>Improved</th>\n",
       "      <th>Results</th>\n",
       "    </tr>\n",
       "  </thead>\n",
       "  <tbody>\n",
       "    <tr>\n",
       "      <th>0</th>\n",
       "      <td>Treated</td>\n",
       "      <td>Male</td>\n",
       "      <td>27</td>\n",
       "      <td>Some</td>\n",
       "      <td>0.5</td>\n",
       "    </tr>\n",
       "    <tr>\n",
       "      <th>1</th>\n",
       "      <td>Treated</td>\n",
       "      <td>Male</td>\n",
       "      <td>29</td>\n",
       "      <td>None</td>\n",
       "      <td>0.0</td>\n",
       "    </tr>\n",
       "    <tr>\n",
       "      <th>2</th>\n",
       "      <td>Treated</td>\n",
       "      <td>Male</td>\n",
       "      <td>30</td>\n",
       "      <td>None</td>\n",
       "      <td>0.0</td>\n",
       "    </tr>\n",
       "  </tbody>\n",
       "</table>\n",
       "</div>"
      ],
      "text/plain": [
       "  Treatment   Sex  Age Improved  Results\n",
       "0   Treated  Male   27     Some      0.5\n",
       "1   Treated  Male   29     None      0.0\n",
       "2   Treated  Male   30     None      0.0"
      ]
     },
     "execution_count": 20,
     "metadata": {},
     "output_type": "execute_result"
    }
   ],
   "source": [
    "arthritis_data.head(3)"
   ]
  },
  {
   "cell_type": "markdown",
   "id": "f0ae6b50",
   "metadata": {},
   "source": [
    "<br>\n",
    "\n",
    "Agora que cada uma das categorias do resultado do tratamento possui um valor númerico atribuído, iremos realizar a filtragem do conjunto de dados, para os pacientes homens que receberam o placebo e para os pacientes homens que  receberam o tratamento.\n",
    "\n",
    "Após isso conseguiremos realizar o teste no pingoun. \n",
    "\n",
    "<br> \n"
   ]
  },
  {
   "cell_type": "code",
   "execution_count": 21,
   "id": "435474d7",
   "metadata": {},
   "outputs": [],
   "source": [
    "# Filtrando os dados\n",
    "\n",
    "treated_man =  arthritis_data.query('Treatment == \"Treated\" & Sex == \"Male\"')\n",
    "non_treated_man =  arthritis_data.query('Treatment == \"Placebo\" & Sex == \"Male\"')"
   ]
  },
  {
   "cell_type": "code",
   "execution_count": 22,
   "id": "66debb5f",
   "metadata": {
    "scrolled": true
   },
   "outputs": [
    {
     "data": {
      "text/html": [
       "<div>\n",
       "<style scoped>\n",
       "    .dataframe tbody tr th:only-of-type {\n",
       "        vertical-align: middle;\n",
       "    }\n",
       "\n",
       "    .dataframe tbody tr th {\n",
       "        vertical-align: top;\n",
       "    }\n",
       "\n",
       "    .dataframe thead th {\n",
       "        text-align: right;\n",
       "    }\n",
       "</style>\n",
       "<table border=\"1\" class=\"dataframe\">\n",
       "  <thead>\n",
       "    <tr style=\"text-align: right;\">\n",
       "      <th></th>\n",
       "      <th>U-val</th>\n",
       "      <th>alternative</th>\n",
       "      <th>p-val</th>\n",
       "      <th>RBC</th>\n",
       "      <th>CLES</th>\n",
       "    </tr>\n",
       "  </thead>\n",
       "  <tbody>\n",
       "    <tr>\n",
       "      <th>MWU</th>\n",
       "      <td>107.5</td>\n",
       "      <td>two-sided</td>\n",
       "      <td>0.045177</td>\n",
       "      <td>-0.396104</td>\n",
       "      <td>0.698052</td>\n",
       "    </tr>\n",
       "  </tbody>\n",
       "</table>\n",
       "</div>"
      ],
      "text/plain": [
       "     U-val alternative     p-val       RBC      CLES\n",
       "MWU  107.5   two-sided  0.045177 -0.396104  0.698052"
      ]
     },
     "execution_count": 22,
     "metadata": {},
     "output_type": "execute_result"
    }
   ],
   "source": [
    "# Realizando o teste \n",
    "\n",
    "pg.mwu(treated_man['Results'], non_treated_man['Results'])"
   ]
  },
  {
   "cell_type": "markdown",
   "id": "f7d639b7",
   "metadata": {},
   "source": [
    "<br>\n",
    "\n",
    "Podemos observar que o resultado do p-valor é 0.045 e que portanto, os resultados não são aleatórios a um nível de 5 % de significância, isso indica que há diferença entre as duas distribuições. Iremos explorar visualmente estes resultados.  \n",
    "\n",
    "<br>\n"
   ]
  },
  {
   "cell_type": "code",
   "execution_count": 23,
   "id": "35d78bf1",
   "metadata": {},
   "outputs": [
    {
     "data": {
      "image/png": "[encoded data removed]",
      "text/plain": [
       "<Figure size 1008x360 with 1 Axes>"
      ]
     },
     "metadata": {},
     "output_type": "display_data"
    }
   ],
   "source": [
    "man_data  =  arthritis_data.query('Sex == \"Male\"') # dados para o plot \n",
    "\n",
    "# Configurações de legenda\n",
    "\n",
    "csfont = {'fontname':'Times New Roman'}\n",
    "pacientes = ['Com Tratamento', 'Sem Tratamento']\n",
    "paleta = ['#048c0d','#d90209']\n",
    "\n",
    "# Configurações da formatação da figura\n",
    "\n",
    "fig = plt.gcf()\n",
    "fig.set_size_inches(14, 5)\n",
    "\n",
    "# Formatando eixos\n",
    "\n",
    "ax = plt.subplot()\n",
    "ax.spines[['right','left','top','bottom']].set_visible(False)\n",
    "\n",
    "\n",
    "# Criando o violinplot\n",
    "\n",
    "sns.violinplot(\n",
    "    x = 'Treatment', y = 'Results', data = man_data,\n",
    "    width = 0.5, palette = paleta, linewidth= 2\n",
    "    \n",
    ")\n",
    "\n",
    "\n",
    "\n",
    "\n",
    "# Atribuindo e modificando títulos \n",
    "\n",
    "plt.xlabel('')\n",
    "plt.ylabel('')\n",
    "plt.xticks([0,1],labels = pacientes, **csfont,fontsize = 15 , y = - 0.07)\n",
    "plt.yticks(x = 0.05)\n",
    "\n",
    "plt.title('Distribuição do Efeito nos Pacientes ', **csfont,fontsize = 25, y = 1.1 )\n",
    "\n",
    "\n",
    "plt.show()"
   ]
  },
  {
   "cell_type": "markdown",
   "id": "071bb0ee",
   "metadata": {},
   "source": [
    "\n",
    "<br>\n",
    "\n",
    "No violinplot, **<font color = #d90209>observa-se que a distribuição do efeito nos pacientes sem tratamento tende a ter uma concentração  elevada na região do 0**  <font color = black> , indicando que o Placebo não teve efeito na melhora do quadro dos pacientes. \n",
    "\n",
    "Já na distribuição dos pacientes que receberam o tratamento, nota-se que há uma concentração na região do zero, mas ela é mais tenue do que na segunda distribuição e **<font color = #048c0d>é mais larga do que na segunda distribuição na região do 1** <font color = black>, que indica um efeito positivo do tratamento. \n",
    "\n",
    "<br>\n"
   ]
  },
  {
   "cell_type": "markdown",
   "id": "75d8c472",
   "metadata": {},
   "source": [
    "\n",
    "<br>\n",
    "\n",
    "**Conclusão** : Ao realizar o teste do U de Mann-Whitney com um nível de 5% significância, **rejeitamos a hipótese nula de que as distribuições são iguais**. \n",
    "\n",
    "Podemos ver, através do violinplot, que aqueles que receberam o placebo possuem uma tendência maior a não ter nenhuma espécie de resultado quando comparados com aqueles que receberam o tratamento. \n",
    "\n",
    "<br>\n",
    "\n"
   ]
  },
  {
   "cell_type": "markdown",
   "id": "50627971",
   "metadata": {},
   "source": [
    "--------------\n",
    "<br>\n",
    "\n",
    "##   <font color = #0f4e8c> <span style = \"font-family:Times New Roman\"> Sintetizando"
   ]
  },
  {
   "cell_type": "markdown",
   "id": "c1eb98ea",
   "metadata": {},
   "source": [
    "<br>\n",
    "\n",
    "<br>\n",
    "\n",
    "Nesta aula vimos os seguintes pontos :\n",
    "\n",
    "<br>\n",
    "\n",
    "-  **<font color=#0f4e8c> O que é o Teste do U de Mann-Whitney** <font color=black> e quais são as situações em que ele pode ser útil;\n",
    "<br>\n",
    "\n",
    "- **<font color=#0f4e8c> Quais são os pressupostos da elaboração da hipótese nula do teste**<font color=black> e como é feito o seu cálculo;\n",
    "<br>\n",
    "\n",
    "- **<font color=#0f4e8c> Como interpretar os resultados**<font color= black> obtidos através do pingouin;\n"
   ]
  },
  {
   "cell_type": "markdown",
   "id": "97e3d6a0",
   "metadata": {},
   "source": [
    "-----------------------------\n",
    "<br>\n",
    "\n",
    "##   <span style = \"font-family:Times New Roman\"><font color = #0f4e8c> Referências     "
   ]
  },
  {
   "cell_type": "markdown",
   "id": "4ceed73a",
   "metadata": {},
   "source": [
    "<br>\n",
    "\n",
    "- https://www.kaggle.com/datasets/babyoda/women-entrepreneurship-and-labor-force\n",
    "<br>\n",
    "\n",
    "- **https://search.r-project.org/CRAN/refmans/vcd/html/Arthritis.html**\n",
    "<br>\n",
    "\n",
    "- Corder G. W., Foreman D. I., Nonparametric Statistics : A Step-by-Step Approach, 2014\n",
    "<br>\n",
    "\n",
    "- McKean J.,Kloke. J., Nonparametric Statistical Methods Using R, 2014\n",
    "<br>\n",
    "\n",
    "- **[pingouin](https://www.google.com/url?sa=t&rct=j&q=&esrc=s&source=web&cd=&cad=rja&uact=8&ved=2ahUKEwinxqPMp9_2AhW4lJUCHRfrCBUQFnoECA0QAQ&url=https%3A%2F%2Fpingouin-stats.org%2F&usg=AOvVaw00YU2dItlmufAOazglfpaf_)**\n",
    "<br>\n"
   ]
  },
  {
   "cell_type": "markdown",
   "id": "c07a7536",
   "metadata": {},
   "source": [
    "##   <span style = \"font-family:Times New Roman\"><font color = #0f4e8c> Material Elaborado Por "
   ]
  },
  {
   "cell_type": "markdown",
   "id": "c67a9b2d",
   "metadata": {},
   "source": [
    "<tr>\n",
    "<td> <img src=\"Imagens/Thiago.png\" width = \"150\" align = \"left\"/> </td>\n",
    "</tr>\n",
    "\n",
    "<br>\n"
   ]
  },
  {
   "cell_type": "markdown",
   "id": "8234d95f",
   "metadata": {},
   "source": [
    "<br>\n",
    "\n",
    "\n",
    "<br>\n",
    "\n",
    "<tr>\n",
    "<td> <a href=\"https://www.linkedin.com/in/thiagopd/\" > <img src = \"Imagens/linkedin.png\" width = \"25\"  align = \"left\" /> </a>  </td>             <td> <a href=\"https://github.com/tp-duarte\" > <img src = \"Imagens/GitHub-Logo.png\" width = \"60\" height = \"100\" align = \"left\" /> </a>  </td>  </tr>\n",
    "\n",
    "<pre> <font size =  5 align = 'up' > Thiago Duarte "
   ]
  }
 ],
 "metadata": {
  "kernelspec": {
   "display_name": "Python 3 (ipykernel)",
   "language": "python",
   "name": "python3"
  },
  "language_info": {
   "codemirror_mode": {
    "name": "ipython",
    "version": 3
   },
   "file_extension": ".py",
   "mimetype": "text/x-python",
   "name": "python",
   "nbconvert_exporter": "python",
   "pygments_lexer": "ipython3",
   "version": "3.9.5"
  }
 },
 "nbformat": 4,
 "nbformat_minor": 5
}
