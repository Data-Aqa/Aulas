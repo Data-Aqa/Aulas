{
 "cells": [
  {
   "cell_type": "code",
   "execution_count": 23,
   "id": "f88f10dc",
   "metadata": {},
   "outputs": [
    {
     "name": "stderr",
     "output_type": "stream",
     "text": [
      "also installing the dependencies 'zoo', 'lmtest'\n",
      "\n"
     ]
    },
    {
     "name": "stdout",
     "output_type": "stream",
     "text": [
      "\n",
      "  There are binary versions available but the source versions are later:\n",
      "       binary source needs_compilation\n",
      "lmtest 0.9-38 0.9-40              TRUE\n",
      "vcd     1.4-8  1.4-9             FALSE\n",
      "\n",
      "  Binaries will be installed\n",
      "package 'zoo' successfully unpacked and MD5 sums checked\n",
      "package 'lmtest' successfully unpacked and MD5 sums checked\n",
      "\n",
      "The downloaded binary packages are in\n",
      "\tC:\\Users\\user-07\\AppData\\Local\\Temp\\RtmpmGUUSt\\downloaded_packages\n"
     ]
    },
    {
     "name": "stderr",
     "output_type": "stream",
     "text": [
      "installing the source package 'vcd'\n",
      "\n"
     ]
    }
   ],
   "source": [
    "# Importando pacote Visualizing Categorical data \n",
    "\n",
    "install.packages(\"vcd\")"
   ]
  },
  {
   "cell_type": "code",
   "execution_count": 24,
   "id": "a2d719e2",
   "metadata": {},
   "outputs": [
    {
     "name": "stderr",
     "output_type": "stream",
     "text": [
      "Loading required package: grid\n"
     ]
    }
   ],
   "source": [
    "library(vcd)"
   ]
  },
  {
   "cell_type": "code",
   "execution_count": 25,
   "id": "3066370e",
   "metadata": {},
   "outputs": [],
   "source": [
    "data(\"Arthritis\")"
   ]
  },
  {
   "cell_type": "code",
   "execution_count": 39,
   "id": "4df67875",
   "metadata": {
    "scrolled": true
   },
   "outputs": [],
   "source": [
    "write.csv(Arthritis, file = 'C:\\\\Users\\\\user-07\\\\aulas\\\\estatistica\\\\testes de hipotese\\\\mann_whitney\\\\dados\\\\Arthritis.csv')"
   ]
  }
 ],
 "metadata": {
  "kernelspec": {
   "display_name": "R",
   "language": "R",
   "name": "ir"
  },
  "language_info": {
   "codemirror_mode": "r",
   "file_extension": ".r",
   "mimetype": "text/x-r-source",
   "name": "R",
   "pygments_lexer": "r",
   "version": "3.6.3"
  }
 },
 "nbformat": 4,
 "nbformat_minor": 5
}
