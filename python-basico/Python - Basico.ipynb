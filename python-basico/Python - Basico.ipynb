{
 "cells": [
  {
   "cell_type": "markdown",
   "id": "bgvIjZm5OX7Y",
   "metadata": {
    "id": "bgvIjZm5OX7Y"
   },
   "source": [
    "![Logo Aulas.png](data:image/png;base64,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)"
   ]
  },
  {
   "cell_type": "markdown",
   "id": "eb837267",
   "metadata": {
    "id": "eb837267"
   },
   "source": [
    "# <font color = #21618C> Python"
   ]
  },
  {
   "cell_type": "markdown",
   "id": "graphic-reviewer",
   "metadata": {
    "id": "graphic-reviewer"
   },
   "source": [
    "---\n",
    "Python é uma linguagem de programação de alto nível. Foi criada em 1991 por Guido van Rossum e atualmente possui desenvolvimento comunitário."
   ]
  },
  {
   "cell_type": "markdown",
   "id": "fallen-repeat",
   "metadata": {
    "id": "fallen-repeat"
   },
   "source": [
    "### <font color = #21618C>Explicando o termo...\n",
    "\n",
    "uma linguagem ser de alto nível significa que ela possui um alto grau de *abstração*, ou seja, a forma como ela é escrita está muito mais próxima da forma como nós escrevemos do que da forma como a computador escreve (explicando de uma maneira bem simples).\n",
    "Esse é um dos (vários) motivos pelos quais ela é tão usada hoje em dia no mercado, é de fácil aprendezido e seus códigos podem ser facilmente interpretados e reproduzidos."
   ]
  },
  {
   "cell_type": "markdown",
   "id": "7a77aeba",
   "metadata": {
    "id": "7a77aeba"
   },
   "source": [
    "## <font color = #21618C>Python como Calculadora"
   ]
  },
  {
   "cell_type": "markdown",
   "id": "deluxe-angel",
   "metadata": {
    "id": "deluxe-angel"
   },
   "source": [
    "Uma das muitas funcionalidades do python é que ele pode ser usado como uma calculadora. Nele conseguimos fazer todas as operações básicas e até as mais complexas, mas no momento vamos focar nas mais básicas.\n",
    "\n",
    "Números, no python, são tratados de duas formas: como inteiros - `ints` - ou como\n",
    "`floats`. Os `ints`, como o nome sugere, são números inteiros. Já os `floats` são os números\n",
    "\"quebrados\". Seu nome vem de floating point.\n",
    "\n",
    "Nos exemplos abaixo vocês irão realizar operações básicas"
   ]
  },
  {
   "cell_type": "code",
   "execution_count": null,
   "id": "improved-somerset",
   "metadata": {
    "id": "improved-somerset"
   },
   "outputs": [],
   "source": [
    "# Adição\n",
    "\n",
    "2 + 4"
   ]
  },
  {
   "cell_type": "code",
   "execution_count": null,
   "id": "particular-parking",
   "metadata": {
    "id": "particular-parking"
   },
   "outputs": [],
   "source": [
    "# Multiplicação\n",
    "\n",
    "2 * 2"
   ]
  },
  {
   "cell_type": "code",
   "execution_count": null,
   "id": "light-newsletter",
   "metadata": {
    "id": "light-newsletter"
   },
   "outputs": [],
   "source": [
    "# Divisão\n",
    "\n",
    "100 / 3"
   ]
  },
  {
   "cell_type": "code",
   "execution_count": null,
   "id": "trained-healing",
   "metadata": {
    "id": "trained-healing"
   },
   "outputs": [],
   "source": [
    "# Divisão Inteira\n",
    "\n",
    "100 // 3"
   ]
  },
  {
   "cell_type": "code",
   "execution_count": null,
   "id": "needed-kansas",
   "metadata": {
    "id": "needed-kansas"
   },
   "outputs": [],
   "source": [
    "# Resto\n",
    "\n",
    "16 % 7"
   ]
  },
  {
   "cell_type": "markdown",
   "id": "ae5c04df",
   "metadata": {
    "id": "ae5c04df"
   },
   "source": [
    "# <font color = #21618C> Python lidando com textos e caracteres\n",
    "---"
   ]
  },
  {
   "cell_type": "markdown",
   "id": "american-bachelor",
   "metadata": {
    "id": "american-bachelor"
   },
   "source": [
    "Além de números, o python também aceita outros caracteres. As `strings` são definidas por quaisquer caracteres que estão entre aspas (o python aceita aspas simples ' ' ou aspas duplas \" \"). Ao contrário dos `ints` e `floats`, que representam valores numéricos, as `strings` representam textos.\n",
    "\n",
    "Vale dizer: números podem ser representados como textos, por isso é importante saber o tipo de dado com o qual você está trabalhando!"
   ]
  },
  {
   "cell_type": "code",
   "execution_count": null,
   "id": "global-relevance",
   "metadata": {
    "id": "global-relevance"
   },
   "outputs": [],
   "source": [
    "'Bem vindos à Data.Aqa!'"
   ]
  },
  {
   "cell_type": "markdown",
   "id": "lined-chuck",
   "metadata": {
    "id": "lined-chuck"
   },
   "source": [
    "Também podemos fazer operações com `strings`, porém são mais restritas e funcionam de maneira diferente. A adição de `strings` leva o nome de *concatenação*, e ela basicamente 'cola' o final da primeira `string` ao começo da segunda"
   ]
  },
  {
   "cell_type": "code",
   "execution_count": null,
   "id": "irish-cathedral",
   "metadata": {
    "id": "irish-cathedral"
   },
   "outputs": [],
   "source": [
    "'Olá ' + 'Unesp ' + 'Araraquara'"
   ]
  },
  {
   "cell_type": "markdown",
   "id": "english-writer",
   "metadata": {
    "id": "english-writer"
   },
   "source": [
    "Como pudemos ver, os espaços que estão dentro das aspas também são considerados caracteres para o python (lembrem-se disso!)"
   ]
  },
  {
   "cell_type": "markdown",
   "id": "405c210d",
   "metadata": {
    "id": "405c210d"
   },
   "source": [
    "# <font color = #21618C>Declarando variáveis\n",
    "---"
   ]
  },
  {
   "cell_type": "markdown",
   "id": "provincial-retreat",
   "metadata": {
    "id": "provincial-retreat"
   },
   "source": [
    "Como vimos, podemos fazer várias operações com os tipos de dados que o python oferece. Porém, da maneira como fizemos, a execução não é nada eficiente. Por isso, nós podemos declarar variáveis para armazenar qualquer valor que nós quisermos, sejam eles `int`, `float` ou `strings`!\n",
    "Declarando variáveis podemos realizar operações muito mais complexas, e vocês vão perceber que, a partir de agora, tudo que fizermos será com variáveis que nós criamos!"
   ]
  },
  {
   "cell_type": "code",
   "execution_count": null,
   "id": "ideal-pottery",
   "metadata": {
    "id": "ideal-pottery"
   },
   "outputs": [],
   "source": [
    "# criando três variáveis: x, y e z.\n",
    "\n",
    "x = 2\n",
    "y = x ** 2\n",
    "z = (x ** y) / 3"
   ]
  },
  {
   "cell_type": "markdown",
   "id": "organizational-tension",
   "metadata": {
    "id": "organizational-tension"
   },
   "source": [
    "Quando executamos a célula acima, ela não nos mostra nenhum valor, por quê? Porque nela nós apenas declaramos as variáveis, ou seja, apenas associamos as variáveis `x`, `y` e `z` aos seus respectivos valores. Se quisermos ver o que está dentro de cada variável, devemos usar a função `print()` (mais uma função que vocês irão usar bastante!)."
   ]
  },
  {
   "cell_type": "code",
   "execution_count": null,
   "id": "physical-violence",
   "metadata": {
    "id": "physical-violence"
   },
   "outputs": [],
   "source": [
    "print(x)\n",
    "print(y)\n",
    "print(z)"
   ]
  },
  {
   "cell_type": "markdown",
   "id": "residential-manor",
   "metadata": {
    "id": "residential-manor"
   },
   "source": [
    "Como dito anteriormente, as variáveis aceitam qualquer tipo de dado. A variável `ms` declarada abaixo corresponde à uma string, ou seja, a um texto. "
   ]
  },
  {
   "cell_type": "code",
   "execution_count": null,
   "id": "burning-fitness",
   "metadata": {
    "id": "burning-fitness"
   },
   "outputs": [],
   "source": [
    "# Declarando a variável ms e printando ela.\n",
    "\n",
    "ms = '123'\n",
    "print(ms)"
   ]
  },
  {
   "cell_type": "markdown",
   "id": "together-square",
   "metadata": {
    "id": "together-square"
   },
   "source": [
    "Olhando para a saída do código acima, podemos achar que a variável `ms` corresponde a um valor numérico, mas se tentarmos realizar operações aritméticas com ela, as coisas não sairão como o esperado."
   ]
  },
  {
   "cell_type": "code",
   "execution_count": null,
   "id": "final-experiment",
   "metadata": {
    "id": "final-experiment"
   },
   "outputs": [],
   "source": [
    "print(ms * 2)"
   ]
  },
  {
   "cell_type": "markdown",
   "id": "informational-bridge",
   "metadata": {
    "id": "informational-bridge"
   },
   "source": [
    "Isso acontece porque como 123 está entre aspas, o python interpreta ele como sendo um texto. Não interessa para o python os caracteres que compõem o texto (podem ser letras, números, caracteres especiais como @ e #), importa apenas que se trata de um texto!\n",
    "\n",
    "Para saber o tipo de dado contido em uma variável, podemos usar a função `type()`."
   ]
  },
  {
   "cell_type": "code",
   "execution_count": null,
   "id": "departmental-miller",
   "metadata": {
    "id": "departmental-miller"
   },
   "outputs": [],
   "source": [
    "print(type(x))\n",
    "print(type(y))\n",
    "print(type(z))\n",
    "print(type(ms))"
   ]
  },
  {
   "cell_type": "markdown",
   "id": "5c225550",
   "metadata": {
    "id": "5c225550"
   },
   "source": [
    "# <font color = #21618C>Convertendo Variáveis\n",
    "---"
   ]
  },
  {
   "cell_type": "markdown",
   "id": "79a9adac",
   "metadata": {
    "id": "79a9adac"
   },
   "source": [
    "Como acabamos de ver, o tipo da variável com que estamos lidando influencia diretamente no tratamento que devemos dar para ela."
   ]
  },
  {
   "cell_type": "markdown",
   "id": "74adee55",
   "metadata": {
    "id": "74adee55"
   },
   "source": [
    "Saber converter variáveis é muito importante para um cientista de dados. Existem algumas maneiras de se fazer isso, a mais simples é por meio de funções."
   ]
  },
  {
   "cell_type": "markdown",
   "id": "1f234bd5",
   "metadata": {
    "id": "1f234bd5"
   },
   "source": [
    "Vamos falar mais a fundo sobre funções na próxima aula, por enquanto vamos focar na conversão."
   ]
  },
  {
   "cell_type": "markdown",
   "id": "4863f25c",
   "metadata": {
    "id": "4863f25c"
   },
   "source": [
    "A sintaxe utilizada é a seguinte:\n",
    "```\n",
    "variavel = tipo_desejado(variavel)\n",
    "```"
   ]
  },
  {
   "cell_type": "markdown",
   "id": "92e7e574",
   "metadata": {
    "id": "92e7e574"
   },
   "source": [
    "O `tipo_desejado()` é só para ilustrar, porque se trata de uma função. Para exemplificar melhor, vamos converter a variável `ms` (uma string) em um número - um número inteiro, para ser mais exato."
   ]
  },
  {
   "cell_type": "code",
   "execution_count": null,
   "id": "3801832f",
   "metadata": {
    "id": "3801832f"
   },
   "outputs": [],
   "source": [
    "ms = int(ms)\n",
    "print(type(ms))"
   ]
  },
  {
   "cell_type": "markdown",
   "id": "0ad06cf5",
   "metadata": {
    "id": "0ad06cf5"
   },
   "source": [
    "# <font color = #21618C>Estruturas de Dados\n",
    "---"
   ]
  },
  {
   "cell_type": "markdown",
   "id": "7754e9e3",
   "metadata": {
    "id": "7754e9e3"
   },
   "source": [
    "Como vimos antes, podemos atribuir um valor a uma variável. Mas e se quisermos atribuir mais de um valor a uma variável?"
   ]
  },
  {
   "cell_type": "markdown",
   "id": "3c761502",
   "metadata": {
    "id": "3c761502"
   },
   "source": [
    "Utilizamos estruturas de dados!"
   ]
  },
  {
   "cell_type": "markdown",
   "id": "aging-clause",
   "metadata": {
    "id": "aging-clause"
   },
   "source": [
    "As estruturas de dados são apenas jeitos de organizar dados. As mais usadas, e que iremos tratar aqui, são *listas*, *tuplas* e *dicionários*. Ou em inglês, como são mais usadas `lists`, `tuples` e `dictionaries`"
   ]
  },
  {
   "cell_type": "markdown",
   "id": "spatial-continent",
   "metadata": {
    "id": "spatial-continent"
   },
   "source": [
    "## `Lists`\n",
    "---\n",
    "As listas são uma coleção de dados ordenados. Elas são **mutáveis** e aceitam mais de um tipo de dado. Elas são definidas por um par de **colchetes** e os valores dentro delas devem ser **separados por vígulas**."
   ]
  },
  {
   "cell_type": "code",
   "execution_count": null,
   "id": "athletic-dinner",
   "metadata": {
    "id": "athletic-dinner"
   },
   "outputs": [],
   "source": [
    "# criando uma lista\n",
    "\n",
    "my_list = [1, 2, 3, 4, 5, 6, 7]"
   ]
  },
  {
   "cell_type": "code",
   "execution_count": null,
   "id": "wrong-eagle",
   "metadata": {
    "id": "wrong-eagle"
   },
   "outputs": [],
   "source": [
    "print(my_list)"
   ]
  },
  {
   "cell_type": "markdown",
   "id": "wound-closer",
   "metadata": {
    "id": "wound-closer"
   },
   "source": [
    "## <font color = #21618C> Operações com listas\n",
    "---\n",
    "Como as listas são mutáveis, podemos adicionar ou retirar elementos delas.\n",
    "\n",
    "Para fazer isso, utilizamos ***funções***. Uma função é uma sequência de comandos que executa tarefas específicas. Elas podem ser *nativas* (*built-in*) ou definidas pelo usuário.\n",
    "\n",
    "No momento vamos utilizar funções nativas, mas vamos apresentar as funções definidas pelo usuário posteriormente."
   ]
  },
  {
   "cell_type": "markdown",
   "id": "organizational-cherry",
   "metadata": {
    "id": "organizational-cherry"
   },
   "source": [
    "### <font color = #21618C> Adicionando elementos\n",
    "\n",
    "Para adicionar um elemento à lista, usamos a função nativa `.append()`.\n",
    "\n",
    "A sintaxe utilizada é a seguinte:\n",
    "\n",
    "<font color = green>**nome_da_lista.append(*elemento_a_ser_adicionado*)**\n"
   ]
  },
  {
   "cell_type": "code",
   "execution_count": null,
   "id": "apart-bundle",
   "metadata": {
    "id": "apart-bundle"
   },
   "outputs": [],
   "source": [
    "# Adicionar um elemento ao final da lista\n",
    "\n",
    "my_list.append(9)\n",
    "print(my_list)"
   ]
  },
  {
   "cell_type": "markdown",
   "id": "assisted-opinion",
   "metadata": {
    "id": "assisted-opinion"
   },
   "source": [
    "### <font color = #21618C> Removendo elementos\n",
    "\n",
    "Assim como podemos adicionar, podemos remover elementos de uma lista. Para fazer isso, utilizamos a função nativa `.remove()`\n",
    "\n",
    "A sintaxe é a seguinte:\n",
    "\n",
    "<font color = green >**nome_da_lista.remove(*elemento_a_ser_removido*)**"
   ]
  },
  {
   "cell_type": "code",
   "execution_count": null,
   "id": "executive-optimum",
   "metadata": {
    "id": "executive-optimum"
   },
   "outputs": [],
   "source": [
    "# Remover um elemento da lista\n",
    "\n",
    "my_list.remove(9)\n",
    "print(my_list)"
   ]
  },
  {
   "cell_type": "markdown",
   "id": "raising-smoke",
   "metadata": {
    "id": "raising-smoke"
   },
   "source": [
    "Estas não são as únicas funções nativas das listas que existem. Se escreverem o nome da lista seguido por um ponto final e apertarem a tecla \"*tab*\" do teclado, uma lista de funções irá aparecer.\n",
    "\n",
    "`nome_da_lista.` + `TAB`\n",
    "\n",
    "Caso queiram saber o que determinada função faz, podem fazer o seguinte:\n",
    "`nome_da_lista.função_qualquer()` + `Shit + TAB`."
   ]
  },
  {
   "cell_type": "markdown",
   "id": "acceptable-locking",
   "metadata": {
    "id": "acceptable-locking"
   },
   "source": [
    "### <font color = #21618C> Acessando elementos\n",
    "---\n",
    "Os elementos das listas podem ser acessados pelo **índice** (`index`) de sua posição. Este `index` deve ser colocado entre **colchetes** após o nome da lista. Vamos ver alguns exemplos:"
   ]
  },
  {
   "cell_type": "markdown",
   "id": "verified-graphics",
   "metadata": {
    "id": "verified-graphics"
   },
   "source": [
    "Vamos supor que eu queira ver apenas o **quinto** elemento da lista `my_list`. Eu posso acessá-lo da seguinte maneira:"
   ]
  },
  {
   "cell_type": "code",
   "execution_count": null,
   "id": "fuzzy-penny",
   "metadata": {
    "id": "fuzzy-penny"
   },
   "outputs": [],
   "source": [
    "# Acessando elementos\n",
    "\n",
    "my_list[4]"
   ]
  },
  {
   "cell_type": "markdown",
   "id": "frequent-seeker",
   "metadata": {
    "id": "frequent-seeker"
   },
   "source": [
    "Vocês devem ter percebido algo estranho. Eu disse que os elementos são acessados pelo `index` da sua posição, mas para acessar o **quinto** elemento eu utilizei o `index` **4**. Pela lógica, eu deveria ter escrito `my_list[5]`, certo?"
   ]
  },
  {
   "cell_type": "markdown",
   "id": "corresponding-south",
   "metadata": {
    "id": "corresponding-south"
   },
   "source": [
    "Não!"
   ]
  },
  {
   "cell_type": "markdown",
   "id": "iraqi-messaging",
   "metadata": {
    "id": "iraqi-messaging"
   },
   "source": [
    "No python, a contagem se inicia sempre no índice **0**, ou seja, a posição do **primeiro elemento** é dada pelo índice **0**, e a contagem segue a partir daí. Por isso que para acessar o **quinto** elemento, utilizamos o `index` **4**."
   ]
  },
  {
   "cell_type": "markdown",
   "id": "thick-environment",
   "metadata": {
    "id": "thick-environment"
   },
   "source": [
    "Da mesma forma que acessamos apenas um elemento, podemos querer acessar um conjunto de elementos. Vamos supor que nós queremos saber quais são o terceiro, quarto e quinto elementos da lista. Para tanto:"
   ]
  },
  {
   "cell_type": "code",
   "execution_count": null,
   "id": "interpreted-somewhere",
   "metadata": {
    "id": "interpreted-somewhere"
   },
   "outputs": [],
   "source": [
    "my_list[2:5]"
   ]
  },
  {
   "cell_type": "markdown",
   "id": "interior-factor",
   "metadata": {
    "id": "interior-factor"
   },
   "source": [
    "Mais uma vez, vocês devem estar em dúvida. Considerando que as posições se iniciam no índice 0, para acessar os terceiro, quarto e quinto elementos o correto seria escrever `my_list[2:4]`, certo?"
   ]
  },
  {
   "cell_type": "markdown",
   "id": "varied-vehicle",
   "metadata": {
    "id": "varied-vehicle"
   },
   "source": [
    "Não!!"
   ]
  },
  {
   "cell_type": "markdown",
   "id": "computational-peace",
   "metadata": {
    "id": "computational-peace"
   },
   "source": [
    "Quando estamos acessando um conjunto de elementos - que a partir de agora vou chamar de **intervalo** - o limite superior não é incluído no intervalo.\n",
    "\n",
    "Isso pode ser (É!) um pouco confuso, então vou colocar uma imagem que pode ajudar."
   ]
  },
  {
   "attachments": {
    "IndexingSlicing2-1.png": {
     "image/png": "[encoded data removed]"
    }
   },
   "cell_type": "markdown",
   "id": "ae234d59",
   "metadata": {},
   "source": [
    "![IndexingSlicing2-1.png](attachment:IndexingSlicing2-1.png)"
   ]
  },
  {
   "cell_type": "markdown",
   "id": "greatest-guinea",
   "metadata": {
    "id": "greatest-guinea"
   },
   "source": [
    "Pensando no que foi dito anteriormente (*o limite superior não é incluído no intervalo*) e com a imagem, vamos fazer alguns exemplos."
   ]
  },
  {
   "cell_type": "markdown",
   "id": "according-collaboration",
   "metadata": {
    "id": "according-collaboration"
   },
   "source": [
    "#### <font color = #21618C>Acessar o terceiro elemento da lista"
   ]
  },
  {
   "cell_type": "code",
   "execution_count": null,
   "id": "legal-scroll",
   "metadata": {
    "id": "legal-scroll"
   },
   "outputs": [],
   "source": [
    "my_list[_]"
   ]
  },
  {
   "cell_type": "markdown",
   "id": "hybrid-aggregate",
   "metadata": {
    "id": "hybrid-aggregate"
   },
   "source": [
    "#### <font color = #21618C>Acessar o segundo e terceiro elementos da lista"
   ]
  },
  {
   "cell_type": "code",
   "execution_count": null,
   "id": "5882fcb5",
   "metadata": {
    "id": "5882fcb5"
   },
   "outputs": [],
   "source": [
    "my_list[_:_]"
   ]
  },
  {
   "cell_type": "markdown",
   "id": "considered-amsterdam",
   "metadata": {
    "id": "considered-amsterdam"
   },
   "source": [
    "#### <font color = #21618C> Acessar o quarto elemento da lista"
   ]
  },
  {
   "cell_type": "code",
   "execution_count": null,
   "id": "de939c5e",
   "metadata": {
    "id": "de939c5e"
   },
   "outputs": [],
   "source": [
    "my_list[_]"
   ]
  },
  {
   "cell_type": "code",
   "execution_count": null,
   "id": "greek-europe",
   "metadata": {
    "id": "greek-europe"
   },
   "outputs": [],
   "source": [
    "my_list[_:_]"
   ]
  },
  {
   "cell_type": "markdown",
   "id": "jewish-mainstream",
   "metadata": {
    "id": "jewish-mainstream"
   },
   "source": [
    "Como acabamos de mostrar, é possível acessar um único elemento utiliazndo a notação de intervalos. Na prática, o python entende: \"acessar o elemento entre os `indexes` **3** e **4**.\""
   ]
  },
  {
   "cell_type": "markdown",
   "id": "welsh-there",
   "metadata": {
    "id": "welsh-there"
   },
   "source": [
    "### <font color = #21618C> Alterando elementos\n",
    "---\n",
    "Os elementos de uma lista são mutáveis, ou seja, depois de criada os valores podem ser alterados."
   ]
  },
  {
   "cell_type": "markdown",
   "id": "acute-proportion",
   "metadata": {
    "id": "acute-proportion"
   },
   "source": [
    "Vamos supor que nós queremos mudar o valor do quarto elemento. Para isso, fazemos:"
   ]
  },
  {
   "cell_type": "code",
   "execution_count": null,
   "id": "employed-dutch",
   "metadata": {
    "id": "employed-dutch"
   },
   "outputs": [],
   "source": [
    "my_list[3:6] = [4, 5, 6]\n",
    "my_list"
   ]
  },
  {
   "cell_type": "markdown",
   "id": "basic-crown",
   "metadata": {
    "id": "basic-crown"
   },
   "source": [
    "## `Tuples`\n",
    "---\n",
    "Tuplas são parecidas com as listas. Ambas são conjuntos ordenados de dados, porém, ao contrário das listas, as tuplas são <font color = darkgreen>**imutáveis**<font color = black>. Elas são definidas da mesma forma que as listas, porém usamos <font color = darkgreen>**parênteses** <font color = black>ao invés de colchetes."
   ]
  },
  {
   "cell_type": "code",
   "execution_count": null,
   "id": "smooth-project",
   "metadata": {
    "id": "smooth-project"
   },
   "outputs": [],
   "source": [
    "# Criando uma tupla\n",
    "\n",
    "my_tuple = (1, 2, 3, 4, 5, 6, 7)"
   ]
  },
  {
   "cell_type": "markdown",
   "id": "informative-situation",
   "metadata": {
    "id": "informative-situation"
   },
   "source": [
    "Também podemos acessar elementos dentro de uma tupla. A forma como fazemos isso é igual à utilizada com as listas."
   ]
  },
  {
   "cell_type": "code",
   "execution_count": null,
   "id": "fancy-machine",
   "metadata": {
    "id": "fancy-machine"
   },
   "outputs": [],
   "source": [
    "# Acessando elementos dentro de uma tupla\n",
    "\n",
    "my_tuple[4]"
   ]
  },
  {
   "cell_type": "code",
   "execution_count": null,
   "id": "steady-relations",
   "metadata": {
    "id": "steady-relations"
   },
   "outputs": [],
   "source": [
    "# Acessando um conjunto de elementos dentro de uma tupla\n",
    "\n",
    "my_tuple[2:5]"
   ]
  },
  {
   "cell_type": "markdown",
   "id": "protected-obligation",
   "metadata": {
    "id": "protected-obligation"
   },
   "source": [
    "Como foi dito, tuplas são imutáveis. Isso significa que, uma vez criadas, seus elementos não podem ser alterados.\n",
    "\n",
    "Se tentarmos, vamos receber uma mensagem de erro:"
   ]
  },
  {
   "cell_type": "code",
   "execution_count": null,
   "id": "pretty-reggae",
   "metadata": {
    "id": "pretty-reggae"
   },
   "outputs": [],
   "source": [
    "# Alterando elementos de uma tupla\n",
    "\n",
    "my_tuple[3] = 5"
   ]
  },
  {
   "cell_type": "markdown",
   "id": "vulnerable-revelation",
   "metadata": {
    "id": "vulnerable-revelation"
   },
   "source": [
    "## `Dictionaries`\n",
    "---\n",
    "A última estrutura que vamos ver são os _dicionários_.\n",
    "\n",
    "Dicionários também são uma coleção de dados. Porém, diferentemente das listas (que são uma coleção de dados _ordenados_) os dicionários são uma coleção _associativa_ de dados. Isso significa que para cada _chave_, temos um ou mais _valores_ associados."
   ]
  },
  {
   "cell_type": "markdown",
   "id": "warming-sterling",
   "metadata": {
    "id": "warming-sterling"
   },
   "source": [
    "Isso pode ser confuso num primeiro momento, para facilitar pensem em um dicionário da língua portuguesa. Neles, para cada <font color = darkgreen><u>palavra</u> (**chave**) <font color = black>temos uma ou mais<font color = darkgreen> <u>definições</u> (**valores**)<font color = black>."
   ]
  },
  {
   "cell_type": "markdown",
   "id": "accompanied-inspector",
   "metadata": {
    "id": "accompanied-inspector"
   },
   "source": [
    "Os dicionários no python funcionam da mesma maneira. Para cada chave (**key**), temos um ou mais valores (**values**) associados."
   ]
  },
  {
   "cell_type": "markdown",
   "id": "9c641343",
   "metadata": {
    "id": "9c641343"
   },
   "source": [
    "### Mas!"
   ]
  },
  {
   "cell_type": "markdown",
   "id": "f9cb2bfe",
   "metadata": {
    "id": "f9cb2bfe"
   },
   "source": [
    "Diferente dos dicionários da língua portuguesa, os dicionários em python não estão na mesma ordem toda vez em que abrimos eles!"
   ]
  },
  {
   "cell_type": "markdown",
   "id": "57f3ca3a",
   "metadata": {
    "id": "57f3ca3a"
   },
   "source": [
    "O que importa para os dicionários python não é a ordem dos itens (_key-value pair_) e sim a <font color = blue><u>associação</u><font color = black> da chave com um valor."
   ]
  },
  {
   "cell_type": "markdown",
   "id": "laughing-finance",
   "metadata": {
    "id": "laughing-finance"
   },
   "source": [
    "Dicionários são definidos da seguinte forma\n",
    "\n",
    "<font color = darkgreen> **nome_do_dicionário = {key: value}** <font color = black>\n",
    "\n",
    "Eles podem conter mais de um par _key-value_, que devem estar separados por vírgula da seguinte maneira:\n",
    "\n",
    "<font color = darkgreen> **nome_do_dicionário = {key: value, outra_key: value}**"
   ]
  },
  {
   "cell_type": "markdown",
   "id": "reverse-chemical",
   "metadata": {
    "id": "reverse-chemical"
   },
   "source": [
    "Além disso, os valores<font color = darkgreen> (**values**)<font color = black> podem ser qualquer tipo de dado, inclusive listas."
   ]
  },
  {
   "cell_type": "code",
   "execution_count": null,
   "id": "timely-louisville",
   "metadata": {
    "id": "timely-louisville"
   },
   "outputs": [],
   "source": [
    "# Criando um dicionário\n",
    "\n",
    "my_dict = {'impares': [1, 3, 5],\n",
    "           'pares': [2, 4, 6]}\n",
    "\n",
    "print(my_dict)"
   ]
  },
  {
   "cell_type": "markdown",
   "id": "confident-interface",
   "metadata": {
    "id": "confident-interface"
   },
   "source": [
    "Assim como as listas e tuplas, os dicionários também possuem funções _built-in_ que podem ser usadas para executar tarefas específicas. Vocês podem ver quais são e como funcionam (documentação) do mesmo jeito que é feito para as listas e tuplas:\n",
    "\n",
    "`nome_do_dicionário.` + `Alt` : lista de funções\n",
    "\n",
    "`nome_do_dicionário.função()` + `Shift+Alt`: documentação da função"
   ]
  },
  {
   "cell_type": "code",
   "execution_count": null,
   "id": "43c9436e",
   "metadata": {
    "id": "43c9436e"
   },
   "outputs": [],
   "source": [
    "my_dict."
   ]
  },
  {
   "cell_type": "markdown",
   "id": "2453e10e",
   "metadata": {},
   "source": [
    "### <font color = #21618C> Acessando elementos\n",
    "---\n",
    "Como foi dito, os dicionários não são ordenados, logo, não é possível acessar seus elementos por meio dos índices de posição.\n",
    "    \n",
    "Ao invés disso, o acesso é feito por meio das **chaves** (*keys*) do dicionário."
   ]
  },
  {
   "cell_type": "markdown",
   "id": "971e35d2",
   "metadata": {},
   "source": [
    "A sintaxe, entretanto, é similar à utilizada com listas e tuplas: colocamos o nome da chave que queremos acessar entre colchetes após o nome do dicionário, como ilustrado abaixo:\n",
    "\n",
    "`dicionário['chave']`"
   ]
  },
  {
   "cell_type": "markdown",
   "id": "097d6841",
   "metadata": {},
   "source": [
    "Como exemplo, vamos acessar os valores ímpares do dicionário `my_dict`."
   ]
  },
  {
   "cell_type": "code",
   "execution_count": null,
   "id": "b4f50364",
   "metadata": {},
   "outputs": [],
   "source": [
    "my_dict['impares']"
   ]
  },
  {
   "cell_type": "markdown",
   "id": "7647b333",
   "metadata": {},
   "source": [
    "<br>"
   ]
  },
  {
   "cell_type": "markdown",
   "id": "5815ee44",
   "metadata": {
    "id": "5815ee44"
   },
   "source": [
    "<h2><center>Obrigado pela atenção!<center/><h2/>\n"
   ]
  },
  {
   "cell_type": "markdown",
   "id": "0d13a742",
   "metadata": {},
   "source": [
    "##  <font color = #21618C> Material Elaborado Por:\n",
    "<br>"
   ]
  },
  {
   "cell_type": "markdown",
   "id": "73494a9e",
   "metadata": {},
   "source": [
    "<tr>\n",
    "    <td> <img src=\"imagens/Fernando.png\" width = \"100\" align = \"left\"/> <td/>\n",
    "<tr/>"
   ]
  },
  {
   "cell_type": "markdown",
   "id": "f26aa72c",
   "metadata": {},
   "source": [
    "### Fernando Gioppato"
   ]
  },
  {
   "cell_type": "markdown",
   "id": "ec275f0e",
   "metadata": {},
   "source": [
    "<tr>\n",
    "    <td> <a href=\"https://www.linkedin.com/in/fernando-gioppato/\" > <img src = \"imagens/linkedin.png\" width = \"25\"  align = \"left\" /> </a>  </td>\n",
    "    <td> <a href=\"https://github.com/feegioppato\" > <img src = \"imagens/GitHub-Logo.png\" width = \"60\" height = \"100\" align = \"left\" /> </a>  </td>\n",
    "</tr>"
   ]
  }
 ],
 "metadata": {
  "colab": {
   "name": "Python - Basico.ipynb",
   "provenance": []
  },
  "kernelspec": {
   "display_name": "Python 3 (ipykernel)",
   "language": "python",
   "name": "python3"
  },
  "language_info": {
   "codemirror_mode": {
    "name": "ipython",
    "version": 3
   },
   "file_extension": ".py",
   "mimetype": "text/x-python",
   "name": "python",
   "nbconvert_exporter": "python",
   "pygments_lexer": "ipython3",
   "version": "3.7.3"
  }
 },
 "nbformat": 4,
 "nbformat_minor": 5
}
