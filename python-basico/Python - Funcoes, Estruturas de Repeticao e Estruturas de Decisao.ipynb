{
 "cells": [
  {
   "attachments": {
    "Logo%20Aulas.png": {
     "image/png": "[encoded data removed]"
    }
   },
   "cell_type": "markdown",
   "metadata": {},
   "source": [
    "![Logo%20Aulas.png](attachment:Logo%20Aulas.png)"
   ]
  },
  {
   "cell_type": "markdown",
   "metadata": {
    "slideshow": {
     "slide_type": "slide"
    }
   },
   "source": [
    "#  <font color = #3336FF> Python - Funções, Estruturas de Repetição e Estruturas de Decisão \n",
    "\n",
    "Nesta aula vamos falar sobre **funções**, **estruturas de repetição** e **estruturas de decisão**."
   ]
  },
  {
   "cell_type": "markdown",
   "metadata": {
    "slideshow": {
     "slide_type": "slide"
    }
   },
   "source": [
    "## <font color = #21618C>Funções\n",
    "---\n",
    "Funções são sequências de comandos que executam tarefas específicas. "
   ]
  },
  {
   "cell_type": "markdown",
   "metadata": {
    "slideshow": {
     "slide_type": "fragment"
    }
   },
   "source": [
    "**Tipos de funções**:\n",
    "1. Nativas / Métodos\n",
    "2. Nativas\n",
    "3. Definidas pelo usuário"
   ]
  },
  {
   "cell_type": "markdown",
   "metadata": {
    "slideshow": {
     "slide_type": "subslide"
    }
   },
   "source": [
    "### <font color = #21618C>1.1 - Funções Built-in (methods/métodos)\n",
    "---\n",
    "No python, cada tipo dado e de estrutura de dados tem funções nativas (built-in) específicas. Ou seja, existem tarefas específicas que só podem ser realizadas em strings, outras que só podem ser realizadas com listas, e assim por diante."
   ]
  },
  {
   "cell_type": "markdown",
   "metadata": {
    "slideshow": {
     "slide_type": "subslide"
    }
   },
   "source": [
    "#### Exemplo\n",
    "\n",
    "\n",
    "As listas possuem uma função nativa chamada `.append()` (que já vimos na aula passada). Esta função adiciona o elemento dentro do parenteses ao final da lista. Se tentarmos usar a função `.append()` em uma string, por exemplo, iremos gerar um erro, porque esta função é exclusiva para listas."
   ]
  },
  {
   "cell_type": "code",
   "execution_count": null,
   "metadata": {
    "slideshow": {
     "slide_type": "subslide"
    }
   },
   "outputs": [],
   "source": [
    "lista = [1, 2, 3]\n",
    "texto = 'ABC'"
   ]
  },
  {
   "cell_type": "code",
   "execution_count": null,
   "metadata": {
    "slideshow": {
     "slide_type": "fragment"
    }
   },
   "outputs": [],
   "source": [
    "lista.append(4)\n",
    "print(lista)"
   ]
  },
  {
   "cell_type": "code",
   "execution_count": null,
   "metadata": {
    "slideshow": {
     "slide_type": "fragment"
    }
   },
   "outputs": [],
   "source": [
    "texto.append('D')\n",
    "print(texto)"
   ]
  },
  {
   "cell_type": "markdown",
   "metadata": {
    "slideshow": {
     "slide_type": "subslide"
    }
   },
   "source": [
    "Uma maneira fácil de saber quais são as funções específicas de um tipo de dado ou de estrutura de dados é escrever o nome da variável seguido de um ponto e apertar a tecla tab, como mostrado abaixo:\n",
    "\n",
    "**variável.** + `Tab`"
   ]
  },
  {
   "cell_type": "markdown",
   "metadata": {
    "slideshow": {
     "slide_type": "subslide"
    }
   },
   "source": [
    "Com a variável *texto*, que é uma string, vamos ter as seguintes funções:"
   ]
  },
  {
   "cell_type": "code",
   "execution_count": null,
   "metadata": {
    "slideshow": {
     "slide_type": "fragment"
    }
   },
   "outputs": [],
   "source": [
    "texto.lower()"
   ]
  },
  {
   "cell_type": "markdown",
   "metadata": {
    "slideshow": {
     "slide_type": "subslide"
    }
   },
   "source": [
    "Todos os nomes que aparecem são funções que realizam tarefas específicas, e para saber o que cada uma delas faz com a sua variável o procedimento é o mesmo, porém escrevemos a função que queremos saber e apertamos a tecla shift junto\n",
    "\n",
    "**variável.função()** + `Shift+Tab`"
   ]
  },
  {
   "cell_type": "code",
   "execution_count": null,
   "metadata": {
    "slideshow": {
     "slide_type": "fragment"
    }
   },
   "outputs": [],
   "source": [
    "texto.lower()"
   ]
  },
  {
   "cell_type": "markdown",
   "metadata": {
    "slideshow": {
     "slide_type": "subslide"
    }
   },
   "source": [
    "### <font color = #21618C>1.2 - Funções Built-in\n",
    "---\n",
    "Além das funções específicas de cada _objeto_ (listas, strings, etc.) o python possui funções nativas gerais. Assim como as específicas, elas são muitas e seria contraproducente apresentar todas, por isso vamos listar algumas que acabamos usando muito."
   ]
  },
  {
   "cell_type": "markdown",
   "metadata": {
    "slideshow": {
     "slide_type": "subslide"
    }
   },
   "source": [
    "#### `print()`\n",
    "- Printa o argumento no terminal. O argumento pode ser de qualquer tipo.\n",
    "\n",
    "#### `len()`\n",
    "- Retorna o comprimento da variável passada como argumento.\n",
    "\n",
    "#### `range(start, stop)`\n",
    "- Retorna uma sequência que vai do argumento _start_ até o (_stop_-1). É muito utilizada em estruturas de repetição."
   ]
  },
  {
   "cell_type": "markdown",
   "metadata": {
    "slideshow": {
     "slide_type": "subslide"
    }
   },
   "source": [
    "Podemos verificar a documentação de uma função geral da mesma forma que fazemos com as específicas:\n",
    "\n",
    "`função()` + `Shift+Tab`"
   ]
  },
  {
   "cell_type": "markdown",
   "metadata": {
    "slideshow": {
     "slide_type": "subslide"
    }
   },
   "source": [
    "O último tipo de função que iremos ver são as <font color = blue>**Funções Definidas pelo Usuário** (UDF)."
   ]
  },
  {
   "cell_type": "markdown",
   "metadata": {
    "slideshow": {
     "slide_type": "subslide"
    }
   },
   "source": [
    "### <font color = #21618C>1.3 Funções Definidas pelo Usuário (UDF)\n",
    "---\n",
    "No início da aula definimos uma função como \"_sequências de comandos que executam tarefas específicas_\". UDFs também são funções, porém os comandos que são executados são definidos por nós, o _Usuário_!"
   ]
  },
  {
   "cell_type": "markdown",
   "metadata": {
    "slideshow": {
     "slide_type": "fragment"
    }
   },
   "source": [
    "É por esse motivo que elas são tão usadas na programação, elas permitem que tarefas repetitivas sejam feitas apenas uma vez!\n",
    "\n",
    "Vamos ver a sintaxe usada para definir funções e alguns exemplos."
   ]
  },
  {
   "cell_type": "markdown",
   "metadata": {
    "slideshow": {
     "slide_type": "subslide"
    }
   },
   "source": [
    "A sintaxe usada é a seguinte:\n",
    "```\n",
    "def <nome_da_função>(argumentos):\n",
    "    \n",
    "    <comandos a serem executados>\n",
    "    \n",
    "    return \n",
    "```\n",
    "<font size = 2.5>*As UDFs não precisam necessariamente de argumentos, vamos ver nos exemplos."
   ]
  },
  {
   "cell_type": "markdown",
   "metadata": {
    "slideshow": {
     "slide_type": "subslide"
    }
   },
   "source": [
    "Vamos criar uma função que calcula a média de três números."
   ]
  },
  {
   "cell_type": "code",
   "execution_count": null,
   "metadata": {
    "slideshow": {
     "slide_type": "fragment"
    }
   },
   "outputs": [],
   "source": [
    "def media():           # <nome_da_funcao(argumentos)>:\n",
    "    media = (1 + 3 + 2) / 3        # <comandos a serem executados>\n",
    "    return media "
   ]
  },
  {
   "cell_type": "code",
   "execution_count": null,
   "metadata": {
    "slideshow": {
     "slide_type": "fragment"
    }
   },
   "outputs": [],
   "source": [
    "media = media()"
   ]
  },
  {
   "cell_type": "markdown",
   "metadata": {
    "slideshow": {
     "slide_type": "subslide"
    }
   },
   "source": [
    "Como vimos, a função `media()` calcula a média entre os números 1, 2 e 3. Mas e se quisermos calcular a média entre os números 1562, 16 e 47.7? Ou a média dos números 1, 599 e 23? Aí que entram os argumentos!\n",
    "\n",
    "Definir funções com argumentos nos permite generalizar elas muito mais, assim podemos defini-la apenas uma vez para usa-la com diferentes entradas."
   ]
  },
  {
   "cell_type": "code",
   "execution_count": null,
   "metadata": {
    "slideshow": {
     "slide_type": "fragment"
    }
   },
   "outputs": [],
   "source": [
    "def media_arg(lista_numeros):\n",
    "    soma = sum(lista_numeros)\n",
    "    comprimento = len(lista_numeros)\n",
    "    return soma/comprimento"
   ]
  },
  {
   "cell_type": "code",
   "execution_count": null,
   "metadata": {
    "slideshow": {
     "slide_type": "fragment"
    }
   },
   "outputs": [],
   "source": [
    "media = media_arg([1562, 16, 47.7, 5, 129837192])"
   ]
  },
  {
   "cell_type": "markdown",
   "metadata": {
    "slideshow": {
     "slide_type": "slide"
    }
   },
   "source": [
    "## <font color = #21618C>Estruturas de Repetição\n",
    "---\n",
    "Estruturas de repetição são estruturas que nos permitem executar um bloco de código repetidas vezes."
   ]
  },
  {
   "cell_type": "markdown",
   "metadata": {
    "slideshow": {
     "slide_type": "subslide"
    }
   },
   "source": [
    "Existem dois tipos de repetições:\n",
    "\n",
    ">Repetições com número pré definido de vezes para executar\n",
    "\n",
    "> Repetições sem número pré definido"
   ]
  },
  {
   "cell_type": "markdown",
   "metadata": {
    "slideshow": {
     "slide_type": "subslide"
    }
   },
   "source": [
    "Vamos começar pelo primeiro tipo: <font color = red> **for**"
   ]
  },
  {
   "cell_type": "markdown",
   "metadata": {
    "slideshow": {
     "slide_type": "slide"
    }
   },
   "source": [
    "### <font color = #1B4F72>Repetição `for`\n",
    "---\n",
    "As repetições do tipo `for` executam um bloco de código um número pré definido de vezes.\n",
    "Com ele, podemos:\n",
    "* repetir um bloco de código X vezes\n",
    "* repetir um bloco de código uma vez para cada item de uma lista, dicionário ou tupla*\n",
    "\n",
    "<font size = 2>*(ou qualquer tipo iterável, mas depois falamos sobre isso)  "
   ]
  },
  {
   "cell_type": "markdown",
   "metadata": {
    "slideshow": {
     "slide_type": "subslide"
    }
   },
   "source": [
    "A estrutura básica de um *for loop* é a seguinte:\n",
    "\n",
    "```\n",
    "for <repetição>:\n",
    "    <códigos a serem repetidos>\n",
    "```"
   ]
  },
  {
   "cell_type": "markdown",
   "metadata": {},
   "source": [
    "Abrindo o bloco <repetição>, temos:\n",
    "```\n",
    "for <unidade> in <todo>:\n",
    "    <códigos a serem repetidos>\n",
    "\n",
    "```"
   ]
  },
  {
   "cell_type": "markdown",
   "metadata": {
    "slideshow": {
     "slide_type": "subslide"
    }
   },
   "source": [
    "Considere a lista `nomes` com nomes de 30 possíveis clientes."
   ]
  },
  {
   "cell_type": "code",
   "execution_count": null,
   "metadata": {
    "slideshow": {
     "slide_type": "fragment"
    }
   },
   "outputs": [],
   "source": [
    "nomes = ['ANGELA CERVANTES', 'LAURA MILLER', 'VALERIE PETERS', 'KEITH MILLS', 'RYAN GARZA', 'CHRISTINE JOHNSON',\n",
    "         'LAUREN BOONE', 'JOSHUA CRAWFORD', 'WILLIAM BELTRAN', 'SHIRLEY IBARRA', 'MARY OBRIEN', 'GRACE KENNEDY',\n",
    "         'MICHELLE COSTA', 'PATRICIA LEWIS', 'AMY HOWE', 'DANIEL HUFF', 'STEVEN ROBERTSON', 'MICHAEL FIELDS',\n",
    "         'JEAN PUGH', 'MARK THOMPSON', 'ANNE NEWTON', 'MERCEDES WOLF', 'ASHLEY GARCIA', 'CHERYL ROBERTS', 'MICHAEL WARD',\n",
    "         'KRISTEN MCCORMICK', 'CHRISTOPHER BISHOP', 'SHELLY SMITH', 'MARY ROBERTS', 'WILLIA M  FRANK']\n"
   ]
  },
  {
   "cell_type": "markdown",
   "metadata": {
    "slideshow": {
     "slide_type": "subslide"
    }
   },
   "source": [
    "Para que ela fique compatível com o banco de dados da empresa em que você trabalha, os nomes devem estar em letras minúsculas. Como podemos fazer isso?"
   ]
  },
  {
   "cell_type": "code",
   "execution_count": null,
   "metadata": {
    "slideshow": {
     "slide_type": "fragment"
    }
   },
   "outputs": [],
   "source": [
    "# For loop: Uma vez para cada item da lista\n",
    "\n",
    "nomes_novos = []\n",
    "for nome in nomes:\n",
    "    nomes_novos.append(nome.lower())\n",
    "    "
   ]
  },
  {
   "cell_type": "code",
   "execution_count": null,
   "metadata": {
    "slideshow": {
     "slide_type": "fragment"
    }
   },
   "outputs": [],
   "source": [
    "# For loop: Número X de vezes\n",
    "\n",
    "for i in range(30):\n",
    "    nomes[i] = nomes[i].lower()"
   ]
  },
  {
   "cell_type": "code",
   "execution_count": null,
   "metadata": {
    "scrolled": true
   },
   "outputs": [],
   "source": [
    "nomes"
   ]
  },
  {
   "cell_type": "markdown",
   "metadata": {
    "slideshow": {
     "slide_type": "slide"
    }
   },
   "source": [
    "### <font color = #1B4F72>Repetição `while`\n",
    "---\n",
    "As repetições do tipo `while` executam um bloco de código repetidas vezes até que uma condição seja satisfeita."
   ]
  },
  {
   "cell_type": "markdown",
   "metadata": {
    "slideshow": {
     "slide_type": "subslide"
    }
   },
   "source": [
    "Ao contrário das repetições `for`, na repetição `while` nós não sabemos o número de vezes que o código irá se repetir. Por isso, a cada _iteração_ uma condição deve ser testada, e as repetições param quando a condição testada for satisfeita (ou deixar de ser satisfeita)."
   ]
  },
  {
   "cell_type": "markdown",
   "metadata": {
    "slideshow": {
     "slide_type": "subslide"
    }
   },
   "source": [
    "A estrutura básica de uma repetição do tipo `while` é:\n",
    "\n",
    "> ```\n",
    "while <condição para repetição>:\n",
    "    <código a ser repetido>\n",
    ">```"
   ]
  },
  {
   "cell_type": "markdown",
   "metadata": {
    "slideshow": {
     "slide_type": "subslide"
    }
   },
   "source": [
    "Voltando ao exemplo da lista `nomes`, vamos fazer uma estrutura de repetição `while` para converter os nomes para letras minúsculas."
   ]
  },
  {
   "cell_type": "code",
   "execution_count": null,
   "metadata": {
    "slideshow": {
     "slide_type": "subslide"
    }
   },
   "outputs": [],
   "source": [
    "nomes = ['ANGELA CERVANTES', 'LAURA MILLER', 'VALERIE PETERS', 'KEITH MILLS', 'RYAN GARZA', 'CHRISTINE JOHNSON',\n",
    "         'LAUREN BOONE', 'JOSHUA CRAWFORD', 'WILLIAM BELTRAN', 'SHIRLEY IBARRA', 'MARY OBRIEN', 'GRACE KENNEDY',\n",
    "         'MICHELLE COSTA', 'PATRICIA LEWIS', 'AMY HOWE', 'DANIEL HUFF', 'STEVEN ROBERTSON', 'MICHAEL FIELDS',\n",
    "         'JEAN PUGH', 'MARK THOMPSON', 'ANNE NEWTON', 'MERCEDES WOLF', 'ASHLEY GARCIA', 'CHERYL ROBERTS', 'MICHAEL WARD',\n",
    "         'KRISTEN MCCORMICK', 'CHRISTOPHER BISHOP', 'SHELLY SMITH', 'MARY ROBERTS', 'WILLIA M FRANK']\n"
   ]
  },
  {
   "cell_type": "code",
   "execution_count": null,
   "metadata": {
    "slideshow": {
     "slide_type": "subslide"
    }
   },
   "outputs": [],
   "source": [
    "nome = nomes.pop(0)                 # função .pop() remove e retorna o último elemento da lista em que é chamado\n",
    "\n",
    "while nome != nome.lower():         # condição: nome removido ser diferente dele mesmo em letras minúsculas\n",
    "    print('Os nomes ainda não estão compatibilizados!')\n",
    "    nomes.append(nome.lower())      # transforma o elemento removido em minúscula e o coloca no final da lista\n",
    "    nome = nomes.pop(0)             # atualiza a variável 'nome'\n",
    "    \n",
    "print('Compatibilização completa!')"
   ]
  },
  {
   "cell_type": "code",
   "execution_count": null,
   "metadata": {
    "slideshow": {
     "slide_type": "-"
    }
   },
   "outputs": [],
   "source": [
    "nomes"
   ]
  },
  {
   "cell_type": "markdown",
   "metadata": {
    "slideshow": {
     "slide_type": "subslide"
    }
   },
   "source": [
    "Agora que já sabemos como funcionam as <font color = green>**estruturas de repetição**<font color = b>, vamos falar sobre <font color = red>**estruturas de decisão**."
   ]
  },
  {
   "cell_type": "markdown",
   "metadata": {
    "slideshow": {
     "slide_type": "slide"
    }
   },
   "source": [
    "## <font color = #21618C>Estruturas de Decisão\n",
    "---\n",
    "Estruturas de decisão são estruturas que nos permitem decidir qual deve ser o fluxo de execução de um código."
   ]
  },
  {
   "cell_type": "markdown",
   "metadata": {
    "slideshow": {
     "slide_type": "fragment"
    }
   },
   "source": [
    "Elas são baseadas em _testes_ e _caminhos_. Onde o resultado de um teste irá definir qual caminho o código irá seguir."
   ]
  },
  {
   "cell_type": "markdown",
   "metadata": {
    "slideshow": {
     "slide_type": "subslide"
    }
   },
   "source": [
    "As principais estruturas de decisão são <font color = red>**if**<font color = b>, <font color = red>**elif**<font color = b> e <font color = red>**else**<font color = b>.\n",
    "    \n",
    "A sintaxe básica é:\n",
    "```\n",
    "if <teste 1>:\n",
    "    <código a ser executado caso o teste 1 for verdadeiro>\n",
    "elif <teste 2>:\n",
    "    <código a ser executado caso o teste 2 for verdadeiro>\n",
    "else:\n",
    "    <código a ser executado caso nem o teste 1 nem o teste 2 forem verdadeiros>\n",
    "```\n",
    "    "
   ]
  },
  {
   "cell_type": "markdown",
   "metadata": {
    "slideshow": {
     "slide_type": "subslide"
    }
   },
   "source": [
    "Para mostrar o funcionamento com um exemplo basico, vamos contruir um programa em que nós fornecemos um número de entrada e o programa nós diz se ele é par ou ímpar."
   ]
  },
  {
   "cell_type": "code",
   "execution_count": null,
   "metadata": {
    "slideshow": {
     "slide_type": "fragment"
    }
   },
   "outputs": [],
   "source": [
    "x = 3\n",
    "\n",
    "if x % 2 == 0:\n",
    "    print('É par!')\n",
    "else:\n",
    "    print('É ímpar!')"
   ]
  },
  {
   "cell_type": "markdown",
   "metadata": {
    "slideshow": {
     "slide_type": "subslide"
    }
   },
   "source": [
    "Agora sebemos como funcionam <font color = green>**estruturas de repetição**<font color = b> e <font color = red>**estruturas de decisão**<font color = b>, vamos ver como podemos combina-las para realizar tarefas."
   ]
  },
  {
   "cell_type": "markdown",
   "metadata": {
    "slideshow": {
     "slide_type": "subslide"
    }
   },
   "source": [
    "Além da lista `nomes`, temos também a lista `idades` que contém as idades de cada um dos possíveis clientes. Sua empresa possui o seguinte sistema de notas para classificação de possíveis clientes com base nas idades:\n",
    "* Menos de 20 ou mais de 70 anos: Fraco\n",
    "* De 20 a 40 anos: Forte\n",
    "* Entre 40 e 70: Moderado\n",
    "\n",
    "Como podemos criar uma lista com as notas de cada um dos clientes considerando suas idades?"
   ]
  },
  {
   "cell_type": "code",
   "execution_count": null,
   "metadata": {
    "slideshow": {
     "slide_type": "subslide"
    }
   },
   "outputs": [],
   "source": [
    "idades = [99, 60, 8, 98, 84, 22, 38, 49, 82, 25, 51, 90, 50, 17, 30, 97, 41, 3, 39, 68, 58, 52, 49, 41, 45, 28, 5, 45, 5, 32]"
   ]
  },
  {
   "cell_type": "code",
   "execution_count": null,
   "metadata": {
    "slideshow": {
     "slide_type": "fragment"
    }
   },
   "outputs": [],
   "source": [
    "notas = []"
   ]
  },
  {
   "cell_type": "code",
   "execution_count": null,
   "metadata": {
    "slideshow": {
     "slide_type": "fragment"
    }
   },
   "outputs": [],
   "source": [
    "for idade in idades:\n",
    "    if idade < 20 or idade > 70:\n",
    "        notas.append('Fraco')\n",
    "    elif 20 <= idade <= 40:\n",
    "        notas.append('Forte')\n",
    "    else:\n",
    "        notas.append('Moderado')"
   ]
  },
  {
   "cell_type": "code",
   "execution_count": null,
   "metadata": {},
   "outputs": [],
   "source": [
    "notas"
   ]
  },
  {
   "cell_type": "markdown",
   "metadata": {
    "slideshow": {
     "slide_type": "subslide"
    }
   },
   "source": [
    "### Exemplo extra...\n",
    "\n",
    "No momento temos três listas: `nomes`, `idades` e `notas`, mas seu chefe quer esses dados em uma lista apenas com as pessoas cujas notas são \"Forte\" ou \"Moderado\". Não satisfeito, ele quer que cada elemento da lista contenha um nome com sua respectiva idade e nota!"
   ]
  },
  {
   "cell_type": "markdown",
   "metadata": {
    "slideshow": {
     "slide_type": "fragment"
    }
   },
   "source": [
    "Vamos escrever uma função para nos poupar trabalho da próxima vez que o chefe passar um **cornojob** desses."
   ]
  },
  {
   "cell_type": "code",
   "execution_count": null,
   "metadata": {
    "slideshow": {
     "slide_type": "subslide"
    }
   },
   "outputs": [],
   "source": [
    "def cornojob(lista1, lista2, lista3):\n",
    "    lista = []\n",
    "    for nome, idade, nota in zip(lista1, lista2, lista3): #função zip: \"zipa\" os argumentos em tuplas\n",
    "        if nota != 'Fraco':\n",
    "            lista.append((nome, idade, nota))\n",
    "    return lista"
   ]
  },
  {
   "cell_type": "code",
   "execution_count": null,
   "metadata": {
    "slideshow": {
     "slide_type": "subslide"
    }
   },
   "outputs": [],
   "source": [
    "entrega = cornojob(nomes, idades, notas)\n",
    "entrega"
   ]
  },
  {
   "cell_type": "markdown",
   "metadata": {},
   "source": [
    "## <center>Obrigado pela atenção!\n",
    "<br>"
   ]
  },
  {
   "cell_type": "markdown",
   "metadata": {},
   "source": [
    "##  <font color = #21618C> Material Elaborado Por:"
   ]
  },
  {
   "cell_type": "markdown",
   "metadata": {},
   "source": [
    "<tr>\n",
    "<td> <img src=\"imagens/Fernando.png\" width = \"100\" align = \"left\"/> <td/>\n",
    "<tr/>"
   ]
  },
  {
   "cell_type": "markdown",
   "metadata": {},
   "source": [
    "### Fernando Gioppato"
   ]
  },
  {
   "cell_type": "markdown",
   "metadata": {},
   "source": [
    "<tr>\n",
    "    <td> <a href=\"https://www.linkedin.com/in/fernando-gioppato/\" > <img src = \"imagens/linkedin.png\" width = \"25\"  align = \"left\" /> </a></td>             \n",
    "    <td> <a href=\"https://github.com/feegioppato\" > <img src = \"imagens/GitHub-Logo.png\" width = \"60\" height = \"100\" align = \"left\" /> </a> </td> \n",
    "</tr>"
   ]
  },
  {
   "cell_type": "markdown",
   "metadata": {},
   "source": [
    "<br>"
   ]
  },
  {
   "cell_type": "markdown",
   "metadata": {},
   "source": [
    "### Referências\n",
    "\n",
    "1 - McKinney, Wes. Python for Data Analysis"
   ]
  }
 ],
 "metadata": {
  "kernelspec": {
   "display_name": "Python 3 (ipykernel)",
   "language": "python",
   "name": "python3"
  },
  "language_info": {
   "codemirror_mode": {
    "name": "ipython",
    "version": 3
   },
   "file_extension": ".py",
   "mimetype": "text/x-python",
   "name": "python",
   "nbconvert_exporter": "python",
   "pygments_lexer": "ipython3",
   "version": "3.7.3"
  }
 },
 "nbformat": 4,
 "nbformat_minor": 4
}
