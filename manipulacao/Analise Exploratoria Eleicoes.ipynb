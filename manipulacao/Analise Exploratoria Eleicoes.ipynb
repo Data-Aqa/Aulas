{
 "cells": [
  {
   "attachments": {
    "Data.Aqa%20logo.jpg": {
     "image/jpeg": "[encoded data removed]"
    }
   },
   "cell_type": "markdown",
   "id": "f7db0c22",
   "metadata": {
    "slideshow": {
     "slide_type": "slide"
    }
   },
   "source": [
    "![Data.Aqa%20logo.jpg](attachment:Data.Aqa%20logo.jpg)"
   ]
  },
  {
   "cell_type": "markdown",
   "id": "8ddd2515",
   "metadata": {},
   "source": [
    "<br>"
   ]
  },
  {
   "cell_type": "markdown",
   "id": "921447b5",
   "metadata": {},
   "source": [
    "# <font color = #21618C> Análise Exploratória"
   ]
  },
  {
   "cell_type": "markdown",
   "id": "0159387e",
   "metadata": {},
   "source": [
    "-------------------\n",
    "\n",
    "<br>"
   ]
  },
  {
   "cell_type": "markdown",
   "id": "31f0800d",
   "metadata": {},
   "source": [
    "## <font color = #21618C> Objetivo da Aula"
   ]
  },
  {
   "cell_type": "markdown",
   "id": "8c172f30",
   "metadata": {},
   "source": [
    "<br>"
   ]
  },
  {
   "cell_type": "markdown",
   "id": "730449f8",
   "metadata": {},
   "source": [
    "O objetivo desta aula é explorar algumas funcionalidades do pandas em um contexto prático. Desta maneira conseguiremos exercitar a nossa capacidade de exploração dos dados. \n",
    "    \n",
    "O nosso contexto prático será a análise de certas informações das eleições presidenciais do segundo turno de 2018. "
   ]
  },
  {
   "cell_type": "markdown",
   "id": "51651f57",
   "metadata": {},
   "source": [
    "<br>"
   ]
  },
  {
   "cell_type": "code",
   "execution_count": null,
   "id": "9c951e72",
   "metadata": {
    "slideshow": {
     "slide_type": "fragment"
    }
   },
   "outputs": [],
   "source": [
    "# Realizando a Importação das Bibliotecas Necessárias para a Análise \n",
    "\n",
    "import pandas as pd"
   ]
  },
  {
   "cell_type": "code",
   "execution_count": null,
   "id": "3cce275f",
   "metadata": {
    "slideshow": {
     "slide_type": "slide"
    }
   },
   "outputs": [],
   "source": [
    "# Carregando o conjunto de dados \n",
    "\n",
    "dados = pd.read_csv('Dados/resultados_candidato_municipio.csv')"
   ]
  },
  {
   "cell_type": "code",
   "execution_count": null,
   "id": "8d8e2639",
   "metadata": {
    "scrolled": true,
    "slideshow": {
     "slide_type": "subslide"
    }
   },
   "outputs": [],
   "source": [
    "# Verificando as colunas do Dataset\n",
    "\n",
    "dados.info()"
   ]
  },
  {
   "cell_type": "code",
   "execution_count": null,
   "id": "8209dffc",
   "metadata": {
    "slideshow": {
     "slide_type": "subslide"
    }
   },
   "outputs": [],
   "source": [
    "# Visualizando os primeiros cinco registros \n",
    "\n",
    "dados.head()"
   ]
  },
  {
   "cell_type": "code",
   "execution_count": null,
   "id": "3e41dc0f",
   "metadata": {
    "slideshow": {
     "slide_type": "slide"
    }
   },
   "outputs": [],
   "source": [
    "# Selecionando os dados das eleições de 2018 \n",
    "\n",
    "dados_eleicoes_2018 = dados[dados['ano'] == 2018]"
   ]
  },
  {
   "cell_type": "code",
   "execution_count": null,
   "id": "ad4c3fed",
   "metadata": {
    "slideshow": {
     "slide_type": "fragment"
    }
   },
   "outputs": [],
   "source": [
    "# Verificando as candidaturas possíveis \n",
    "\n",
    "dados_eleicoes_2018['cargo'].unique()"
   ]
  },
  {
   "cell_type": "code",
   "execution_count": null,
   "id": "eef1eb02",
   "metadata": {
    "slideshow": {
     "slide_type": "slide"
    }
   },
   "outputs": [],
   "source": [
    "# Selecionando a candidatura para presidente \n",
    "\n",
    "eleicoes_presidenciais_2018 = dados_eleicoes_2018[dados_eleicoes_2018['cargo'] == 'presidente']"
   ]
  },
  {
   "cell_type": "code",
   "execution_count": null,
   "id": "3f418921",
   "metadata": {
    "slideshow": {
     "slide_type": "slide"
    }
   },
   "outputs": [],
   "source": [
    "# Visualizando o nosso conjunto de dados\n",
    "\n",
    "eleicoes_presidenciais_2018"
   ]
  },
  {
   "cell_type": "code",
   "execution_count": null,
   "id": "abca3664",
   "metadata": {
    "slideshow": {
     "slide_type": "slide"
    }
   },
   "outputs": [],
   "source": [
    "# Verificando o resultado de votos do Haddad e do Bolsonaro\n",
    "\n",
    "votos_haddad = eleicoes_presidenciais_2018[(eleicoes_presidenciais_2018['numero_candidato'] == 13) & (eleicoes_presidenciais_2018['turno'] == 2)]\n",
    "votos_bolsonaro = eleicoes_presidenciais_2018[(eleicoes_presidenciais_2018['numero_candidato'] == 17) & (eleicoes_presidenciais_2018['turno'] == 2)]"
   ]
  },
  {
   "cell_type": "code",
   "execution_count": null,
   "id": "749375ef",
   "metadata": {
    "slideshow": {
     "slide_type": "slide"
    }
   },
   "outputs": [],
   "source": [
    "# Agrupando o total de votos dos candidatos por Estado\n",
    "\n",
    "total_votos_haddad = votos_haddad.groupby(by='sigla_uf').sum()\n",
    "total_votos_bolsonaro = votos_bolsonaro.groupby(by='sigla_uf').sum()"
   ]
  },
  {
   "cell_type": "code",
   "execution_count": null,
   "id": "fa7155c0",
   "metadata": {
    "slideshow": {
     "slide_type": "subslide"
    }
   },
   "outputs": [],
   "source": [
    "# Visualizando o DataFrame\n",
    "\n",
    "total_votos_bolsonaro[['votos']]"
   ]
  },
  {
   "cell_type": "code",
   "execution_count": null,
   "id": "3662aea7",
   "metadata": {
    "slideshow": {
     "slide_type": "slide"
    }
   },
   "outputs": [],
   "source": [
    "# Verificando o total de votos do Bolsonaro\n",
    "\n",
    "print('Bolsonaro :',total_votos_bolsonaro['votos'].sum())\n",
    "print('Haddad :',total_votos_haddad['votos'].sum())"
   ]
  },
  {
   "cell_type": "markdown",
   "id": "0476968f",
   "metadata": {},
   "source": [
    "<br>"
   ]
  },
  {
   "cell_type": "markdown",
   "id": "470b2d35",
   "metadata": {
    "slideshow": {
     "slide_type": "fragment"
    }
   },
   "source": [
    "#### <font color = #21618C> Matéria Anunciando o Vencedor da Presidência em 2018 :\n",
    "\n",
    "https://g1.globo.com/politica/eleicoes/2018/apuracao/presidente.ghtml"
   ]
  },
  {
   "cell_type": "markdown",
   "id": "d19ee186",
   "metadata": {},
   "source": [
    "<br>"
   ]
  },
  {
   "cell_type": "markdown",
   "id": "e0ef9cc9",
   "metadata": {},
   "source": [
    "## <font color = #21618C> Realizando Análise dos NaNs\n",
    "    "
   ]
  },
  {
   "cell_type": "markdown",
   "id": "95e9deca",
   "metadata": {},
   "source": [
    "-----------------------------\n",
    "<br>"
   ]
  },
  {
   "cell_type": "code",
   "execution_count": null,
   "id": "193ea72b",
   "metadata": {
    "slideshow": {
     "slide_type": "subslide"
    }
   },
   "outputs": [],
   "source": [
    "# Verificando valores nulos\n",
    "\n",
    "votos_haddad.isna().sum()"
   ]
  },
  {
   "cell_type": "code",
   "execution_count": null,
   "id": "af6861f2",
   "metadata": {
    "scrolled": true,
    "slideshow": {
     "slide_type": "subslide"
    }
   },
   "outputs": [],
   "source": [
    "# Verificando valores nulos\n",
    "\n",
    "votos_bolsonaro.isna().sum()"
   ]
  },
  {
   "cell_type": "code",
   "execution_count": null,
   "id": "7c59004b",
   "metadata": {
    "slideshow": {
     "slide_type": "subslide"
    }
   },
   "outputs": [],
   "source": [
    "# Verificando os Ids de Município faltantes \n",
    "\n",
    "ids_de_municipio_faltantes_bolsonaro = votos_bolsonaro[votos_bolsonaro[['id_municipio']].isna().any(axis = 1)]\n",
    "ids_de_municipio_faltantes_haddad = votos_haddad[votos_haddad[['id_municipio']].isna().any(axis = 1)]"
   ]
  },
  {
   "cell_type": "code",
   "execution_count": null,
   "id": "47a56d85",
   "metadata": {
    "slideshow": {
     "slide_type": "fragment"
    }
   },
   "outputs": [],
   "source": [
    "# Verificando os estados com o id de município faltando\n",
    "\n",
    "print('Municípios Faltantes Bolsonaro :',ids_de_municipio_faltantes_bolsonaro['sigla_uf'].unique())\n",
    "print('Municípios Faltantes Haddad :',ids_de_municipio_faltantes_haddad['sigla_uf'].unique())"
   ]
  },
  {
   "cell_type": "markdown",
   "id": "090ccd90",
   "metadata": {},
   "source": [
    "<br>"
   ]
  },
  {
   "cell_type": "markdown",
   "id": "5c47fbb0",
   "metadata": {
    "slideshow": {
     "slide_type": "subslide"
    }
   },
   "source": [
    "Não existe nenhum estado que não contenha a identificação do Município. Os ids de município não estão presentes pois os votantes estão localizados no exterior"
   ]
  },
  {
   "cell_type": "markdown",
   "id": "4eb5e48c",
   "metadata": {},
   "source": [
    "<br>"
   ]
  },
  {
   "cell_type": "markdown",
   "id": "ff72b87e",
   "metadata": {},
   "source": [
    "## <font color = #21618C> Retirando os NaNs e Avaliando a Perda de Dados"
   ]
  },
  {
   "cell_type": "markdown",
   "id": "c23f0229",
   "metadata": {},
   "source": [
    "------------------------------------"
   ]
  },
  {
   "cell_type": "markdown",
   "id": "40a80013",
   "metadata": {},
   "source": [
    "<br>"
   ]
  },
  {
   "cell_type": "code",
   "execution_count": null,
   "id": "2ed8af36",
   "metadata": {
    "slideshow": {
     "slide_type": "subslide"
    }
   },
   "outputs": [],
   "source": [
    "# Retirando os NaNs \n",
    "\n",
    "print('Serão eliminados ',votos_haddad.shape[0] - votos_haddad.dropna(axis = 0).shape[0],'registros após a retirada de votantes do exterior.')\n",
    "print('O conjunto de dados inicial possui',votos_bolsonaro.shape[0],'registros')"
   ]
  },
  {
   "cell_type": "code",
   "execution_count": null,
   "id": "962a5ea9",
   "metadata": {},
   "outputs": [],
   "source": [
    "# Verificando perda de votos \n",
    "\n",
    "print('Quantidade de Votos no exterior : ', ids_de_municipio_faltantes_bolsonaro['votos'].sum())\n",
    "print('Quantidade de Votos após a retirada do exterior : ', votos_bolsonaro['votos'].sum() - ids_de_municipio_faltantes_bolsonaro['votos'].sum())\n",
    "print('Quantidade de Votos original do Bolsonaro :', votos_bolsonaro['votos'].sum())"
   ]
  },
  {
   "cell_type": "code",
   "execution_count": null,
   "id": "0f869a27",
   "metadata": {},
   "outputs": [],
   "source": [
    "# Verificando perda de votos \n",
    "\n",
    "print('Quantidade de Votos no exterior : ', ids_de_municipio_faltantes_haddad['votos'].sum())\n",
    "print('Quantidade de Votos após a retirada do exterior : ', votos_haddad['votos'].sum() - ids_de_municipio_faltantes_haddad['votos'].sum())\n",
    "print('Quantidade de Votos original do haddad :', votos_haddad['votos'].sum())"
   ]
  },
  {
   "cell_type": "code",
   "execution_count": null,
   "id": "324b991b",
   "metadata": {
    "slideshow": {
     "slide_type": "fragment"
    }
   },
   "outputs": [],
   "source": [
    "# Retirando votantes do exterior \n",
    "\n",
    "votos_bolsonaro.dropna(axis = 0, inplace = True)\n",
    "votos_haddad.dropna(axis = 0, inplace = True)"
   ]
  },
  {
   "cell_type": "code",
   "execution_count": null,
   "id": "50ae4eb4",
   "metadata": {
    "slideshow": {
     "slide_type": "slide"
    }
   },
   "outputs": [],
   "source": [
    "# Transformando variável categórica em string ao invés de deixar como float \n",
    "\n",
    "# Transformando os dados do Bolsonaro\n",
    "\n",
    "votos_bolsonaro['id_municipio'] = votos_bolsonaro['id_municipio'].astype(int)\n",
    "votos_bolsonaro['id_municipio'] = votos_bolsonaro['id_municipio'].astype(str)\n",
    "\n",
    "# Transformando os dados do Haddad\n",
    "\n",
    "votos_haddad['id_municipio'] = votos_haddad['id_municipio'].astype(int)\n",
    "votos_haddad['id_municipio'] = votos_haddad['id_municipio'].astype(str)"
   ]
  },
  {
   "cell_type": "markdown",
   "id": "1e28afd1",
   "metadata": {},
   "source": [
    "<br>"
   ]
  },
  {
   "cell_type": "markdown",
   "id": "70c32dfb",
   "metadata": {},
   "source": [
    "## <font color = #21618C> Partindo para uma Análise Qualitativa"
   ]
  },
  {
   "cell_type": "markdown",
   "id": "a1c01a04",
   "metadata": {},
   "source": [
    "-----------------------------------\n",
    "<br>"
   ]
  },
  {
   "cell_type": "markdown",
   "id": "6dd319ce",
   "metadata": {},
   "source": [
    "Queremos construir um **<font color = #21618C>índice para verificar a participação relativa** <font color = black> de cada um dos Estados na composição de votos dos participantes. Desta maneira poderemos avaliar o perfil dos votantes ao redor do País. Segue o índice proposto abaixo :"
   ]
  },
  {
   "cell_type": "markdown",
   "id": "4e0d0b36",
   "metadata": {
    "slideshow": {
     "slide_type": "slide"
    }
   },
   "source": [
    "**<font color = #0a7a35> Proporção de Votos** <font color = black> = <font color = #0a677a> População que Votou <font color = black> / <font color = #7a4d0a>População Que Possui Obrigatoriedade no Voto"
   ]
  },
  {
   "cell_type": "markdown",
   "id": "1b3a1dcd",
   "metadata": {},
   "source": [
    "O nosso conjunto de dados inicial não possui os dados populacionais do ano da eleição. Iremos, portanto, realizar um cruzamento dos dados que temos com uma **<font color = #7a4d0a>base de dados populacionais fornecida pelo Ministério da Saúde**."
   ]
  },
  {
   "cell_type": "markdown",
   "id": "f043cb35",
   "metadata": {},
   "source": [
    "<br>"
   ]
  },
  {
   "cell_type": "code",
   "execution_count": null,
   "id": "d8bb2087",
   "metadata": {
    "slideshow": {
     "slide_type": "slide"
    }
   },
   "outputs": [],
   "source": [
    "# Carregando o conjunto de dados populacionais fornecido pelo Ministério da Sáude que foi extraído da Base dos Dados\n",
    "\n",
    "dados_populacionais = pd.read_csv('Dados/municipio.csv')"
   ]
  },
  {
   "cell_type": "code",
   "execution_count": null,
   "id": "a4deb210",
   "metadata": {
    "scrolled": true,
    "slideshow": {
     "slide_type": "subslide"
    }
   },
   "outputs": [],
   "source": [
    "# Visualizando algumas informações do DataFrame\n",
    "\n",
    "dados_populacionais.info()"
   ]
  },
  {
   "cell_type": "code",
   "execution_count": null,
   "id": "5d91273c",
   "metadata": {
    "slideshow": {
     "slide_type": "fragment"
    }
   },
   "outputs": [],
   "source": [
    "# Transformando variável categórica em string ao invés de deixar como float \n",
    "\n",
    "dados_populacionais['id_municipio'] = dados_populacionais['id_municipio'].astype(str)"
   ]
  },
  {
   "cell_type": "code",
   "execution_count": null,
   "id": "22707032",
   "metadata": {
    "slideshow": {
     "slide_type": "slide"
    }
   },
   "outputs": [],
   "source": [
    "# Vendo as cinco primeiras linhas\n",
    "\n",
    "dados_populacionais.head()"
   ]
  },
  {
   "cell_type": "code",
   "execution_count": null,
   "id": "ed2468f6",
   "metadata": {
    "slideshow": {
     "slide_type": "fragment"
    }
   },
   "outputs": [],
   "source": [
    "# Verificando a existência de valores nulos\n",
    "\n",
    "dados_populacionais.isna().sum()"
   ]
  },
  {
   "cell_type": "code",
   "execution_count": null,
   "id": "ecfa692c",
   "metadata": {
    "slideshow": {
     "slide_type": "slide"
    }
   },
   "outputs": [],
   "source": [
    "# Selecionando a população brasileira de 2018\n",
    "\n",
    "dados_populacionais_2018 = dados_populacionais[dados_populacionais['ano'] == 2018]"
   ]
  },
  {
   "cell_type": "code",
   "execution_count": null,
   "id": "23d1e0d2",
   "metadata": {
    "scrolled": true,
    "slideshow": {
     "slide_type": "fragment"
    }
   },
   "outputs": [],
   "source": [
    "# Verificando as faixas etárias presentes no dataset\n",
    "\n",
    "dados_populacionais_2018['grupo_idade'].unique()"
   ]
  },
  {
   "cell_type": "code",
   "execution_count": null,
   "id": "f74cf5b4",
   "metadata": {
    "slideshow": {
     "slide_type": "slide"
    }
   },
   "outputs": [],
   "source": [
    "# Selecionando as faixas etárias que tem obrigatoriedade no voto \n",
    "\n",
    "lista_de_faixas_etarias = ['20-24 anos', '25-29 anos', '30-34 anos', '35-39 anos',\n",
    "       '40-44 anos', '45-49 anos', '50-54 anos', '55-59 anos',\n",
    "       '60-64 anos', '65-69 anos']\n",
    "\n",
    "\n",
    "# Obs : Decidimos não considerar as faixas de 15 à 19 e 70 à 79 anos. Dentro dessas faixas existem pessoas que não possuem obrigatoriedade ao voto"
   ]
  },
  {
   "cell_type": "code",
   "execution_count": null,
   "id": "bbb4ed6c",
   "metadata": {
    "slideshow": {
     "slide_type": "slide"
    }
   },
   "outputs": [],
   "source": [
    "# Criando uma seleção com a população de 2018 que possui o voto obrigatório\n",
    "\n",
    "\n",
    "populacao_com_voto_obrigatorio_2018 = dados_populacionais_2018[dados_populacionais_2018['grupo_idade'].isin(lista_de_faixas_etarias)]"
   ]
  },
  {
   "cell_type": "code",
   "execution_count": null,
   "id": "df1767bf",
   "metadata": {
    "slideshow": {
     "slide_type": "subslide"
    }
   },
   "outputs": [],
   "source": [
    "populacao_com_voto_obrigatorio_2018"
   ]
  },
  {
   "cell_type": "code",
   "execution_count": null,
   "id": "ce8ccd01",
   "metadata": {
    "slideshow": {
     "slide_type": "slide"
    }
   },
   "outputs": [],
   "source": [
    "# Agregando a populacao com voto obrigatório por município\n",
    "\n",
    "populacao_com_voto_obrigatorio_2018_por_municipio = populacao_com_voto_obrigatorio_2018.groupby(by = 'id_municipio').sum()[['populacao']]"
   ]
  },
  {
   "cell_type": "code",
   "execution_count": null,
   "id": "a5095b83",
   "metadata": {
    "slideshow": {
     "slide_type": "slide"
    }
   },
   "outputs": [],
   "source": [
    "# Visualizando groupby\n",
    "\n",
    "populacao_com_voto_obrigatorio_2018_por_municipio.head()"
   ]
  },
  {
   "cell_type": "code",
   "execution_count": null,
   "id": "256d21de",
   "metadata": {
    "slideshow": {
     "slide_type": "subslide"
    }
   },
   "outputs": [],
   "source": [
    "# Transformando índice em coluna para realizar o merge\n",
    "\n",
    "populacao_com_voto_obrigatorio_2018_por_municipio.reset_index(inplace = True)"
   ]
  },
  {
   "cell_type": "code",
   "execution_count": null,
   "id": "22c0b2fb",
   "metadata": {
    "slideshow": {
     "slide_type": "subslide"
    }
   },
   "outputs": [],
   "source": [
    "# Visualizando o DataFrame \n",
    "\n",
    "populacao_com_voto_obrigatorio_2018_por_municipio"
   ]
  },
  {
   "cell_type": "code",
   "execution_count": null,
   "id": "b1e1f6af",
   "metadata": {
    "slideshow": {
     "slide_type": "slide"
    }
   },
   "outputs": [],
   "source": [
    "# Realizando um merge nos conjuntos de dados dos candidatos para mostrar a população\n",
    "\n",
    "votos_bolsonaro = pd.merge(votos_bolsonaro, populacao_com_voto_obrigatorio_2018_por_municipio, how = 'inner')\n",
    "votos_haddad = pd.merge(votos_haddad, populacao_com_voto_obrigatorio_2018_por_municipio, how = 'inner')"
   ]
  },
  {
   "cell_type": "code",
   "execution_count": null,
   "id": "debff377",
   "metadata": {
    "slideshow": {
     "slide_type": "subslide"
    }
   },
   "outputs": [],
   "source": [
    "# Visualizando o resultado \n",
    "\n",
    "votos_haddad"
   ]
  },
  {
   "cell_type": "code",
   "execution_count": null,
   "id": "b995fd8d",
   "metadata": {
    "slideshow": {
     "slide_type": "slide"
    }
   },
   "outputs": [],
   "source": [
    "# Agregando a população e a quantidade de votos por estado \n",
    "\n",
    "resultados_agregados_haddad = votos_haddad.groupby(by = 'sigla_uf').sum()[['populacao','votos']].reset_index()\n",
    "resultados_agregados_bolsonaro = votos_bolsonaro.groupby(by = 'sigla_uf').sum()[['populacao','votos']].reset_index()"
   ]
  },
  {
   "cell_type": "code",
   "execution_count": null,
   "id": "23ee8978",
   "metadata": {
    "slideshow": {
     "slide_type": "subslide"
    }
   },
   "outputs": [],
   "source": [
    "# Visualizando os resultados \n",
    "\n",
    "resultados_agregados_bolsonaro"
   ]
  },
  {
   "cell_type": "markdown",
   "id": "7d1e6f2f",
   "metadata": {},
   "source": [
    "<br>"
   ]
  },
  {
   "cell_type": "markdown",
   "id": "bc98ba4a",
   "metadata": {
    "slideshow": {
     "slide_type": "slide"
    }
   },
   "source": [
    "Temos os dados da **<font color = #d95809 >população que votou<font color = black >**. Temos os dados da maioria da **<font color = #068c2a >população que possui obrigatoriedade ao voto<font color = black >**. Agora **<font color = #076bb8 >iremos calcular a Proporção de Votos dos candidatos ao longo dos estados brasileiros <font color = black >**. "
   ]
  },
  {
   "cell_type": "markdown",
   "id": "108e64b1",
   "metadata": {},
   "source": [
    "<br>"
   ]
  },
  {
   "cell_type": "code",
   "execution_count": null,
   "id": "6c0926f4",
   "metadata": {},
   "outputs": [],
   "source": [
    "# Realizando o cálculo da proporção de votos \n",
    "\n",
    "resultados_agregados_bolsonaro['tx_de_votos'] = resultados_agregados_bolsonaro['votos']/resultados_agregados_bolsonaro['populacao']\n",
    "resultados_agregados_haddad['tx_de_votos'] = resultados_agregados_haddad['votos']/resultados_agregados_haddad['populacao']"
   ]
  },
  {
   "cell_type": "markdown",
   "id": "9a5f6d6f",
   "metadata": {},
   "source": [
    "--------------------------\n",
    "<br>"
   ]
  },
  {
   "cell_type": "markdown",
   "id": "a7b9b45d",
   "metadata": {},
   "source": [
    "## <font color = #0f4e8c > Construindo um Mapa Coroplético "
   ]
  },
  {
   "cell_type": "markdown",
   "id": "a97a0a16",
   "metadata": {},
   "source": [
    "<br>"
   ]
  },
  {
   "cell_type": "code",
   "execution_count": null,
   "id": "ace8eca0",
   "metadata": {},
   "outputs": [],
   "source": [
    "# Biblioteca utilizada para processar arquivos do tipo shape \n",
    "\n",
    "import geopandas as gpd"
   ]
  },
  {
   "cell_type": "code",
   "execution_count": null,
   "id": "e0b81ee7",
   "metadata": {},
   "outputs": [],
   "source": [
    "# Carregando o arquivo do Shapefile \n",
    "\n",
    "dados_shape = gpd.read_file('Dados/BR_UF_2020.shp')"
   ]
  },
  {
   "cell_type": "code",
   "execution_count": null,
   "id": "6e9536db",
   "metadata": {},
   "outputs": [],
   "source": [
    "# Vendo as informações do Shapefile\n",
    "\n",
    "dados_shape.info()"
   ]
  },
  {
   "cell_type": "code",
   "execution_count": null,
   "id": "1f81aee1",
   "metadata": {},
   "outputs": [],
   "source": [
    "# Renomeando a coluna do shape_file \n",
    "\n",
    "dados_shape.rename(columns = {'SIGLA_UF' : 'sigla_uf'}, inplace = True)"
   ]
  },
  {
   "cell_type": "code",
   "execution_count": null,
   "id": "6401e291",
   "metadata": {},
   "outputs": [],
   "source": [
    "# Visualizando o DataFrame\n",
    "\n",
    "dados_shape"
   ]
  },
  {
   "cell_type": "code",
   "execution_count": null,
   "id": "502ebb5e",
   "metadata": {},
   "outputs": [],
   "source": [
    "# Realizando a união dos dados dos candidatos com o shape \n",
    "\n",
    "resultados_agregados_bolsonaro_com_shape = pd.merge(dados_shape,resultados_agregados_bolsonaro, how = 'inner')\n",
    "resultados_agregados_haddad_com_shape = pd.merge(dados_shape, resultados_agregados_haddad, how = 'inner')"
   ]
  },
  {
   "cell_type": "code",
   "execution_count": null,
   "id": "11e9db76",
   "metadata": {},
   "outputs": [],
   "source": [
    "# Biblioteca utilizada para a visualização de mapas \n",
    "\n",
    "import geoviews as gv"
   ]
  },
  {
   "cell_type": "code",
   "execution_count": null,
   "id": "dd52702e",
   "metadata": {},
   "outputs": [],
   "source": [
    "resultados_agregados_bolsonaro_com_shape.info()"
   ]
  },
  {
   "cell_type": "code",
   "execution_count": null,
   "id": "e33cdd97",
   "metadata": {},
   "outputs": [],
   "source": [
    "# Instanciando a extensão para fazer o mapa rodar \n",
    "\n",
    "gv.extension('bokeh')"
   ]
  },
  {
   "cell_type": "code",
   "execution_count": null,
   "id": "5996a422",
   "metadata": {},
   "outputs": [],
   "source": [
    "# Realizando o plot do mapa\n",
    "\n",
    "gv.Polygons(resultados_agregados_haddad_com_shape, vdims=['sigla_uf', 'tx_de_votos'], label='Tx. de Votos do Haddad por Estado').opts(\n",
    "    tools=['hover'], width=550, height=700, color='tx_de_votos',\n",
    "    colorbar=True, toolbar='above', xaxis=None, yaxis=None)"
   ]
  },
  {
   "cell_type": "markdown",
   "id": "90ea2e8e",
   "metadata": {},
   "source": [
    "<br>"
   ]
  },
  {
   "cell_type": "markdown",
   "id": "54599134",
   "metadata": {},
   "source": [
    "## <font color = darkgreen> Sintetizando"
   ]
  },
  {
   "cell_type": "markdown",
   "id": "9d304492",
   "metadata": {},
   "source": [
    "-----------------------\n",
    "\n",
    "\n",
    "<br>"
   ]
  },
  {
   "cell_type": "markdown",
   "id": "2a11f463",
   "metadata": {},
   "source": [
    "Nesta aula vimos alguns conteúdos, dentre eles estão :\n",
    "\n",
    "<br>\n",
    "\n",
    "- **<font color = darkgreen> Filtragens** para obtenção de dados de interesse;\n",
    "<br>\n",
    "    \n",
    "- Como realizar **<font color = darkgreen>  agrupamentos de dados** <font color = black> para obter **<font color = darkgreen>resultados agregados**;\n",
    "<br>\n",
    "\n",
    "- Como realizar **<font color = darkgreen> merges**;\n",
    "<br>\n",
    "    \n",
    "- Breve visualização geográfica com arquivos do shape do Brasil."
   ]
  },
  {
   "cell_type": "markdown",
   "id": "7e33603c",
   "metadata": {},
   "source": [
    "-----------------------\n",
    "\n",
    "\n",
    "<br>"
   ]
  },
  {
   "cell_type": "markdown",
   "id": "e15ee430",
   "metadata": {},
   "source": [
    "### <font color = #21618C> Pontuações :"
   ]
  },
  {
   "cell_type": "markdown",
   "id": "20039f82",
   "metadata": {},
   "source": [
    "\n",
    "<br>"
   ]
  },
  {
   "cell_type": "markdown",
   "id": "28ef8f36",
   "metadata": {},
   "source": [
    "- Não foi considerada a população em que o voto era facultativo, fator que pode impactar a análise da população votante ;\n",
    "\n",
    "- Também não foi considerada a população com impedimento técnico/jurídico no momento de se considerar a população votante.\n",
    "\n",
    "\n",
    "Informações sobre as condições para o voto em 2018 podem ser acessadas em : https://agenciabrasil.ebc.com.br/politica/noticia/2018-09/eleicoes-2018-saiba-quem-pode-e-quem-nao-pode-votar"
   ]
  },
  {
   "cell_type": "markdown",
   "id": "89e681c2",
   "metadata": {},
   "source": [
    "-------------------\n",
    "<br>"
   ]
  },
  {
   "cell_type": "markdown",
   "id": "e3ad60d9",
   "metadata": {},
   "source": [
    "###  <font color = #21618C> Links dos Datasets Utilizados :"
   ]
  },
  {
   "cell_type": "markdown",
   "id": "7d6d1de7",
   "metadata": {},
   "source": [
    "\n",
    "<br>"
   ]
  },
  {
   "cell_type": "markdown",
   "id": "6d760111",
   "metadata": {},
   "source": [
    "Dados Populacionais : https://basedosdados.org/dataset/br-ms-populacao\n",
    "\n",
    "\n",
    "Dados Eleitorais : https://basedosdados.org/dataset/br-tse-eleicoes \n",
    "\n",
    "<br>\n",
    "\n",
    "Obs. : No caso dos dados eleitorais, foi utilizado o conjunto de dados \"resultados_candidato_municipio\"\n",
    "\n",
    "\n",
    "<br>\n",
    "\n",
    "---------------------\n",
    "<br>\n"
   ]
  },
  {
   "cell_type": "markdown",
   "id": "5d7ccae7",
   "metadata": {},
   "source": [
    "##  <font color = #21618C> Material Elaborado Por :\n",
    "    \n",
    "<br>\n",
    "<br>\n",
    "    \n",
    "    "
   ]
  },
  {
   "cell_type": "markdown",
   "id": "3ebc7600",
   "metadata": {},
   "source": [
    "<tr>\n",
    "<td> <img src=\"imagens/Thiago.png\" width = \"150\" align = \"left\"/> </td>\n",
    "</tr>\n",
    "\n",
    "<br>\n",
    "\n"
   ]
  },
  {
   "cell_type": "markdown",
   "id": "f501495d",
   "metadata": {},
   "source": [
    "<br>\n",
    "\n",
    "\n",
    "<br>\n",
    "\n",
    "<tr>\n",
    "<td> <a href=\"https://www.linkedin.com/in/thiagopd/\" > <img src = \"imagens/linkedin.png\" width = \"25\"  align = \"left\" /> </a>  </td>             <td> <a href=\"https://github.com/tp-duarte\" > <img src = \"imagens/GitHub-Logo.png\" width = \"60\" height = \"100\" align = \"left\" /> </a>  </td>  </tr>\n",
    "\n",
    "<pre> <font size =  5 align = 'up' > Thiago Duarte "
   ]
  }
 ],
 "metadata": {
  "kernelspec": {
   "display_name": "Python 3 (ipykernel)",
   "language": "python",
   "name": "python3"
  },
  "language_info": {
   "codemirror_mode": {
    "name": "ipython",
    "version": 3
   },
   "file_extension": ".py",
   "mimetype": "text/x-python",
   "name": "python",
   "nbconvert_exporter": "python",
   "pygments_lexer": "ipython3",
   "version": "3.9.5"
  }
 },
 "nbformat": 4,
 "nbformat_minor": 5
}
