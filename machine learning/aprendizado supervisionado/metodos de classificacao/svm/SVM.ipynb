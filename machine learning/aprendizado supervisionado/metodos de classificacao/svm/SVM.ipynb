{
 "cells": [
  {
   "cell_type": "markdown",
   "id": "29784247",
   "metadata": {},
   "source": [
    "<img src = 'Imagens/logo data.aqa.jpg' >"
   ]
  },
  {
   "cell_type": "markdown",
   "id": "d7667687",
   "metadata": {},
   "source": [
    "\n",
    "<br>\n",
    "\n",
    "# <span style = \"font-family:Times New Roman\"><font color = #0f4e8c> Support Vector Machines (SVM)\n",
    "\n",
    "<br> "
   ]
  },
  {
   "cell_type": "markdown",
   "id": "c5fa8f44",
   "metadata": {},
   "source": [
    "\n",
    "<br>\n",
    "\n",
    "O *Support Vector Machine* (máquina de vetores de suporte), é um algoritmo que foi criado nos anos 90 por [Vladimir Vapnik](https://en.wikipedia.org/wiki/Vladimir_Vapnik), ele pode ser utilizado tanto para tarefas de regressão quanto para tarefas de classificação, nesta aula nos atentaremos ao problema de classificação.\n",
    "\n",
    "O objetivo do algoritmo em uma tarefa de classificação é prever o mais acuradamente possível a categoria de um determinado registro. Isso será feito com base em uma matriz $n x p$, sendo $n$ o número de observações e $p$ o espaço dimensional do modelo. \n",
    "\n",
    "<br>\n"
   ]
  },
  {
   "cell_type": "markdown",
   "id": "0f0c1a67",
   "metadata": {},
   "source": [
    "### $x_1 = \\begin{pmatrix} x_{11} \\\\ . \\\\ . \\\\ x_{1p} \\end{pmatrix} , ... ,x_n = \\begin{pmatrix} x_{n1} \\\\ . \\\\ . \\\\ x_{np} \\end{pmatrix}$"
   ]
  },
  {
   "cell_type": "markdown",
   "id": "93b052fe",
   "metadata": {},
   "source": [
    "\n",
    "<br>\n",
    "\n",
    "A ideia é utilizar essa matriz para prever os dados de teste, de maneira a classificá-los em uma determinada categoria. Essa categorização se dá através de um hiperplano.\n",
    "\n",
    "<br>\n"
   ]
  },
  {
   "cell_type": "markdown",
   "id": "3f36f44b",
   "metadata": {},
   "source": [
    "<img src = 'Imagens/Múltiplos Hiperplanos .png' > <font color = #777877><center> Fonte : Elaboração própria </center>"
   ]
  },
  {
   "cell_type": "markdown",
   "id": "be1d2566",
   "metadata": {},
   "source": [
    "<br>\n",
    "\n",
    "Na imagem acima, por exemplo, podemos separar duas categorias em classes de acordo com a sua posição nos parâmetros X1 e X2. Esta separação pode ocorrer com a reta azul. Mas também pode ocorrer com a reta amarela ou a verde, ou até mesmo com as infinitas retas que são possíveis de serem feitas entre X1 e X2. \n",
    "\n",
    "O desafio posto, portanto, não é somente a separaçao entre classes, mas sim qual o melhor tipo de de separação possível para classificar o conjunto de dados. Isso irá contribuir para que estimemos bem valores não vistos pelo modelo.\n",
    "\n",
    "O que podemos fazer para classificar o melhor possível as categorias é justamente utilizar os support vectors. Os support vectors são os pontos de classe que mais se aproximam da outra. Na imagem abaixo conseguimos ver os support vectors de cada uma das classes. O modelo irá traçar uma reta que seja ortogonal aos support vectors para realizar a divisão entre classes.\n",
    "\n",
    "<br> \n"
   ]
  },
  {
   "cell_type": "markdown",
   "id": "2f1d42fd",
   "metadata": {},
   "source": [
    "<img src = 'Imagens/Support Vectors.png' ><font color = #777877><center> Fonte : Elaboração própria </center>"
   ]
  },
  {
   "cell_type": "markdown",
   "id": "295ae75e",
   "metadata": {},
   "source": [
    "## <span style = \"font-family:Times New Roman\"><font color = #0f4e8c> Hiperplano\n",
    "    \n",
    "<br>"
   ]
  },
  {
   "cell_type": "markdown",
   "id": "f82a0c70",
   "metadata": {},
   "source": [
    "Quando a divisão entre classes se dá através de uma reta, temos a equação :\n",
    "\n",
    "###  <center> $\\beta_{0} + \\beta{}_1X_1 + \\beta{}_2X_2  $ </center> \n",
    "\n",
    "Onde o hiperplano é composto por :\n",
    "\n",
    "### <center> $\\beta_{0} + \\beta{}_1X_1 + \\beta{}_2X_2 = 0  $ </center>\n",
    "\n",
    "Esta equação do hiperplano, neste caso específico, é uma reta, porém essa fórmula também pode ser generalizada para as p dimensões que compõem o hiperplano da seguinte maneira :\n",
    "<br>\n",
    "\n",
    "### $\\beta_{0} + \\beta{}_1 X_1 + ... + \\beta{}_p X_p = 0 $\n",
    "<br>\n",
    "\n",
    "\n",
    "O valor de $\\beta{0}$ trará o deslocamento do hiperplano e os outros coeficientes $\\beta$ indicarão a inclinação do hiperplano. Entretanto, o desafio não acaba aqui. Queremos utilizar o hiperplano para classificar as $y$ classes nas $i$ observações. A notação utilizada para classificação é a seguinte :\n",
    "\n",
    "<br>\n",
    "\n",
    "\n",
    "Quando **$\\beta_{0} + \\beta{}_1 X_{i1} + ... + \\beta{}_p X_{ip} < 0 $**, temos que $y_i$ =  -1 &nbsp; &nbsp; **(1)** ;\n",
    "\n",
    "Quando **$\\beta_{0} + \\beta{}_1 X_{i1} + ... + \\beta{}_p X_{ip} > 0 $**, temos que $y_i$ = +1 &nbsp; &nbsp; **(2)** .\n",
    "\n",
    "<br>\n",
    "\n",
    "Sendo que $i = 1 ... n$.\n",
    "\n",
    "<br>"
   ]
  },
  {
   "cell_type": "markdown",
   "id": "242eeb59",
   "metadata": {},
   "source": [
    "<img src = 'Imagens/Divisão de Classes.png'> <font color = #777877><center> Fonte : Elaboração própria </center>"
   ]
  },
  {
   "cell_type": "markdown",
   "id": "e1501178",
   "metadata": {},
   "source": [
    "\n",
    "<br>\n",
    "\n",
    "No caso da imagem acima, os registros que possuem como resultado o valor da inequação **(1)** são classificados como bolinhas roxas e os registros que possuem como resultado o valor da inequação **(2)** estão classificados como bolinhas pretas. \n",
    "\n",
    "<br>\n"
   ]
  },
  {
   "cell_type": "markdown",
   "id": "deb9830f",
   "metadata": {},
   "source": [
    "## <span style = \"font-family:Times New Roman\"><font color = #0f4e8c> Margem\n",
    "    \n",
    "<br>"
   ]
  },
  {
   "cell_type": "markdown",
   "id": "003eb44d",
   "metadata": {},
   "source": [
    "Outro conceito importante é o da margem. A Margem é o espaço existente entre os *support vectors* e pode vista como na figura abaixo"
   ]
  },
  {
   "cell_type": "markdown",
   "id": "833fa010",
   "metadata": {},
   "source": [
    "<img src = 'Imagens/Margem.png'> <font color = #777877><center> Fonte : Elaboração própria </center>"
   ]
  },
  {
   "cell_type": "markdown",
   "id": "04b805a9",
   "metadata": {},
   "source": [
    "\n",
    "<br>\n",
    "\n",
    "Através da margem, nós conseguimos visualizar qual é a distância entre os tipos de classificação. E, quanto maior a distância/margem, melhor ocorre a categorização dos registros. Uma das maneiras de **maximizar a margem** é através do *Maximum Margin Classifier*, ele permite a melhor classificação encontrando os valores $\\beta_{p}$ valores que maximizem a margem $M$. Nós não vamos entrar no caráter matemático deste processo de otimização devido à sua complexidade, porém, você pode ler este artigo feito pelo cientista de dados [**Shuzhan Fan**](https://shuzhanfan.github.io/2018/05/understanding-mathematics-behind-support-vector-machines/#:~:text=SVM%20Lagrange%20problem&text=%CE%B1%20is%20called%20the%20Lagrange,%2Bb) que explica em detalhes os cálculos realizados pelo modelo. \n",
    "\n",
    "<br>\n"
   ]
  },
  {
   "cell_type": "markdown",
   "id": "4020e0fb",
   "metadata": {},
   "source": [
    "### <span style = \"font-family:Times New Roman\"><font color = #0f4e8c> Soft Margin Classifier\n",
    "    \n",
    "<br>\n",
    "    "
   ]
  },
  {
   "cell_type": "markdown",
   "id": "a6f3c4ba",
   "metadata": {},
   "source": [
    "\n",
    "<br>\n",
    "\n",
    "Agora observe os casos de classificação abaixo "
   ]
  },
  {
   "cell_type": "markdown",
   "id": "ced71933",
   "metadata": {},
   "source": [
    "<tr>\n",
    "<td> <img src = \"Imagens/Margem Pequena.png\" align = left />  </td><td>  <img src = \"Imagens/Não Separáveis .png\"   align = \"left\" />  </td>  </tr>"
   ]
  },
  {
   "cell_type": "markdown",
   "id": "c02db8d7",
   "metadata": {},
   "source": [
    "\n",
    "<br>\n",
    "\n",
    "Na imagem à esquerda apesar de a maioria dos registros entre as classes estarem distantes uns dos outros, existe um registro de uma única bolinha roxa que se aproxima das bolinhas pretas de maneira a reduzir consideravelmente a margem quando comparando-se com a imagem anterior. Esta situação poderia levar ao ***overfitting*** quando colocarmos o modelo em produção, já que o algoritmo *Maximum Margin Classifier* não consegueria generalizar de maneira adequada a maioria das obserações dos dados de treino.\n",
    "\n",
    "Na imagem à direita, apesar de conseguirmos perceber que existe um certo agrupamento de classes, porém esta separação não seria possível através do *Maximum Margin Classifier*, já que existem alguns registros que se misturam com uma classe distinta. classe.\n",
    "\n",
    "Uma maneira de atacar este problema é utilizando o ***Soft Margin Classifier***. Através de uma margem flexível, é possível generalizar a classificação de classes. A *soft margin* permite que alguns registros sejam classificados erroneamente como uma maneira de aumentar a robustez geral das classificações geradas pelo hiperplano do algoritmo. A maneira como ele realiza isto é através das $\\epsilon_i$ *slack variables*. Elas podem ser compreendidas como variáveis de afrouxamento do modelo que são caracterizadas pelas $x_n$ observações que estão : dentro do lado certo da margem, fora do lado certo da margem mas dentro do lado certo do hiperplano, ou fora do lado certo do hiperplano. Adicionalmente é utilizado um parâmetro de regularização $C$ que ajusta a margem do modelo. Quanto maior o valor de $C$, maior será a margem e vice versa. A formulação matemática deste problema de otimização é  \n"
   ]
  },
  {
   "cell_type": "markdown",
   "id": "c62a8130",
   "metadata": {},
   "source": [
    "### <center> $\\sum\\limits_{{j=1}}^{p} \\beta_j^2+  C $  $($ $ \\sum\\limits_{i=1}^{n} \\epsilon_i)$ </center>"
   ]
  },
  {
   "cell_type": "markdown",
   "id": "228243eb",
   "metadata": {},
   "source": [
    "Os valores de C podem ser ajustados através da validação cruzada. \n",
    "\n",
    "<br>\n"
   ]
  },
  {
   "cell_type": "markdown",
   "id": "c5fe2efb",
   "metadata": {},
   "source": [
    "## <span style = \"font-family:Times New Roman\"><font color = #0f4e8c> Support Vector Machines \n",
    "    \n",
    "<br>            "
   ]
  },
  {
   "cell_type": "markdown",
   "id": "316d1a79",
   "metadata": {},
   "source": [
    "Por último, temos o problema abaixo :"
   ]
  },
  {
   "cell_type": "markdown",
   "id": "160e987d",
   "metadata": {},
   "source": [
    "Finalmente chegamos ao problema "
   ]
  },
  {
   "cell_type": "markdown",
   "id": "817288ce",
   "metadata": {},
   "source": [
    "# <font color = red> MOVING DATA TO HIGHER DIMENSIONAL SPACE "
   ]
  },
  {
   "cell_type": "markdown",
   "id": "593855bc",
   "metadata": {},
   "source": [
    "# <font color = red> KERNEL METHODS"
   ]
  },
  {
   "cell_type": "markdown",
   "id": "4a60c347",
   "metadata": {},
   "source": [
    "Combinações não lineares para a criação de um hiperplano não linear, para que, desta maneira, possa ocorrer uma separação linear."
   ]
  },
  {
   "cell_type": "markdown",
   "id": "b33bba94",
   "metadata": {},
   "source": [
    "**Radial Basis Function (RBF) ou Gaussian kernel**"
   ]
  },
  {
   "cell_type": "markdown",
   "id": "43784b53",
   "metadata": {},
   "source": [
    "SE OS NOSSOS DADOS PODEM SER SEPARADOS POR UM HIPERPLANO, EXISTIRÃO UMA INFINIDADE DE POSSÍVEIS HIPERPLANOS PARA REALIZAR A SEPARAÇÃO DOS DADOS. Uma das maneiras de solucionar isso é utilizando o **maximal margin hyperplane**. Calcula-se a distância perpendicular entre os pontos."
   ]
  },
  {
   "cell_type": "markdown",
   "id": "1b38fc1d",
   "metadata": {},
   "source": [
    "Utiliza o *soft margin* "
   ]
  },
  {
   "cell_type": "markdown",
   "id": "f36a8a21",
   "metadata": {},
   "source": [
    "# <font color = red> FÓRMULAS DO SUPPORT VECTOR "
   ]
  },
  {
   "cell_type": "markdown",
   "id": "9aba1f36",
   "metadata": {},
   "source": [
    "# <font color = red> ENTENDER COMO OS SUPPORT VECTORS MAXIMIZAM A MARGEM DO HIPERPLANO  "
   ]
  },
  {
   "cell_type": "markdown",
   "id": "17f649df",
   "metadata": {},
   "source": [
    "That is, we can compute the (perpendicular) distance from each training observation to a given separating hyperplane; the smallest such distance is the minimal distance from the observations to the hyperplane, and is known as the margin"
   ]
  },
  {
   "cell_type": "markdown",
   "id": "c956bdab",
   "metadata": {},
   "source": [
    "O MAXIMUM MARGIN HYPERPLANE, vai ser o hiperplano no qual a distância mínima entre os pontos de treino é a maior possível. Com base nisso será possível realizar classificações pelo método que se chama Maximum Margin Classifier \n",
    "\n",
    "pág. 378"
   ]
  },
  {
   "cell_type": "markdown",
   "id": "484beead",
   "metadata": {},
   "source": [
    "\n",
    "<br>\n",
    "\n",
    "The support vector machine (SVM) is an extension of the support vector support vector machine classifier that results from enlarging the feature space in a specific way, using kernels.\n",
    "\n",
    "<br>\n"
   ]
  },
  {
   "cell_type": "markdown",
   "id": "98c1688d",
   "metadata": {},
   "source": [
    "## <span style = \"font-family:Times New Roman\"><font color = #0f4e8c> Analisando Dados de Ataque Cardíaco \n",
    "    \n",
    "<br>"
   ]
  },
  {
   "cell_type": "code",
   "execution_count": 1,
   "id": "1c1ed723",
   "metadata": {},
   "outputs": [],
   "source": [
    "import pandas as pd "
   ]
  },
  {
   "cell_type": "markdown",
   "id": "30f8709f",
   "metadata": {},
   "source": [
    "## <font color = red> TRANSFORMANDO VARIÁVEIS CATEGÓRICAS "
   ]
  },
  {
   "cell_type": "markdown",
   "id": "c511307e",
   "metadata": {},
   "source": [
    "## <font color = red> ONE HOT LABEL ENCODER"
   ]
  },
  {
   "cell_type": "code",
   "execution_count": 2,
   "id": "eeaab03a",
   "metadata": {},
   "outputs": [],
   "source": [
    "data = pd.read_csv('dados/healthcare-dataset-stroke-data.csv')"
   ]
  },
  {
   "cell_type": "code",
   "execution_count": 4,
   "id": "b2134ec6",
   "metadata": {},
   "outputs": [
    {
     "data": {
      "text/plain": [
       "id                     0\n",
       "gender                 0\n",
       "age                    0\n",
       "hypertension           0\n",
       "heart_disease          0\n",
       "ever_married           0\n",
       "work_type              0\n",
       "Residence_type         0\n",
       "avg_glucose_level      0\n",
       "bmi                  201\n",
       "smoking_status         0\n",
       "stroke                 0\n",
       "dtype: int64"
      ]
     },
     "execution_count": 4,
     "metadata": {},
     "output_type": "execute_result"
    }
   ],
   "source": [
    "data.isna().sum()"
   ]
  },
  {
   "cell_type": "markdown",
   "id": "97b99afd",
   "metadata": {},
   "source": [
    "------------------------------\n",
    "<br>\n",
    "\n",
    "## <span style = \"font-family:Times New Roman\"><font color = #0f4e8c> Sintetizando \n",
    "\n",
    "<br>\n",
    "    \n",
    "-----------------------------------------------------------\n",
    "    \n",
    "<br>\n",
    "\n",
    "    \n",
    "    "
   ]
  },
  {
   "cell_type": "markdown",
   "id": "a141a969",
   "metadata": {},
   "source": [
    "\n",
    "<br>\n",
    "\n",
    "## <span style = \"font-family:Times New Roman\"><font color = #0f4e8c> Referências \n",
    "\n",
    "<br>\n"
   ]
  },
  {
   "cell_type": "markdown",
   "id": "40028792",
   "metadata": {},
   "source": [
    "- https://shuzhanfan.github.io/2018/05/understanding-mathematics-behind-support-vector-machines/#:~:text=SVM%20Lagrange%20problem&text=%CE%B1%20is%20called%20the%20Lagrange,%2Bb)%E2%88%921%5D."
   ]
  },
  {
   "cell_type": "markdown",
   "id": "1075b8b2",
   "metadata": {},
   "source": [
    "## <span style = \"font-family:Times New Roman\"><font color = #0f4e8c>  Material Elaborado Por  "
   ]
  },
  {
   "cell_type": "markdown",
   "id": "f22b54e4",
   "metadata": {},
   "source": [
    "<tr>\n",
    "<td> <img src=\"imagens/Thiago.png\" width = \"150\" align = \"left\"/> </td>\n",
    "</tr>\n",
    "\n",
    "<br>\n"
   ]
  },
  {
   "cell_type": "markdown",
   "id": "e71b9bf8",
   "metadata": {},
   "source": [
    "<br>\n",
    "\n",
    "\n",
    "<br>\n",
    "\n",
    "<tr>\n",
    "<td> <a href=\"https://www.linkedin.com/in/thiagopd/\" > <img src = \"imagens/linkedin.png\" width = \"25\"  align = \"left\" /> </a>  </td>             <td> <a href=\"https://github.com/tp-duarte\" > <img src = \"imagens/GitHub-Logo.png\" width = \"60\" height = \"100\" align = \"left\" /> </a>  </td>  </tr>\n",
    "\n",
    "<pre> <font size =  5 align = 'up' > Thiago Duarte "
   ]
  }
 ],
 "metadata": {
  "kernelspec": {
   "display_name": "Python 3 (ipykernel)",
   "language": "python",
   "name": "python3"
  },
  "language_info": {
   "codemirror_mode": {
    "name": "ipython",
    "version": 3
   },
   "file_extension": ".py",
   "mimetype": "text/x-python",
   "name": "python",
   "nbconvert_exporter": "python",
   "pygments_lexer": "ipython3",
   "version": "3.9.5"
  }
 },
 "nbformat": 4,
 "nbformat_minor": 5
}
