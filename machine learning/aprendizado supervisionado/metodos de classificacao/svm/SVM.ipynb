{
 "cells": [
  {
   "cell_type": "markdown",
   "id": "29784247",
   "metadata": {},
   "source": [
    "<img src = 'Imagens/logo data.aqa.jpg' >"
   ]
  },
  {
   "cell_type": "markdown",
   "id": "d7667687",
   "metadata": {},
   "source": [
    "\n",
    "<br>\n",
    "\n",
    "# <span style = \"font-family:Times New Roman\"><font color = #0f4e8c> Support Vector Machines (SVM)\n",
    "\n",
    "<br> "
   ]
  },
  {
   "cell_type": "markdown",
   "id": "c5fa8f44",
   "metadata": {},
   "source": [
    "\n",
    "<br>\n",
    "\n",
    "O *Support Vector Machine* (máquina de vetores de suporte), é um algoritmo que foi criado nos anos 90 por [Vladimir Vapnik](https://en.wikipedia.org/wiki/Vladimir_Vapnik), ele pode ser utilizado tanto para tarefas de regressão quanto para tarefas de classificação, nesta aula nos atentaremos ao problema de classificação.\n",
    "\n",
    "O objetivo do algoritmo em uma tarefa de classificação é prever o mais acuradamente possível a categoria de um determinado registro. Isso será feito com base em uma matriz $n x p$, sendo $n$ o número de observações e $p$ o espaço dimensional do modelo. \n",
    "\n",
    "<br>\n"
   ]
  },
  {
   "cell_type": "markdown",
   "id": "0f0c1a67",
   "metadata": {},
   "source": [
    "### $x_1 = \\begin{pmatrix} x_{11} \\\\ . \\\\ . \\\\ x_{1p} \\end{pmatrix} , ... ,x_n = \\begin{pmatrix} x_{n1} \\\\ . \\\\ . \\\\ x_{np} \\end{pmatrix}$"
   ]
  },
  {
   "cell_type": "markdown",
   "id": "93b052fe",
   "metadata": {},
   "source": [
    "\n",
    "<br>\n",
    "\n",
    "A ideia é utilizar essa matriz para prever os dados de teste, de maneira a classificá-los em uma determinada categoria. Essa categorização se dá através de um hiperplano.\n",
    "\n",
    "<br>\n"
   ]
  },
  {
   "cell_type": "markdown",
   "id": "3f36f44b",
   "metadata": {},
   "source": [
    "<img src = 'Imagens/Múltiplos Hiperplanos .png' > <font color = #777877><center> Fonte : Elaboração própria </center>"
   ]
  },
  {
   "cell_type": "markdown",
   "id": "be1d2566",
   "metadata": {},
   "source": [
    "<br>\n",
    "\n",
    "Na imagem acima, por exemplo, podemos separar duas categorias em classes de acordo com a sua posição nos parâmetros X1 e X2. Esta separação pode ocorrer com a reta azul. Mas também pode ocorrer com a reta amarela ou a verde, ou até mesmo com as infinitas retas que são possíveis de serem feitas entre X1 e X2. \n",
    "\n",
    "O desafio posto, portanto, não é somente a separaçao entre classes, mas sim qual o melhor tipo de de separação possível para classificar o conjunto de dados. Isso irá contribuir para que estimemos bem valores não vistos pelo modelo.\n",
    "\n",
    "O que podemos fazer para classificar o melhor possível as categorias é justamente utilizar os support vectors. Os support vectors são os pontos de classe que mais se aproximam da outra. Na imagem abaixo conseguimos ver os support vectors de cada uma das classes. O modelo irá traçar uma reta que seja ortogonal aos support vectors para realizar a divisão entre classes.\n",
    "\n",
    "<br> \n"
   ]
  },
  {
   "cell_type": "markdown",
   "id": "2f1d42fd",
   "metadata": {},
   "source": [
    "<img src = 'Imagens/Support Vectors.png' ><font color = #777877><center> Fonte : Elaboração própria </center>"
   ]
  },
  {
   "cell_type": "markdown",
   "id": "295ae75e",
   "metadata": {},
   "source": [
    "## <span style = \"font-family:Times New Roman\"><font color = #0f4e8c> Hiperplano\n",
    "    \n",
    "<br>"
   ]
  },
  {
   "cell_type": "markdown",
   "id": "f82a0c70",
   "metadata": {},
   "source": [
    "Quando a divisão entre classes se dá através de uma reta, temos a equação :\n",
    "\n",
    "###  <center> $\\beta_{0} + \\beta{}_1X_1 + \\beta{}_2X_2  $ </center> \n",
    "\n",
    "Onde o hiperplano é composto por :\n",
    "\n",
    "### <center> $\\beta_{0} + \\beta{}_1X_1 + \\beta{}_2X_2 = 0  $ </center>\n",
    "\n",
    "Esta equação do hiperplano, neste caso específico, é uma reta, porém essa fórmula também pode ser generalizada para as p dimensões que compõem o hiperplano da seguinte maneira :\n",
    "<br>\n",
    "\n",
    "### $\\beta_{0} + \\beta{}_1 X_1 + ... + \\beta{}_p X_p = 0 $\n",
    "<br>\n",
    "\n",
    "\n",
    "O valor de $\\beta_{0}$ trará o deslocamento do hiperplano e os outros coeficientes $\\beta$ indicarão a inclinação do hiperplano. Entretanto, o desafio não acaba aqui. Queremos utilizar o hiperplano para classificar as $y$ classes nas $i$ observações. A notação utilizada para classificação é a seguinte :\n",
    "\n",
    "<br>\n",
    "\n",
    "\n",
    "Quando **$\\beta_{0} + \\beta{}_1 X_{i1} + ... + \\beta{}_p X_{ip} < 0 $**, temos que $y_i$ =  -1 &nbsp; &nbsp; **(1)** ;\n",
    "\n",
    "Quando **$\\beta_{0} + \\beta{}_1 X_{i1} + ... + \\beta{}_p X_{ip} > 0 $**, temos que $y_i$ = +1 &nbsp; &nbsp; **(2)** .\n",
    "\n",
    "<br>\n",
    "\n",
    "Sendo que $i = 1 ... n$.\n",
    "\n",
    "<br>"
   ]
  },
  {
   "cell_type": "markdown",
   "id": "242eeb59",
   "metadata": {},
   "source": [
    "<img src = 'Imagens/Divisão de Classes.png'> <font color = #777877><center> Fonte : Elaboração própria </center>"
   ]
  },
  {
   "cell_type": "markdown",
   "id": "e1501178",
   "metadata": {},
   "source": [
    "\n",
    "<br>\n",
    "\n",
    "No caso da imagem acima, os registros que possuem como resultado o valor da inequação **(1)** são classificados como bolinhas roxas e os registros que possuem como resultado o valor da inequação **(2)** estão classificados como bolinhas pretas. \n",
    "\n",
    "<br>\n"
   ]
  },
  {
   "cell_type": "markdown",
   "id": "deb9830f",
   "metadata": {},
   "source": [
    "## <span style = \"font-family:Times New Roman\"><font color = #0f4e8c> Margem\n",
    "    \n",
    "<br>"
   ]
  },
  {
   "cell_type": "markdown",
   "id": "003eb44d",
   "metadata": {},
   "source": [
    "Outro conceito importante é o da margem. A Margem é o espaço existente entre os *support vectors* e pode vista como na figura abaixo"
   ]
  },
  {
   "cell_type": "markdown",
   "id": "833fa010",
   "metadata": {},
   "source": [
    "<img src = 'Imagens/Margem.png'> <font color = #777877><center> Fonte : Elaboração própria </center>"
   ]
  },
  {
   "cell_type": "markdown",
   "id": "04b805a9",
   "metadata": {},
   "source": [
    "\n",
    "<br>\n",
    "\n",
    "Através da margem, nós conseguimos visualizar qual é a distância entre os tipos de classificação. E, quanto maior a distância/margem, melhor ocorre a categorização dos registros. Uma das maneiras de **maximizar a margem** é através do *Maximum Margin Classifier*, ele permite a melhor classificação encontrando os valores $\\beta_{p}$ valores que maximizem a margem $M$. Nós não vamos entrar no caráter matemático deste processo de otimização devido à sua complexidade, porém, você pode ler este artigo feito pelo cientista de dados [**Shuzhan Fan**](https://shuzhanfan.github.io/2018/05/understanding-mathematics-behind-support-vector-machines/#:~:text=SVM%20Lagrange%20problem&text=%CE%B1%20is%20called%20the%20Lagrange,%2Bb) que explica em detalhes os cálculos realizados pelo modelo. \n",
    "\n",
    "<br>\n"
   ]
  },
  {
   "cell_type": "markdown",
   "id": "4020e0fb",
   "metadata": {},
   "source": [
    "### <span style = \"font-family:Times New Roman\"><font color = #0f4e8c> Soft Margin Classifier\n",
    "    \n",
    "<br>\n",
    "    "
   ]
  },
  {
   "cell_type": "markdown",
   "id": "a6f3c4ba",
   "metadata": {},
   "source": [
    "\n",
    "<br>\n",
    "\n",
    "Agora observe os casos de classificação abaixo "
   ]
  },
  {
   "cell_type": "markdown",
   "id": "ced71933",
   "metadata": {},
   "source": [
    "<tr>\n",
    "<td> <img src = \"Imagens/Margem Pequena.png\" align = left />  </td><td>  <img src = \"Imagens/Não Separáveis .png\"   align = \"left\" />  </td>  </tr>"
   ]
  },
  {
   "cell_type": "markdown",
   "id": "c02db8d7",
   "metadata": {},
   "source": [
    "\n",
    "<br>\n",
    "\n",
    "Na imagem à esquerda apesar de a maioria dos registros entre as classes estarem distantes uns dos outros, existe um registro de uma única bolinha roxa que se aproxima das bolinhas pretas de maneira a reduzir consideravelmente a margem quando comparando-se com a imagem anterior. Esta situação poderia levar ao ***overfitting*** quando colocarmos o modelo em produção, já que o algoritmo *Maximum Margin Classifier* não consegueria generalizar de maneira adequada a maioria das obserações dos dados de treino.\n",
    "\n",
    "Na imagem à direita, apesar de conseguirmos perceber que existe um certo agrupamento de classes, porém esta separação não seria possível através do *Maximum Margin Classifier*, já que existem alguns registros que se misturam com uma classe distinta. classe.\n",
    "\n",
    "Uma maneira de atacar este problema é utilizando o ***Soft Margin Classifier***. Através de uma margem flexível, é possível generalizar a classificação de classes. A *soft margin* permite que alguns registros sejam classificados erroneamente como uma maneira de aumentar a robustez geral das classificações geradas pelo hiperplano do algoritmo. A maneira como ele realiza isto é através das $\\epsilon_i$ *slack variables*. Elas podem ser compreendidas como variáveis de afrouxamento do modelo que são caracterizadas pelas $x_n$ observações que estão : dentro do lado certo da margem, fora do lado certo da margem mas dentro do lado certo do hiperplano, ou fora do lado certo do hiperplano. Adicionalmente é utilizado um parâmetro de regularização $C$ que ajusta a margem do modelo. Quanto maior o valor de $C$, maior será a margem e vice versa. A formulação matemática deste problema de otimização é  \n"
   ]
  },
  {
   "cell_type": "markdown",
   "id": "c62a8130",
   "metadata": {},
   "source": [
    "### <center> $\\sum\\limits_{{j=1}}^{p} \\beta_j^2+  C $  $($ $ \\sum\\limits_{i=1}^{n} \\epsilon_i)$ </center>"
   ]
  },
  {
   "cell_type": "markdown",
   "id": "228243eb",
   "metadata": {},
   "source": [
    "\n",
    "<br>\n",
    "\n",
    "Os valores de C podem ser ajustados através da validação cruzada. \n",
    "\n",
    "<br>\n"
   ]
  },
  {
   "cell_type": "markdown",
   "id": "c5fe2efb",
   "metadata": {},
   "source": [
    "\n",
    "<br>\n",
    "\n",
    "\n",
    "## <span style = \"font-family:Times New Roman\"><font color = #0f4e8c> Support Vector Machines \n",
    "    \n",
    "<br>            "
   ]
  },
  {
   "cell_type": "markdown",
   "id": "316d1a79",
   "metadata": {},
   "source": [
    "Por último, temos o caso abaixo :"
   ]
  },
  {
   "cell_type": "markdown",
   "id": "04a400f8",
   "metadata": {},
   "source": [
    "<img src = 'Imagens/Necessidade Transformação dos Registros.png' >"
   ]
  },
  {
   "cell_type": "markdown",
   "id": "160e987d",
   "metadata": {},
   "source": [
    "\n",
    "<br>\n",
    "\n",
    "No caso acima, apesar de termos uma dimensão como a proposta por $\\beta_{0} + \\beta{}_1X_1 + \\beta{}_2X_2 = 0$,  os registros não são separáveis por uma reta de modo a classificar precisamente as categorias. E é aqui que finalmente chegamos ao problema que o ***Support Vectors Machine*** foi criado para contornar. \n",
    "\n",
    "O SVM consegue transformar os registros para outra dimensão, através de *kernels*, trazendo limites de decisão não lineares que aumentam a acurácia das previsões. *Kernels*, são funções que permitem computar a similaridade entre duas observações. Este é um exemplo de um *Kernel* \n",
    "\n",
    "### <center> $ K(x_i,x_{i'}) = ( 1 + \\sum\\limits_{j = 1}^{p} x_{ij}x_{i'j})^d $ </center>\n",
    "\n",
    "<br>\n"
   ]
  },
  {
   "cell_type": "markdown",
   "id": "8099c962",
   "metadata": {},
   "source": [
    "Neste *kernel* polinomial, as variáveis são transformadas em uma dimensão de nível $d$. Quando $d = 1 $  temos o *soft margin classifier* visto anteriormente. "
   ]
  },
  {
   "cell_type": "markdown",
   "id": "9d81f04f",
   "metadata": {},
   "source": [
    "<br>\n",
    "\n",
    "Após transformar o limite de decisão da última imagem, poderíamos obter um novo limite como algo do tipo \n",
    "\n",
    "<br>\n"
   ]
  },
  {
   "cell_type": "markdown",
   "id": "1fda9b2e",
   "metadata": {},
   "source": [
    "<img src = 'Imagens/Limite de Decisão Não Linear.png' >"
   ]
  },
  {
   "cell_type": "markdown",
   "id": "0572e077",
   "metadata": {},
   "source": [
    "<br>\n",
    "\n",
    "Também existem outros tipos de *Kernel*, como é o caso do *Radial Kernel* também conhecido como *Kernel* de Gauss. No *Kernel* Radial,  temos \n",
    "\n",
    "### <center> $ K(x_i,x_{i'}) = exp( -\\gamma \\sum\\limits_{j = 1}^{p} (x_{ij} - x_{i'j})^2) $ </center>\n",
    "Onde, \n",
    "##  $\\gamma = \\frac{1}{2\\sigma^2}$\n"
   ]
  },
  {
   "cell_type": "markdown",
   "id": "7e5d4450",
   "metadata": {},
   "source": [
    "\n",
    "<br>\n",
    "\n",
    "Aqui teremos uma função de similariadade entre os pares de amostra . Sendo que $\\gamma$ é um parâmetro que queremos otimizar. O sinal negativo em $\\gamma$ faz com que o resultado do exponencial fica no intervalo de 1 a 0, sendo que 1 representa amostras perfeitamente similares e 0 representa amostras bastante dissimilares. A função final do *Support Vector Machine* para realizar as classificações pode ser representada como\n",
    "\n",
    "### <center> $f(x) = \\beta_0 + \\sum\\limits_{i \\in S} \\alpha_i K(x, x_i)$ </center>\n",
    "       \n",
    "       \n",
    "Em que $\\beta_0$ indica o deslocamento do hiperplano,  $\\alpha$ é o coeficiente que pode ser obtido através do produto dos $\\binom{n}{2}$ pares para os $i$ registros do conjunto de dados.\n",
    "\n",
    "<br>\n"
   ]
  },
  {
   "cell_type": "markdown",
   "id": "98c1688d",
   "metadata": {},
   "source": [
    "\n",
    "<br>\n",
    "\n",
    "## <span style = \"font-family:Times New Roman\"><font color = #0f4e8c> Analisando Dados de Ataque Cardíaco \n",
    "    \n",
    "<br>"
   ]
  },
  {
   "cell_type": "markdown",
   "id": "1c8ec8e4",
   "metadata": {},
   "source": [
    "\n",
    "<br>\n",
    "\n",
    "Agora iremos aplicar o SVM em um exemplo prático. Iremos analisar a criação e performance do algoritmo [**Stroke Prediction Dataset**](https://www.kaggle.com/datasets/fedesoriano/stroke-prediction-dataset?datasetId=1120859&sortBy=voteCount), diponível no Kaggle. \n",
    "\n",
    "Nele o nosso objetivo será classificar as pessoas que possuem ou não chance de ter um ataque cardíaco, de acordo com variáveis como hipertensão, doença cardíaca, tipo de trabalho etc. \n",
    "\n",
    "<br>\n"
   ]
  },
  {
   "cell_type": "code",
   "execution_count": 26,
   "id": "1c1ed723",
   "metadata": {},
   "outputs": [],
   "source": [
    "import pandas as pd \n",
    "import seaborn as sns\n",
    "import matplotlib.pyplot as plt\n",
    "from sklearn.model_selection import train_test_split"
   ]
  },
  {
   "cell_type": "code",
   "execution_count": 2,
   "id": "eeaab03a",
   "metadata": {},
   "outputs": [],
   "source": [
    "data = pd.read_csv('dados/healthcare-dataset-stroke-data.csv')"
   ]
  },
  {
   "cell_type": "code",
   "execution_count": 21,
   "id": "13eb3df9",
   "metadata": {},
   "outputs": [
    {
     "data": {
      "text/plain": [
       "id                     0\n",
       "gender                 0\n",
       "age                    0\n",
       "hypertension           0\n",
       "heart_disease          0\n",
       "ever_married           0\n",
       "work_type              0\n",
       "Residence_type         0\n",
       "avg_glucose_level      0\n",
       "bmi                  201\n",
       "smoking_status         0\n",
       "stroke                 0\n",
       "dtype: int64"
      ]
     },
     "execution_count": 21,
     "metadata": {},
     "output_type": "execute_result"
    }
   ],
   "source": [
    "data.isna().sum()"
   ]
  },
  {
   "cell_type": "code",
   "execution_count": 6,
   "id": "9f36cf13",
   "metadata": {},
   "outputs": [],
   "source": [
    "y = data[['stroke']]\n",
    "X = data.iloc[:, :11]"
   ]
  },
  {
   "cell_type": "code",
   "execution_count": 7,
   "id": "a8c00e0f",
   "metadata": {},
   "outputs": [],
   "source": [
    "X_train, X_test, y_train, y_test = train_test_split(X, y, test_size= 0.3, random_state= 42)"
   ]
  },
  {
   "cell_type": "markdown",
   "id": "4bf8846f",
   "metadata": {},
   "source": [
    " \n",
    "<br>\n",
    "\n",
    "### <span style = \"font-family:Times New Roman\"><font color = #0f4e8c> Tratamento dos Dados  \n",
    "    \n",
    "<br>"
   ]
  },
  {
   "cell_type": "code",
   "execution_count": 20,
   "id": "1f0fc584",
   "metadata": {},
   "outputs": [
    {
     "name": "stdout",
     "output_type": "stream",
     "text": [
      "Qtd. de NaNs nos dados de Treino 132\n",
      "Qtd. de NaNs nos dados de Teste 69\n"
     ]
    }
   ],
   "source": [
    "# Verificando quantidade de NaNs \n",
    "\n",
    "X_train_nans = X_train.isna().sum() > 0\n",
    "print('Qtd. de NaNs nos dados de Treino',X_train.isna().sum()[X_train_nans][0])\n",
    "\n",
    "X_test_nans = X_test.isna().sum() > 0\n",
    "print('Qtd. de NaNs nos dados de Teste',X_test.isna().sum()[X_test_nans][0])"
   ]
  },
  {
   "cell_type": "code",
   "execution_count": 35,
   "id": "9f2a7b9c",
   "metadata": {},
   "outputs": [
    {
     "data": {
      "image/png": "[encoded data removed]",
      "text/plain": [
       "<Figure size 1296x360 with 2 Axes>"
      ]
     },
     "metadata": {
      "needs_background": "light"
     },
     "output_type": "display_data"
    }
   ],
   "source": [
    "csfont = {'fontname':'Times New Roman'}\n",
    "\n",
    "# Criando formatação da figura e título\n",
    "\n",
    "fig, axes = plt.subplots(1, 2, figsize = (18,5))\n",
    "fig.suptitle('Distribuição dos Dados de Treino e Teste',**csfont ,fontsize = 18)\n",
    "\n",
    "# Realizando plots \n",
    "\n",
    "sns.kdeplot(ax = axes[0], data = X_train['bmi'])\n",
    "sns.kdeplot(ax = axes[1], data = X_test['bmi'])\n",
    "\n",
    "plt.show()"
   ]
  },
  {
   "cell_type": "code",
   "execution_count": 37,
   "id": "a4ab543c",
   "metadata": {},
   "outputs": [
    {
     "data": {
      "image/png": "[encoded data removed]",
      "text/plain": [
       "<Figure size 1296x360 with 2 Axes>"
      ]
     },
     "metadata": {
      "needs_background": "light"
     },
     "output_type": "display_data"
    }
   ],
   "source": [
    "csfont = {'fontname':'Times New Roman'}\n",
    "\n",
    "# Criando formatação da figura e título\n",
    "\n",
    "fig, axes = plt.subplots(1, 2, figsize = (18,5))\n",
    "fig.suptitle('Distribuição dos Dados de Treino e Teste - NaNs Preenchidos',**csfont ,fontsize = 18)\n",
    "\n",
    "# Realizando plots \n",
    "\n",
    "sns.kdeplot(ax = axes[0], data = X_train['bmi'].fillna(method = 'ffill'))\n",
    "sns.kdeplot(ax = axes[1], data = X_test['bmi'].fillna(method = 'ffill'))\n",
    "\n",
    "plt.show()"
   ]
  },
  {
   "cell_type": "code",
   "execution_count": 38,
   "id": "0ffa3ade",
   "metadata": {},
   "outputs": [],
   "source": [
    "X_train['bmi'].fillna(method = 'ffill', inplace = True)\n",
    "X_test['bmi'].fillna(method = 'ffill', inplace = True)"
   ]
  },
  {
   "cell_type": "markdown",
   "id": "b8137d59",
   "metadata": {},
   "source": [
    "\n",
    "<br>\n",
    "\n",
    "O preenchimento com o 'ffill' não parece mudar muito do padrão dos dados nos conjunto originais. Entretanto, se quísessemos fazer uma análise mais precisa, poderíamos avaliar como o erro do modelo se comportaria com diferentes métodos de imputação, como o caso do KNN e MICE. \n",
    "\n",
    "<br>\n"
   ]
  },
  {
   "cell_type": "markdown",
   "id": "30f8709f",
   "metadata": {},
   "source": [
    " \n",
    "<br>\n",
    "\n",
    "### <span style = \"font-family:Times New Roman\"><font color = #0f4e8c> Transformando Variáveis Categóricas - One Hot Label Encoder   \n",
    "    \n",
    "    \n",
    "<br>\n",
    "    \n",
    "    "
   ]
  },
  {
   "cell_type": "markdown",
   "id": "4fa34b35",
   "metadata": {},
   "source": [
    "A próxima etapa que iremos realizar aqui é transformar variáveis categóricas. "
   ]
  },
  {
   "cell_type": "code",
   "execution_count": 43,
   "id": "dd105fe0",
   "metadata": {},
   "outputs": [
    {
     "data": {
      "text/html": [
       "<div>\n",
       "<style scoped>\n",
       "    .dataframe tbody tr th:only-of-type {\n",
       "        vertical-align: middle;\n",
       "    }\n",
       "\n",
       "    .dataframe tbody tr th {\n",
       "        vertical-align: top;\n",
       "    }\n",
       "\n",
       "    .dataframe thead th {\n",
       "        text-align: right;\n",
       "    }\n",
       "</style>\n",
       "<table border=\"1\" class=\"dataframe\">\n",
       "  <thead>\n",
       "    <tr style=\"text-align: right;\">\n",
       "      <th></th>\n",
       "      <th>id</th>\n",
       "      <th>gender</th>\n",
       "      <th>age</th>\n",
       "      <th>hypertension</th>\n",
       "      <th>heart_disease</th>\n",
       "      <th>ever_married</th>\n",
       "      <th>work_type</th>\n",
       "      <th>Residence_type</th>\n",
       "      <th>avg_glucose_level</th>\n",
       "      <th>bmi</th>\n",
       "      <th>smoking_status</th>\n",
       "    </tr>\n",
       "  </thead>\n",
       "  <tbody>\n",
       "    <tr>\n",
       "      <th>3897</th>\n",
       "      <td>24257</td>\n",
       "      <td>Male</td>\n",
       "      <td>4.00</td>\n",
       "      <td>0</td>\n",
       "      <td>0</td>\n",
       "      <td>No</td>\n",
       "      <td>children</td>\n",
       "      <td>Rural</td>\n",
       "      <td>90.42</td>\n",
       "      <td>16.2</td>\n",
       "      <td>Unknown</td>\n",
       "    </tr>\n",
       "    <tr>\n",
       "      <th>576</th>\n",
       "      <td>56179</td>\n",
       "      <td>Male</td>\n",
       "      <td>29.00</td>\n",
       "      <td>0</td>\n",
       "      <td>0</td>\n",
       "      <td>No</td>\n",
       "      <td>Private</td>\n",
       "      <td>Urban</td>\n",
       "      <td>207.58</td>\n",
       "      <td>22.8</td>\n",
       "      <td>smokes</td>\n",
       "    </tr>\n",
       "    <tr>\n",
       "      <th>4013</th>\n",
       "      <td>36388</td>\n",
       "      <td>Male</td>\n",
       "      <td>44.00</td>\n",
       "      <td>1</td>\n",
       "      <td>0</td>\n",
       "      <td>Yes</td>\n",
       "      <td>Private</td>\n",
       "      <td>Rural</td>\n",
       "      <td>91.28</td>\n",
       "      <td>26.5</td>\n",
       "      <td>never smoked</td>\n",
       "    </tr>\n",
       "    <tr>\n",
       "      <th>4536</th>\n",
       "      <td>59405</td>\n",
       "      <td>Female</td>\n",
       "      <td>68.00</td>\n",
       "      <td>1</td>\n",
       "      <td>0</td>\n",
       "      <td>Yes</td>\n",
       "      <td>Private</td>\n",
       "      <td>Urban</td>\n",
       "      <td>150.74</td>\n",
       "      <td>40.3</td>\n",
       "      <td>Unknown</td>\n",
       "    </tr>\n",
       "    <tr>\n",
       "      <th>1180</th>\n",
       "      <td>46643</td>\n",
       "      <td>Female</td>\n",
       "      <td>62.00</td>\n",
       "      <td>0</td>\n",
       "      <td>0</td>\n",
       "      <td>Yes</td>\n",
       "      <td>Private</td>\n",
       "      <td>Rural</td>\n",
       "      <td>82.57</td>\n",
       "      <td>36.0</td>\n",
       "      <td>formerly smoked</td>\n",
       "    </tr>\n",
       "    <tr>\n",
       "      <th>...</th>\n",
       "      <td>...</td>\n",
       "      <td>...</td>\n",
       "      <td>...</td>\n",
       "      <td>...</td>\n",
       "      <td>...</td>\n",
       "      <td>...</td>\n",
       "      <td>...</td>\n",
       "      <td>...</td>\n",
       "      <td>...</td>\n",
       "      <td>...</td>\n",
       "      <td>...</td>\n",
       "    </tr>\n",
       "    <tr>\n",
       "      <th>4426</th>\n",
       "      <td>13846</td>\n",
       "      <td>Male</td>\n",
       "      <td>43.00</td>\n",
       "      <td>0</td>\n",
       "      <td>0</td>\n",
       "      <td>Yes</td>\n",
       "      <td>Govt_job</td>\n",
       "      <td>Rural</td>\n",
       "      <td>88.00</td>\n",
       "      <td>30.6</td>\n",
       "      <td>never smoked</td>\n",
       "    </tr>\n",
       "    <tr>\n",
       "      <th>466</th>\n",
       "      <td>1307</td>\n",
       "      <td>Female</td>\n",
       "      <td>61.00</td>\n",
       "      <td>1</td>\n",
       "      <td>0</td>\n",
       "      <td>Yes</td>\n",
       "      <td>Private</td>\n",
       "      <td>Rural</td>\n",
       "      <td>170.05</td>\n",
       "      <td>60.2</td>\n",
       "      <td>smokes</td>\n",
       "    </tr>\n",
       "    <tr>\n",
       "      <th>3092</th>\n",
       "      <td>31481</td>\n",
       "      <td>Female</td>\n",
       "      <td>1.16</td>\n",
       "      <td>0</td>\n",
       "      <td>0</td>\n",
       "      <td>No</td>\n",
       "      <td>children</td>\n",
       "      <td>Urban</td>\n",
       "      <td>97.28</td>\n",
       "      <td>17.8</td>\n",
       "      <td>Unknown</td>\n",
       "    </tr>\n",
       "    <tr>\n",
       "      <th>3772</th>\n",
       "      <td>61827</td>\n",
       "      <td>Male</td>\n",
       "      <td>80.00</td>\n",
       "      <td>0</td>\n",
       "      <td>0</td>\n",
       "      <td>Yes</td>\n",
       "      <td>Self-employed</td>\n",
       "      <td>Rural</td>\n",
       "      <td>196.08</td>\n",
       "      <td>31.0</td>\n",
       "      <td>formerly smoked</td>\n",
       "    </tr>\n",
       "    <tr>\n",
       "      <th>860</th>\n",
       "      <td>28933</td>\n",
       "      <td>Female</td>\n",
       "      <td>46.00</td>\n",
       "      <td>0</td>\n",
       "      <td>0</td>\n",
       "      <td>Yes</td>\n",
       "      <td>Private</td>\n",
       "      <td>Rural</td>\n",
       "      <td>100.15</td>\n",
       "      <td>50.3</td>\n",
       "      <td>smokes</td>\n",
       "    </tr>\n",
       "  </tbody>\n",
       "</table>\n",
       "<p>3577 rows × 11 columns</p>\n",
       "</div>"
      ],
      "text/plain": [
       "         id  gender    age  hypertension  heart_disease ever_married  \\\n",
       "3897  24257    Male   4.00             0              0           No   \n",
       "576   56179    Male  29.00             0              0           No   \n",
       "4013  36388    Male  44.00             1              0          Yes   \n",
       "4536  59405  Female  68.00             1              0          Yes   \n",
       "1180  46643  Female  62.00             0              0          Yes   \n",
       "...     ...     ...    ...           ...            ...          ...   \n",
       "4426  13846    Male  43.00             0              0          Yes   \n",
       "466    1307  Female  61.00             1              0          Yes   \n",
       "3092  31481  Female   1.16             0              0           No   \n",
       "3772  61827    Male  80.00             0              0          Yes   \n",
       "860   28933  Female  46.00             0              0          Yes   \n",
       "\n",
       "          work_type Residence_type  avg_glucose_level   bmi   smoking_status  \n",
       "3897       children          Rural              90.42  16.2          Unknown  \n",
       "576         Private          Urban             207.58  22.8           smokes  \n",
       "4013        Private          Rural              91.28  26.5     never smoked  \n",
       "4536        Private          Urban             150.74  40.3          Unknown  \n",
       "1180        Private          Rural              82.57  36.0  formerly smoked  \n",
       "...             ...            ...                ...   ...              ...  \n",
       "4426       Govt_job          Rural              88.00  30.6     never smoked  \n",
       "466         Private          Rural             170.05  60.2           smokes  \n",
       "3092       children          Urban              97.28  17.8          Unknown  \n",
       "3772  Self-employed          Rural             196.08  31.0  formerly smoked  \n",
       "860         Private          Rural             100.15  50.3           smokes  \n",
       "\n",
       "[3577 rows x 11 columns]"
      ]
     },
     "execution_count": 43,
     "metadata": {},
     "output_type": "execute_result"
    }
   ],
   "source": [
    "X_train"
   ]
  },
  {
   "cell_type": "markdown",
   "id": "fabc8cab",
   "metadata": {},
   "source": [
    " \n",
    "<br>\n",
    "\n",
    "### <span style = \"font-family:Times New Roman\"><font color = #0f4e8c> Transformando o Espaço das Features  \n",
    "    \n",
    "<br>\n",
    "    "
   ]
  },
  {
   "cell_type": "code",
   "execution_count": null,
   "id": "b3628bb4",
   "metadata": {},
   "outputs": [],
   "source": []
  },
  {
   "cell_type": "code",
   "execution_count": null,
   "id": "ee8d9a98",
   "metadata": {},
   "outputs": [],
   "source": []
  },
  {
   "cell_type": "code",
   "execution_count": null,
   "id": "c53cd093",
   "metadata": {},
   "outputs": [],
   "source": []
  },
  {
   "cell_type": "code",
   "execution_count": null,
   "id": "2fce2a4b",
   "metadata": {},
   "outputs": [],
   "source": []
  },
  {
   "cell_type": "markdown",
   "id": "3569cd24",
   "metadata": {},
   "source": [
    "###  <span style = \"font-family:Times New Roman\"><font color = #0f4e8c>Avaliando a Performance do Modelo - Matrix de Confusão e ROC Curve "
   ]
  },
  {
   "cell_type": "markdown",
   "id": "b29408f0",
   "metadata": {},
   "source": []
  },
  {
   "cell_type": "code",
   "execution_count": null,
   "id": "52552c38",
   "metadata": {},
   "outputs": [],
   "source": []
  },
  {
   "cell_type": "code",
   "execution_count": null,
   "id": "6b90874e",
   "metadata": {},
   "outputs": [],
   "source": []
  },
  {
   "cell_type": "code",
   "execution_count": null,
   "id": "d68cda33",
   "metadata": {},
   "outputs": [],
   "source": []
  },
  {
   "cell_type": "markdown",
   "id": "97b99afd",
   "metadata": {},
   "source": [
    "------------------------------\n",
    "<br>\n",
    "\n",
    "## <span style = \"font-family:Times New Roman\"><font color = #0f4e8c> Sintetizando \n",
    "\n",
    "<br>\n",
    "    \n",
    "-----------------------------------------------------------\n",
    "    \n",
    "<br>\n",
    "\n",
    "    \n",
    "    "
   ]
  },
  {
   "cell_type": "markdown",
   "id": "a141a969",
   "metadata": {},
   "source": [
    "\n",
    "<br>\n",
    "\n",
    "## <span style = \"font-family:Times New Roman\"><font color = #0f4e8c> Referências \n",
    "\n",
    "<br>\n"
   ]
  },
  {
   "cell_type": "markdown",
   "id": "40028792",
   "metadata": {},
   "source": [
    "- https://shuzhanfan.github.io/2018/05/understanding-mathematics-behind-support-vector-machines/#:~:text=SVM%20Lagrange%20problem&text=%CE%B1%20is%20called%20the%20Lagrange,%2Bb)%E2%88%921%5D.\n",
    "<br>\n",
    "\n",
    "- https://scikit-learn.org/stable/modules/generated/sklearn.svm.SVC.html#sklearn.svm.SVC"
   ]
  },
  {
   "cell_type": "markdown",
   "id": "1075b8b2",
   "metadata": {},
   "source": [
    "## <span style = \"font-family:Times New Roman\"><font color = #0f4e8c>  Material Elaborado Por  "
   ]
  },
  {
   "cell_type": "markdown",
   "id": "f22b54e4",
   "metadata": {},
   "source": [
    "<tr>\n",
    "<td> <img src=\"imagens/Thiago.png\" width = \"150\" align = \"left\"/> </td>\n",
    "</tr>\n",
    "\n",
    "<br>\n"
   ]
  },
  {
   "cell_type": "markdown",
   "id": "e71b9bf8",
   "metadata": {},
   "source": [
    "<br>\n",
    "\n",
    "\n",
    "<br>\n",
    "\n",
    "<tr>\n",
    "<td> <a href=\"https://www.linkedin.com/in/thiagopd/\" > <img src = \"imagens/linkedin.png\" width = \"25\"  align = \"left\" /> </a>  </td>             <td> <a href=\"https://github.com/tp-duarte\" > <img src = \"imagens/GitHub-Logo.png\" width = \"60\" height = \"100\" align = \"left\" /> </a>  </td>  </tr>\n",
    "\n",
    "<pre> <font size =  5 align = 'up' > Thiago Duarte "
   ]
  }
 ],
 "metadata": {
  "kernelspec": {
   "display_name": "Python 3 (ipykernel)",
   "language": "python",
   "name": "python3"
  },
  "language_info": {
   "codemirror_mode": {
    "name": "ipython",
    "version": 3
   },
   "file_extension": ".py",
   "mimetype": "text/x-python",
   "name": "python",
   "nbconvert_exporter": "python",
   "pygments_lexer": "ipython3",
   "version": "3.9.5"
  }
 },
 "nbformat": 4,
 "nbformat_minor": 5
}
