{
 "cells": [
  {
   "cell_type": "markdown",
   "id": "29784247",
   "metadata": {},
   "source": [
    "<img src = 'Imagens/logo data.aqa.jpg' >"
   ]
  },
  {
   "cell_type": "markdown",
   "id": "d7667687",
   "metadata": {},
   "source": [
    "\n",
    "# <span style = \"font-family:Times New Roman\"><font color = #0f4e8c> Support Vector Machines \n",
    "\n",
    "<br> "
   ]
  },
  {
   "cell_type": "markdown",
   "id": "c5fa8f44",
   "metadata": {},
   "source": [
    "O QUE É UM VETOR "
   ]
  },
  {
   "cell_type": "markdown",
   "id": "fd9170db",
   "metadata": {},
   "source": [
    "COMO O ALGORITMO REALIZA CLASSIFICAÇÕES"
   ]
  },
  {
   "cell_type": "markdown",
   "id": "78f387dc",
   "metadata": {},
   "source": [
    "MENCIONAR BREVEMENTE A HISTÓRIA "
   ]
  },
  {
   "cell_type": "markdown",
   "id": "29870191",
   "metadata": {},
   "source": []
  },
  {
   "cell_type": "markdown",
   "id": "97b99afd",
   "metadata": {},
   "source": [
    "------------------------------\n",
    "<br>\n",
    "\n",
    "## <span style = \"font-family:Times New Roman\"><font color = #0f4e8c> Sintetizando \n",
    "\n",
    "<br>\n",
    "    \n",
    "-----------------------------------------------------------\n",
    "    \n",
    "<br>\n",
    "\n",
    "    \n",
    "    "
   ]
  },
  {
   "cell_type": "markdown",
   "id": "a141a969",
   "metadata": {},
   "source": [
    "\n",
    "<br>\n",
    "\n",
    "## <span style = \"font-family:Times New Roman\"><font color = #0f4e8c> Referências \n",
    "\n",
    "<br>\n"
   ]
  },
  {
   "cell_type": "markdown",
   "id": "40028792",
   "metadata": {},
   "source": [
    "- T"
   ]
  },
  {
   "cell_type": "markdown",
   "id": "1075b8b2",
   "metadata": {},
   "source": [
    "## <span style = \"font-family:Times New Roman\"><font color = #0f4e8c>  Material Elaborado Por  "
   ]
  },
  {
   "cell_type": "markdown",
   "id": "f22b54e4",
   "metadata": {},
   "source": [
    "<tr>\n",
    "<td> <img src=\"imagens/Thiago.png\" width = \"150\" align = \"left\"/> </td>\n",
    "</tr>\n",
    "\n",
    "<br>\n"
   ]
  },
  {
   "cell_type": "markdown",
   "id": "e71b9bf8",
   "metadata": {},
   "source": [
    "<br>\n",
    "\n",
    "\n",
    "<br>\n",
    "\n",
    "<tr>\n",
    "<td> <a href=\"https://www.linkedin.com/in/thiagopd/\" > <img src = \"imagens/linkedin.png\" width = \"25\"  align = \"left\" /> </a>  </td>             <td> <a href=\"https://github.com/tp-duarte\" > <img src = \"imagens/GitHub-Logo.png\" width = \"60\" height = \"100\" align = \"left\" /> </a>  </td>  </tr>\n",
    "\n",
    "<pre> <font size =  5 align = 'up' > Thiago Duarte "
   ]
  }
 ],
 "metadata": {
  "kernelspec": {
   "display_name": "Python 3 (ipykernel)",
   "language": "python",
   "name": "python3"
  },
  "language_info": {
   "codemirror_mode": {
    "name": "ipython",
    "version": 3
   },
   "file_extension": ".py",
   "mimetype": "text/x-python",
   "name": "python",
   "nbconvert_exporter": "python",
   "pygments_lexer": "ipython3",
   "version": "3.9.5"
  }
 },
 "nbformat": 4,
 "nbformat_minor": 5
}
