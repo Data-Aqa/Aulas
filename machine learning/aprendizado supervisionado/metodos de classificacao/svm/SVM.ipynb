{
 "cells": [
  {
   "cell_type": "markdown",
   "id": "29784247",
   "metadata": {},
   "source": [
    "<img src = 'Imagens/logo data.aqa.jpg' >"
   ]
  },
  {
   "cell_type": "markdown",
   "id": "d7667687",
   "metadata": {},
   "source": [
    "\n",
    "# <span style = \"font-family:Times New Roman\"><font color = #0f4e8c> Support Vector Machines (SVM)\n",
    "\n",
    "<br> "
   ]
  },
  {
   "cell_type": "markdown",
   "id": "c5fa8f44",
   "metadata": {},
   "source": [
    "\n",
    "<br>\n",
    "\n",
    "O *Support Vector Machine*, é um algoritmo que foi criado nos anos 90 por [Vladimir Vapnik](https://en.wikipedia.org/wiki/Vladimir_Vapnik), ele pode ser utilizado tanto para tarefas de regressão quanto para tarefas de classificação.\n",
    "\n",
    "<br>\n"
   ]
  },
  {
   "cell_type": "markdown",
   "id": "d656bf2f",
   "metadata": {},
   "source": [
    "# <font color = red> IDEIA DOS INFINITOS HIPERPLANOS "
   ]
  },
  {
   "cell_type": "code",
   "execution_count": null,
   "id": "43b90ae1",
   "metadata": {},
   "outputs": [],
   "source": []
  },
  {
   "cell_type": "code",
   "execution_count": null,
   "id": "21ac125c",
   "metadata": {},
   "outputs": [],
   "source": []
  },
  {
   "cell_type": "code",
   "execution_count": null,
   "id": "99453d4f",
   "metadata": {},
   "outputs": [],
   "source": []
  },
  {
   "cell_type": "code",
   "execution_count": null,
   "id": "1a873ac0",
   "metadata": {},
   "outputs": [],
   "source": []
  },
  {
   "cell_type": "code",
   "execution_count": null,
   "id": "4cf517ba",
   "metadata": {},
   "outputs": [],
   "source": []
  },
  {
   "cell_type": "markdown",
   "id": "cc53c154",
   "metadata": {},
   "source": [
    "# <font color = red> MAXIMUM MARGIN CLASSIFIER "
   ]
  },
  {
   "cell_type": "code",
   "execution_count": null,
   "id": "deafe303",
   "metadata": {},
   "outputs": [],
   "source": []
  },
  {
   "cell_type": "code",
   "execution_count": null,
   "id": "6fff55d9",
   "metadata": {},
   "outputs": [],
   "source": []
  },
  {
   "cell_type": "markdown",
   "id": "27e22683",
   "metadata": {},
   "source": [
    "# <font color = red> IMAGEM COM O SUPPORT VECTOR "
   ]
  },
  {
   "cell_type": "code",
   "execution_count": null,
   "id": "5c6f953c",
   "metadata": {},
   "outputs": [],
   "source": []
  },
  {
   "cell_type": "code",
   "execution_count": null,
   "id": "13e5a1c3",
   "metadata": {},
   "outputs": [],
   "source": []
  },
  {
   "cell_type": "code",
   "execution_count": null,
   "id": "b854b4aa",
   "metadata": {},
   "outputs": [],
   "source": []
  },
  {
   "cell_type": "code",
   "execution_count": null,
   "id": "3707c077",
   "metadata": {},
   "outputs": [],
   "source": []
  },
  {
   "cell_type": "markdown",
   "id": "43784b53",
   "metadata": {},
   "source": [
    "SE OS NOSSOS DADOS PODEM SER SEPARADOS POR UM HIPERPLANO, EXISTIRÃO UMA INFINIDADE DE POSSÍVEIS HIPERPLANOS PARA REALIZAR A SEPARAÇÃO DOS DADOS. Uma das maneiras de solucionar isso é utilizando o **maximal margin hyperplane**. Calcula-se a distância perpendicular entre os pontos."
   ]
  },
  {
   "cell_type": "markdown",
   "id": "4f71ecfa",
   "metadata": {},
   "source": [
    "# <font color = red> NO EXEMPLO ABAIXO A CLASSIFICAÇÃO NÃO É A MELHOR POSSÍVEL NOS SEGUINTES CRITÉRIOS :"
   ]
  },
  {
   "cell_type": "markdown",
   "id": "b0966d86",
   "metadata": {},
   "source": [
    "- Greater robustness to individual observations, and\n",
    "\n",
    "- Better classification of most of the training observations"
   ]
  },
  {
   "attachments": {
    "image.png": {
     "image/png": "[encoded data removed]"
    }
   },
   "cell_type": "markdown",
   "id": "fff83be1",
   "metadata": {},
   "source": [
    "![image.png](attachment:image.png)"
   ]
  },
  {
   "cell_type": "markdown",
   "id": "4e83ceba",
   "metadata": {},
   "source": [
    "# <font color = red> SUPPORT VECTOR CLASSIFIER "
   ]
  },
  {
   "cell_type": "markdown",
   "id": "1b38fc1d",
   "metadata": {},
   "source": [
    "Utiliza o *soft margin* "
   ]
  },
  {
   "cell_type": "markdown",
   "id": "f36a8a21",
   "metadata": {},
   "source": [
    "# <font color = red> FÓRMULA DO SUPPORT VECTOR "
   ]
  },
  {
   "cell_type": "code",
   "execution_count": null,
   "id": "00015f52",
   "metadata": {},
   "outputs": [],
   "source": []
  },
  {
   "cell_type": "code",
   "execution_count": null,
   "id": "54855a51",
   "metadata": {},
   "outputs": [],
   "source": []
  },
  {
   "cell_type": "code",
   "execution_count": null,
   "id": "edc6812a",
   "metadata": {},
   "outputs": [],
   "source": []
  },
  {
   "cell_type": "code",
   "execution_count": null,
   "id": "74f7584a",
   "metadata": {},
   "outputs": [],
   "source": []
  },
  {
   "cell_type": "markdown",
   "id": "9aba1f36",
   "metadata": {},
   "source": [
    "# <font color = red> ENTENDER COMO OS SUPPORT VECTORS MAXIMIZAM A MARGEM DO HIPERPLANO  "
   ]
  },
  {
   "cell_type": "code",
   "execution_count": null,
   "id": "56a4f4e2",
   "metadata": {},
   "outputs": [],
   "source": []
  },
  {
   "cell_type": "code",
   "execution_count": null,
   "id": "80e413ce",
   "metadata": {},
   "outputs": [],
   "source": []
  },
  {
   "cell_type": "markdown",
   "id": "50dbdd2c",
   "metadata": {},
   "source": [
    "Teremos uma Matriz de nxp, sendo n o número de observações dos dados de treino e p o espaço dimensional. \n",
    "\n",
    "A ideia é utilizar essa matriz para prever os dados de teste, de maneira a classificá-lo em uma categoria ou em outra. **Separar os Dados em um Hiperplano**"
   ]
  },
  {
   "cell_type": "markdown",
   "id": "17f649df",
   "metadata": {},
   "source": [
    "That is, we can compute the (perpendicular) distance from each training observation to a given separating hyperplane; the smallest such distance is the minimal distance from the observations to the hyperplane, and is known as the margin"
   ]
  },
  {
   "cell_type": "markdown",
   "id": "c956bdab",
   "metadata": {},
   "source": [
    "O MAXIMUM MARGIN HYPERPLANE, vai ser o hiperplano no qual a distância mínima entre os pontos de treino é a maior possível. Com base nisso será possível realizar classificações pelo método que se chama Maximum Margin Classifier \n",
    "\n",
    "pág. 378"
   ]
  },
  {
   "cell_type": "markdown",
   "id": "2fb0237d",
   "metadata": {},
   "source": [
    "O que se espera é que, a margem máxima seja grande no conjunto de treino e nas estimações do modelo nos dados de teste. Conforme maior a quantidade de dimensões p, mais o modelo tende ao *overfitting*"
   ]
  },
  {
   "cell_type": "markdown",
   "id": "eb04c613",
   "metadata": {},
   "source": [
    "\n",
    "<br>  \n",
    "\n",
    "## <span style = \"font-family:Times New Roman\"><font color = #0f4e8c> SVM  para Classificação\n",
    "\n",
    "<br>  "
   ]
  },
  {
   "cell_type": "markdown",
   "id": "484beead",
   "metadata": {},
   "source": [
    "\n",
    "<br>\n",
    "\n",
    "The support vector machine (SVM) is an extension of the support vector support vector machine classifier that results from enlarging the feature space in a specific way, using kernels.\n",
    "\n",
    "<br>\n"
   ]
  },
  {
   "cell_type": "code",
   "execution_count": null,
   "id": "25b2c564",
   "metadata": {},
   "outputs": [],
   "source": []
  },
  {
   "cell_type": "code",
   "execution_count": null,
   "id": "d651b6b4",
   "metadata": {},
   "outputs": [],
   "source": []
  },
  {
   "cell_type": "code",
   "execution_count": null,
   "id": "0ee973ec",
   "metadata": {},
   "outputs": [],
   "source": []
  },
  {
   "cell_type": "code",
   "execution_count": null,
   "id": "c418da54",
   "metadata": {},
   "outputs": [],
   "source": []
  },
  {
   "cell_type": "markdown",
   "id": "97b99afd",
   "metadata": {},
   "source": [
    "------------------------------\n",
    "<br>\n",
    "\n",
    "## <span style = \"font-family:Times New Roman\"><font color = #0f4e8c> Sintetizando \n",
    "\n",
    "<br>\n",
    "    \n",
    "-----------------------------------------------------------\n",
    "    \n",
    "<br>\n",
    "\n",
    "    \n",
    "    "
   ]
  },
  {
   "cell_type": "markdown",
   "id": "a141a969",
   "metadata": {},
   "source": [
    "\n",
    "<br>\n",
    "\n",
    "## <span style = \"font-family:Times New Roman\"><font color = #0f4e8c> Referências \n",
    "\n",
    "<br>\n"
   ]
  },
  {
   "cell_type": "markdown",
   "id": "40028792",
   "metadata": {},
   "source": [
    "- T"
   ]
  },
  {
   "cell_type": "markdown",
   "id": "1075b8b2",
   "metadata": {},
   "source": [
    "## <span style = \"font-family:Times New Roman\"><font color = #0f4e8c>  Material Elaborado Por  "
   ]
  },
  {
   "cell_type": "markdown",
   "id": "f22b54e4",
   "metadata": {},
   "source": [
    "<tr>\n",
    "<td> <img src=\"imagens/Thiago.png\" width = \"150\" align = \"left\"/> </td>\n",
    "</tr>\n",
    "\n",
    "<br>\n"
   ]
  },
  {
   "cell_type": "markdown",
   "id": "e71b9bf8",
   "metadata": {},
   "source": [
    "<br>\n",
    "\n",
    "\n",
    "<br>\n",
    "\n",
    "<tr>\n",
    "<td> <a href=\"https://www.linkedin.com/in/thiagopd/\" > <img src = \"imagens/linkedin.png\" width = \"25\"  align = \"left\" /> </a>  </td>             <td> <a href=\"https://github.com/tp-duarte\" > <img src = \"imagens/GitHub-Logo.png\" width = \"60\" height = \"100\" align = \"left\" /> </a>  </td>  </tr>\n",
    "\n",
    "<pre> <font size =  5 align = 'up' > Thiago Duarte "
   ]
  }
 ],
 "metadata": {
  "kernelspec": {
   "display_name": "Python 3 (ipykernel)",
   "language": "python",
   "name": "python3"
  },
  "language_info": {
   "codemirror_mode": {
    "name": "ipython",
    "version": 3
   },
   "file_extension": ".py",
   "mimetype": "text/x-python",
   "name": "python",
   "nbconvert_exporter": "python",
   "pygments_lexer": "ipython3",
   "version": "3.9.5"
  }
 },
 "nbformat": 4,
 "nbformat_minor": 5
}
