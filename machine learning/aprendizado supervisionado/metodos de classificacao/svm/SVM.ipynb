{
 "cells": [
  {
   "cell_type": "markdown",
   "id": "29784247",
   "metadata": {},
   "source": [
    "<img src = 'Imagens/logo data.aqa.jpg' >"
   ]
  },
  {
   "cell_type": "markdown",
   "id": "d7667687",
   "metadata": {},
   "source": [
    "\n",
    "<br>\n",
    "\n",
    "# <span style = \"font-family:Times New Roman\"><font color = #0f4e8c> Support Vector Machines (SVM)\n",
    "\n",
    "<br> "
   ]
  },
  {
   "cell_type": "markdown",
   "id": "c5fa8f44",
   "metadata": {},
   "source": [
    "\n",
    "<br>\n",
    "\n",
    "O *Support Vector Machine* (máquina de vetores de suporte), é um algoritmo que foi criado nos anos 90 por [Vladimir Vapnik](https://en.wikipedia.org/wiki/Vladimir_Vapnik), ele pode ser utilizado tanto para tarefas de regressão quanto para tarefas de classificação, nesta aula nos atentaremos ao problema de classificação.\n",
    "\n",
    "O objetivo do algoritmo em uma tarefa de classificação é prever o mais acuradamente possível a categoria de um determinado registro. Isso será feito com base em uma matriz $n x p$, sendo $n$ o número de observações e $p$ o espaço dimensional do modelo. \n",
    "\n",
    "<br>\n"
   ]
  },
  {
   "cell_type": "markdown",
   "id": "0f0c1a67",
   "metadata": {},
   "source": [
    "### $x_1 = \\begin{pmatrix} x_{11} \\\\ . \\\\ . \\\\ x_{1p} \\end{pmatrix} , ... ,x_n = \\begin{pmatrix} x_{n1} \\\\ . \\\\ . \\\\ x_{np} \\end{pmatrix}$"
   ]
  },
  {
   "cell_type": "markdown",
   "id": "93b052fe",
   "metadata": {},
   "source": [
    "\n",
    "<br>\n",
    "\n",
    "A ideia é utilizar essa matriz para prever os dados de teste, de maneira a classificá-los em uma determinada categoria. Essa categorização se dá através de um hiperplano.\n",
    "\n",
    "<br>\n"
   ]
  },
  {
   "cell_type": "markdown",
   "id": "3f36f44b",
   "metadata": {},
   "source": [
    "<img src = 'Imagens/Múltiplos Hiperplanos .png' > <font color = #777877><center> Fonte : Elaboração própria </center>"
   ]
  },
  {
   "cell_type": "markdown",
   "id": "be1d2566",
   "metadata": {},
   "source": [
    "<br>\n",
    "\n",
    "Na imagem acima, por exemplo, podemos separar duas categorias em classes de acordo com a sua posição nos parâmetros X1 e X2. Esta separação pode ocorrer com a reta azul. Mas também pode ocorrer com a reta amarela ou a verde, ou até mesmo com as infinitas retas que são possíveis de serem feitas entre X1 e X2. \n",
    "\n",
    "O desafio posto, portanto, não é somente a separaçao entre classes, mas sim qual o melhor tipo de de separação possível para classificar o conjunto de dados. Isso irá contribuir para que estimemos bem valores não vistos pelo modelo.\n",
    "\n",
    "O que podemos fazer para classificar o melhor possível as categorias é justamente utilizar os support vectors. Os support vectors são os pontos de classe que mais se aproximam da outra. Na imagem abaixo conseguimos ver os support vectors de cada uma das classes. O modelo irá traçar uma reta que seja ortogonal aos support vectors para realizar a divisão entre classes.\n",
    "\n",
    "<br> \n"
   ]
  },
  {
   "cell_type": "markdown",
   "id": "2f1d42fd",
   "metadata": {},
   "source": [
    "<img src = 'Imagens/Support Vectors.png' ><font color = #777877><center> Fonte : Elaboração própria </center>"
   ]
  },
  {
   "cell_type": "markdown",
   "id": "295ae75e",
   "metadata": {},
   "source": [
    "## <span style = \"font-family:Times New Roman\"><font color = #0f4e8c> Hiperplano\n",
    "    \n",
    "<br>"
   ]
  },
  {
   "cell_type": "markdown",
   "id": "f82a0c70",
   "metadata": {},
   "source": [
    "Quando a divisão entre classes se dá através de uma reta, temos a equação :\n",
    "\n",
    "###  <center> $\\beta_{0} + \\beta{}_1X_1 + \\beta{}_2X_2  $ </center> \n",
    "\n",
    "Onde o hiperplano é composto por :\n",
    "\n",
    "### <center> $\\beta_{0} + \\beta{}_1X_1 + \\beta{}_2X_2 = 0  $ </center>\n",
    "\n",
    "Esta equação do hiperplano, neste caso específico. é uma reta, porém essa fórmula também pode ser generalizada para as p dimensões que compõem o hiperplano da seguinte maneira :\n",
    "<br>\n",
    "\n",
    "### $\\beta_{0} + \\beta{}_1 X_1 + ... + \\beta{}_p X_p = 0 $\n",
    "<br>\n",
    "\n",
    "\n",
    "Entretanto, o desafio não acaba aqui. Queremos utilizar o hiperplano para classificar as $y$ classes nas $i$ observações. A notação utilizada para classificação é a seguinte :\n",
    "\n",
    "<br>\n",
    "\n",
    "\n",
    "Quando **$\\beta_{0} + \\beta{}_1 X_{i1} + ... + \\beta{}_p X_{ip} < 0 $**, temos que $y_i$ =  -1 &nbsp; &nbsp; **(1)** ;\n",
    "\n",
    "Quando **$\\beta_{0} + \\beta{}_1 X_{i1} + ... + \\beta{}_p X_{ip} > 0 $**, temos que $y_i$ = +1 &nbsp; &nbsp; **(2)** .\n",
    "\n",
    "<br>\n",
    "\n",
    "Sendo que $i = 1 ... n$.\n",
    "\n",
    "<br>"
   ]
  },
  {
   "cell_type": "markdown",
   "id": "242eeb59",
   "metadata": {},
   "source": [
    "<img src = 'Imagens/Divisão de Classes.png'> <font color = #777877><center> Fonte : Elaboração própria </center>"
   ]
  },
  {
   "cell_type": "markdown",
   "id": "e1501178",
   "metadata": {},
   "source": [
    "\n",
    "<br>\n",
    "\n",
    "No caso da imagem acima, os valores que possuem a inequação **(1)** estão classificados como bolinhas roxas e os valores que possuem a inequação **(2)** estão classificados como bolinhas pretas. \n",
    "\n",
    "<br>\n"
   ]
  },
  {
   "cell_type": "markdown",
   "id": "deb9830f",
   "metadata": {},
   "source": [
    "## <span style = \"font-family:Times New Roman\"><font color = #0f4e8c> Margem\n",
    "    \n",
    "<br>"
   ]
  },
  {
   "cell_type": "code",
   "execution_count": null,
   "id": "a82210e3",
   "metadata": {},
   "outputs": [],
   "source": []
  },
  {
   "cell_type": "code",
   "execution_count": null,
   "id": "428c0550",
   "metadata": {},
   "outputs": [],
   "source": []
  },
  {
   "cell_type": "code",
   "execution_count": null,
   "id": "8f49a9ee",
   "metadata": {},
   "outputs": [],
   "source": []
  },
  {
   "cell_type": "code",
   "execution_count": null,
   "id": "4ccd82ca",
   "metadata": {},
   "outputs": [],
   "source": []
  },
  {
   "cell_type": "markdown",
   "id": "b2c44a60",
   "metadata": {},
   "source": [
    "# <font color = red> Maximal Margin Classifier "
   ]
  },
  {
   "cell_type": "markdown",
   "id": "edc02369",
   "metadata": {},
   "source": [
    "$ x^p$"
   ]
  },
  {
   "cell_type": "markdown",
   "id": "93d7903d",
   "metadata": {},
   "source": [
    "# <font color = red> A margem é calulada como PIPI POPO"
   ]
  },
  {
   "cell_type": "markdown",
   "id": "4020e0fb",
   "metadata": {},
   "source": [
    "### <span style = \"font-family:Times New Roman\"><font color = #0f4e8c> Soft Margin\n",
    "    \n",
    "<br>\n",
    "    "
   ]
  },
  {
   "cell_type": "markdown",
   "id": "4c18c633",
   "metadata": {},
   "source": [
    "# <font color = red> Support Vector Classifiers "
   ]
  },
  {
   "cell_type": "markdown",
   "id": "f802f177",
   "metadata": {},
   "source": [
    "É possível observar no exemplo direito da imagem abaixo que a margem para a classificação diminui consideravelmente após a inclusão de apenas um novo registro. Isso indica que o modelo não consegue generalizar como se dá o comportamento padrão das categorias presentes nos dados de treino, o que provavelmente irá levar a uma baixa taxa de acurácia nos dados de teste quando o algoritmo for realizar previsões.   \n",
    "\n",
    "<br>\n"
   ]
  },
  {
   "cell_type": "markdown",
   "id": "b0966d86",
   "metadata": {},
   "source": [
    "- Greater robustness to individual observations, and\n",
    "\n",
    "- Better classification of most of the training observations"
   ]
  },
  {
   "attachments": {
    "image.png": {
     "image/png": "[encoded data removed]"
    }
   },
   "cell_type": "markdown",
   "id": "da929e33",
   "metadata": {},
   "source": [
    "![image.png](attachment:image.png)"
   ]
  },
  {
   "cell_type": "markdown",
   "id": "c5fe2efb",
   "metadata": {},
   "source": [
    "# <font color = red > Support Vector Machines "
   ]
  },
  {
   "cell_type": "markdown",
   "id": "817288ce",
   "metadata": {},
   "source": [
    "# <font color = red> MOVING DATA TO HIGHR DIMENSIONAL SPACE "
   ]
  },
  {
   "cell_type": "markdown",
   "id": "fe9847fa",
   "metadata": {},
   "source": [
    "# <font color = red> COMPLEXITY TRADEOFF COM O PARÂMETRO C"
   ]
  },
  {
   "cell_type": "code",
   "execution_count": null,
   "id": "b854b4aa",
   "metadata": {},
   "outputs": [],
   "source": []
  },
  {
   "cell_type": "code",
   "execution_count": null,
   "id": "3707c077",
   "metadata": {},
   "outputs": [],
   "source": []
  },
  {
   "cell_type": "code",
   "execution_count": null,
   "id": "3aca4653",
   "metadata": {},
   "outputs": [],
   "source": []
  },
  {
   "cell_type": "markdown",
   "id": "593855bc",
   "metadata": {},
   "source": [
    "# <font color = red> KERNEL METHODS"
   ]
  },
  {
   "cell_type": "markdown",
   "id": "4a60c347",
   "metadata": {},
   "source": [
    "Combinações não lineares para a criação de um hiperplano não linear, para que, desta maneira, possa ocorrer uma separação linear."
   ]
  },
  {
   "cell_type": "markdown",
   "id": "b33bba94",
   "metadata": {},
   "source": [
    "**Radial Basis Function (RBF) ou Gaussian kernel**"
   ]
  },
  {
   "cell_type": "code",
   "execution_count": null,
   "id": "001d2745",
   "metadata": {},
   "outputs": [],
   "source": []
  },
  {
   "cell_type": "code",
   "execution_count": null,
   "id": "f9bac869",
   "metadata": {},
   "outputs": [],
   "source": []
  },
  {
   "cell_type": "markdown",
   "id": "43784b53",
   "metadata": {},
   "source": [
    "SE OS NOSSOS DADOS PODEM SER SEPARADOS POR UM HIPERPLANO, EXISTIRÃO UMA INFINIDADE DE POSSÍVEIS HIPERPLANOS PARA REALIZAR A SEPARAÇÃO DOS DADOS. Uma das maneiras de solucionar isso é utilizando o **maximal margin hyperplane**. Calcula-se a distância perpendicular entre os pontos."
   ]
  },
  {
   "cell_type": "markdown",
   "id": "1b38fc1d",
   "metadata": {},
   "source": [
    "Utiliza o *soft margin* "
   ]
  },
  {
   "cell_type": "markdown",
   "id": "f36a8a21",
   "metadata": {},
   "source": [
    "# <font color = red> FÓRMULAS DO SUPPORT VECTOR "
   ]
  },
  {
   "cell_type": "code",
   "execution_count": null,
   "id": "2a5494ce",
   "metadata": {},
   "outputs": [],
   "source": []
  },
  {
   "cell_type": "code",
   "execution_count": null,
   "id": "c714a128",
   "metadata": {},
   "outputs": [],
   "source": []
  },
  {
   "cell_type": "code",
   "execution_count": null,
   "id": "cd4e90ae",
   "metadata": {},
   "outputs": [],
   "source": []
  },
  {
   "cell_type": "code",
   "execution_count": null,
   "id": "42accec4",
   "metadata": {},
   "outputs": [],
   "source": []
  },
  {
   "cell_type": "markdown",
   "id": "9aba1f36",
   "metadata": {},
   "source": [
    "# <font color = red> ENTENDER COMO OS SUPPORT VECTORS MAXIMIZAM A MARGEM DO HIPERPLANO  "
   ]
  },
  {
   "cell_type": "markdown",
   "id": "17f649df",
   "metadata": {},
   "source": [
    "That is, we can compute the (perpendicular) distance from each training observation to a given separating hyperplane; the smallest such distance is the minimal distance from the observations to the hyperplane, and is known as the margin"
   ]
  },
  {
   "cell_type": "markdown",
   "id": "c956bdab",
   "metadata": {},
   "source": [
    "O MAXIMUM MARGIN HYPERPLANE, vai ser o hiperplano no qual a distância mínima entre os pontos de treino é a maior possível. Com base nisso será possível realizar classificações pelo método que se chama Maximum Margin Classifier \n",
    "\n",
    "pág. 378"
   ]
  },
  {
   "cell_type": "markdown",
   "id": "2fb0237d",
   "metadata": {},
   "source": [
    "O que se espera é que, a margem máxima seja grande no conjunto de treino e nas estimações do modelo nos dados de teste. Conforme maior a quantidade de dimensões p, mais o modelo tende ao *overfitting*"
   ]
  },
  {
   "cell_type": "markdown",
   "id": "484beead",
   "metadata": {},
   "source": [
    "\n",
    "<br>\n",
    "\n",
    "The support vector machine (SVM) is an extension of the support vector support vector machine classifier that results from enlarging the feature space in a specific way, using kernels.\n",
    "\n",
    "<br>\n"
   ]
  },
  {
   "cell_type": "markdown",
   "id": "97b99afd",
   "metadata": {},
   "source": [
    "------------------------------\n",
    "<br>\n",
    "\n",
    "## <span style = \"font-family:Times New Roman\"><font color = #0f4e8c> Sintetizando \n",
    "\n",
    "<br>\n",
    "    \n",
    "-----------------------------------------------------------\n",
    "    \n",
    "<br>\n",
    "\n",
    "    \n",
    "    "
   ]
  },
  {
   "cell_type": "markdown",
   "id": "a141a969",
   "metadata": {},
   "source": [
    "\n",
    "<br>\n",
    "\n",
    "## <span style = \"font-family:Times New Roman\"><font color = #0f4e8c> Referências \n",
    "\n",
    "<br>\n"
   ]
  },
  {
   "cell_type": "markdown",
   "id": "40028792",
   "metadata": {},
   "source": [
    "- T"
   ]
  },
  {
   "cell_type": "markdown",
   "id": "1075b8b2",
   "metadata": {},
   "source": [
    "## <span style = \"font-family:Times New Roman\"><font color = #0f4e8c>  Material Elaborado Por  "
   ]
  },
  {
   "cell_type": "markdown",
   "id": "f22b54e4",
   "metadata": {},
   "source": [
    "<tr>\n",
    "<td> <img src=\"imagens/Thiago.png\" width = \"150\" align = \"left\"/> </td>\n",
    "</tr>\n",
    "\n",
    "<br>\n"
   ]
  },
  {
   "cell_type": "markdown",
   "id": "e71b9bf8",
   "metadata": {},
   "source": [
    "<br>\n",
    "\n",
    "\n",
    "<br>\n",
    "\n",
    "<tr>\n",
    "<td> <a href=\"https://www.linkedin.com/in/thiagopd/\" > <img src = \"imagens/linkedin.png\" width = \"25\"  align = \"left\" /> </a>  </td>             <td> <a href=\"https://github.com/tp-duarte\" > <img src = \"imagens/GitHub-Logo.png\" width = \"60\" height = \"100\" align = \"left\" /> </a>  </td>  </tr>\n",
    "\n",
    "<pre> <font size =  5 align = 'up' > Thiago Duarte "
   ]
  }
 ],
 "metadata": {
  "kernelspec": {
   "display_name": "Python 3 (ipykernel)",
   "language": "python",
   "name": "python3"
  },
  "language_info": {
   "codemirror_mode": {
    "name": "ipython",
    "version": 3
   },
   "file_extension": ".py",
   "mimetype": "text/x-python",
   "name": "python",
   "nbconvert_exporter": "python",
   "pygments_lexer": "ipython3",
   "version": "3.9.5"
  }
 },
 "nbformat": 4,
 "nbformat_minor": 5
}
