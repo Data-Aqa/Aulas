{
 "cells": [
  {
   "cell_type": "markdown",
   "id": "1dc32f28",
   "metadata": {},
   "source": [
    "<img src = 'imagens/logo.jpg'>"
   ]
  },
  {
   "cell_type": "markdown",
   "id": "af589a95",
   "metadata": {},
   "source": [
    "# <center><span style = \"font-family:Times New Roman\"><font color = #0f4e8c>Regressões Regularizadas"
   ]
  },
  {
   "cell_type": "markdown",
   "id": "82e3e368",
   "metadata": {},
   "source": [
    "Nesta aula vamos falar sobre Regressões Regularizadas, em especial, as regressões regularizadas **Lasso** e **Ridge**."
   ]
  },
  {
   "cell_type": "markdown",
   "id": "72315c75",
   "metadata": {},
   "source": [
    "Antes de começarmos, precisamos falar sobre alguns pontos que são chave para compreender o funcionamento e aplicações das regressões regularizadas."
   ]
  },
  {
   "cell_type": "markdown",
   "id": "ec08145e",
   "metadata": {},
   "source": [
    "## <span style = \"font-family:Times New Roman\"><font color = #0f4e8c>1. Sobreajuste, Subajuste e Complexidade"
   ]
  },
  {
   "cell_type": "markdown",
   "id": "73b86a87",
   "metadata": {},
   "source": [
    "Uma das características mais importantes de um modelo de machine learning é a sua capacidade de **generalização**, em outras palavras, a capacidade de fazer boas previsões com dados inéditos."
   ]
  },
  {
   "cell_type": "markdown",
   "id": "59458a08",
   "metadata": {},
   "source": [
    "Normalmente modelos são incapazes de generalizar por dois motivos:\n",
    "1. Não se ajustaram bem aos dados de treino;\n",
    "2. Se ajustaram demais aos dados de treino"
   ]
  },
  {
   "cell_type": "markdown",
   "id": "12ddcf80",
   "metadata": {},
   "source": [
    "O primeiro caso é chamado de <font color = #0f4e8c>*Subajuste*<font color = 'black'>, o segundo de <font color = #0f4e8c>*Sobreajuste*<font color = 'black'>."
   ]
  },
  {
   "cell_type": "markdown",
   "id": "a11f6d9b",
   "metadata": {},
   "source": [
    "Como vocês viram na última aula, devemos separar os dados em dois conjuntos: de **treino** e de **teste**. O <font color = #0f4e8c>**Sobreajuste**<font color = 'black'> ocorre quando o modelo \"decora\" o conjunto de treino."
   ]
  },
  {
   "cell_type": "markdown",
   "id": "5312a539",
   "metadata": {},
   "source": [
    "Isso pode acontecer por vários motivos, um deles (e muito comum) é a *complexidade* dos modelos."
   ]
  },
  {
   "cell_type": "markdown",
   "id": "2e6f3cf4",
   "metadata": {},
   "source": [
    "$\\triangleright$ <font color = #ACAF1F>***No contexto da Regresssão Linear, a complexidade do modelo é definida pelo número de variáveis preditoras.***\n",
    "\n",
    "$\\triangleright$ <font color = #ACAF1F>***Em Árvores de Decisão, está ligada à profundidade da árvore. Em modelos de Vizinhos Próximos, ao número de vizinhos.***"
   ]
  },
  {
   "cell_type": "markdown",
   "id": "161d9995",
   "metadata": {},
   "source": [
    "Modelos muito complexos tendem a capturar informações irrelevantes, porém específicas, do conjunto de treino (*noise*, ou *ruído*). Isso faz com que a performance deles no conjunto de treino seja elevada. Quando estes modelos são alimentados com dados inéditos (conjunto de  teste), observamos uma queda acentuada na performance."
   ]
  },
  {
   "cell_type": "markdown",
   "id": "725bc40d",
   "metadata": {},
   "source": [
    "<img src = 'imagens/model-over-fitting.png'>"
   ]
  },
  {
   "cell_type": "markdown",
   "id": "cadfc1e6",
   "metadata": {},
   "source": [
    "<center><font size = 1>Imagem 1. IBM - Overfitting (https://1.cms.s81c.com/sites/default/files/2021-03-03/model-over-fitting.png)"
   ]
  },
  {
   "cell_type": "markdown",
   "id": "f03e45f7",
   "metadata": {},
   "source": [
    "A imagem acima exemplifica bem a ideia de sobreajuste e subajuste no contexto da classificação."
   ]
  },
  {
   "cell_type": "markdown",
   "id": "35f8849f",
   "metadata": {},
   "source": [
    "## <font color = #0f4e8c>2. Trade-off viés-variância"
   ]
  },
  {
   "cell_type": "markdown",
   "id": "8e2fb9f0",
   "metadata": {},
   "source": [
    "O trade-off entre viés e variância é um conceito de extrema importância para a ciência de dados, e um dos motivos pelos quais utilizamos métodos de regularização."
   ]
  },
  {
   "cell_type": "markdown",
   "id": "cf64531d",
   "metadata": {},
   "source": [
    "Olhando para a imagem 1, vemos que quando ocorre *subajuste* temos viés (*bias*) alto. No *sobreajuste*, por sua vez, temos variância (*variance*) alta. Para entendermos isso precisamos conceituar Viés, Variância e como eles se relacionam com o erro do modelo."
   ]
  },
  {
   "cell_type": "markdown",
   "id": "63f25d5b",
   "metadata": {},
   "source": [
    "### <font color = #0f4e8c>2.1 Viés\n",
    "---\n",
    "O viés é a diferença entre o valor médio das previsões do modelo (valor esperado $E[\\space ]$) e o valor real que estamos tentando prever."
   ]
  },
  {
   "cell_type": "markdown",
   "id": "4cf1246c",
   "metadata": {},
   "source": [
    "Formalmente:\n",
    "\n",
    "#### Viés $ = E[\\hat{f}(x)] - f(x)$"
   ]
  },
  {
   "cell_type": "markdown",
   "id": "97618d42",
   "metadata": {},
   "source": [
    "Um modelo com viés alto não se ajusta bem aos dados de treino, levando ao *subajuste* $\\rightarrow$ erro de treino e teste altos."
   ]
  },
  {
   "cell_type": "markdown",
   "id": "a1c63233",
   "metadata": {},
   "source": [
    "### <font color = #0f4e8c>2.2 Variância\n",
    "---\n",
    "A variância é a variabilidade das previsões do modelo."
   ]
  },
  {
   "cell_type": "markdown",
   "id": "37115df7",
   "metadata": {},
   "source": [
    "Formalmente:\n",
    "#### Variância $= E\\left[(\\hat{f}(x) - E[\\hat{f}(x)])^2\\right]$ "
   ]
  },
  {
   "cell_type": "markdown",
   "id": "7b67cc7f",
   "metadata": {},
   "source": [
    "Um modelo com variância alta se ajusta muito aos dados de treino, levando ao *sobreajuste* $\\rightarrow$ erro de treino baixo e de teste alto."
   ]
  },
  {
   "cell_type": "markdown",
   "id": "c5ce361e",
   "metadata": {},
   "source": [
    "Abaixo está uma imagem que ilustra como o viés e a variância impactam nas previsões do modelos."
   ]
  },
  {
   "cell_type": "markdown",
   "id": "50ab8ee1",
   "metadata": {},
   "source": [
    "<img src = 'imagens/bias-variance-tradeoff.jpg'>"
   ]
  },
  {
   "cell_type": "markdown",
   "id": "97031ca5",
   "metadata": {},
   "source": [
    "[Imagem 2. Bias Variance Trade-off.](https://res.cloudinary.com/dyd911kmh/image/upload/f_auto,q_auto:best/v1543418451/bias_vs_variance_swxhxx.jpg)\n"
   ]
  },
  {
   "cell_type": "markdown",
   "id": "7054797b",
   "metadata": {},
   "source": [
    "Podemos formalizar este comportamento olhando para o Erro Quadrático do modelo."
   ]
  },
  {
   "cell_type": "markdown",
   "id": "6640d8ba",
   "metadata": {},
   "source": [
    "O erro do modelo pode ser definido como:"
   ]
  },
  {
   "cell_type": "markdown",
   "id": "091c0e76",
   "metadata": {},
   "source": [
    "#### <center> $e =  E\\left [(Y - \\hat{f}(x))^2\\right ]$"
   ]
  },
  {
   "cell_type": "markdown",
   "id": "295ecaaa",
   "metadata": {},
   "source": [
    "Podemos decompô-lo da seguinte maneira:\n",
    "#### <center>$e = \\left(E[\\hat{f}(x)] - f(x)\\right )^2 + E\\left [(\\hat{f}(x) - E[\\hat{f}(x)])^2\\right ] +\\sigma_e^2 $"
   ]
  },
  {
   "cell_type": "markdown",
   "id": "f6754b7e",
   "metadata": {},
   "source": [
    "Voltando às definições de viés e variância, vemos que o erro é composto por três componentes:"
   ]
  },
  {
   "cell_type": "markdown",
   "id": "bf607540",
   "metadata": {},
   "source": [
    "### <center> $e = Vies^2 + Variancia + Erro\\space Irredutível$"
   ]
  },
  {
   "cell_type": "markdown",
   "id": "44ab487d",
   "metadata": {},
   "source": [
    "Modelos simples tendem a ter baixa variância e viés alto, levando ao subajuste. À medida que a complexidade do modelo aumenta, abrimos mão do viés e introduzimos variância ao modelo."
   ]
  },
  {
   "cell_type": "markdown",
   "id": "c57394c9",
   "metadata": {},
   "source": [
    "Este é o trade-off que existe entre viés e variância.\n",
    "\n",
    "```\n",
    "Ao diminuir o viés para aumentar o ajuste do modelo aos dados (evitar subajuste), nós introduzimos variância ao modelo, correndo o risco de construir um modelo sobreajustado aos dados de treino.\n",
    "```"
   ]
  },
  {
   "cell_type": "markdown",
   "id": "f08fca24",
   "metadata": {},
   "source": [
    "Para demonstrar demonstrar na prática estes conceitos e suas implicações, vamos utilizar o conjunto de dados Boston House Prices. O conjunto está disponível na biblioteca `mlxtend`, que usaremos para decompor o erro do modelo. Além disso, utilizaremos um algoritmo de Árvore de Decisão."
   ]
  },
  {
   "cell_type": "markdown",
   "id": "4e4c8932",
   "metadata": {},
   "source": [
    "Escolhi este algoritmo porque ele permite que a complexidade do modelo seja controlada por meio de parâmetros definidos por nós."
   ]
  },
  {
   "cell_type": "markdown",
   "id": "2ad1fa32",
   "metadata": {},
   "source": [
    "No exemplo treinei 28 modelos de árvore de decisão, cada um menos complexo que o anterior. A biblioteca `mlxtend` calcula o MSE para cada um dos modelos o decompõem entre viés e variância. Estes valores foram armazenados em um DataFrame, que utilizei para construir este gráfico. "
   ]
  },
  {
   "attachments": {
    "vies-variancia.png": {
     "image/png": "[encoded data removed]"
    }
   },
   "cell_type": "markdown",
   "id": "2eb51c3b",
   "metadata": {},
   "source": [
    "![vies-variancia.png](attachment:vies-variancia.png)"
   ]
  },
  {
   "cell_type": "markdown",
   "id": "53d68107",
   "metadata": {},
   "source": [
    "Nele, vemos que à medida em que o modelo fica mais complexo o viés (e o erro como um todo) diminui, indicando que o modelo está se ajustando melhor aos dados. Com 15 observações por folha temos nosso melhor modelo."
   ]
  },
  {
   "cell_type": "markdown",
   "id": "affe9e3d",
   "metadata": {},
   "source": [
    "A partir deste ponto a variância passa a aumentar, levando o erro para cima. Isso indica que o modelo está se ajustando *demais* aos dados, ou seja, está sobreajustado."
   ]
  },
  {
   "cell_type": "markdown",
   "id": "416f1ae1",
   "metadata": {},
   "source": [
    "---\n",
    "Agora que entendemos como o viés e variância se relacionam entre si e com a complexidade do modelo, podemos entrar de fato nas regressões regularizadas. "
   ]
  },
  {
   "cell_type": "markdown",
   "id": "166d2efc",
   "metadata": {},
   "source": [
    "## <font color = #0f4e8c>3. <u>Regularização<u/>"
   ]
  },
  {
   "cell_type": "markdown",
   "id": "387f68d3",
   "metadata": {},
   "source": [
    "*Regularização* é o nome dado ao conjunto de técnicas focadas em reduzir o sobreajuste em modelos de aprendizado de máquina.\n",
    "\n",
    "De uma maneira simples, ela consiste em introduzir viés ao modelo de forma que a sua variância diminua."
   ]
  },
  {
   "cell_type": "markdown",
   "id": "a5a65858",
   "metadata": {},
   "source": [
    "Existem várias técnicas de regularização, nesta aula vamos falar sobre as regularizações $\\ell_1$ e $\\ell_2$."
   ]
  },
  {
   "cell_type": "markdown",
   "id": "1f3763b9",
   "metadata": {},
   "source": [
    "## <font color = #0f4e8c>4. <u>Regressões Regularizadas"
   ]
  },
  {
   "cell_type": "markdown",
   "id": "e26e52f3",
   "metadata": {},
   "source": [
    "Em modelos de regressão linear, a complexidade do modelo é determinada pelo número de variáveis preditoras ($p$) do conjunto. "
   ]
  },
  {
   "cell_type": "markdown",
   "id": "1b883141",
   "metadata": {},
   "source": [
    "À medida que $p$ se aproxima do número de observações ($n$), a variância do modelo tende ao infinito. Em outras palavras, quando temos muitas variáveis preditoras em nosso modelo seus coeficientes tendem a ser superestimados, levando ao sobreajuste."
   ]
  },
  {
   "cell_type": "markdown",
   "id": "777cdc6f",
   "metadata": {},
   "source": [
    "Temos duas opções para contornar este problema:\n",
    "1. Encolher os coeficientes das variáveis preditoras $p$;\n",
    "2. Reduzir o número de $p$."
   ]
  },
  {
   "cell_type": "markdown",
   "id": "3d7e766f",
   "metadata": {},
   "source": [
    "Independente do método escolhido, a regularização de regressões consiste em <font color = #0f4e8c>***adicionar um termo de <font color = 'red'>penalização<font color = #0f4e8c> à de função de custo da regressão.***"
   ]
  },
  {
   "cell_type": "markdown",
   "id": "42fb9049",
   "metadata": {},
   "source": [
    "## <font color = #0f4e8c>4.1 <u>Regressão Ridge ($\\ell_2$)"
   ]
  },
  {
   "cell_type": "markdown",
   "id": "ea036a2c",
   "metadata": {},
   "source": [
    "A regressão Ridge é utilizada quando queremos manter o número de variáveis preditoras, porém encolhendo seus coeficientes."
   ]
  },
  {
   "cell_type": "markdown",
   "id": "12c178d8",
   "metadata": {},
   "source": [
    "Ela também é chamada de <font color = #0f4e8c>*Regularização $\\ell_2$*<font color = 'black'>, pois adiciona a *norma* $\\ell_2$ dos coeficientes na função de custo para encolher os coeficientes da regressão:\n",
    " "
   ]
  },
  {
   "cell_type": "markdown",
   "id": "72adee87",
   "metadata": {},
   "source": [
    "### <center>$L_{linear}(\\hat{\\beta}) = RSS \\implies L_{ridge}(\\hat{\\beta}) = RSS + \\lambda \\cdot\\ell_2 \\space \\implies$ "
   ]
  },
  {
   "cell_type": "markdown",
   "id": "c13b2c28",
   "metadata": {},
   "source": [
    "### <center>$L_{ridge}(\\hat\\beta) = RSS + \\lambda\\sum_{j=1}^{p}\\beta_j^2 \\implies$"
   ]
  },
  {
   "cell_type": "markdown",
   "id": "ae1345d6",
   "metadata": {},
   "source": [
    "### <center>$L_{ridge}(\\hat\\beta) = RSS + \\lambda||\\hat\\beta||_2$"
   ]
  },
  {
   "cell_type": "markdown",
   "id": "13f78fec",
   "metadata": {},
   "source": [
    "### <font color = 'red'>avaliar pertinência "
   ]
  },
  {
   "cell_type": "markdown",
   "id": "c92bcc27",
   "metadata": {},
   "source": [
    "Abrindo a equação:\n",
    "\n",
    "### <center>$L_{ridge}(\\hat\\beta) = \\sum_{i=1}^{n}{\\bigg(y_i - \\hat\\beta_0 - \\sum_{j=1}^{p}({\\hat\\beta_j x_{ij})}\\bigg)^2} + \\lambda\\sum_{j=1}^{p}{\\hat{\\beta}^{2}_{j}}$"
   ]
  },
  {
   "cell_type": "markdown",
   "id": "a553a050",
   "metadata": {},
   "source": [
    "O parâmetro $\\lambda$ controla a força da regularização. Se este for 0, a função de custo será a $RSS$ e teremos um modelo de regressão linear comum. À medida em que $\\lambda$ aumenta, as estimativas de $\\beta$ diminuem. No limite, quando $\\lambda$ tende ao infinito, $\\beta$ tende a zero.\n",
    "* $\\lambda = 0 \\implies RSS$\n",
    "* $\\lambda \\rightarrow \\infty, \\space \\hat\\beta_{ridge} \\rightarrow 0$"
   ]
  },
  {
   "cell_type": "markdown",
   "id": "1ca2fb08",
   "metadata": {},
   "source": [
    "## <font color = #0f4e8c>4.1 <u>Regressão Lasso ($\\ell_1$)"
   ]
  },
  {
   "cell_type": "markdown",
   "id": "f2edf4de",
   "metadata": {},
   "source": [
    "A regressão Lasso é muito parecida com a Ridge, sua única diferença é que a utilizamos a norma $\\ell_1$ para controlar os coeficientes."
   ]
  },
  {
   "cell_type": "markdown",
   "id": "ea667f7e",
   "metadata": {},
   "source": [
    "A sua função de custo é a seguinte:\n",
    "\n",
    "### <center>$L_{lasso}(\\hat\\beta) = RSS + \\lambda||\\hat\\beta||_1$"
   ]
  },
  {
   "cell_type": "markdown",
   "id": "be95e69a",
   "metadata": {},
   "source": [
    "Abrindo a equação:\n",
    "\n",
    "### <center>$L_{lasso}(\\hat\\beta) = \\sum_{i=1}^{n}{\\bigg(y_i - \\hat\\beta_0 - \\sum_{j=1}^{p}({\\hat\\beta_j x_{ij})}\\bigg)^2} + \\lambda\\sum_{j=1}^{p}|{\\hat{\\beta}_{j}}|$"
   ]
  },
  {
   "cell_type": "markdown",
   "id": "00bb3f20",
   "metadata": {},
   "source": [
    "Na regressão Ridge os coeficientes são encolhidos até próximo de zero, porém não atingem este valor. Isso muda na regressão Lasso.\n",
    "\n",
    "Ao utilizarmos a norma $\\ell_1$ ($|\\hat\\beta|$) os coeficientes $\\beta$ menos importantes são zerados. Isso faz com que a regressão Lasso possa ser utilizada para selecionar atributos do modelo."
   ]
  },
  {
   "cell_type": "markdown",
   "id": "92312ebd",
   "metadata": {},
   "source": [
    "---"
   ]
  },
  {
   "cell_type": "markdown",
   "id": "48c6d06c",
   "metadata": {},
   "source": [
    "## <font color = #0f4e8c>5. <u>Aplicações com código"
   ]
  },
  {
   "cell_type": "markdown",
   "id": "e1e76b12",
   "metadata": {},
   "source": [
    "Agora que vimos a teoria por trás das regressões regularizadas, vamos ver seu comportamento na prática."
   ]
  },
  {
   "cell_type": "markdown",
   "id": "e12fea93",
   "metadata": {},
   "source": [
    "Vamos seguir o seguinte roteiro:\n",
    "1. Pré-processamento;\n",
    "    1. Imputação;\n",
    "    2. Variáveis Dummy;\n",
    "    3. Standartização\n",
    "2. Modelagem e avaliação: Regressão Linear;\n",
    "3. Modelagem e avaliação: Regressão Ridge;\n",
    "4. Modelagem e avaliação: Regressão Lasso\n",
    "\n",
    "Como o intuito desta aula é demonstrar o *funcionamento* das regressões regularizadas, não vamos nos estender nas etapas do pré-processamento. \n",
    "\n",
    "Tenham em mente, porém, que quando construirem modelos o pré-processando deve ser feito <font color = #EB1D1D>**após**<font color = 'black'> a <font color = #0B71E3>***análise exploratória***.\n",
    " \n",
    "Além disso, não vamos fazer seleção de atributos nem feature engineering. "
   ]
  },
  {
   "cell_type": "markdown",
   "id": "7d8ac2a1",
   "metadata": {},
   "source": [
    "<br>\n",
    "\n",
    "O conjunto de dados utilizado será o mesmo da aula de regressão linear."
   ]
  },
  {
   "cell_type": "code",
   "execution_count": 823,
   "id": "efb2af34",
   "metadata": {},
   "outputs": [],
   "source": [
    "# importando bibliotecas\n",
    "\n",
    "import pandas as pd\n",
    "import matplotlib.pyplot as plt\n",
    "import numpy as np\n",
    "from sklearn.model_selection import train_test_split\n",
    "from sklearn.preprocessing import MinMaxScaler\n",
    "from sklearn.preprocessing import OneHotEncoder\n",
    "from sklearn.linear_model import LinearRegression\n",
    "from sklearn.linear_model import LassoCV\n",
    "from sklearn.linear_model import RidgeCV"
   ]
  },
  {
   "cell_type": "code",
   "execution_count": 633,
   "id": "6a39f94f",
   "metadata": {},
   "outputs": [],
   "source": [
    "# carregando dados\n",
    "\n",
    "df = pd.read_csv('dados\\dados.csv')"
   ]
  },
  {
   "cell_type": "code",
   "execution_count": 634,
   "id": "3c509120",
   "metadata": {},
   "outputs": [
    {
     "data": {
      "text/html": [
       "<div>\n",
       "<style scoped>\n",
       "    .dataframe tbody tr th:only-of-type {\n",
       "        vertical-align: middle;\n",
       "    }\n",
       "\n",
       "    .dataframe tbody tr th {\n",
       "        vertical-align: top;\n",
       "    }\n",
       "\n",
       "    .dataframe thead th {\n",
       "        text-align: right;\n",
       "    }\n",
       "</style>\n",
       "<table border=\"1\" class=\"dataframe\">\n",
       "  <thead>\n",
       "    <tr style=\"text-align: right;\">\n",
       "      <th></th>\n",
       "      <th>Id</th>\n",
       "      <th>MSSubClass</th>\n",
       "      <th>MSZoning</th>\n",
       "      <th>LotFrontage</th>\n",
       "      <th>LotArea</th>\n",
       "      <th>Street</th>\n",
       "      <th>Alley</th>\n",
       "      <th>LotShape</th>\n",
       "      <th>LandContour</th>\n",
       "      <th>Utilities</th>\n",
       "      <th>...</th>\n",
       "      <th>PoolArea</th>\n",
       "      <th>PoolQC</th>\n",
       "      <th>Fence</th>\n",
       "      <th>MiscFeature</th>\n",
       "      <th>MiscVal</th>\n",
       "      <th>MoSold</th>\n",
       "      <th>YrSold</th>\n",
       "      <th>SaleType</th>\n",
       "      <th>SaleCondition</th>\n",
       "      <th>SalePrice</th>\n",
       "    </tr>\n",
       "  </thead>\n",
       "  <tbody>\n",
       "    <tr>\n",
       "      <th>0</th>\n",
       "      <td>1051</td>\n",
       "      <td>20</td>\n",
       "      <td>RL</td>\n",
       "      <td>73.0</td>\n",
       "      <td>8993</td>\n",
       "      <td>Pave</td>\n",
       "      <td>NaN</td>\n",
       "      <td>IR1</td>\n",
       "      <td>Lvl</td>\n",
       "      <td>AllPub</td>\n",
       "      <td>...</td>\n",
       "      <td>0</td>\n",
       "      <td>NaN</td>\n",
       "      <td>NaN</td>\n",
       "      <td>NaN</td>\n",
       "      <td>0</td>\n",
       "      <td>8</td>\n",
       "      <td>2007</td>\n",
       "      <td>New</td>\n",
       "      <td>Partial</td>\n",
       "      <td>176485.0</td>\n",
       "    </tr>\n",
       "    <tr>\n",
       "      <th>1</th>\n",
       "      <td>1094</td>\n",
       "      <td>20</td>\n",
       "      <td>RL</td>\n",
       "      <td>71.0</td>\n",
       "      <td>9230</td>\n",
       "      <td>Pave</td>\n",
       "      <td>NaN</td>\n",
       "      <td>Reg</td>\n",
       "      <td>Lvl</td>\n",
       "      <td>AllPub</td>\n",
       "      <td>...</td>\n",
       "      <td>0</td>\n",
       "      <td>NaN</td>\n",
       "      <td>MnPrv</td>\n",
       "      <td>NaN</td>\n",
       "      <td>0</td>\n",
       "      <td>10</td>\n",
       "      <td>2006</td>\n",
       "      <td>WD</td>\n",
       "      <td>Normal</td>\n",
       "      <td>146000.0</td>\n",
       "    </tr>\n",
       "    <tr>\n",
       "      <th>2</th>\n",
       "      <td>662</td>\n",
       "      <td>60</td>\n",
       "      <td>RL</td>\n",
       "      <td>52.0</td>\n",
       "      <td>46589</td>\n",
       "      <td>Pave</td>\n",
       "      <td>NaN</td>\n",
       "      <td>IR2</td>\n",
       "      <td>Lvl</td>\n",
       "      <td>AllPub</td>\n",
       "      <td>...</td>\n",
       "      <td>0</td>\n",
       "      <td>NaN</td>\n",
       "      <td>NaN</td>\n",
       "      <td>NaN</td>\n",
       "      <td>0</td>\n",
       "      <td>7</td>\n",
       "      <td>2009</td>\n",
       "      <td>WD</td>\n",
       "      <td>Normal</td>\n",
       "      <td>402000.0</td>\n",
       "    </tr>\n",
       "    <tr>\n",
       "      <th>3</th>\n",
       "      <td>1859</td>\n",
       "      <td>90</td>\n",
       "      <td>RL</td>\n",
       "      <td>64.0</td>\n",
       "      <td>7018</td>\n",
       "      <td>Pave</td>\n",
       "      <td>NaN</td>\n",
       "      <td>Reg</td>\n",
       "      <td>Bnk</td>\n",
       "      <td>AllPub</td>\n",
       "      <td>...</td>\n",
       "      <td>0</td>\n",
       "      <td>NaN</td>\n",
       "      <td>GdPrv</td>\n",
       "      <td>NaN</td>\n",
       "      <td>0</td>\n",
       "      <td>6</td>\n",
       "      <td>2009</td>\n",
       "      <td>WD</td>\n",
       "      <td>Alloca</td>\n",
       "      <td>NaN</td>\n",
       "    </tr>\n",
       "    <tr>\n",
       "      <th>4</th>\n",
       "      <td>1370</td>\n",
       "      <td>20</td>\n",
       "      <td>RL</td>\n",
       "      <td>48.0</td>\n",
       "      <td>10635</td>\n",
       "      <td>Pave</td>\n",
       "      <td>NaN</td>\n",
       "      <td>IR2</td>\n",
       "      <td>Lvl</td>\n",
       "      <td>AllPub</td>\n",
       "      <td>...</td>\n",
       "      <td>0</td>\n",
       "      <td>NaN</td>\n",
       "      <td>NaN</td>\n",
       "      <td>NaN</td>\n",
       "      <td>0</td>\n",
       "      <td>5</td>\n",
       "      <td>2010</td>\n",
       "      <td>WD</td>\n",
       "      <td>Normal</td>\n",
       "      <td>232000.0</td>\n",
       "    </tr>\n",
       "  </tbody>\n",
       "</table>\n",
       "<p>5 rows × 81 columns</p>\n",
       "</div>"
      ],
      "text/plain": [
       "     Id  MSSubClass MSZoning  LotFrontage  LotArea Street Alley LotShape  \\\n",
       "0  1051          20       RL         73.0     8993   Pave   NaN      IR1   \n",
       "1  1094          20       RL         71.0     9230   Pave   NaN      Reg   \n",
       "2   662          60       RL         52.0    46589   Pave   NaN      IR2   \n",
       "3  1859          90       RL         64.0     7018   Pave   NaN      Reg   \n",
       "4  1370          20       RL         48.0    10635   Pave   NaN      IR2   \n",
       "\n",
       "  LandContour Utilities  ... PoolArea PoolQC  Fence MiscFeature MiscVal  \\\n",
       "0         Lvl    AllPub  ...        0    NaN    NaN         NaN       0   \n",
       "1         Lvl    AllPub  ...        0    NaN  MnPrv         NaN       0   \n",
       "2         Lvl    AllPub  ...        0    NaN    NaN         NaN       0   \n",
       "3         Bnk    AllPub  ...        0    NaN  GdPrv         NaN       0   \n",
       "4         Lvl    AllPub  ...        0    NaN    NaN         NaN       0   \n",
       "\n",
       "  MoSold YrSold  SaleType  SaleCondition  SalePrice  \n",
       "0      8   2007       New        Partial   176485.0  \n",
       "1     10   2006        WD         Normal   146000.0  \n",
       "2      7   2009        WD         Normal   402000.0  \n",
       "3      6   2009        WD         Alloca        NaN  \n",
       "4      5   2010        WD         Normal   232000.0  \n",
       "\n",
       "[5 rows x 81 columns]"
      ]
     },
     "execution_count": 634,
     "metadata": {},
     "output_type": "execute_result"
    }
   ],
   "source": [
    "df.head()"
   ]
  },
  {
   "cell_type": "code",
   "execution_count": 635,
   "id": "ab08d80d",
   "metadata": {},
   "outputs": [
    {
     "data": {
      "text/plain": [
       "(2919, 81)"
      ]
     },
     "execution_count": 635,
     "metadata": {},
     "output_type": "execute_result"
    }
   ],
   "source": [
    "df.shape"
   ]
  },
  {
   "cell_type": "code",
   "execution_count": null,
   "id": "7068042d",
   "metadata": {},
   "outputs": [],
   "source": [
    "df.info()"
   ]
  },
  {
   "cell_type": "code",
   "execution_count": 637,
   "id": "535e3391",
   "metadata": {},
   "outputs": [],
   "source": [
    "# Excluindo coluna identificadora\n",
    "\n",
    "df = df.drop(['Id', 'PoolQC'], axis = 1)"
   ]
  },
  {
   "cell_type": "code",
   "execution_count": 638,
   "id": "caf4f29a",
   "metadata": {},
   "outputs": [],
   "source": [
    "# Separando X e y\n",
    "\n",
    "X = df.drop('SalePrice', axis = 1)\n",
    "y = df[['SalePrice']]"
   ]
  },
  {
   "cell_type": "code",
   "execution_count": 739,
   "id": "f7b6b9d2",
   "metadata": {},
   "outputs": [],
   "source": [
    "# Separando amostras\n",
    "\n",
    "X_train, X_test, y_train, y_test = train_test_split(X, y, test_size = .3, random_state = 13)"
   ]
  },
  {
   "cell_type": "code",
   "execution_count": 702,
   "id": "43660a72",
   "metadata": {},
   "outputs": [
    {
     "name": "stdout",
     "output_type": "stream",
     "text": [
      "(2043, 78) (876, 78)\n"
     ]
    }
   ],
   "source": [
    "print(X_train.shape, X_test.shape)"
   ]
  },
  {
   "cell_type": "markdown",
   "id": "35960e91",
   "metadata": {},
   "source": [
    "<br>\n",
    "\n",
    "## <font color = #0f4e8c> 1. Pré-processamento"
   ]
  },
  {
   "cell_type": "markdown",
   "id": "04156a20",
   "metadata": {},
   "source": [
    "### <font color = #0f4e8c>1.1 Imputação"
   ]
  },
  {
   "cell_type": "code",
   "execution_count": 721,
   "id": "8e53e70c",
   "metadata": {},
   "outputs": [],
   "source": [
    "# separando variáveis númericas e categóricas\n",
    "\n",
    "num = X_train.select_dtypes(include = 'number').columns\n",
    "obj = X_train.select_dtypes(include = 'object').columns"
   ]
  },
  {
   "cell_type": "code",
   "execution_count": 722,
   "id": "86aef8c7",
   "metadata": {},
   "outputs": [],
   "source": [
    "def null_count(cols, data):\n",
    "    null_df = pd.DataFrame(data[cols].isnull().sum(), columns = ['contagem']).sort_values(by = 'contagem', ascending = False)\n",
    "        \n",
    "    return null_df"
   ]
  },
  {
   "cell_type": "code",
   "execution_count": 723,
   "id": "2dba8212",
   "metadata": {},
   "outputs": [],
   "source": [
    "null_num = null_count(num, data = X_train)\n",
    "null_obj = null_count(obj, data = X_train)"
   ]
  },
  {
   "cell_type": "code",
   "execution_count": 724,
   "id": "12fc6ecf",
   "metadata": {
    "scrolled": true
   },
   "outputs": [
    {
     "data": {
      "text/html": [
       "<div>\n",
       "<style scoped>\n",
       "    .dataframe tbody tr th:only-of-type {\n",
       "        vertical-align: middle;\n",
       "    }\n",
       "\n",
       "    .dataframe tbody tr th {\n",
       "        vertical-align: top;\n",
       "    }\n",
       "\n",
       "    .dataframe thead th {\n",
       "        text-align: right;\n",
       "    }\n",
       "</style>\n",
       "<table border=\"1\" class=\"dataframe\">\n",
       "  <thead>\n",
       "    <tr style=\"text-align: right;\">\n",
       "      <th></th>\n",
       "      <th>contagem</th>\n",
       "    </tr>\n",
       "  </thead>\n",
       "  <tbody>\n",
       "    <tr>\n",
       "      <th>LotFrontage</th>\n",
       "      <td>343</td>\n",
       "    </tr>\n",
       "    <tr>\n",
       "      <th>GarageYrBlt</th>\n",
       "      <td>103</td>\n",
       "    </tr>\n",
       "    <tr>\n",
       "      <th>MasVnrArea</th>\n",
       "      <td>19</td>\n",
       "    </tr>\n",
       "    <tr>\n",
       "      <th>BsmtHalfBath</th>\n",
       "      <td>2</td>\n",
       "    </tr>\n",
       "    <tr>\n",
       "      <th>BsmtFullBath</th>\n",
       "      <td>2</td>\n",
       "    </tr>\n",
       "    <tr>\n",
       "      <th>TotalBsmtSF</th>\n",
       "      <td>1</td>\n",
       "    </tr>\n",
       "    <tr>\n",
       "      <th>GarageCars</th>\n",
       "      <td>1</td>\n",
       "    </tr>\n",
       "    <tr>\n",
       "      <th>BsmtFinSF1</th>\n",
       "      <td>1</td>\n",
       "    </tr>\n",
       "    <tr>\n",
       "      <th>BsmtFinSF2</th>\n",
       "      <td>1</td>\n",
       "    </tr>\n",
       "    <tr>\n",
       "      <th>BsmtUnfSF</th>\n",
       "      <td>1</td>\n",
       "    </tr>\n",
       "  </tbody>\n",
       "</table>\n",
       "</div>"
      ],
      "text/plain": [
       "              contagem\n",
       "LotFrontage        343\n",
       "GarageYrBlt        103\n",
       "MasVnrArea          19\n",
       "BsmtHalfBath         2\n",
       "BsmtFullBath         2\n",
       "TotalBsmtSF          1\n",
       "GarageCars           1\n",
       "BsmtFinSF1           1\n",
       "BsmtFinSF2           1\n",
       "BsmtUnfSF            1"
      ]
     },
     "execution_count": 724,
     "metadata": {},
     "output_type": "execute_result"
    }
   ],
   "source": [
    "null_num.head(10)"
   ]
  },
  {
   "cell_type": "code",
   "execution_count": 725,
   "id": "acb248ea",
   "metadata": {
    "scrolled": true
   },
   "outputs": [
    {
     "data": {
      "text/html": [
       "<div>\n",
       "<style scoped>\n",
       "    .dataframe tbody tr th:only-of-type {\n",
       "        vertical-align: middle;\n",
       "    }\n",
       "\n",
       "    .dataframe tbody tr th {\n",
       "        vertical-align: top;\n",
       "    }\n",
       "\n",
       "    .dataframe thead th {\n",
       "        text-align: right;\n",
       "    }\n",
       "</style>\n",
       "<table border=\"1\" class=\"dataframe\">\n",
       "  <thead>\n",
       "    <tr style=\"text-align: right;\">\n",
       "      <th></th>\n",
       "      <th>contagem</th>\n",
       "    </tr>\n",
       "  </thead>\n",
       "  <tbody>\n",
       "    <tr>\n",
       "      <th>MiscFeature</th>\n",
       "      <td>1970</td>\n",
       "    </tr>\n",
       "    <tr>\n",
       "      <th>Alley</th>\n",
       "      <td>1903</td>\n",
       "    </tr>\n",
       "    <tr>\n",
       "      <th>Fence</th>\n",
       "      <td>1631</td>\n",
       "    </tr>\n",
       "    <tr>\n",
       "      <th>FireplaceQu</th>\n",
       "      <td>994</td>\n",
       "    </tr>\n",
       "    <tr>\n",
       "      <th>GarageCond</th>\n",
       "      <td>103</td>\n",
       "    </tr>\n",
       "    <tr>\n",
       "      <th>GarageQual</th>\n",
       "      <td>103</td>\n",
       "    </tr>\n",
       "    <tr>\n",
       "      <th>GarageFinish</th>\n",
       "      <td>103</td>\n",
       "    </tr>\n",
       "    <tr>\n",
       "      <th>GarageType</th>\n",
       "      <td>101</td>\n",
       "    </tr>\n",
       "    <tr>\n",
       "      <th>BsmtExposure</th>\n",
       "      <td>60</td>\n",
       "    </tr>\n",
       "    <tr>\n",
       "      <th>BsmtCond</th>\n",
       "      <td>60</td>\n",
       "    </tr>\n",
       "  </tbody>\n",
       "</table>\n",
       "</div>"
      ],
      "text/plain": [
       "              contagem\n",
       "MiscFeature       1970\n",
       "Alley             1903\n",
       "Fence             1631\n",
       "FireplaceQu        994\n",
       "GarageCond         103\n",
       "GarageQual         103\n",
       "GarageFinish       103\n",
       "GarageType         101\n",
       "BsmtExposure        60\n",
       "BsmtCond            60"
      ]
     },
     "execution_count": 725,
     "metadata": {},
     "output_type": "execute_result"
    }
   ],
   "source": [
    "null_obj.head(10)"
   ]
  },
  {
   "cell_type": "markdown",
   "id": "98d4b9b1",
   "metadata": {},
   "source": [
    "Para colunas numéricas, irei fazer a imputação com a mediana da coluna. Para as categóricas, com a moda."
   ]
  },
  {
   "cell_type": "code",
   "execution_count": 726,
   "id": "39b72ee1",
   "metadata": {},
   "outputs": [],
   "source": [
    "# Função imputadora\n",
    "\n",
    "def impute(data):\n",
    "    cols = data.columns\n",
    "    \n",
    "    for col in cols:\n",
    "        if data[col].dtype == 'object':\n",
    "            data[col].fillna(data[col].mode()[0], inplace = True)\n",
    "        \n",
    "        else:\n",
    "            data[col].fillna(data[col].median(), inplace = True)\n",
    "    return data"
   ]
  },
  {
   "cell_type": "code",
   "execution_count": 740,
   "id": "585b2a1d",
   "metadata": {},
   "outputs": [
    {
     "data": {
      "text/html": [
       "<div>\n",
       "<style scoped>\n",
       "    .dataframe tbody tr th:only-of-type {\n",
       "        vertical-align: middle;\n",
       "    }\n",
       "\n",
       "    .dataframe tbody tr th {\n",
       "        vertical-align: top;\n",
       "    }\n",
       "\n",
       "    .dataframe thead th {\n",
       "        text-align: right;\n",
       "    }\n",
       "</style>\n",
       "<table border=\"1\" class=\"dataframe\">\n",
       "  <thead>\n",
       "    <tr style=\"text-align: right;\">\n",
       "      <th></th>\n",
       "      <th>MSSubClass</th>\n",
       "      <th>MSZoning</th>\n",
       "      <th>LotFrontage</th>\n",
       "      <th>LotArea</th>\n",
       "      <th>Street</th>\n",
       "      <th>Alley</th>\n",
       "      <th>LotShape</th>\n",
       "      <th>LandContour</th>\n",
       "      <th>Utilities</th>\n",
       "      <th>LotConfig</th>\n",
       "      <th>...</th>\n",
       "      <th>3SsnPorch</th>\n",
       "      <th>ScreenPorch</th>\n",
       "      <th>PoolArea</th>\n",
       "      <th>Fence</th>\n",
       "      <th>MiscFeature</th>\n",
       "      <th>MiscVal</th>\n",
       "      <th>MoSold</th>\n",
       "      <th>YrSold</th>\n",
       "      <th>SaleType</th>\n",
       "      <th>SaleCondition</th>\n",
       "    </tr>\n",
       "  </thead>\n",
       "  <tbody>\n",
       "    <tr>\n",
       "      <th>1729</th>\n",
       "      <td>80</td>\n",
       "      <td>RL</td>\n",
       "      <td>70.0</td>\n",
       "      <td>10500</td>\n",
       "      <td>Pave</td>\n",
       "      <td>Grvl</td>\n",
       "      <td>Reg</td>\n",
       "      <td>Lvl</td>\n",
       "      <td>AllPub</td>\n",
       "      <td>FR2</td>\n",
       "      <td>...</td>\n",
       "      <td>0</td>\n",
       "      <td>0</td>\n",
       "      <td>0</td>\n",
       "      <td>GdWo</td>\n",
       "      <td>Shed</td>\n",
       "      <td>0</td>\n",
       "      <td>12</td>\n",
       "      <td>2007</td>\n",
       "      <td>WD</td>\n",
       "      <td>Normal</td>\n",
       "    </tr>\n",
       "    <tr>\n",
       "      <th>581</th>\n",
       "      <td>20</td>\n",
       "      <td>RL</td>\n",
       "      <td>102.0</td>\n",
       "      <td>9373</td>\n",
       "      <td>Pave</td>\n",
       "      <td>Grvl</td>\n",
       "      <td>IR1</td>\n",
       "      <td>Lvl</td>\n",
       "      <td>AllPub</td>\n",
       "      <td>Corner</td>\n",
       "      <td>...</td>\n",
       "      <td>0</td>\n",
       "      <td>0</td>\n",
       "      <td>0</td>\n",
       "      <td>MnPrv</td>\n",
       "      <td>Shed</td>\n",
       "      <td>0</td>\n",
       "      <td>5</td>\n",
       "      <td>2008</td>\n",
       "      <td>WD</td>\n",
       "      <td>Normal</td>\n",
       "    </tr>\n",
       "    <tr>\n",
       "      <th>351</th>\n",
       "      <td>160</td>\n",
       "      <td>FV</td>\n",
       "      <td>24.0</td>\n",
       "      <td>2645</td>\n",
       "      <td>Pave</td>\n",
       "      <td>Pave</td>\n",
       "      <td>Reg</td>\n",
       "      <td>Lvl</td>\n",
       "      <td>AllPub</td>\n",
       "      <td>Inside</td>\n",
       "      <td>...</td>\n",
       "      <td>0</td>\n",
       "      <td>0</td>\n",
       "      <td>0</td>\n",
       "      <td>MnPrv</td>\n",
       "      <td>Shed</td>\n",
       "      <td>0</td>\n",
       "      <td>12</td>\n",
       "      <td>2008</td>\n",
       "      <td>ConLD</td>\n",
       "      <td>Normal</td>\n",
       "    </tr>\n",
       "    <tr>\n",
       "      <th>197</th>\n",
       "      <td>60</td>\n",
       "      <td>RL</td>\n",
       "      <td>108.0</td>\n",
       "      <td>13418</td>\n",
       "      <td>Pave</td>\n",
       "      <td>Grvl</td>\n",
       "      <td>Reg</td>\n",
       "      <td>Lvl</td>\n",
       "      <td>AllPub</td>\n",
       "      <td>Inside</td>\n",
       "      <td>...</td>\n",
       "      <td>0</td>\n",
       "      <td>0</td>\n",
       "      <td>0</td>\n",
       "      <td>MnPrv</td>\n",
       "      <td>Shed</td>\n",
       "      <td>0</td>\n",
       "      <td>10</td>\n",
       "      <td>2008</td>\n",
       "      <td>WD</td>\n",
       "      <td>Abnorml</td>\n",
       "    </tr>\n",
       "    <tr>\n",
       "      <th>986</th>\n",
       "      <td>20</td>\n",
       "      <td>RL</td>\n",
       "      <td>67.0</td>\n",
       "      <td>9808</td>\n",
       "      <td>Pave</td>\n",
       "      <td>Grvl</td>\n",
       "      <td>IR1</td>\n",
       "      <td>Lvl</td>\n",
       "      <td>AllPub</td>\n",
       "      <td>Inside</td>\n",
       "      <td>...</td>\n",
       "      <td>0</td>\n",
       "      <td>0</td>\n",
       "      <td>0</td>\n",
       "      <td>MnPrv</td>\n",
       "      <td>Shed</td>\n",
       "      <td>0</td>\n",
       "      <td>3</td>\n",
       "      <td>2009</td>\n",
       "      <td>WD</td>\n",
       "      <td>Normal</td>\n",
       "    </tr>\n",
       "    <tr>\n",
       "      <th>...</th>\n",
       "      <td>...</td>\n",
       "      <td>...</td>\n",
       "      <td>...</td>\n",
       "      <td>...</td>\n",
       "      <td>...</td>\n",
       "      <td>...</td>\n",
       "      <td>...</td>\n",
       "      <td>...</td>\n",
       "      <td>...</td>\n",
       "      <td>...</td>\n",
       "      <td>...</td>\n",
       "      <td>...</td>\n",
       "      <td>...</td>\n",
       "      <td>...</td>\n",
       "      <td>...</td>\n",
       "      <td>...</td>\n",
       "      <td>...</td>\n",
       "      <td>...</td>\n",
       "      <td>...</td>\n",
       "      <td>...</td>\n",
       "      <td>...</td>\n",
       "    </tr>\n",
       "    <tr>\n",
       "      <th>866</th>\n",
       "      <td>20</td>\n",
       "      <td>RL</td>\n",
       "      <td>63.0</td>\n",
       "      <td>13072</td>\n",
       "      <td>Pave</td>\n",
       "      <td>Grvl</td>\n",
       "      <td>Reg</td>\n",
       "      <td>Lvl</td>\n",
       "      <td>AllPub</td>\n",
       "      <td>Inside</td>\n",
       "      <td>...</td>\n",
       "      <td>0</td>\n",
       "      <td>0</td>\n",
       "      <td>0</td>\n",
       "      <td>MnPrv</td>\n",
       "      <td>Shed</td>\n",
       "      <td>0</td>\n",
       "      <td>5</td>\n",
       "      <td>2006</td>\n",
       "      <td>New</td>\n",
       "      <td>Partial</td>\n",
       "    </tr>\n",
       "    <tr>\n",
       "      <th>2790</th>\n",
       "      <td>20</td>\n",
       "      <td>RL</td>\n",
       "      <td>68.0</td>\n",
       "      <td>8638</td>\n",
       "      <td>Pave</td>\n",
       "      <td>Grvl</td>\n",
       "      <td>IR1</td>\n",
       "      <td>Lvl</td>\n",
       "      <td>AllPub</td>\n",
       "      <td>Inside</td>\n",
       "      <td>...</td>\n",
       "      <td>0</td>\n",
       "      <td>0</td>\n",
       "      <td>0</td>\n",
       "      <td>MnPrv</td>\n",
       "      <td>Shed</td>\n",
       "      <td>0</td>\n",
       "      <td>10</td>\n",
       "      <td>2006</td>\n",
       "      <td>WD</td>\n",
       "      <td>Normal</td>\n",
       "    </tr>\n",
       "    <tr>\n",
       "      <th>74</th>\n",
       "      <td>30</td>\n",
       "      <td>RM</td>\n",
       "      <td>51.0</td>\n",
       "      <td>6120</td>\n",
       "      <td>Pave</td>\n",
       "      <td>Grvl</td>\n",
       "      <td>Reg</td>\n",
       "      <td>Lvl</td>\n",
       "      <td>AllPub</td>\n",
       "      <td>Inside</td>\n",
       "      <td>...</td>\n",
       "      <td>0</td>\n",
       "      <td>0</td>\n",
       "      <td>0</td>\n",
       "      <td>MnPrv</td>\n",
       "      <td>Shed</td>\n",
       "      <td>0</td>\n",
       "      <td>1</td>\n",
       "      <td>2009</td>\n",
       "      <td>ConLw</td>\n",
       "      <td>Normal</td>\n",
       "    </tr>\n",
       "    <tr>\n",
       "      <th>2224</th>\n",
       "      <td>20</td>\n",
       "      <td>RL</td>\n",
       "      <td>108.0</td>\n",
       "      <td>12228</td>\n",
       "      <td>Pave</td>\n",
       "      <td>Grvl</td>\n",
       "      <td>Reg</td>\n",
       "      <td>Lvl</td>\n",
       "      <td>AllPub</td>\n",
       "      <td>Corner</td>\n",
       "      <td>...</td>\n",
       "      <td>0</td>\n",
       "      <td>0</td>\n",
       "      <td>0</td>\n",
       "      <td>MnPrv</td>\n",
       "      <td>Shed</td>\n",
       "      <td>0</td>\n",
       "      <td>9</td>\n",
       "      <td>2006</td>\n",
       "      <td>New</td>\n",
       "      <td>Partial</td>\n",
       "    </tr>\n",
       "    <tr>\n",
       "      <th>338</th>\n",
       "      <td>70</td>\n",
       "      <td>RL</td>\n",
       "      <td>60.0</td>\n",
       "      <td>7200</td>\n",
       "      <td>Pave</td>\n",
       "      <td>Grvl</td>\n",
       "      <td>Reg</td>\n",
       "      <td>Lvl</td>\n",
       "      <td>AllPub</td>\n",
       "      <td>Inside</td>\n",
       "      <td>...</td>\n",
       "      <td>0</td>\n",
       "      <td>0</td>\n",
       "      <td>0</td>\n",
       "      <td>MnPrv</td>\n",
       "      <td>Shed</td>\n",
       "      <td>0</td>\n",
       "      <td>4</td>\n",
       "      <td>2009</td>\n",
       "      <td>WD</td>\n",
       "      <td>Normal</td>\n",
       "    </tr>\n",
       "  </tbody>\n",
       "</table>\n",
       "<p>2043 rows × 78 columns</p>\n",
       "</div>"
      ],
      "text/plain": [
       "      MSSubClass MSZoning  LotFrontage  LotArea Street Alley LotShape  \\\n",
       "1729          80       RL         70.0    10500   Pave  Grvl      Reg   \n",
       "581           20       RL        102.0     9373   Pave  Grvl      IR1   \n",
       "351          160       FV         24.0     2645   Pave  Pave      Reg   \n",
       "197           60       RL        108.0    13418   Pave  Grvl      Reg   \n",
       "986           20       RL         67.0     9808   Pave  Grvl      IR1   \n",
       "...          ...      ...          ...      ...    ...   ...      ...   \n",
       "866           20       RL         63.0    13072   Pave  Grvl      Reg   \n",
       "2790          20       RL         68.0     8638   Pave  Grvl      IR1   \n",
       "74            30       RM         51.0     6120   Pave  Grvl      Reg   \n",
       "2224          20       RL        108.0    12228   Pave  Grvl      Reg   \n",
       "338           70       RL         60.0     7200   Pave  Grvl      Reg   \n",
       "\n",
       "     LandContour Utilities LotConfig  ... 3SsnPorch ScreenPorch PoolArea  \\\n",
       "1729         Lvl    AllPub       FR2  ...         0           0        0   \n",
       "581          Lvl    AllPub    Corner  ...         0           0        0   \n",
       "351          Lvl    AllPub    Inside  ...         0           0        0   \n",
       "197          Lvl    AllPub    Inside  ...         0           0        0   \n",
       "986          Lvl    AllPub    Inside  ...         0           0        0   \n",
       "...          ...       ...       ...  ...       ...         ...      ...   \n",
       "866          Lvl    AllPub    Inside  ...         0           0        0   \n",
       "2790         Lvl    AllPub    Inside  ...         0           0        0   \n",
       "74           Lvl    AllPub    Inside  ...         0           0        0   \n",
       "2224         Lvl    AllPub    Corner  ...         0           0        0   \n",
       "338          Lvl    AllPub    Inside  ...         0           0        0   \n",
       "\n",
       "      Fence MiscFeature MiscVal  MoSold  YrSold  SaleType  SaleCondition  \n",
       "1729   GdWo        Shed       0      12    2007        WD         Normal  \n",
       "581   MnPrv        Shed       0       5    2008        WD         Normal  \n",
       "351   MnPrv        Shed       0      12    2008     ConLD         Normal  \n",
       "197   MnPrv        Shed       0      10    2008        WD        Abnorml  \n",
       "986   MnPrv        Shed       0       3    2009        WD         Normal  \n",
       "...     ...         ...     ...     ...     ...       ...            ...  \n",
       "866   MnPrv        Shed       0       5    2006       New        Partial  \n",
       "2790  MnPrv        Shed       0      10    2006        WD         Normal  \n",
       "74    MnPrv        Shed       0       1    2009     ConLw         Normal  \n",
       "2224  MnPrv        Shed       0       9    2006       New        Partial  \n",
       "338   MnPrv        Shed       0       4    2009        WD         Normal  \n",
       "\n",
       "[2043 rows x 78 columns]"
      ]
     },
     "execution_count": 740,
     "metadata": {},
     "output_type": "execute_result"
    }
   ],
   "source": [
    "# imputando\n",
    "\n",
    "impute(X_train)"
   ]
  },
  {
   "cell_type": "code",
   "execution_count": 728,
   "id": "eda1795b",
   "metadata": {},
   "outputs": [
    {
     "data": {
      "text/html": [
       "<div>\n",
       "<style scoped>\n",
       "    .dataframe tbody tr th:only-of-type {\n",
       "        vertical-align: middle;\n",
       "    }\n",
       "\n",
       "    .dataframe tbody tr th {\n",
       "        vertical-align: top;\n",
       "    }\n",
       "\n",
       "    .dataframe thead th {\n",
       "        text-align: right;\n",
       "    }\n",
       "</style>\n",
       "<table border=\"1\" class=\"dataframe\">\n",
       "  <thead>\n",
       "    <tr style=\"text-align: right;\">\n",
       "      <th></th>\n",
       "      <th>contagem</th>\n",
       "    </tr>\n",
       "  </thead>\n",
       "  <tbody>\n",
       "    <tr>\n",
       "      <th>MSSubClass</th>\n",
       "      <td>0</td>\n",
       "    </tr>\n",
       "    <tr>\n",
       "      <th>LotFrontage</th>\n",
       "      <td>0</td>\n",
       "    </tr>\n",
       "    <tr>\n",
       "      <th>BedroomAbvGr</th>\n",
       "      <td>0</td>\n",
       "    </tr>\n",
       "    <tr>\n",
       "      <th>KitchenAbvGr</th>\n",
       "      <td>0</td>\n",
       "    </tr>\n",
       "    <tr>\n",
       "      <th>TotRmsAbvGrd</th>\n",
       "      <td>0</td>\n",
       "    </tr>\n",
       "  </tbody>\n",
       "</table>\n",
       "</div>"
      ],
      "text/plain": [
       "              contagem\n",
       "MSSubClass           0\n",
       "LotFrontage          0\n",
       "BedroomAbvGr         0\n",
       "KitchenAbvGr         0\n",
       "TotRmsAbvGrd         0"
      ]
     },
     "execution_count": 728,
     "metadata": {},
     "output_type": "execute_result"
    }
   ],
   "source": [
    "null_count(num, data = X_train).head()"
   ]
  },
  {
   "cell_type": "code",
   "execution_count": 729,
   "id": "cb6c2645",
   "metadata": {
    "scrolled": false
   },
   "outputs": [
    {
     "data": {
      "text/html": [
       "<div>\n",
       "<style scoped>\n",
       "    .dataframe tbody tr th:only-of-type {\n",
       "        vertical-align: middle;\n",
       "    }\n",
       "\n",
       "    .dataframe tbody tr th {\n",
       "        vertical-align: top;\n",
       "    }\n",
       "\n",
       "    .dataframe thead th {\n",
       "        text-align: right;\n",
       "    }\n",
       "</style>\n",
       "<table border=\"1\" class=\"dataframe\">\n",
       "  <thead>\n",
       "    <tr style=\"text-align: right;\">\n",
       "      <th></th>\n",
       "      <th>contagem</th>\n",
       "    </tr>\n",
       "  </thead>\n",
       "  <tbody>\n",
       "    <tr>\n",
       "      <th>MSZoning</th>\n",
       "      <td>0</td>\n",
       "    </tr>\n",
       "    <tr>\n",
       "      <th>Functional</th>\n",
       "      <td>0</td>\n",
       "    </tr>\n",
       "    <tr>\n",
       "      <th>BsmtExposure</th>\n",
       "      <td>0</td>\n",
       "    </tr>\n",
       "    <tr>\n",
       "      <th>BsmtFinType1</th>\n",
       "      <td>0</td>\n",
       "    </tr>\n",
       "    <tr>\n",
       "      <th>BsmtFinType2</th>\n",
       "      <td>0</td>\n",
       "    </tr>\n",
       "  </tbody>\n",
       "</table>\n",
       "</div>"
      ],
      "text/plain": [
       "              contagem\n",
       "MSZoning             0\n",
       "Functional           0\n",
       "BsmtExposure         0\n",
       "BsmtFinType1         0\n",
       "BsmtFinType2         0"
      ]
     },
     "execution_count": 729,
     "metadata": {},
     "output_type": "execute_result"
    }
   ],
   "source": [
    "null_count(obj, data = X_train).head()"
   ]
  },
  {
   "cell_type": "markdown",
   "id": "6c8013e6",
   "metadata": {},
   "source": [
    "### <font color = #0f4e8c>1.2 Transformação de variáveis categóricas"
   ]
  },
  {
   "cell_type": "code",
   "execution_count": null,
   "id": "a067a4b1",
   "metadata": {},
   "outputs": [],
   "source": []
  },
  {
   "cell_type": "code",
   "execution_count": 741,
   "id": "16130400",
   "metadata": {},
   "outputs": [],
   "source": [
    "# Transformando as variáveis\n",
    "\n",
    "encoder = OneHotEncoder(handle_unknown = 'ignore') \n",
    "dummies = pd.DataFrame(encoder.fit_transform(X_train[obj]).toarray(), index = X_train.index, dtype = int)\n",
    "X_train = pd.concat([X_train.drop(obj, axis = 1), dummies], axis = 1)"
   ]
  },
  {
   "cell_type": "code",
   "execution_count": 742,
   "id": "d59442bd",
   "metadata": {},
   "outputs": [
    {
     "data": {
      "text/plain": [
       "(2043, 283)"
      ]
     },
     "execution_count": 742,
     "metadata": {},
     "output_type": "execute_result"
    }
   ],
   "source": [
    "X_train.shape"
   ]
  },
  {
   "cell_type": "code",
   "execution_count": 743,
   "id": "b6b9eb31",
   "metadata": {},
   "outputs": [
    {
     "data": {
      "text/html": [
       "<div>\n",
       "<style scoped>\n",
       "    .dataframe tbody tr th:only-of-type {\n",
       "        vertical-align: middle;\n",
       "    }\n",
       "\n",
       "    .dataframe tbody tr th {\n",
       "        vertical-align: top;\n",
       "    }\n",
       "\n",
       "    .dataframe thead th {\n",
       "        text-align: right;\n",
       "    }\n",
       "</style>\n",
       "<table border=\"1\" class=\"dataframe\">\n",
       "  <thead>\n",
       "    <tr style=\"text-align: right;\">\n",
       "      <th></th>\n",
       "      <th>MSSubClass</th>\n",
       "      <th>LotFrontage</th>\n",
       "      <th>LotArea</th>\n",
       "      <th>OverallQual</th>\n",
       "      <th>OverallCond</th>\n",
       "      <th>YearBuilt</th>\n",
       "      <th>YearRemodAdd</th>\n",
       "      <th>MasVnrArea</th>\n",
       "      <th>BsmtFinSF1</th>\n",
       "      <th>BsmtFinSF2</th>\n",
       "      <th>...</th>\n",
       "      <th>237</th>\n",
       "      <th>238</th>\n",
       "      <th>239</th>\n",
       "      <th>240</th>\n",
       "      <th>241</th>\n",
       "      <th>242</th>\n",
       "      <th>243</th>\n",
       "      <th>244</th>\n",
       "      <th>245</th>\n",
       "      <th>246</th>\n",
       "    </tr>\n",
       "  </thead>\n",
       "  <tbody>\n",
       "    <tr>\n",
       "      <th>1729</th>\n",
       "      <td>80</td>\n",
       "      <td>70.0</td>\n",
       "      <td>10500</td>\n",
       "      <td>5</td>\n",
       "      <td>7</td>\n",
       "      <td>1971</td>\n",
       "      <td>2005</td>\n",
       "      <td>82.0</td>\n",
       "      <td>349.0</td>\n",
       "      <td>0.0</td>\n",
       "      <td>...</td>\n",
       "      <td>0</td>\n",
       "      <td>0</td>\n",
       "      <td>0</td>\n",
       "      <td>1</td>\n",
       "      <td>0</td>\n",
       "      <td>0</td>\n",
       "      <td>0</td>\n",
       "      <td>0</td>\n",
       "      <td>1</td>\n",
       "      <td>0</td>\n",
       "    </tr>\n",
       "    <tr>\n",
       "      <th>581</th>\n",
       "      <td>20</td>\n",
       "      <td>102.0</td>\n",
       "      <td>9373</td>\n",
       "      <td>5</td>\n",
       "      <td>6</td>\n",
       "      <td>1953</td>\n",
       "      <td>1953</td>\n",
       "      <td>84.0</td>\n",
       "      <td>500.0</td>\n",
       "      <td>196.0</td>\n",
       "      <td>...</td>\n",
       "      <td>0</td>\n",
       "      <td>0</td>\n",
       "      <td>0</td>\n",
       "      <td>1</td>\n",
       "      <td>0</td>\n",
       "      <td>0</td>\n",
       "      <td>0</td>\n",
       "      <td>0</td>\n",
       "      <td>1</td>\n",
       "      <td>0</td>\n",
       "    </tr>\n",
       "    <tr>\n",
       "      <th>351</th>\n",
       "      <td>160</td>\n",
       "      <td>24.0</td>\n",
       "      <td>2645</td>\n",
       "      <td>8</td>\n",
       "      <td>5</td>\n",
       "      <td>1999</td>\n",
       "      <td>2000</td>\n",
       "      <td>456.0</td>\n",
       "      <td>813.0</td>\n",
       "      <td>0.0</td>\n",
       "      <td>...</td>\n",
       "      <td>0</td>\n",
       "      <td>0</td>\n",
       "      <td>0</td>\n",
       "      <td>0</td>\n",
       "      <td>0</td>\n",
       "      <td>0</td>\n",
       "      <td>0</td>\n",
       "      <td>0</td>\n",
       "      <td>1</td>\n",
       "      <td>0</td>\n",
       "    </tr>\n",
       "    <tr>\n",
       "      <th>197</th>\n",
       "      <td>60</td>\n",
       "      <td>108.0</td>\n",
       "      <td>13418</td>\n",
       "      <td>9</td>\n",
       "      <td>5</td>\n",
       "      <td>2006</td>\n",
       "      <td>2006</td>\n",
       "      <td>270.0</td>\n",
       "      <td>1420.0</td>\n",
       "      <td>0.0</td>\n",
       "      <td>...</td>\n",
       "      <td>0</td>\n",
       "      <td>0</td>\n",
       "      <td>0</td>\n",
       "      <td>1</td>\n",
       "      <td>1</td>\n",
       "      <td>0</td>\n",
       "      <td>0</td>\n",
       "      <td>0</td>\n",
       "      <td>0</td>\n",
       "      <td>0</td>\n",
       "    </tr>\n",
       "    <tr>\n",
       "      <th>986</th>\n",
       "      <td>20</td>\n",
       "      <td>67.0</td>\n",
       "      <td>9808</td>\n",
       "      <td>7</td>\n",
       "      <td>5</td>\n",
       "      <td>2002</td>\n",
       "      <td>2002</td>\n",
       "      <td>110.0</td>\n",
       "      <td>788.0</td>\n",
       "      <td>0.0</td>\n",
       "      <td>...</td>\n",
       "      <td>0</td>\n",
       "      <td>0</td>\n",
       "      <td>0</td>\n",
       "      <td>1</td>\n",
       "      <td>0</td>\n",
       "      <td>0</td>\n",
       "      <td>0</td>\n",
       "      <td>0</td>\n",
       "      <td>1</td>\n",
       "      <td>0</td>\n",
       "    </tr>\n",
       "  </tbody>\n",
       "</table>\n",
       "<p>5 rows × 283 columns</p>\n",
       "</div>"
      ],
      "text/plain": [
       "      MSSubClass  LotFrontage  LotArea  OverallQual  OverallCond  YearBuilt  \\\n",
       "1729          80         70.0    10500            5            7       1971   \n",
       "581           20        102.0     9373            5            6       1953   \n",
       "351          160         24.0     2645            8            5       1999   \n",
       "197           60        108.0    13418            9            5       2006   \n",
       "986           20         67.0     9808            7            5       2002   \n",
       "\n",
       "      YearRemodAdd  MasVnrArea  BsmtFinSF1  BsmtFinSF2  ...  237  238  239  \\\n",
       "1729          2005        82.0       349.0         0.0  ...    0    0    0   \n",
       "581           1953        84.0       500.0       196.0  ...    0    0    0   \n",
       "351           2000       456.0       813.0         0.0  ...    0    0    0   \n",
       "197           2006       270.0      1420.0         0.0  ...    0    0    0   \n",
       "986           2002       110.0       788.0         0.0  ...    0    0    0   \n",
       "\n",
       "      240  241  242  243  244  245  246  \n",
       "1729    1    0    0    0    0    1    0  \n",
       "581     1    0    0    0    0    1    0  \n",
       "351     0    0    0    0    0    1    0  \n",
       "197     1    1    0    0    0    0    0  \n",
       "986     1    0    0    0    0    1    0  \n",
       "\n",
       "[5 rows x 283 columns]"
      ]
     },
     "execution_count": 743,
     "metadata": {},
     "output_type": "execute_result"
    }
   ],
   "source": [
    "X_train.head()"
   ]
  },
  {
   "cell_type": "markdown",
   "id": "69554951",
   "metadata": {},
   "source": [
    "### <font color = #0f4e8c> 1.3 Standartização"
   ]
  },
  {
   "cell_type": "code",
   "execution_count": 744,
   "id": "6828755b",
   "metadata": {},
   "outputs": [],
   "source": [
    "# Instanciando objeto\n",
    "\n",
    "scaler = MinMaxScaler()"
   ]
  },
  {
   "cell_type": "code",
   "execution_count": 745,
   "id": "1709bea8",
   "metadata": {},
   "outputs": [
    {
     "name": "stderr",
     "output_type": "stream",
     "text": [
      "C:\\Users\\ferna\\Anaconda3\\lib\\site-packages\\sklearn\\utils\\validation.py:1692: FutureWarning: Feature names only support names that are all strings. Got feature names with dtypes: ['int', 'str']. An error will be raised in 1.2.\n",
      "  FutureWarning,\n",
      "C:\\Users\\ferna\\Anaconda3\\lib\\site-packages\\sklearn\\utils\\validation.py:1692: FutureWarning: Feature names only support names that are all strings. Got feature names with dtypes: ['int', 'str']. An error will be raised in 1.2.\n",
      "  FutureWarning,\n"
     ]
    }
   ],
   "source": [
    "X_train = scaler.fit_transform(X_train)"
   ]
  },
  {
   "cell_type": "markdown",
   "id": "c530e8b3",
   "metadata": {},
   "source": [
    "### <font color = #0f4e8c> 1.4 Refotaração"
   ]
  },
  {
   "cell_type": "code",
   "execution_count": 747,
   "id": "a6d0760c",
   "metadata": {},
   "outputs": [],
   "source": [
    "def preprocess(data):\n",
    "    \"\"\" Função para encapsular processos de tratamento. \"\"\"\n",
    "    \n",
    "    # imputação\n",
    "    impute(data)\n",
    "    \n",
    "    # dummy\n",
    "    ohe = OneHotEncoder(categories = encoder.categories_, handle_unknown = 'ignore')\n",
    "    dummies = pd.DataFrame(ohe.fit_transform(data[obj],).toarray(), index = data.index, dtype = int)\n",
    "    df_dummy = pd.concat([data.drop(obj, axis = 1), dummies], axis = 1)\n",
    "    \n",
    "    # standartização\n",
    "    scaled_array = scaler.fit_transform(df_dummy)\n",
    "    \n",
    "    return scaled_array"
   ]
  },
  {
   "cell_type": "code",
   "execution_count": 748,
   "id": "04fec71c",
   "metadata": {},
   "outputs": [
    {
     "name": "stderr",
     "output_type": "stream",
     "text": [
      "C:\\Users\\ferna\\Anaconda3\\lib\\site-packages\\sklearn\\utils\\validation.py:1692: FutureWarning: Feature names only support names that are all strings. Got feature names with dtypes: ['int', 'str']. An error will be raised in 1.2.\n",
      "  FutureWarning,\n",
      "C:\\Users\\ferna\\Anaconda3\\lib\\site-packages\\sklearn\\utils\\validation.py:1692: FutureWarning: Feature names only support names that are all strings. Got feature names with dtypes: ['int', 'str']. An error will be raised in 1.2.\n",
      "  FutureWarning,\n"
     ]
    }
   ],
   "source": [
    "# X_test\n",
    "\n",
    "X_test = preprocess(X_test)"
   ]
  },
  {
   "cell_type": "code",
   "execution_count": 750,
   "id": "4aaf2bc6",
   "metadata": {},
   "outputs": [],
   "source": [
    "# y_train\n",
    "# imputando\n",
    "y_train = y_train.fillna(y_train.median())\n",
    "\n",
    "# y_test\n",
    "# imputando\n",
    "y_test = y_test.fillna(y_test.median())"
   ]
  },
  {
   "cell_type": "code",
   "execution_count": 749,
   "id": "41f24d3c",
   "metadata": {
    "scrolled": true
   },
   "outputs": [
    {
     "name": "stdout",
     "output_type": "stream",
     "text": [
      "(876, 283) (876, 1)\n"
     ]
    }
   ],
   "source": [
    "print(X_test.shape, y_test.shape)"
   ]
  },
  {
   "cell_type": "markdown",
   "id": "436c0359",
   "metadata": {},
   "source": [
    "<br>\n",
    "\n",
    "## <font color = #0f4e8c>2. Regressão Linear"
   ]
  },
  {
   "cell_type": "code",
   "execution_count": 817,
   "id": "99952fe0",
   "metadata": {},
   "outputs": [],
   "source": [
    "# Instanciando o modelo\n",
    "lin_model = LinearRegression()\n",
    "\n",
    "# Fitando o modelo\n",
    "lin_model.fit(X_train, y_train)\n",
    "\n",
    "# Previsões\n",
    "y_pred_train = lin_model.predict(X_train)\n",
    "y_pred_test = lin_model.predict(X_test)"
   ]
  },
  {
   "cell_type": "markdown",
   "id": "96095502",
   "metadata": {},
   "source": [
    "### <font color = #0f4e8c>2.1 Avaliação"
   ]
  },
  {
   "cell_type": "code",
   "execution_count": 814,
   "id": "608220c9",
   "metadata": {},
   "outputs": [],
   "source": [
    "# importando módulos\n",
    "\n",
    "from sklearn.metrics import mean_squared_error as mse\n",
    "from sklearn.metrics import mean_absolute_error as mae"
   ]
  },
  {
   "cell_type": "code",
   "execution_count": 818,
   "id": "da36ae2f",
   "metadata": {},
   "outputs": [
    {
     "name": "stdout",
     "output_type": "stream",
     "text": [
      "O R^2 do modelo no treino é de: 0.5147170710938295\n",
      "O erro quadrático médio do modelo no treino é de: 1581276958.6857562\n",
      "O erro médio absoluto do modelo no treino é de: 27338.913852178168\n"
     ]
    }
   ],
   "source": [
    "# Métricas conjunto de treino\n",
    "\n",
    "print(f'O R^2 do modelo no treino é de: {lin_model.score(X_train, y_train)}')\n",
    "print(f'O erro quadrático médio do modelo no treino é de: {mse(y_train, y_pred_train)}')\n",
    "print(f'O erro médio absoluto do modelo no treino é de: {mae(y_train, y_pred_train)}')"
   ]
  },
  {
   "cell_type": "code",
   "execution_count": 819,
   "id": "aca6a005",
   "metadata": {},
   "outputs": [
    {
     "name": "stdout",
     "output_type": "stream",
     "text": [
      "O R^2 do modelo no teste é de: -9.736022447233201e+19\n",
      "O erro quadrático médio do modelo no teste é de: 3.094192757990054e+29\n",
      "O erro médio absoluto do modelo no teste é de: 456855701633192.06\n"
     ]
    }
   ],
   "source": [
    "# Métricas conjunto de teste\n",
    "\n",
    "print(f'O R^2 do modelo no teste é de: {lin_model.score(X_test, y_test)}')\n",
    "print(f'O erro quadrático médio do modelo no teste é de: {mse(y_test, y_pred_test)}')\n",
    "print(f'O erro médio absoluto do modelo no teste é de: {mae(y_test, y_pred_test)}')"
   ]
  },
  {
   "cell_type": "markdown",
   "id": "aee139df",
   "metadata": {},
   "source": [
    "Podemos ver que todas as métricas pioram drasticamente quando alimentamos o modelo com dados inéditos. Isso é um grande indicativo de que o modelo está <font color = #0f4e8c>**sobreajustado**."
   ]
  },
  {
   "cell_type": "code",
   "execution_count": null,
   "id": "216a2bfa",
   "metadata": {},
   "outputs": [],
   "source": []
  },
  {
   "cell_type": "code",
   "execution_count": 905,
   "id": "d4973352",
   "metadata": {},
   "outputs": [
    {
     "data": {
      "text/plain": [
       "RidgeCV(alphas=array([1.00000000e-03, 1.33352143e-02, 1.77827941e-01, 2.37137371e+00,\n",
       "       3.16227766e+01, 4.21696503e+02, 5.62341325e+03, 7.49894209e+04,\n",
       "       1.00000000e+06]),\n",
       "        cv=10)"
      ]
     },
     "execution_count": 905,
     "metadata": {},
     "output_type": "execute_result"
    }
   ],
   "source": [
    "ridgecv = RidgeCV(alphas = np.logspace(-3,6,9), cv = 10)\n",
    "\n",
    "ridgecv.fit(X_train, y_train)"
   ]
  },
  {
   "cell_type": "code",
   "execution_count": 906,
   "id": "f314ea9b",
   "metadata": {},
   "outputs": [],
   "source": [
    "alpha = ridgecv.alpha_"
   ]
  },
  {
   "cell_type": "code",
   "execution_count": 907,
   "id": "900920c9",
   "metadata": {},
   "outputs": [],
   "source": [
    "ridge = Ridge(alpha = alpha)"
   ]
  },
  {
   "cell_type": "code",
   "execution_count": 908,
   "id": "1c415a09",
   "metadata": {},
   "outputs": [
    {
     "data": {
      "text/plain": [
       "Ridge(alpha=31.622776601683793)"
      ]
     },
     "execution_count": 908,
     "metadata": {},
     "output_type": "execute_result"
    }
   ],
   "source": [
    "ridge.fit(X_train, y_train)"
   ]
  },
  {
   "cell_type": "code",
   "execution_count": 909,
   "id": "ef1b460a",
   "metadata": {},
   "outputs": [],
   "source": [
    "y_ridge_train = ridge.predict(X_train)\n",
    "y_ridge_test = ridge.predict(X_test)"
   ]
  },
  {
   "cell_type": "code",
   "execution_count": 910,
   "id": "f6ee849e",
   "metadata": {},
   "outputs": [
    {
     "name": "stdout",
     "output_type": "stream",
     "text": [
      "O R^2 do modelo no treino é de: 0.45127605591610287\n",
      "O erro quadrático médio do modelo no treino é de: 1787997223.423461\n",
      "O erro médio absoluto do modelo no treino é de: 28508.641127931292\n"
     ]
    }
   ],
   "source": [
    "print(f'O R^2 do modelo no treino é de: {ridge.score(X_train, y_train)}')\n",
    "print(f'O erro quadrático médio do modelo no treino é de: {mse(y_train, y_ridge_train)}')\n",
    "print(f'O erro médio absoluto do modelo no treino é de: {mae(y_train, y_ridge_train)}')"
   ]
  },
  {
   "cell_type": "code",
   "execution_count": 912,
   "id": "c978ab68",
   "metadata": {},
   "outputs": [
    {
     "name": "stdout",
     "output_type": "stream",
     "text": [
      "O R^2 do modelo no teste é de: 0.3822339287001264\n",
      "O erro quadrático médio do modelo no teste é de: 1973159531.110959\n",
      "O erro médio absoluto do modelo no teste é de: 29353.822064351716\n"
     ]
    }
   ],
   "source": [
    "print(f'O R^2 do modelo no teste é de: {ridge.score(X_test, y_test)}')\n",
    "print(f'O erro quadrático médio do modelo no teste é de: {mse(y_test, y_pred_test)}')\n",
    "print(f'O erro médio absoluto do modelo no teste é de: {mae(y_test, y_pred_test)}')"
   ]
  },
  {
   "cell_type": "markdown",
   "id": "262c904b",
   "metadata": {},
   "source": []
  },
  {
   "cell_type": "code",
   "execution_count": 913,
   "id": "cb240a73",
   "metadata": {},
   "outputs": [],
   "source": [
    "lassocv = LassoCV()"
   ]
  },
  {
   "cell_type": "code",
   "execution_count": 914,
   "id": "aee53668",
   "metadata": {},
   "outputs": [],
   "source": [
    "lasso = Lasso(alpha = 10)\n",
    "\n",
    "lasso.fit(X_train, y_train)\n",
    "\n",
    "y_lasso_train = lasso.predict(X_train)\n",
    "y_lasso_test = lasso.predict(X_test)"
   ]
  },
  {
   "cell_type": "code",
   "execution_count": 810,
   "id": "1eb7db23",
   "metadata": {},
   "outputs": [
    {
     "name": "stdout",
     "output_type": "stream",
     "text": [
      "O R^2 do modelo no treino é de: -3.964790201162572e+22\n",
      "O erro quadrático médio do modelo no treino é de: 1591164935.5380015\n",
      "O erro médio absoluto do modelo no treino é de: 27458.732027602353\n"
     ]
    }
   ],
   "source": [
    "print(f'O R^2 do modelo no treino é de: {lin_model.score(X_train, y_train)}')\n",
    "print(f'O erro quadrático médio do modelo no treino é de: {mse(y_train, y_lasso_train)}')\n",
    "print(f'O erro médio absoluto do modelo no treino é de: {mae(y_train, y_lasso_train)}')"
   ]
  },
  {
   "cell_type": "code",
   "execution_count": 811,
   "id": "167bc9e1",
   "metadata": {},
   "outputs": [
    {
     "name": "stdout",
     "output_type": "stream",
     "text": [
      "O R^2 do modelo no teste é de: -9.693843226746185e+22\n",
      "O erro quadrático médio do modelo no teste é de: 1942940096.2632678\n",
      "O erro médio absoluto do modelo no teste é de: 29473.4190441658\n"
     ]
    }
   ],
   "source": [
    "print(f'O R^2 do modelo no teste é de: {lin_model.score(X_test, y_test)}')\n",
    "print(f'O erro quadrático médio do modelo no teste é de: {mse(y_test, y_pred_test)}')\n",
    "print(f'O erro médio absoluto do modelo no teste é de: {mae(y_test, y_pred_test)}')"
   ]
  },
  {
   "cell_type": "code",
   "execution_count": null,
   "id": "dcebd535",
   "metadata": {},
   "outputs": [],
   "source": []
  }
 ],
 "metadata": {
  "kernelspec": {
   "display_name": "Python 3 (ipykernel)",
   "language": "python",
   "name": "python3"
  },
  "language_info": {
   "codemirror_mode": {
    "name": "ipython",
    "version": 3
   },
   "file_extension": ".py",
   "mimetype": "text/x-python",
   "name": "python",
   "nbconvert_exporter": "python",
   "pygments_lexer": "ipython3",
   "version": "3.7.3"
  }
 },
 "nbformat": 4,
 "nbformat_minor": 5
}
