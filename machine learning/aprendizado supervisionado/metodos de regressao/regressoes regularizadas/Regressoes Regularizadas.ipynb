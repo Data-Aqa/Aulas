{
 "cells": [
  {
   "cell_type": "markdown",
   "id": "1dc32f28",
   "metadata": {},
   "source": [
    "<img src = 'imagens/logo.jpg'>"
   ]
  },
  {
   "cell_type": "markdown",
   "id": "af589a95",
   "metadata": {},
   "source": [
    "# <center><span style = \"font-family:Times New Roman\"><font color = #0f4e8c>Regressões Regularizadas"
   ]
  },
  {
   "cell_type": "markdown",
   "id": "82e3e368",
   "metadata": {},
   "source": [
    "Nesta aula vamos falar sobre Regressões Regularizadas, em especial, as regressões regularizadas **Lasso** e **Ridge**."
   ]
  },
  {
   "cell_type": "markdown",
   "id": "72315c75",
   "metadata": {},
   "source": [
    "Antes de começarmos, precisamos falar sobre alguns pontos que são chave para compreender o funcionamento e aplicações das regressões regularizadas."
   ]
  },
  {
   "cell_type": "markdown",
   "id": "ec08145e",
   "metadata": {},
   "source": [
    "## <span style = \"font-family:Times New Roman\"><font color = #0f4e8c>1. Sobreajuste, Subajuste e Complexidade"
   ]
  },
  {
   "cell_type": "markdown",
   "id": "73b86a87",
   "metadata": {},
   "source": [
    "Uma das características mais importantes de um modelo de machine learning é a sua capacidade de **generalização**, em outras palavras, a capacidade de fazer boas previsões com dados inéditos."
   ]
  },
  {
   "cell_type": "markdown",
   "id": "59458a08",
   "metadata": {},
   "source": [
    "Normalmente modelos são incapazes de generalizar por dois motivos:\n",
    "1. Não se ajustaram bem aos dados de treino;\n",
    "2. Se ajustaram demais aos dados de treino"
   ]
  },
  {
   "cell_type": "markdown",
   "id": "d9098285",
   "metadata": {},
   "source": [
    "O primeiro caso é chamado de <font color = #0f4e8c>*Subajuste*<font color = 'black'>, o segundo de <font color = #0f4e8c>*Sobreajuste*<font color = 'black'>."
   ]
  },
  {
   "cell_type": "markdown",
   "id": "5312a539",
   "metadata": {},
   "source": [
    "Estes fenômenos podem acontecer por vários motivos, um deles (e muito comum) é a *complexidade* dos modelos."
   ]
  },
  {
   "cell_type": "markdown",
   "id": "2e6f3cf4",
   "metadata": {},
   "source": [
    "$\\triangleright$ <font color = #ACAF1F>***No contexto da Regresssão Linear, a complexidade do modelo é definida pelo número de variáveis preditoras.***\n",
    "\n",
    "$\\triangleright$ <font color = #ACAF1F>***Em Árvores de Decisão, está ligada à profundidade da árvore. Em modelos de Vizinhos Próximos, ao número de vizinhos.***"
   ]
  },
  {
   "cell_type": "markdown",
   "id": "161d9995",
   "metadata": {},
   "source": [
    "Modelos muito complexos tendem a capturar informações irrelevantes, porém específicas, do conjunto de treino (*noise*, ou *ruído*). Isso faz com que a performance deles no conjunto de treino seja elevada. Quando estes modelos são alimentados com dados inéditos (conjunto de  teste), observamos uma queda acentuada na performance."
   ]
  },
  {
   "cell_type": "markdown",
   "id": "725bc40d",
   "metadata": {},
   "source": [
    "<img src = 'imagens/model-over-fitting.png'>"
   ]
  },
  {
   "cell_type": "markdown",
   "id": "cadfc1e6",
   "metadata": {},
   "source": [
    "<center><font size = 1>Imagem 1. IBM - Overfitting (https://1.cms.s81c.com/sites/default/files/2021-03-03/model-over-fitting.png)"
   ]
  },
  {
   "cell_type": "markdown",
   "id": "f03e45f7",
   "metadata": {},
   "source": [
    "A imagem acima exemplifica bem a ideia de sobreajuste e subajuste no contexto da classificação."
   ]
  },
  {
   "cell_type": "markdown",
   "id": "35f8849f",
   "metadata": {},
   "source": [
    "## <font color = #0f4e8c>2. Trade-off viés-variância"
   ]
  },
  {
   "cell_type": "markdown",
   "id": "8e2fb9f0",
   "metadata": {},
   "source": [
    "O trade-off entre viés e variância é um conceito de extrema importância para a ciência de dados, e um dos motivos pelos quais utilizamos métodos de regularização."
   ]
  },
  {
   "cell_type": "markdown",
   "id": "cf64531d",
   "metadata": {},
   "source": [
    "Olhando para a imagem 1, vemos que quando ocorre *subajuste* temos viés (*bias*) alto. No *sobreajuste*, por sua vez, temos variância (*variance*) alta. Para entendermos isso precisamos conceituar Viés, Variância e como eles se relacionam com o erro do modelo."
   ]
  },
  {
   "cell_type": "markdown",
   "id": "63f25d5b",
   "metadata": {},
   "source": [
    "### <font color = #0f4e8c>2.1 Viés\n",
    "---\n",
    "O viés é a diferença entre o valor médio das previsões do modelo (valor esperado $E[\\space ]$) e o valor real que estamos tentando prever."
   ]
  },
  {
   "cell_type": "markdown",
   "id": "4cf1246c",
   "metadata": {},
   "source": [
    "Formalmente:\n",
    "\n",
    "#### Viés $ = E[\\hat{f}(x)] - f(x)$"
   ]
  },
  {
   "cell_type": "markdown",
   "id": "97618d42",
   "metadata": {},
   "source": [
    "Um modelo com viés alto não se ajusta bem aos dados de treino, levando ao *subajuste* $\\rightarrow$ erro de treino e teste altos."
   ]
  },
  {
   "cell_type": "markdown",
   "id": "a1c63233",
   "metadata": {},
   "source": [
    "### <font color = #0f4e8c>2.2 Variância\n",
    "---\n",
    "A variância é a variabilidade das previsões do modelo."
   ]
  },
  {
   "cell_type": "markdown",
   "id": "37115df7",
   "metadata": {},
   "source": [
    "Formalmente:\n",
    "#### Variância $= E\\left[(\\hat{f}(x) - E[\\hat{f}(x)])^2\\right]$ "
   ]
  },
  {
   "cell_type": "markdown",
   "id": "7b67cc7f",
   "metadata": {},
   "source": [
    "Um modelo com variância alta se ajusta muito aos dados de treino, levando ao *sobreajuste* $\\rightarrow$ erro de treino baixo e de teste alto."
   ]
  },
  {
   "cell_type": "markdown",
   "id": "c5ce361e",
   "metadata": {},
   "source": [
    "Abaixo está uma imagem que ilustra como o viés e a variância impactam nas previsões do modelos."
   ]
  },
  {
   "cell_type": "markdown",
   "id": "50ab8ee1",
   "metadata": {},
   "source": [
    "<img src = 'imagens/bias-variance-tradeoff.jpg'>"
   ]
  },
  {
   "cell_type": "markdown",
   "id": "97031ca5",
   "metadata": {},
   "source": [
    "[Imagem 2. Bias Variance Trade-off.](https://res.cloudinary.com/dyd911kmh/image/upload/f_auto,q_auto:best/v1543418451/bias_vs_variance_swxhxx.jpg)\n"
   ]
  },
  {
   "cell_type": "markdown",
   "id": "7054797b",
   "metadata": {},
   "source": [
    "Podemos formalizar este comportamento olhando para o Erro Quadrático do modelo."
   ]
  },
  {
   "cell_type": "markdown",
   "id": "6640d8ba",
   "metadata": {},
   "source": [
    "O erro do modelo pode ser definido como:"
   ]
  },
  {
   "cell_type": "markdown",
   "id": "091c0e76",
   "metadata": {},
   "source": [
    "#### <center> $e =  E\\left [(Y - \\hat{f}(x))^2\\right ]$"
   ]
  },
  {
   "cell_type": "markdown",
   "id": "295ecaaa",
   "metadata": {},
   "source": [
    "Podemos decompô-lo da seguinte maneira:\n",
    "#### <center>$e = \\left(E[\\hat{f}(x)] - f(x)\\right )^2 + E\\left [(\\hat{f}(x) - E[\\hat{f}(x)])^2\\right ] +\\sigma_e^2 $"
   ]
  },
  {
   "cell_type": "markdown",
   "id": "f6754b7e",
   "metadata": {},
   "source": [
    "Voltando às definições de viés e variância, vemos que o erro é composto por três componentes:"
   ]
  },
  {
   "cell_type": "markdown",
   "id": "bf607540",
   "metadata": {},
   "source": [
    "### <center> $e = Vies^2 + Variancia + Erro\\space Irredutível$"
   ]
  },
  {
   "cell_type": "markdown",
   "id": "44ab487d",
   "metadata": {},
   "source": [
    "Modelos simples tendem a ter baixa variância e viés alto, levando ao subajuste. À medida que a complexidade do modelo aumenta, abrimos mão do viés e introduzimos variância."
   ]
  },
  {
   "cell_type": "markdown",
   "id": "c57394c9",
   "metadata": {},
   "source": [
    "Este é o trade-off que existe entre viés e variância.\n",
    "\n",
    "```\n",
    "Ao diminuir o viés para aumentar o ajuste do modelo aos dados (evitar subajuste), nós introduzimos variância ao modelo, correndo o risco de construir um modelo sobreajustado aos dados de treino.\n",
    "```"
   ]
  },
  {
   "cell_type": "markdown",
   "id": "f08fca24",
   "metadata": {},
   "source": [
    "Para demonstrar demonstrar na prática estes conceitos e suas implicações, vamos utilizar o conjunto de dados Boston House Prices. O conjunto está disponível na biblioteca `mlxtend`, que usaremos para decompor o erro do modelo. Além disso, utilizaremos um algoritmo de Árvore de Decisão."
   ]
  },
  {
   "cell_type": "markdown",
   "id": "4e4c8932",
   "metadata": {},
   "source": [
    "Escolhi este algoritmo porque ele permite que a complexidade do modelo seja controlada por meio de parâmetros definidos por nós."
   ]
  },
  {
   "cell_type": "markdown",
   "id": "2ad1fa32",
   "metadata": {},
   "source": [
    "No exemplo treinei 28 modelos de árvore de decisão, cada um menos complexo que o anterior. A biblioteca `mlxtend` calcula o MSE para cada um dos modelos o decompõem entre viés e variância. Estes valores foram armazenados em um DataFrame, que utilizei para construir este gráfico. "
   ]
  },
  {
   "attachments": {
    "vies-variancia.png": {
     "image/png": "[encoded data removed]"
    }
   },
   "cell_type": "markdown",
   "id": "2eb51c3b",
   "metadata": {},
   "source": [
    "![vies-variancia.png](attachment:vies-variancia.png)"
   ]
  },
  {
   "cell_type": "markdown",
   "id": "53d68107",
   "metadata": {},
   "source": [
    "Nele, vemos que à medida em que o modelo fica mais complexo o viés (e o erro como um todo) diminui, indicando que o modelo está se ajustando melhor aos dados. Com 15 observações por folha temos nosso melhor modelo."
   ]
  },
  {
   "cell_type": "markdown",
   "id": "affe9e3d",
   "metadata": {},
   "source": [
    "A partir deste ponto a variância passa a aumentar, levando o erro para cima. Isso indica que o modelo está se ajustando *demais* aos dados, ou seja, está sobreajustado."
   ]
  },
  {
   "cell_type": "markdown",
   "id": "416f1ae1",
   "metadata": {},
   "source": [
    "---\n",
    "Agora que entendemos como o viés e variância se relacionam entre si e com a complexidade do modelo, podemos entrar de fato nas regressões regularizadas. "
   ]
  },
  {
   "cell_type": "markdown",
   "id": "166d2efc",
   "metadata": {},
   "source": [
    "## <font color = #0f4e8c>3. <u>Regularização<u/>"
   ]
  },
  {
   "cell_type": "markdown",
   "id": "0dd815f9",
   "metadata": {},
   "source": [
    "*Regularização* é o nome dado ao conjunto de técnicas focadas em reduzir o sobreajuste em modelos de aprendizado de máquina.\n",
    "\n",
    "De uma maneira simples, ela consiste em introduzir viés ao modelo de forma que a sua variância diminua."
   ]
  },
  {
   "cell_type": "markdown",
   "id": "c20003da",
   "metadata": {},
   "source": [
    "Existem várias técnicas de regularização, nesta aula vamos falar sobre as regularizações $\\ell_1$ e $\\ell_2$."
   ]
  },
  {
   "cell_type": "markdown",
   "id": "9a040e6b",
   "metadata": {},
   "source": [
    "## <font color = #0f4e8c>4. <u>Regressões Regularizadas"
   ]
  },
  {
   "cell_type": "markdown",
   "id": "e26e52f3",
   "metadata": {},
   "source": [
    "Em modelos de regressão linear, a complexidade do modelo é determinada pelo número de variáveis preditoras ($p$) do conjunto. "
   ]
  },
  {
   "cell_type": "markdown",
   "id": "1b883141",
   "metadata": {},
   "source": [
    "À medida que $p$ se aproxima do número de observações ($n$), a variância do modelo tende ao infinito. Em outras palavras, quando temos muitas variáveis preditoras em nosso modelo seus coeficientes tendem a ser superestimados, levando ao sobreajuste."
   ]
  },
  {
   "cell_type": "markdown",
   "id": "777cdc6f",
   "metadata": {},
   "source": [
    "Temos duas opções para contornar este problema:\n",
    "1. Encolher os coeficientes das variáveis preditoras $p$;\n",
    "2. Reduzir o número de $p$.\n",
    "\n",
    "As regressões regularizadas se enquadram na primeira opção."
   ]
  },
  {
   "cell_type": "markdown",
   "id": "2c0cb105",
   "metadata": {},
   "source": [
    "Como dito no início da aula iremos falar sobre as regressões Ridge e Lasso.\n",
    "\n",
    "Independente do método, a regularização de regressões consiste em <font color = #0f4e8c>***adicionar um termo de <font color = 'red'>penalização<font color = #0f4e8c> à de função de custo da regressão.***"
   ]
  },
  {
   "cell_type": "markdown",
   "id": "1813de36",
   "metadata": {},
   "source": [
    "## <font color = #0f4e8c>4.1 <u>Regressão Ridge ($\\ell_2$)"
   ]
  },
  {
   "cell_type": "markdown",
   "id": "2d3f79f9",
   "metadata": {},
   "source": [
    "A regressão Ridge é utilizada quando queremos manter o número de variáveis preditoras, porém encolhendo seus coeficientes."
   ]
  },
  {
   "cell_type": "markdown",
   "id": "f57e88f7",
   "metadata": {},
   "source": [
    "Ela também é chamada de <font color = #0f4e8c>*Regularização $\\ell_2$*<font color = 'black'>, pois adiciona a *norma* $\\ell_2$ dos coeficientes na função de custo para encolher os coeficientes da regressão:\n",
    " "
   ]
  },
  {
   "cell_type": "markdown",
   "id": "2a814959",
   "metadata": {},
   "source": [
    "### <center>$L_{linear}(\\hat{\\beta}) = RSS \\implies L_{ridge}(\\hat{\\beta}) = RSS + \\lambda \\cdot\\ell_2(\\beta) \\space \\implies$ "
   ]
  },
  {
   "cell_type": "markdown",
   "id": "da52ea70",
   "metadata": {},
   "source": [
    "### <center>$L_{ridge}(\\hat\\beta) = RSS + \\lambda\\sum_{j=1}^{p}\\beta_j^2 \\implies$"
   ]
  },
  {
   "cell_type": "markdown",
   "id": "5db27eb8",
   "metadata": {},
   "source": [
    "### <center>$L_{ridge}(\\hat\\beta) = RSS + \\lambda||\\hat\\beta||_2$"
   ]
  },
  {
   "cell_type": "markdown",
   "id": "693a5d62",
   "metadata": {},
   "source": [
    "Abrindo a equação:\n",
    "\n",
    "### <center>$L_{ridge}(\\hat\\beta) = \\sum_{i=1}^{n}{\\bigg(y_i - \\hat\\beta_0 - \\sum_{j=1}^{p}({\\hat\\beta_j x_{ij})}\\bigg)^2} + \\lambda\\sum_{j=1}^{p}{\\hat{\\beta}^{2}_{j}}$"
   ]
  },
  {
   "cell_type": "markdown",
   "id": "07816aa6",
   "metadata": {},
   "source": [
    "O parâmetro $\\lambda$ controla a força da regularização. Se este for 0, a função de custo será a $RSS$ e teremos um modelo de regressão linear comum. À medida em que $\\lambda$ aumenta, as estimativas de $\\beta$ diminuem. No limite, quando $\\lambda$ tende ao infinito, $\\beta$ tende a zero.\n",
    "* $\\lambda = 0 \\implies RSS$\n",
    "* $\\lambda \\rightarrow \\infty, \\space \\hat\\beta_{ridge} \\rightarrow 0$"
   ]
  },
  {
   "cell_type": "markdown",
   "id": "24e60298",
   "metadata": {},
   "source": [
    "## <font color = #0f4e8c>4.1 <u>Regressão Lasso ($\\ell_1$)"
   ]
  },
  {
   "cell_type": "markdown",
   "id": "82bcb4ea",
   "metadata": {},
   "source": [
    "A regressão Lasso é muito parecida com a Ridge, sua única diferença é que utilizamos a norma $\\ell_1$ para controlar os coeficientes."
   ]
  },
  {
   "cell_type": "markdown",
   "id": "6718b36f",
   "metadata": {},
   "source": [
    "A sua função de custo é a seguinte:\n",
    "\n",
    "### <center>$L_{lasso}(\\hat\\beta) = RSS + \\lambda||\\hat\\beta||_1$"
   ]
  },
  {
   "cell_type": "markdown",
   "id": "3e96d256",
   "metadata": {},
   "source": [
    "Abrindo a equação:\n",
    "\n",
    "### <center>$L_{lasso}(\\hat\\beta) = \\sum_{i=1}^{n}{\\bigg(y_i - \\hat\\beta_0 - \\sum_{j=1}^{p}({\\hat\\beta_j x_{ij})}\\bigg)^2} + \\lambda\\sum_{j=1}^{p}|{\\hat{\\beta}_{j}}|$"
   ]
  },
  {
   "cell_type": "markdown",
   "id": "e1f1ed53",
   "metadata": {},
   "source": [
    "Na regressão Ridge os coeficientes são encolhidos até próximo de zero, porém não atingem este valor. Isso muda na regressão Lasso.\n",
    "\n",
    "Ao utilizarmos a norma $\\ell_1$ ($|\\hat\\beta|$) os coeficientes $\\beta$ menos importantes são zerados. Isso faz com que a regressão Lasso possa ser utilizada para selecionar atributos do modelo."
   ]
  },
  {
   "cell_type": "markdown",
   "id": "9aa0a565",
   "metadata": {},
   "source": [
    "---"
   ]
  },
  {
   "cell_type": "markdown",
   "id": "8c5bb70d",
   "metadata": {},
   "source": [
    "## <font color = #0f4e8c>5. <u>Aplicações com código"
   ]
  },
  {
   "cell_type": "markdown",
   "id": "e81670b7",
   "metadata": {},
   "source": [
    "Agora que vimos a teoria por trás das regressões regularizadas, vamos ver seu comportamento na prática."
   ]
  },
  {
   "cell_type": "markdown",
   "id": "3e15b440",
   "metadata": {},
   "source": [
    "Vamos seguir o seguinte roteiro:\n",
    "1. Pré-processamento;\n",
    "    1. Imputação;\n",
    "    2. Standartização\n",
    "2. Modelagem e avaliação: Regressão Linear;\n",
    "3. Modelagem e avaliação: Regressão Ridge;\n",
    "4. Modelagem e avaliação: Regressão Lasso\n",
    "\n",
    "Como o intuito desta aula é demonstrar o *funcionamento* das regressões regularizadas e como elas podem impactar o desempenho de modelos sobreajustados, as estapas de pré-processamento não irão focar em melhorar a qualidade dos dados para o modelo."
   ]
  },
  {
   "cell_type": "markdown",
   "id": "82ad87b7",
   "metadata": {},
   "source": [
    "<br>\n",
    "\n",
    "O conjunto de dados utilizado será o mesmo da aula de regressão linear."
   ]
  },
  {
   "cell_type": "code",
   "execution_count": 1,
   "id": "5207ea0a",
   "metadata": {},
   "outputs": [],
   "source": [
    "# importando bibliotecas\n",
    "\n",
    "import pandas as pd\n",
    "import matplotlib.pyplot as plt\n",
    "import numpy as np\n",
    "from sklearn.model_selection import train_test_split\n",
    "from sklearn.preprocessing import StandardScaler\n",
    "from sklearn.impute import SimpleImputer\n",
    "from sklearn.linear_model import LinearRegression\n",
    "from sklearn.linear_model import LassoCV\n",
    "from sklearn.linear_model import RidgeCV\n",
    "from sklearn.linear_model import Lasso\n",
    "from sklearn.linear_model import Ridge"
   ]
  },
  {
   "cell_type": "code",
   "execution_count": 2,
   "id": "b5dbe029",
   "metadata": {},
   "outputs": [],
   "source": [
    "# carregando dados\n",
    "\n",
    "df = pd.read_csv('dados\\dados.csv')\n",
    "df = df.select_dtypes(include = ['int64', 'float64'])"
   ]
  },
  {
   "cell_type": "code",
   "execution_count": 3,
   "id": "6cc44a28",
   "metadata": {},
   "outputs": [
    {
     "data": {
      "text/html": [
       "<div>\n",
       "<style scoped>\n",
       "    .dataframe tbody tr th:only-of-type {\n",
       "        vertical-align: middle;\n",
       "    }\n",
       "\n",
       "    .dataframe tbody tr th {\n",
       "        vertical-align: top;\n",
       "    }\n",
       "\n",
       "    .dataframe thead th {\n",
       "        text-align: right;\n",
       "    }\n",
       "</style>\n",
       "<table border=\"1\" class=\"dataframe\">\n",
       "  <thead>\n",
       "    <tr style=\"text-align: right;\">\n",
       "      <th></th>\n",
       "      <th>Id</th>\n",
       "      <th>MSSubClass</th>\n",
       "      <th>LotFrontage</th>\n",
       "      <th>LotArea</th>\n",
       "      <th>OverallQual</th>\n",
       "      <th>OverallCond</th>\n",
       "      <th>YearBuilt</th>\n",
       "      <th>YearRemodAdd</th>\n",
       "      <th>MasVnrArea</th>\n",
       "      <th>BsmtFinSF1</th>\n",
       "      <th>...</th>\n",
       "      <th>WoodDeckSF</th>\n",
       "      <th>OpenPorchSF</th>\n",
       "      <th>EnclosedPorch</th>\n",
       "      <th>3SsnPorch</th>\n",
       "      <th>ScreenPorch</th>\n",
       "      <th>PoolArea</th>\n",
       "      <th>MiscVal</th>\n",
       "      <th>MoSold</th>\n",
       "      <th>YrSold</th>\n",
       "      <th>SalePrice</th>\n",
       "    </tr>\n",
       "  </thead>\n",
       "  <tbody>\n",
       "    <tr>\n",
       "      <th>0</th>\n",
       "      <td>1051</td>\n",
       "      <td>20</td>\n",
       "      <td>73.0</td>\n",
       "      <td>8993</td>\n",
       "      <td>7</td>\n",
       "      <td>5</td>\n",
       "      <td>2007</td>\n",
       "      <td>2007</td>\n",
       "      <td>0.0</td>\n",
       "      <td>0.0</td>\n",
       "      <td>...</td>\n",
       "      <td>0</td>\n",
       "      <td>22</td>\n",
       "      <td>0</td>\n",
       "      <td>0</td>\n",
       "      <td>0</td>\n",
       "      <td>0</td>\n",
       "      <td>0</td>\n",
       "      <td>8</td>\n",
       "      <td>2007</td>\n",
       "      <td>176485.0</td>\n",
       "    </tr>\n",
       "    <tr>\n",
       "      <th>1</th>\n",
       "      <td>1094</td>\n",
       "      <td>20</td>\n",
       "      <td>71.0</td>\n",
       "      <td>9230</td>\n",
       "      <td>5</td>\n",
       "      <td>8</td>\n",
       "      <td>1965</td>\n",
       "      <td>1998</td>\n",
       "      <td>166.0</td>\n",
       "      <td>661.0</td>\n",
       "      <td>...</td>\n",
       "      <td>0</td>\n",
       "      <td>64</td>\n",
       "      <td>0</td>\n",
       "      <td>0</td>\n",
       "      <td>0</td>\n",
       "      <td>0</td>\n",
       "      <td>0</td>\n",
       "      <td>10</td>\n",
       "      <td>2006</td>\n",
       "      <td>146000.0</td>\n",
       "    </tr>\n",
       "    <tr>\n",
       "      <th>2</th>\n",
       "      <td>662</td>\n",
       "      <td>60</td>\n",
       "      <td>52.0</td>\n",
       "      <td>46589</td>\n",
       "      <td>8</td>\n",
       "      <td>7</td>\n",
       "      <td>1994</td>\n",
       "      <td>2005</td>\n",
       "      <td>528.0</td>\n",
       "      <td>1361.0</td>\n",
       "      <td>...</td>\n",
       "      <td>517</td>\n",
       "      <td>76</td>\n",
       "      <td>0</td>\n",
       "      <td>0</td>\n",
       "      <td>0</td>\n",
       "      <td>0</td>\n",
       "      <td>0</td>\n",
       "      <td>7</td>\n",
       "      <td>2009</td>\n",
       "      <td>402000.0</td>\n",
       "    </tr>\n",
       "    <tr>\n",
       "      <th>3</th>\n",
       "      <td>1859</td>\n",
       "      <td>90</td>\n",
       "      <td>64.0</td>\n",
       "      <td>7018</td>\n",
       "      <td>5</td>\n",
       "      <td>5</td>\n",
       "      <td>1979</td>\n",
       "      <td>1979</td>\n",
       "      <td>0.0</td>\n",
       "      <td>0.0</td>\n",
       "      <td>...</td>\n",
       "      <td>0</td>\n",
       "      <td>0</td>\n",
       "      <td>0</td>\n",
       "      <td>0</td>\n",
       "      <td>0</td>\n",
       "      <td>0</td>\n",
       "      <td>0</td>\n",
       "      <td>6</td>\n",
       "      <td>2009</td>\n",
       "      <td>NaN</td>\n",
       "    </tr>\n",
       "    <tr>\n",
       "      <th>4</th>\n",
       "      <td>1370</td>\n",
       "      <td>20</td>\n",
       "      <td>48.0</td>\n",
       "      <td>10635</td>\n",
       "      <td>8</td>\n",
       "      <td>5</td>\n",
       "      <td>2003</td>\n",
       "      <td>2003</td>\n",
       "      <td>171.0</td>\n",
       "      <td>370.0</td>\n",
       "      <td>...</td>\n",
       "      <td>0</td>\n",
       "      <td>262</td>\n",
       "      <td>0</td>\n",
       "      <td>0</td>\n",
       "      <td>0</td>\n",
       "      <td>0</td>\n",
       "      <td>0</td>\n",
       "      <td>5</td>\n",
       "      <td>2010</td>\n",
       "      <td>232000.0</td>\n",
       "    </tr>\n",
       "  </tbody>\n",
       "</table>\n",
       "<p>5 rows × 38 columns</p>\n",
       "</div>"
      ],
      "text/plain": [
       "     Id  MSSubClass  LotFrontage  LotArea  OverallQual  OverallCond  \\\n",
       "0  1051          20         73.0     8993            7            5   \n",
       "1  1094          20         71.0     9230            5            8   \n",
       "2   662          60         52.0    46589            8            7   \n",
       "3  1859          90         64.0     7018            5            5   \n",
       "4  1370          20         48.0    10635            8            5   \n",
       "\n",
       "   YearBuilt  YearRemodAdd  MasVnrArea  BsmtFinSF1  ...  WoodDeckSF  \\\n",
       "0       2007          2007         0.0         0.0  ...           0   \n",
       "1       1965          1998       166.0       661.0  ...           0   \n",
       "2       1994          2005       528.0      1361.0  ...         517   \n",
       "3       1979          1979         0.0         0.0  ...           0   \n",
       "4       2003          2003       171.0       370.0  ...           0   \n",
       "\n",
       "   OpenPorchSF  EnclosedPorch  3SsnPorch  ScreenPorch  PoolArea  MiscVal  \\\n",
       "0           22              0          0            0         0        0   \n",
       "1           64              0          0            0         0        0   \n",
       "2           76              0          0            0         0        0   \n",
       "3            0              0          0            0         0        0   \n",
       "4          262              0          0            0         0        0   \n",
       "\n",
       "   MoSold  YrSold  SalePrice  \n",
       "0       8    2007   176485.0  \n",
       "1      10    2006   146000.0  \n",
       "2       7    2009   402000.0  \n",
       "3       6    2009        NaN  \n",
       "4       5    2010   232000.0  \n",
       "\n",
       "[5 rows x 38 columns]"
      ]
     },
     "execution_count": 3,
     "metadata": {},
     "output_type": "execute_result"
    }
   ],
   "source": [
    "df.head()"
   ]
  },
  {
   "cell_type": "code",
   "execution_count": 4,
   "id": "78b069c3",
   "metadata": {},
   "outputs": [
    {
     "data": {
      "text/plain": [
       "(2919, 38)"
      ]
     },
     "execution_count": 4,
     "metadata": {},
     "output_type": "execute_result"
    }
   ],
   "source": [
    "df.shape"
   ]
  },
  {
   "cell_type": "code",
   "execution_count": 5,
   "id": "62fec1e8",
   "metadata": {
    "scrolled": false
   },
   "outputs": [
    {
     "name": "stdout",
     "output_type": "stream",
     "text": [
      "<class 'pandas.core.frame.DataFrame'>\n",
      "RangeIndex: 2919 entries, 0 to 2918\n",
      "Data columns (total 38 columns):\n",
      " #   Column         Non-Null Count  Dtype  \n",
      "---  ------         --------------  -----  \n",
      " 0   Id             2919 non-null   int64  \n",
      " 1   MSSubClass     2919 non-null   int64  \n",
      " 2   LotFrontage    2433 non-null   float64\n",
      " 3   LotArea        2919 non-null   int64  \n",
      " 4   OverallQual    2919 non-null   int64  \n",
      " 5   OverallCond    2919 non-null   int64  \n",
      " 6   YearBuilt      2919 non-null   int64  \n",
      " 7   YearRemodAdd   2919 non-null   int64  \n",
      " 8   MasVnrArea     2896 non-null   float64\n",
      " 9   BsmtFinSF1     2918 non-null   float64\n",
      " 10  BsmtFinSF2     2918 non-null   float64\n",
      " 11  BsmtUnfSF      2918 non-null   float64\n",
      " 12  TotalBsmtSF    2918 non-null   float64\n",
      " 13  1stFlrSF       2919 non-null   int64  \n",
      " 14  2ndFlrSF       2919 non-null   int64  \n",
      " 15  LowQualFinSF   2919 non-null   int64  \n",
      " 16  GrLivArea      2919 non-null   int64  \n",
      " 17  BsmtFullBath   2917 non-null   float64\n",
      " 18  BsmtHalfBath   2917 non-null   float64\n",
      " 19  FullBath       2919 non-null   int64  \n",
      " 20  HalfBath       2919 non-null   int64  \n",
      " 21  BedroomAbvGr   2919 non-null   int64  \n",
      " 22  KitchenAbvGr   2919 non-null   int64  \n",
      " 23  TotRmsAbvGrd   2919 non-null   int64  \n",
      " 24  Fireplaces     2919 non-null   int64  \n",
      " 25  GarageYrBlt    2760 non-null   float64\n",
      " 26  GarageCars     2918 non-null   float64\n",
      " 27  GarageArea     2918 non-null   float64\n",
      " 28  WoodDeckSF     2919 non-null   int64  \n",
      " 29  OpenPorchSF    2919 non-null   int64  \n",
      " 30  EnclosedPorch  2919 non-null   int64  \n",
      " 31  3SsnPorch      2919 non-null   int64  \n",
      " 32  ScreenPorch    2919 non-null   int64  \n",
      " 33  PoolArea       2919 non-null   int64  \n",
      " 34  MiscVal        2919 non-null   int64  \n",
      " 35  MoSold         2919 non-null   int64  \n",
      " 36  YrSold         2919 non-null   int64  \n",
      " 37  SalePrice      1460 non-null   float64\n",
      "dtypes: float64(12), int64(26)\n",
      "memory usage: 866.7 KB\n"
     ]
    }
   ],
   "source": [
    "df.info()"
   ]
  },
  {
   "cell_type": "code",
   "execution_count": 6,
   "id": "c07e0b1d",
   "metadata": {},
   "outputs": [],
   "source": [
    "# Excluindo coluna identificadora\n",
    "\n",
    "df = df.drop(['Id'], axis = 1)"
   ]
  },
  {
   "cell_type": "code",
   "execution_count": 7,
   "id": "6e1a2403",
   "metadata": {},
   "outputs": [],
   "source": [
    "# Separando X e y\n",
    "\n",
    "X = df.drop('SalePrice', axis = 1)\n",
    "y = df[['SalePrice']]"
   ]
  },
  {
   "cell_type": "code",
   "execution_count": 8,
   "id": "b2b99404",
   "metadata": {},
   "outputs": [],
   "source": [
    "# Separando amostras\n",
    "\n",
    "X_train, X_test, y_train, y_test = train_test_split(X, y, test_size = .3, random_state = 42)"
   ]
  },
  {
   "cell_type": "code",
   "execution_count": 9,
   "id": "ac1be9cb",
   "metadata": {},
   "outputs": [
    {
     "name": "stdout",
     "output_type": "stream",
     "text": [
      "(2043, 36) (876, 36)\n"
     ]
    }
   ],
   "source": [
    "print(X_train.shape, X_test.shape)"
   ]
  },
  {
   "cell_type": "markdown",
   "id": "87b2318e",
   "metadata": {},
   "source": [
    "<br>\n",
    "\n",
    "## <font color = #0f4e8c> 1. Pré-processamento"
   ]
  },
  {
   "cell_type": "markdown",
   "id": "247e1d26",
   "metadata": {},
   "source": [
    "### <font color = #0f4e8c>1.1 Imputação"
   ]
  },
  {
   "cell_type": "code",
   "execution_count": 10,
   "id": "597a2b76",
   "metadata": {},
   "outputs": [
    {
     "data": {
      "text/plain": [
       "LotFrontage     345\n",
       "GarageYrBlt     117\n",
       "MasVnrArea       17\n",
       "BsmtHalfBath      1\n",
       "BsmtFullBath      1\n",
       "MSSubClass        0\n",
       "GarageArea        0\n",
       "TotRmsAbvGrd      0\n",
       "Fireplaces        0\n",
       "GarageCars        0\n",
       "dtype: int64"
      ]
     },
     "execution_count": 10,
     "metadata": {},
     "output_type": "execute_result"
    }
   ],
   "source": [
    "X_train.isnull().sum().sort_values(ascending = False).head(10)"
   ]
  },
  {
   "cell_type": "markdown",
   "id": "6cb9d672",
   "metadata": {},
   "source": [
    "Farei a imputação dos dados com a media."
   ]
  },
  {
   "cell_type": "code",
   "execution_count": 11,
   "id": "f4016949",
   "metadata": {},
   "outputs": [],
   "source": [
    "imputer = SimpleImputer()\n",
    "\n",
    "X_train = imputer.fit_transform(X_train)"
   ]
  },
  {
   "cell_type": "markdown",
   "id": "80e46867",
   "metadata": {},
   "source": [
    "### <font color = #0f4e8c> 1.3 Standartização"
   ]
  },
  {
   "cell_type": "code",
   "execution_count": 12,
   "id": "1d5ddb86",
   "metadata": {},
   "outputs": [],
   "source": [
    "# Instanciando objeto\n",
    "\n",
    "scaler = StandardScaler()"
   ]
  },
  {
   "cell_type": "code",
   "execution_count": 13,
   "id": "2d55c1f6",
   "metadata": {},
   "outputs": [],
   "source": [
    "X_train = scaler.fit_transform(X_train)"
   ]
  },
  {
   "cell_type": "markdown",
   "id": "1d7cef57",
   "metadata": {},
   "source": [
    "### <font color = #0f4e8c> 1.4 Teste e preditoras"
   ]
  },
  {
   "cell_type": "code",
   "execution_count": 14,
   "id": "09143c46",
   "metadata": {},
   "outputs": [],
   "source": [
    "X_test = imputer.fit_transform(X_test)"
   ]
  },
  {
   "cell_type": "code",
   "execution_count": 15,
   "id": "26e0e363",
   "metadata": {},
   "outputs": [],
   "source": [
    "X_test = scaler.fit_transform(X_test)"
   ]
  },
  {
   "cell_type": "code",
   "execution_count": 16,
   "id": "49848fc8",
   "metadata": {},
   "outputs": [],
   "source": [
    "# y_train\n",
    "# imputando\n",
    "y_train = imputer.fit_transform(y_train)\n",
    "y_train = scaler.fit_transform(y_train)\n",
    "\n",
    "\n",
    "# y_test\n",
    "# imputando\n",
    "y_test = imputer.fit_transform(y_test)\n",
    "y_test = scaler.fit_transform(y_test)"
   ]
  },
  {
   "cell_type": "code",
   "execution_count": 17,
   "id": "fe1ddc7c",
   "metadata": {
    "scrolled": true
   },
   "outputs": [
    {
     "name": "stdout",
     "output_type": "stream",
     "text": [
      "(876, 36) (876, 1)\n"
     ]
    }
   ],
   "source": [
    "print(X_test.shape, y_test.shape)"
   ]
  },
  {
   "cell_type": "markdown",
   "id": "b724a9e3",
   "metadata": {},
   "source": [
    "<br>\n",
    "\n",
    "## <font color = #0f4e8c>2. Regressão Linear"
   ]
  },
  {
   "cell_type": "code",
   "execution_count": 18,
   "id": "1fbac8a2",
   "metadata": {},
   "outputs": [],
   "source": [
    "# Instanciando o modelo\n",
    "lin_model = LinearRegression()\n",
    "\n",
    "# Fitando o modelo\n",
    "lin_model.fit(X_train, y_train)\n",
    "\n",
    "# Previsões\n",
    "y_lin_train = lin_model.predict(X_train)\n",
    "y_lin_test = lin_model.predict(X_test)"
   ]
  },
  {
   "cell_type": "markdown",
   "id": "c8ed414b",
   "metadata": {},
   "source": [
    "<br>\n",
    "\n",
    "### <font color = #0f4e8c>2.1 Avaliação"
   ]
  },
  {
   "cell_type": "code",
   "execution_count": 19,
   "id": "9ea7f965",
   "metadata": {},
   "outputs": [],
   "source": [
    "# importando módulos\n",
    "\n",
    "from sklearn.metrics import mean_squared_error as mse\n",
    "from sklearn.metrics import mean_absolute_error as mae"
   ]
  },
  {
   "cell_type": "code",
   "execution_count": 20,
   "id": "636cbc33",
   "metadata": {},
   "outputs": [
    {
     "name": "stdout",
     "output_type": "stream",
     "text": [
      "O R^2 do modelo no treino é de: 0.4306\n",
      "O erro quadrático médio do modelo no treino é de: 0.5694\n",
      "O erro médio absoluto do modelo no treino é de: 0.5391\n"
     ]
    }
   ],
   "source": [
    "# Métricas conjunto de treino\n",
    "\n",
    "print(f'O R^2 do modelo no treino é de: {round(lin_model.score(X_train, y_train), 4)}')\n",
    "print(f'O erro quadrático médio do modelo no treino é de: {round(mse(y_train, y_lin_train), 4)}')\n",
    "print(f'O erro médio absoluto do modelo no treino é de: {round(mae(y_train, y_lin_train), 4)}')"
   ]
  },
  {
   "cell_type": "markdown",
   "id": "4645985a",
   "metadata": {},
   "source": [
    "<br>"
   ]
  },
  {
   "cell_type": "code",
   "execution_count": 21,
   "id": "9e9962cc",
   "metadata": {},
   "outputs": [
    {
     "name": "stdout",
     "output_type": "stream",
     "text": [
      "O R^2 do modelo no teste é de: -1.3289117562172288e+22\n",
      "O erro quadrático médio do modelo no teste é de: 1.3289117562172288e+22\n",
      "O erro médio absoluto do modelo no teste é de: 91183727792.50899\n"
     ]
    }
   ],
   "source": [
    "# Métricas conjunto de teste\n",
    "\n",
    "print(f'O R^2 do modelo no teste é de: {lin_model.score(X_test, y_test)}')\n",
    "print(f'O erro quadrático médio do modelo no teste é de: {mse(y_test, y_lin_test)}')\n",
    "print(f'O erro médio absoluto do modelo no teste é de: {mae(y_test, y_lin_test)}')"
   ]
  },
  {
   "cell_type": "markdown",
   "id": "fd0b9035",
   "metadata": {},
   "source": [
    "<br>\n",
    "\n",
    "Podemos ver que todas as métricas pioram drasticamente quando alimentamos o modelo com dados não vistos. Isso é um grande indicativo de que o modelo está <font color = #0f4e8c>**sobreajustado**."
   ]
  },
  {
   "cell_type": "markdown",
   "id": "67397625",
   "metadata": {},
   "source": [
    "Utilizando a biblioteca `mlxtend` podemos decompor o erro entre viés e variância."
   ]
  },
  {
   "cell_type": "code",
   "execution_count": 22,
   "id": "a7c8c5ca",
   "metadata": {},
   "outputs": [],
   "source": [
    "from mlxtend.evaluate import bias_variance_decomp"
   ]
  },
  {
   "cell_type": "code",
   "execution_count": 23,
   "id": "7018cc55",
   "metadata": {},
   "outputs": [],
   "source": [
    "mser, vies, variancia = bias_variance_decomp(lin_model,\n",
    "                                            X_train,\n",
    "                                            y_train.reshape((-1,)),\n",
    "                                            X_test,\n",
    "                                            y_test.reshape((-1,)),\n",
    "                                            loss = 'mse',\n",
    "                                            random_seed = 123)"
   ]
  },
  {
   "cell_type": "code",
   "execution_count": 24,
   "id": "62a77bf8",
   "metadata": {},
   "outputs": [
    {
     "name": "stdout",
     "output_type": "stream",
     "text": [
      "A parcela do erro de teste correspondente ao víes é de: 1.0419264095914784e+20\n",
      "A parcela do erro correspondente à variância é de: 1.4271805379235616e+22\n"
     ]
    }
   ],
   "source": [
    "print(f'A parcela do erro de teste correspondente ao víes é de: {vies}')\n",
    "print(f'A parcela do erro correspondente à variância é de: {variancia}')"
   ]
  },
  {
   "cell_type": "code",
   "execution_count": 25,
   "id": "dfcdb944",
   "metadata": {
    "scrolled": true
   },
   "outputs": [
    {
     "data": {
      "image/png": "[encoded data removed]",
      "text/plain": [
       "<Figure size 504x360 with 1 Axes>"
      ]
     },
     "metadata": {
      "needs_background": "light"
     },
     "output_type": "display_data"
    }
   ],
   "source": [
    "# Visualização\n",
    "\n",
    "fig, ax = plt.subplots(figsize = (7,5))\n",
    "\n",
    "ax.bar(x = [-1, 0 ,1], height = [mser, variancia, vies], width = .6, color = '#0f4e8c')\n",
    "ax.set_xticks([-1, 0, 1])\n",
    "ax.set_xticklabels(['mse', 'variância', r'vies$^2$'])\n",
    "ax.set_ylabel('erro do modelo')\n",
    "ax.set_title('Decomposição do erro', fontsize = 15)\n",
    "\n",
    "texto = f\"\"\"Porcentagem do erro\n",
    "correspondente\n",
    "à variância: {round(variancia/mser, 4)*100}%\"\"\"\n",
    "ax.annotate(text = texto, xy = (0.7, 0.45), xycoords = 'axes fraction')\n",
    "\n",
    "plt.show()"
   ]
  },
  {
   "cell_type": "markdown",
   "id": "ecd3a8b1",
   "metadata": {},
   "source": [
    "Na visualização, vemos que a variância corresponde a mais 99% do erro do modelo nos dados de teste.\n",
    "Isso corrobora a hipótese de que está ocorrendo sobreajuste (viés baixo e variância alta $\\implies$ erro de treino $<$ erro de teste $\\implies$ sobreajuste)."
   ]
  },
  {
   "cell_type": "markdown",
   "id": "61b322b0",
   "metadata": {},
   "source": [
    "<br>\n",
    "\n",
    "Agora vamos treinar modelos de regressão Rigde e Lasso e ver como o erro e os coeficientes se comportam."
   ]
  },
  {
   "cell_type": "markdown",
   "id": "0eb19298",
   "metadata": {},
   "source": [
    "<br>\n",
    "\n",
    "## <font color = #0f4e8c>3. Regressão Ridge"
   ]
  },
  {
   "cell_type": "markdown",
   "id": "a360b2ce",
   "metadata": {},
   "source": [
    "Na função de custo Ridge ($L_{ridge}(\\hat\\beta) = RSS + \\lambda||\\hat\\beta||_2$), o parâmetro $\\lambda$ controla a força da regularização.\n",
    "\n",
    "Esse tipo de parâmetro é chamado de *hiperparâmetro*, e ele influencia na performance do modelo e deve ser definido pelo usuário."
   ]
  },
  {
   "cell_type": "markdown",
   "id": "c50b8b00",
   "metadata": {},
   "source": [
    "Vamos utilizar o módulo `RidgeCV` para otimizar o hiperparâmetro $\\lambda$.\n",
    "\n",
    "Este módulo se baseia em utilizar Validação Cruzada para determinar o mehor $\\lambda$ para o modelo (o conceito de Validação Cruzada será melhor explicado na próxima aula)."
   ]
  },
  {
   "cell_type": "markdown",
   "id": "b28606dc",
   "metadata": {},
   "source": [
    "### <font color = #0f4e8c>3.1 Otimização de hiperparâmetros"
   ]
  },
  {
   "cell_type": "code",
   "execution_count": 26,
   "id": "b489d9b8",
   "metadata": {},
   "outputs": [
    {
     "data": {
      "text/plain": [
       "RidgeCV(alphas=array([1.00000000e-03, 1.23284674e-03, 1.51991108e-03, 1.87381742e-03,\n",
       "       2.31012970e-03, 2.84803587e-03, 3.51119173e-03, 4.32876128e-03,\n",
       "       5.33669923e-03, 6.57933225e-03, 8.11130831e-03, 1.00000000e-02,\n",
       "       1.23284674e-02, 1.51991108e-02, 1.87381742e-02, 2.31012970e-02,\n",
       "       2.84803587e-02, 3.51119173e-02, 4.32876128e-02, 5.33669923e-02,\n",
       "       6.57933225e-02, 8.11130831e-0...\n",
       "       8.11130831e+03, 1.00000000e+04, 1.23284674e+04, 1.51991108e+04,\n",
       "       1.87381742e+04, 2.31012970e+04, 2.84803587e+04, 3.51119173e+04,\n",
       "       4.32876128e+04, 5.33669923e+04, 6.57933225e+04, 8.11130831e+04,\n",
       "       1.00000000e+05, 1.23284674e+05, 1.51991108e+05, 1.87381742e+05,\n",
       "       2.31012970e+05, 2.84803587e+05, 3.51119173e+05, 4.32876128e+05,\n",
       "       5.33669923e+05, 6.57933225e+05, 8.11130831e+05, 1.00000000e+06]))"
      ]
     },
     "execution_count": 26,
     "metadata": {},
     "output_type": "execute_result"
    }
   ],
   "source": [
    "ridgecv = RidgeCV(alphas = np.logspace(-3,6,100))\n",
    "\n",
    "ridgecv.fit(X_train, y_train)"
   ]
  },
  {
   "cell_type": "code",
   "execution_count": 27,
   "id": "e6e6ff6c",
   "metadata": {},
   "outputs": [],
   "source": [
    "best_alpha = ridgecv.alpha_"
   ]
  },
  {
   "cell_type": "code",
   "execution_count": 28,
   "id": "410f2a5e",
   "metadata": {},
   "outputs": [],
   "source": [
    "ridge = Ridge(alpha = best_alpha)"
   ]
  },
  {
   "cell_type": "code",
   "execution_count": 29,
   "id": "bb47ecb0",
   "metadata": {},
   "outputs": [
    {
     "data": {
      "text/plain": [
       "Ridge(alpha=284.8035868435805)"
      ]
     },
     "execution_count": 29,
     "metadata": {},
     "output_type": "execute_result"
    }
   ],
   "source": [
    "ridge.fit(X_train, y_train)"
   ]
  },
  {
   "cell_type": "code",
   "execution_count": 30,
   "id": "b3caa1ce",
   "metadata": {},
   "outputs": [],
   "source": [
    "y_ridge_train = ridge.predict(X_train)\n",
    "y_ridge_test = ridge.predict(X_test)"
   ]
  },
  {
   "cell_type": "markdown",
   "id": "61ace370",
   "metadata": {},
   "source": [
    "### <font color = #0f4e8c>3.2 Avaliação"
   ]
  },
  {
   "cell_type": "code",
   "execution_count": 31,
   "id": "05122e35",
   "metadata": {
    "scrolled": true
   },
   "outputs": [
    {
     "name": "stdout",
     "output_type": "stream",
     "text": [
      "O R^2 do modelo no treino é de: 0.4265814057459779\n",
      "O erro quadrático médio do modelo no treino é de: 0.5734185942540221\n",
      "O erro médio absoluto do modelo no treino é de: 0.5394782395006565\n"
     ]
    }
   ],
   "source": [
    "print(f'O R^2 do modelo no treino é de: {ridge.score(X_train, y_train)}')\n",
    "print(f'O erro quadrático médio do modelo no treino é de: {mse(y_train, y_ridge_train)}')\n",
    "print(f'O erro médio absoluto do modelo no treino é de: {mae(y_train, y_ridge_train)}')"
   ]
  },
  {
   "cell_type": "markdown",
   "id": "a59544f8",
   "metadata": {},
   "source": [
    "<br>"
   ]
  },
  {
   "cell_type": "code",
   "execution_count": 32,
   "id": "d7b90a90",
   "metadata": {
    "scrolled": true
   },
   "outputs": [
    {
     "name": "stdout",
     "output_type": "stream",
     "text": [
      "O R^2 do modelo no teste é de: 0.38848309494377764\n",
      "O erro quadrático médio do modelo no teste é de: 0.6115169050562224\n",
      "O erro médio absoluto do modelo no teste é de: 0.5419314856540257\n"
     ]
    }
   ],
   "source": [
    "print(f'O R^2 do modelo no teste é de: {ridge.score(X_test, y_test)}')\n",
    "print(f'O erro quadrático médio do modelo no teste é de: {mse(y_test, y_ridge_test)}')\n",
    "print(f'O erro médio absoluto do modelo no teste é de: {mae(y_test, y_ridge_test)}')"
   ]
  },
  {
   "cell_type": "markdown",
   "id": "13647f52",
   "metadata": {},
   "source": [
    "A queda de performance entre treino e teste foi bem menor neste modelo. Enquanto na regressão linear o coeficiente de ajustamento $R^2$ diminuiu em mais de 20 ordens de magnitude, neste caiu em aproximadamente 0.04"
   ]
  },
  {
   "cell_type": "markdown",
   "id": "eafd3ab4",
   "metadata": {},
   "source": [
    "### <font color = #0f4e8c>3.3 Decomposição do erro"
   ]
  },
  {
   "cell_type": "code",
   "execution_count": 33,
   "id": "1a584280",
   "metadata": {},
   "outputs": [],
   "source": [
    "mser_ridge, vies_ridge, variancia_ridge = bias_variance_decomp(ridge,\n",
    "                                             X_train,\n",
    "                                             y_train.reshape((-1,)),\n",
    "                                             X_test,\n",
    "                                             y_test.reshape((-1,)),\n",
    "                                             loss = 'mse',\n",
    "                                             random_seed = 42)"
   ]
  },
  {
   "cell_type": "code",
   "execution_count": 34,
   "id": "e4c810f6",
   "metadata": {},
   "outputs": [
    {
     "name": "stdout",
     "output_type": "stream",
     "text": [
      "A parcela do erro de teste correspondente ao víes é de: 0.6092349594298874\n",
      "A parcela do erro correspondente à variância é de: 0.010983339930232565\n"
     ]
    }
   ],
   "source": [
    "print(f'A parcela do erro de teste correspondente ao víes é de: {vies_ridge}')\n",
    "print(f'A parcela do erro correspondente à variância é de: {variancia_ridge}')"
   ]
  },
  {
   "cell_type": "code",
   "execution_count": 35,
   "id": "a534cdfd",
   "metadata": {},
   "outputs": [
    {
     "data": {
      "image/png": "[encoded data removed]",
      "text/plain": [
       "<Figure size 504x360 with 1 Axes>"
      ]
     },
     "metadata": {
      "needs_background": "light"
     },
     "output_type": "display_data"
    }
   ],
   "source": [
    "# Visualização\n",
    "\n",
    "fig, ax = plt.subplots(figsize = (7,5))\n",
    "\n",
    "ax.bar(x = [-1, 0 ,1], height = [mser_ridge, variancia_ridge, vies_ridge], width = .6, color = '#0f4e8c')\n",
    "ax.set_xticks([-1, 0, 1])\n",
    "ax.set_xticklabels(['mse', 'variância', r'vies$^2$'])\n",
    "ax.set_ylabel('erro do modelo')\n",
    "ax.set_title('Decomposição do erro', fontsize = 15)\n",
    "\n",
    "texto = f\"\"\"Porcentagem do erro\n",
    "correspondente\n",
    "à variância: {round(variancia_ridge/mser_ridge, 2)*100}%\"\"\"\n",
    "ax.annotate(text = texto, xy = (0.38, 0.45), xycoords = 'axes fraction')\n",
    "\n",
    "plt.show()"
   ]
  },
  {
   "cell_type": "markdown",
   "id": "1473be7a",
   "metadata": {},
   "source": [
    "Como era esperado, a regressão Ridge introduziu viés ao modelo para reduzir a variância. Apesar dele ainda performar melhor nos dados de treino, sua capacidade de generalização melhorou drasticamente."
   ]
  },
  {
   "cell_type": "markdown",
   "id": "667fc6fe",
   "metadata": {},
   "source": [
    "Vamos olhar os coeficientes da regressão."
   ]
  },
  {
   "cell_type": "markdown",
   "id": "8d33f311",
   "metadata": {},
   "source": [
    "### <font color = #0f4e8c>3.4 Coeficientes"
   ]
  },
  {
   "cell_type": "code",
   "execution_count": 36,
   "id": "6857c111",
   "metadata": {},
   "outputs": [],
   "source": [
    "# Melhores coeficientes\n",
    "\n",
    "best_coef = ridge.coef_"
   ]
  },
  {
   "cell_type": "code",
   "execution_count": 37,
   "id": "6141d729",
   "metadata": {},
   "outputs": [],
   "source": [
    "# Coeficientes em função de alpha (lambda)\n",
    "\n",
    "alphas = ridgecv.alphas\n",
    "coefs = []\n",
    "\n",
    "for a in alphas:\n",
    "    ridge_clf = RidgeCV(alphas = [a], fit_intercept = False).fit(X_train, y_train)\n",
    "    coefs.append(ridge_clf.coef_)\n",
    "\n",
    "coefs = np.array(coefs)\n",
    "coefs_array = coefs.reshape((100,-1,))"
   ]
  },
  {
   "cell_type": "code",
   "execution_count": 38,
   "id": "1c8b010c",
   "metadata": {
    "scrolled": false
   },
   "outputs": [
    {
     "data": {
      "image/png": "[encoded data removed]",
      "text/plain": [
       "<Figure size 648x432 with 1 Axes>"
      ]
     },
     "metadata": {
      "needs_background": "light"
     },
     "output_type": "display_data"
    }
   ],
   "source": [
    "# Visualizando os coeficientes\n",
    "\n",
    "from matplotlib.patches import Arrow\n",
    "\n",
    "fig, ax = plt.subplots(figsize = (9,6))\n",
    "\n",
    "x = alphas\n",
    "ax.semilogx(x, coefs_array)\n",
    "\n",
    "ax.set_title(r'Coeficientes da regressão em função de $\\lambda$', fontsize = 15, loc = 'left')\n",
    "ax.set_xlabel(r'Hiperparâmetro $\\lambda$', fontsize = 12)\n",
    "ax.set_ylabel(r'Coeficientes padronizados', fontsize = 13)\n",
    "\n",
    "ax.axvline(x = best_alpha, linestyle = '-.', color = 'black')\n",
    "\n",
    "seta = Arrow(x = .8, y = 0, dx = -.65, dy = 0, width = .1, color = '#CFCFCF')\n",
    "fig.add_artist(seta)\n",
    "fig.text(x = .362, y = -.08, s = 'Complexidade do modelo', fontdict = {'fontsize': 15,\n",
    "                                                                     'family': 'serif'})\n",
    "\n",
    "texto = fr'melhor $\\lambda$ = {round(best_alpha,2)}'\n",
    "\n",
    "ax.annotate(text = texto,\n",
    "            xy = (.6, 0),\n",
    "            xytext = (.65, .15),\n",
    "            xycoords = 'axes fraction',\n",
    "            fontsize = 11,\n",
    "            arrowprops = dict(facecolor = '#828385',\n",
    "                              edgecolor = 'black',\n",
    "                              width = 1,\n",
    "                              headwidth = 6))\n",
    "\n",
    "plt.show()"
   ]
  },
  {
   "cell_type": "markdown",
   "id": "93eee459",
   "metadata": {},
   "source": [
    "Podemos ver como os coeficientes se comportam quando variamos a força da regularização (parâmetro $\\lambda$). Quanto mais regularização, mais próximos de zero os coeficientes ficam, tornando o modelo maois simples.\n"
   ]
  },
  {
   "cell_type": "markdown",
   "id": "2761aad0",
   "metadata": {},
   "source": [
    "<br>\n",
    "\n",
    "## <font color = #0f4e8c>4. Regressão Lasso"
   ]
  },
  {
   "cell_type": "markdown",
   "id": "75173426",
   "metadata": {},
   "source": [
    "Assim como a Ridge, a regressão Lasso também possui um hiperparâmetro $\\lambda$ responsável por controlar a regularização.\n",
    "\n",
    "Analogamente ao que foi feito anteriormente, vamos utilizar o módulo `LassoCV` para realizar a otimização do hiperparâmetro."
   ]
  },
  {
   "cell_type": "markdown",
   "id": "e9a631a0",
   "metadata": {},
   "source": [
    "### <font color = #0f4e8c>4.1 Otimização de hiperparâmetros"
   ]
  },
  {
   "cell_type": "code",
   "execution_count": 39,
   "id": "59da0184",
   "metadata": {},
   "outputs": [],
   "source": [
    "lassocv = LassoCV()"
   ]
  },
  {
   "cell_type": "code",
   "execution_count": 40,
   "id": "78f52f82",
   "metadata": {},
   "outputs": [
    {
     "data": {
      "text/plain": [
       "LassoCV()"
      ]
     },
     "execution_count": 40,
     "metadata": {},
     "output_type": "execute_result"
    }
   ],
   "source": [
    "lassocv.fit(X_train, y_train.ravel())"
   ]
  },
  {
   "cell_type": "code",
   "execution_count": 41,
   "id": "9925ca8c",
   "metadata": {},
   "outputs": [],
   "source": [
    "alpha = lassocv.alpha_"
   ]
  },
  {
   "cell_type": "code",
   "execution_count": 42,
   "id": "9f46057a",
   "metadata": {},
   "outputs": [],
   "source": [
    "lasso = Lasso(alpha = alpha)\n",
    "\n",
    "lasso.fit(X_train, y_train)\n",
    "\n",
    "y_lasso_train = lasso.predict(X_train)\n",
    "y_lasso_test = lasso.predict(X_test)"
   ]
  },
  {
   "cell_type": "markdown",
   "id": "ceead88f",
   "metadata": {},
   "source": [
    "### <font color = #0f4e8c>4.2 Avaliação"
   ]
  },
  {
   "cell_type": "code",
   "execution_count": 43,
   "id": "3e9c4e66",
   "metadata": {},
   "outputs": [
    {
     "name": "stdout",
     "output_type": "stream",
     "text": [
      "O R^2 do modelo no treino é de: 0.42880815277655115\n",
      "O erro quadrático médio do modelo no treino é de: 0.5711918472234488\n",
      "O erro médio absoluto do modelo no treino é de: 0.5388457885263831\n"
     ]
    }
   ],
   "source": [
    "print(f'O R^2 do modelo no treino é de: {lasso.score(X_train, y_train)}')\n",
    "print(f'O erro quadrático médio do modelo no treino é de: {mse(y_train, y_lasso_train)}')\n",
    "print(f'O erro médio absoluto do modelo no treino é de: {mae(y_train, y_lasso_train)}')"
   ]
  },
  {
   "cell_type": "markdown",
   "id": "434bfda0",
   "metadata": {},
   "source": [
    "<br>"
   ]
  },
  {
   "cell_type": "code",
   "execution_count": 44,
   "id": "be20bee7",
   "metadata": {},
   "outputs": [
    {
     "name": "stdout",
     "output_type": "stream",
     "text": [
      "O R^2 do modelo no teste é de: 0.3862934468798481\n",
      "O erro quadrático médio do modelo no teste é de: 0.6137065531201519\n",
      "O erro médio absoluto do modelo no teste é de: 0.5417313122503888\n"
     ]
    }
   ],
   "source": [
    "print(f'O R^2 do modelo no teste é de: {lasso.score(X_test, y_test)}')\n",
    "print(f'O erro quadrático médio do modelo no teste é de: {mse(y_test, y_lasso_test)}')\n",
    "print(f'O erro médio absoluto do modelo no teste é de: {mae(y_test, y_lasso_test)}')"
   ]
  },
  {
   "cell_type": "markdown",
   "id": "f29b7ebd",
   "metadata": {},
   "source": [
    "<br>"
   ]
  },
  {
   "cell_type": "markdown",
   "id": "9dd6afef",
   "metadata": {},
   "source": [
    "### <font color = #0f4e8c>4.3 Decomposição do erro"
   ]
  },
  {
   "cell_type": "code",
   "execution_count": 45,
   "id": "7eb77b7b",
   "metadata": {},
   "outputs": [],
   "source": [
    "mser_lasso, vies_lasso, variancia_lasso = bias_variance_decomp(lasso,\n",
    "                                             X_train,\n",
    "                                             y_train.reshape((-1,)),\n",
    "                                             X_test,\n",
    "                                             y_test.reshape((-1,)),\n",
    "                                             loss = 'mse',\n",
    "                                             random_seed = 42)"
   ]
  },
  {
   "cell_type": "code",
   "execution_count": 46,
   "id": "aeb398ff",
   "metadata": {},
   "outputs": [
    {
     "name": "stdout",
     "output_type": "stream",
     "text": [
      "A parcela do erro de teste correspondente ao víes é de: 0.6109558744146866\n",
      "A parcela do erro correspondente à variância é de: 0.013018383150043307\n"
     ]
    }
   ],
   "source": [
    "print(f'A parcela do erro de teste correspondente ao víes é de: {vies_lasso}')\n",
    "print(f'A parcela do erro correspondente à variância é de: {variancia_lasso}')"
   ]
  },
  {
   "cell_type": "code",
   "execution_count": 47,
   "id": "3016e164",
   "metadata": {},
   "outputs": [
    {
     "data": {
      "image/png": "[encoded data removed]",
      "text/plain": [
       "<Figure size 504x360 with 1 Axes>"
      ]
     },
     "metadata": {
      "needs_background": "light"
     },
     "output_type": "display_data"
    }
   ],
   "source": [
    "# Visualização\n",
    "\n",
    "fig, ax = plt.subplots(figsize = (7,5))\n",
    "\n",
    "ax.bar(x = [-1, 0 ,1], height = [mser_lasso, variancia_lasso, vies_lasso], width = .6, color = '#0f4e8c')\n",
    "ax.set_xticks([-1, 0, 1])\n",
    "ax.set_xticklabels(['mse', 'variância', r'vies$^2$'])\n",
    "ax.set_ylabel('erro do modelo')\n",
    "ax.set_title('Decomposição do erro', fontsize = 15)\n",
    "\n",
    "texto = f\"\"\"Porcentagem do erro\n",
    "correspondente\n",
    "à variância: {round(variancia_lasso/mser_lasso, 2)*100}%\"\"\"\n",
    "ax.annotate(text = texto, xy = (0.38, 0.45), xycoords = 'axes fraction')\n",
    "\n",
    "plt.show()"
   ]
  },
  {
   "cell_type": "markdown",
   "id": "068b1f9f",
   "metadata": {},
   "source": [
    "Assim como na regressão Ridge, introduzimo viés no modelo para reduzir sua variância.\n",
    "\n",
    "A diferença maior entre os dois modelos está nos coeficientes, vamos para eles agora."
   ]
  },
  {
   "cell_type": "code",
   "execution_count": 48,
   "id": "edf41503",
   "metadata": {},
   "outputs": [],
   "source": [
    "# Melhores coeficientes\n",
    "\n",
    "best_alpha_lasso = lassocv.alpha_"
   ]
  },
  {
   "cell_type": "code",
   "execution_count": 49,
   "id": "93c2f415",
   "metadata": {},
   "outputs": [
    {
     "data": {
      "text/plain": [
       "0.006242190980390557"
      ]
     },
     "execution_count": 49,
     "metadata": {},
     "output_type": "execute_result"
    }
   ],
   "source": [
    "best_alpha_lasso"
   ]
  },
  {
   "cell_type": "code",
   "execution_count": 50,
   "id": "1ae815a3",
   "metadata": {},
   "outputs": [],
   "source": [
    "# Coeficientes em função de alpha (lambda)\n",
    "\n",
    "alphas_lasso = np.linspace(0.0001,5,100)\n",
    "lasso = Lasso(max_iter=10000)\n",
    "coefs_lasso = []\n",
    "\n",
    "for a in alphas_lasso:\n",
    "    lasso.set_params(alpha=a)\n",
    "    lasso.fit(X_train, y_train)\n",
    "    coefs_lasso.append(lasso.coef_)"
   ]
  },
  {
   "cell_type": "code",
   "execution_count": 51,
   "id": "8abab320",
   "metadata": {},
   "outputs": [
    {
     "data": {
      "image/png": "[encoded data removed]",
      "text/plain": [
       "<Figure size 720x432 with 1 Axes>"
      ]
     },
     "metadata": {
      "needs_background": "light"
     },
     "output_type": "display_data"
    }
   ],
   "source": [
    "fig, ax = plt.subplots(figsize = (10,6))\n",
    "\n",
    "ax.semilogx(alphas_lasso, coefs_lasso)\n",
    "ax.set_xlabel(r'Hiperparâmetro $\\lambda$', fontsize = 12)\n",
    "ax.set_ylabel('Coeficientes padronizados', fontsize = 13)\n",
    "ax.set_title('Coeficientes da regressão Lasso em função de $\\lambda$', fontsize = 15, loc = 'left')\n",
    "\n",
    "ax.axvline(x = best_alpha_lasso, linestyle = '-.', color = 'black')\n",
    "\n",
    "texto = f'melhor $\\lambda$ = {round(best_alpha_lasso,4)}'\n",
    "\n",
    "ax.annotate(text = texto,\n",
    "            xy = (best_alpha_lasso, ax.get_ylim()[0]),\n",
    "            xytext = (best_alpha_lasso + .005, -.1),\n",
    "            fontsize = 11,\n",
    "            arrowprops = dict(facecolor = '#828385',\n",
    "                              edgecolor = 'black',\n",
    "                              width = 1,\n",
    "                              headwidth = 6))\n",
    "            \n",
    "\n",
    "seta = Arrow(x = .8, y = 0, dx = -.65, dy = 0, width = .1, color = '#CFCFCF')\n",
    "fig.add_artist(seta)\n",
    "fig.text(x = .362, y = -.08, s = 'Complexidade do modelo', fontdict = {'fontsize': 15,\n",
    "                                                                     'family': 'serif'})\n",
    "    \n",
    "plt.show()"
   ]
  },
  {
   "cell_type": "markdown",
   "id": "e362d533",
   "metadata": {},
   "source": [
    "Aqui vemos que, assim como na regressão Ridge, os coeficientes são encolhidos a medida que aumentamos o parâmetro $\\lambda$, tornando o modelo mais simples.\n",
    "Diferentemete da Ridge, entretanto, aqui os coeficientes de menor importância são zerados."
   ]
  },
  {
   "cell_type": "markdown",
   "id": "7dfbfddd",
   "metadata": {},
   "source": [
    "---"
   ]
  },
  {
   "cell_type": "markdown",
   "id": "ef1bd3ca",
   "metadata": {},
   "source": [
    "## <font color = #0f4e8c>Resumindo\n",
    "$\\diamond$ Causas comuns da baixa capacidade de generalização de modelos: <font color = 'blue'>subajuste<font color = 'black'> e <font color = 'red'>sobreajuste<font color = 'black'>;\n",
    " \n",
    "$\\diamond$ <font color = 'blue'>**Subajuste**\n",
    "    \n",
    "    - modelo não se ajusta bem aos dados;\n",
    "    - predominância do viés no erro;\n",
    "    - erros de treino e teste altos;\n",
    "$\\diamond$ <font color = 'red'>**Sobrajuste**\n",
    "    \n",
    "    - modelo se ajusta demais aos dados de treino;\n",
    "    - sintoma de modelos complexos;\n",
    "    - predominância da variância no erro;\n",
    "    - erro de teste maior do que o de treino;\n",
    "    \n",
    "$\\diamond$ <font color = #0f4e8c>**Trade-off Viés e Variância**\n",
    "    \n",
    "    - erro do modelo = viés^2 + variância + erro irredutível;\n",
    "    - ao diminuir o viés do modelo, aumentamos sua variância e vice-versa;\n",
    "\n",
    "$\\diamond$ <font color = #0f4e8c> **Regularização**\n",
    "    \n",
    "    - técnicas para reduzir sobreajuste;\n",
    "    - penaliza a Função de Custo da regressão;\n",
    "    - reduz a variância do modelo;\n",
    "    - hiperparâmetro lambda: força da regularização\n",
    "    \n",
    "$\\diamond$ <font color = #0f4e8c> **Ridge**\n",
    "    \n",
    "    - regularização L2;\n",
    "    - coeficientes tendem a zero;\n",
    "    - penaliza coeficientes grandes;\n",
    "    - lambda = 0 ---> RSS\n",
    "    - lambda --> inf. ---> coeficientes --> 0\n",
    "    \n",
    "$\\diamond$ <font color = #0f4e8c> **Lasso**\n",
    "    \n",
    "    - regularização L1;\n",
    "    - coeficientes são zerados;\n",
    "    - seleção de atributos\n",
    "    \n",
    "<br>"
   ]
  },
  {
   "cell_type": "markdown",
   "id": "8b2f18e5",
   "metadata": {},
   "source": [
    "<h2><center><font color = #0f4e8c>Obrigado pela atenção!<center/><h2/>"
   ]
  },
  {
   "cell_type": "markdown",
   "id": "87db032a",
   "metadata": {},
   "source": [
    "<tr>\n",
    "    <td> <img src=\"imagens/Fernando.png\" width = \"100\" align = \"left\"/> <td/>\n",
    "<tr/>"
   ]
  },
  {
   "cell_type": "markdown",
   "id": "4cb435e0",
   "metadata": {},
   "source": [
    "### Fernando Gioppato"
   ]
  },
  {
   "cell_type": "markdown",
   "id": "d18235d7",
   "metadata": {},
   "source": [
    "<tr><td> <a href=\"https://www.linkedin.com/in/fernando-gioppato/\" > <img src = \"imagens/linkedin.png\" width = \"25\"  align = \"left\" /> </a></td><td> <a href=\"https://github.com/feegioppato\" > <img src = \"imagens/github.png\" width = \"60\" height = \"100\" align = \"left\" /> </a> </td></tr>"
   ]
  },
  {
   "cell_type": "markdown",
   "id": "9e0468ae",
   "metadata": {},
   "source": [
    "<br>"
   ]
  },
  {
   "cell_type": "markdown",
   "id": "ee3526c8",
   "metadata": {},
   "source": [
    "### Referâncias:\n",
    "1 - [An Introduction to Statistical Learning](https://www.statlearning.com/)\n",
    "\n",
    "2 - [Regularization Tutorial: Ridge, Lasso & Elastic Net Regression - DataCamp](https://www.datacamp.com/community/tutorials/tutorial-ridge-lasso-elastic-net)\n",
    "\n",
    "3 - [bias_variance_decomp: Bias-variance decomposition for classification and regression losses - mlxtend](https://rasbt.github.io/mlxtend/user_guide/evaluate/bias_variance_decomp/#overview)\n",
    "\n",
    "4 - [What is Overfitting? | IBM](https://www.ibm.com/cloud/learn/overfitting)"
   ]
  }
 ],
 "metadata": {
  "kernelspec": {
   "display_name": "Python 3 (ipykernel)",
   "language": "python",
   "name": "python3"
  },
  "language_info": {
   "codemirror_mode": {
    "name": "ipython",
    "version": 3
   },
   "file_extension": ".py",
   "mimetype": "text/x-python",
   "name": "python",
   "nbconvert_exporter": "python",
   "pygments_lexer": "ipython3",
   "version": "3.7.3"
  }
 },
 "nbformat": 4,
 "nbformat_minor": 5
}
