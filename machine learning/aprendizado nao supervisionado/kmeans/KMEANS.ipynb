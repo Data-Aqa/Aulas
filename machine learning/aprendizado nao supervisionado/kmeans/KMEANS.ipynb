{
 "cells": [
  {
   "cell_type": "markdown",
   "id": "1255e25e",
   "metadata": {},
   "source": [
    "<img src = 'imagens/logo data.aqa.jpg' >"
   ]
  },
  {
   "cell_type": "markdown",
   "id": "d3478f40",
   "metadata": {},
   "source": [
    "\n",
    "<br>\n",
    "\n",
    "# <span style = \"font-family:Times New Roman\"><font color = #0f4e8c> KMEANS\n",
    "    \n",
    "<br>"
   ]
  },
  {
   "cell_type": "markdown",
   "id": "3a00ec8a",
   "metadata": {},
   "source": [
    "DISTÂNCIA EUCLIDIANA QUADRÁTICA"
   ]
  },
  {
   "cell_type": "markdown",
   "id": "675bbb55",
   "metadata": {},
   "source": [
    "ENTENDER MELHOR O CENTROID "
   ]
  },
  {
   "cell_type": "markdown",
   "id": "aad4b838",
   "metadata": {},
   "source": [
    "ALGORITMO RODA MÚLTIPLAS VEZES ATÉ ACHAR O CENTROIDE EM QUE A DISTÂNCIA EUCLIDIANA QUADRÁTICA ALCANÇA O PONTO DE MÍNIMO "
   ]
  },
  {
   "cell_type": "code",
   "execution_count": null,
   "id": "425b8476",
   "metadata": {},
   "outputs": [],
   "source": []
  },
  {
   "cell_type": "code",
   "execution_count": null,
   "id": "77311829",
   "metadata": {},
   "outputs": [],
   "source": []
  },
  {
   "cell_type": "code",
   "execution_count": null,
   "id": "520aea4e",
   "metadata": {},
   "outputs": [],
   "source": []
  },
  {
   "cell_type": "code",
   "execution_count": null,
   "id": "bde02382",
   "metadata": {},
   "outputs": [],
   "source": []
  },
  {
   "cell_type": "code",
   "execution_count": null,
   "id": "3a576f60",
   "metadata": {},
   "outputs": [],
   "source": []
  },
  {
   "cell_type": "markdown",
   "id": "7c4b34c8",
   "metadata": {},
   "source": [
    "<tr>\n",
    "<td> <img src=\"Imagens/Thiago.png\" width = \"150\" align = \"left\"/> </td>\n",
    "</tr>\n",
    "\n",
    "<br>"
   ]
  },
  {
   "cell_type": "markdown",
   "id": "c7851218",
   "metadata": {},
   "source": [
    "<br>\n",
    "\n",
    "\n",
    "<br>\n",
    "\n",
    "<tr>\n",
    "<td> <a href=\"https://www.linkedin.com/in/thiagopd/\" > <img src = \"Imagens/linkedin.png\" width = \"25\"  align = \"left\" /> </a>  </td>             <td> <a href=\"https://github.com/tp-duarte\" > <img src = \"Imagens/GitHub-Logo.png\" width = \"60\" height = \"100\" align = \"left\" /> </a>  </td>  </tr>\n",
    "\n",
    "<pre> <font size =  5 align = 'up' > Thiago Duarte "
   ]
  }
 ],
 "metadata": {
  "kernelspec": {
   "display_name": "Python 3 (ipykernel)",
   "language": "python",
   "name": "python3"
  },
  "language_info": {
   "codemirror_mode": {
    "name": "ipython",
    "version": 3
   },
   "file_extension": ".py",
   "mimetype": "text/x-python",
   "name": "python",
   "nbconvert_exporter": "python",
   "pygments_lexer": "ipython3",
   "version": "3.9.5"
  }
 },
 "nbformat": 4,
 "nbformat_minor": 5
}
