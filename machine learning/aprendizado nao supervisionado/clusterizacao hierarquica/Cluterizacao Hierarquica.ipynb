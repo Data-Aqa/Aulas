{
 "cells": [
  {
   "cell_type": "markdown",
   "id": "f721eb10",
   "metadata": {},
   "source": [
    "<img src = 'imagens/logo data.aqa.jpg' >"
   ]
  },
  {
   "cell_type": "markdown",
   "id": "5d692429",
   "metadata": {},
   "source": [
    "\n",
    "<br>\n",
    "\n",
    "# <span style = \"font-family:Times New Roman\"><font color = #0f4e8c> Clusterização Hierarquíca\n",
    "    \n",
    "<br>\n",
    "    "
   ]
  },
  {
   "cell_type": "markdown",
   "id": "c339943d",
   "metadata": {},
   "source": [
    "\n",
    "<br>\n",
    "\n",
    "## <span style = \"font-family:Times New Roman\"><font color = #0f4e8c> Objetivo \n",
    "    \n",
    "<br>\n",
    "    "
   ]
  },
  {
   "cell_type": "code",
   "execution_count": null,
   "id": "478be96f",
   "metadata": {},
   "outputs": [],
   "source": []
  },
  {
   "cell_type": "code",
   "execution_count": null,
   "id": "03e6c479",
   "metadata": {},
   "outputs": [],
   "source": []
  },
  {
   "cell_type": "code",
   "execution_count": null,
   "id": "61a5fbc0",
   "metadata": {},
   "outputs": [],
   "source": []
  },
  {
   "cell_type": "markdown",
   "id": "5b92ea07",
   "metadata": {},
   "source": [
    "\n",
    "<br>\n",
    "\n",
    "## <span style = \"font-family:Times New Roman\"><font color = #0f4e8c> Dendrograma\n",
    "    \n",
    "<br>\n",
    "    "
   ]
  },
  {
   "cell_type": "code",
   "execution_count": null,
   "id": "64a30925",
   "metadata": {},
   "outputs": [],
   "source": []
  },
  {
   "cell_type": "code",
   "execution_count": null,
   "id": "5778d7d3",
   "metadata": {},
   "outputs": [],
   "source": []
  },
  {
   "cell_type": "code",
   "execution_count": null,
   "id": "e2c2f59f",
   "metadata": {},
   "outputs": [],
   "source": []
  },
  {
   "cell_type": "code",
   "execution_count": null,
   "id": "d08c14c9",
   "metadata": {},
   "outputs": [],
   "source": []
  },
  {
   "cell_type": "markdown",
   "id": "5395fff9",
   "metadata": {},
   "source": [
    "\n",
    "<br>\n",
    "\n",
    "## <span style = \"font-family:Times New Roman\"><font color = #0f4e8c> Referências \n",
    "    \n",
    "    \n",
    "<br>\n",
    "    "
   ]
  },
  {
   "cell_type": "code",
   "execution_count": null,
   "id": "4a4f35e5",
   "metadata": {},
   "outputs": [],
   "source": []
  },
  {
   "cell_type": "code",
   "execution_count": null,
   "id": "b8f9a505",
   "metadata": {},
   "outputs": [],
   "source": []
  },
  {
   "cell_type": "code",
   "execution_count": null,
   "id": "db1f4342",
   "metadata": {},
   "outputs": [],
   "source": []
  },
  {
   "cell_type": "code",
   "execution_count": null,
   "id": "c85d49ad",
   "metadata": {},
   "outputs": [],
   "source": []
  }
 ],
 "metadata": {
  "kernelspec": {
   "display_name": "Python 3 (ipykernel)",
   "language": "python",
   "name": "python3"
  },
  "language_info": {
   "codemirror_mode": {
    "name": "ipython",
    "version": 3
   },
   "file_extension": ".py",
   "mimetype": "text/x-python",
   "name": "python",
   "nbconvert_exporter": "python",
   "pygments_lexer": "ipython3",
   "version": "3.9.5"
  }
 },
 "nbformat": 4,
 "nbformat_minor": 5
}
